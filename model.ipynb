{
 "cells": [
  {
   "cell_type": "markdown",
   "id": "44da7880",
   "metadata": {},
   "source": [
    "# Imports and Libraries"
   ]
  },
  {
   "cell_type": "code",
   "execution_count": 27,
   "id": "5f997652",
   "metadata": {},
   "outputs": [],
   "source": [
    "import pandas as pd\n",
    "import numpy as np\n",
    "from pathlib import Path\n",
    "\n",
    "DATA_DIR = Path(\"./Data\")\n",
    "FLIGHTS_PATH = DATA_DIR / \"Flight_on_time_HIX_CA.csv\"\n",
    "WEATHER_PATH = DATA_DIR / \"weather_cleaned_HIX.csv\"\n"
   ]
  },
  {
   "cell_type": "code",
   "execution_count": 31,
   "id": "201f3b2b",
   "metadata": {},
   "outputs": [
    {
     "name": "stdout",
     "output_type": "stream",
     "text": [
      "Dropping 66 flights with invalid dep_dt\n"
     ]
    }
   ],
   "source": [
    "# flights\n",
    "f = pd.read_csv(FLIGHTS_PATH)\n",
    "f.columns = [c.lower().strip().replace(\" \", \"_\") for c in f.columns]\n",
    "if not {\"flightdate\",\"scheduled_departure_time\"}.issubset(f.columns):\n",
    "    raise ValueError(\"Expected 'FlightDate' and 'scheduled_departure_time' in flights.\")\n",
    "\n",
    "f[\"dep_dt\"] = pd.to_datetime(\n",
    "    f[\"flightdate\"].astype(str).str.strip() + \" \" + f[\"scheduled_departure_time\"].astype(str).str.strip(),\n",
    "    errors=\"coerce\",\n",
    "    utc=False\n",
    ")\n",
    "bad_f = f[\"dep_dt\"].isna().sum()\n",
    "if bad_f:\n",
    "    print(f\"Dropping {bad_f} flights with invalid dep_dt\")\n",
    "f = f.dropna(subset=[\"dep_dt\"]).sort_values(\"dep_dt\").reset_index(drop=True)\n",
    "\n",
    "# weather\n",
    "w = pd.read_csv(WEATHER_PATH)\n",
    "w.columns = [c.lower().strip().replace(\" \", \"_\") for c in w.columns]\n",
    "if \"datetime\" not in w.columns:\n",
    "    raise ValueError(\"Expected 'datetime' column in weather.\")\n",
    "w[\"wx_dt\"] = pd.to_datetime(w[\"datetime\"], errors=\"coerce\", utc=False)\n",
    "bad_w = w[\"wx_dt\"].isna().sum()\n",
    "if bad_w:\n",
    "    print(f\"Dropping {bad_w} weather rows with invalid wx_dt\")\n",
    "w = w.dropna(subset=[\"wx_dt\"]).sort_values(\"wx_dt\").reset_index(drop=True)\n"
   ]
  },
  {
   "cell_type": "code",
   "execution_count": 32,
   "id": "d29fbee1",
   "metadata": {},
   "outputs": [
    {
     "name": "stdout",
     "output_type": "stream",
     "text": [
      "FLIGHTS dep_dt range: 2019-12-01 00:15:00 → 2019-12-31 21:27:00\n",
      "WEATHER wx_dt range: 2019-11-30 00:00:00 → 2019-12-31 23:00:00\n"
     ]
    }
   ],
   "source": [
    "print(\"FLIGHTS dep_dt range:\", f[\"dep_dt\"].min(), \"→\", f[\"dep_dt\"].max())\n",
    "print(\"WEATHER wx_dt range:\", w[\"wx_dt\"].min(), \"→\", w[\"wx_dt\"].max())\n"
   ]
  },
  {
   "cell_type": "code",
   "execution_count": 33,
   "id": "9f59f5d5",
   "metadata": {},
   "outputs": [
    {
     "name": "stderr",
     "output_type": "stream",
     "text": [
      "/var/folders/h5/hngl5mzn2g1gqq64g9h1wz9w0000gn/T/ipykernel_34944/986872147.py:1: FutureWarning: Series.view is deprecated and will be removed in a future version. Use ``astype`` as an alternative to change the dtype.\n",
      "  f[\"dep_key\"] = f[\"dep_dt\"].view(\"int64\")\n",
      "/var/folders/h5/hngl5mzn2g1gqq64g9h1wz9w0000gn/T/ipykernel_34944/986872147.py:2: FutureWarning: Series.view is deprecated and will be removed in a future version. Use ``astype`` as an alternative to change the dtype.\n",
      "  w[\"wx_key\"]  = w[\"wx_dt\"].view(\"int64\")\n",
      "/var/folders/h5/hngl5mzn2g1gqq64g9h1wz9w0000gn/T/ipykernel_34944/986872147.py:7: FutureWarning: 'H' is deprecated and will be removed in a future version. Please use 'h' instead of 'H'.\n",
      "  TOL_NS = pd.Timedelta(\"3H\").value\n"
     ]
    },
    {
     "data": {
      "text/html": [
       "<div>\n",
       "<style scoped>\n",
       "    .dataframe tbody tr th:only-of-type {\n",
       "        vertical-align: middle;\n",
       "    }\n",
       "\n",
       "    .dataframe tbody tr th {\n",
       "        vertical-align: top;\n",
       "    }\n",
       "\n",
       "    .dataframe thead th {\n",
       "        text-align: right;\n",
       "    }\n",
       "</style>\n",
       "<table border=\"1\" class=\"dataframe\">\n",
       "  <thead>\n",
       "    <tr style=\"text-align: right;\">\n",
       "      <th></th>\n",
       "      <th>flightdate</th>\n",
       "      <th>scheduled_departure_time</th>\n",
       "      <th>dep_dt</th>\n",
       "      <th>wx_dt</th>\n",
       "      <th>wx_staleness_min</th>\n",
       "      <th>wx_missing</th>\n",
       "    </tr>\n",
       "  </thead>\n",
       "  <tbody>\n",
       "    <tr>\n",
       "      <th>0</th>\n",
       "      <td>2019-12-01</td>\n",
       "      <td>00:15:00</td>\n",
       "      <td>2019-12-01 00:15:00</td>\n",
       "      <td>2019-12-01 00:00:00</td>\n",
       "      <td>15.0</td>\n",
       "      <td>False</td>\n",
       "    </tr>\n",
       "    <tr>\n",
       "      <th>1</th>\n",
       "      <td>2019-12-01</td>\n",
       "      <td>00:15:00</td>\n",
       "      <td>2019-12-01 00:15:00</td>\n",
       "      <td>2019-12-01 00:00:00</td>\n",
       "      <td>15.0</td>\n",
       "      <td>False</td>\n",
       "    </tr>\n",
       "    <tr>\n",
       "      <th>2</th>\n",
       "      <td>2019-12-01</td>\n",
       "      <td>00:15:00</td>\n",
       "      <td>2019-12-01 00:15:00</td>\n",
       "      <td>2019-12-01 00:00:00</td>\n",
       "      <td>15.0</td>\n",
       "      <td>False</td>\n",
       "    </tr>\n",
       "    <tr>\n",
       "      <th>3</th>\n",
       "      <td>2019-12-01</td>\n",
       "      <td>00:15:00</td>\n",
       "      <td>2019-12-01 00:15:00</td>\n",
       "      <td>2019-12-01 00:00:00</td>\n",
       "      <td>15.0</td>\n",
       "      <td>False</td>\n",
       "    </tr>\n",
       "    <tr>\n",
       "      <th>4</th>\n",
       "      <td>2019-12-01</td>\n",
       "      <td>06:00:00</td>\n",
       "      <td>2019-12-01 06:00:00</td>\n",
       "      <td>2019-12-01 06:00:00</td>\n",
       "      <td>0.0</td>\n",
       "      <td>False</td>\n",
       "    </tr>\n",
       "    <tr>\n",
       "      <th>5</th>\n",
       "      <td>2019-12-01</td>\n",
       "      <td>06:00:00</td>\n",
       "      <td>2019-12-01 06:00:00</td>\n",
       "      <td>2019-12-01 06:00:00</td>\n",
       "      <td>0.0</td>\n",
       "      <td>False</td>\n",
       "    </tr>\n",
       "    <tr>\n",
       "      <th>6</th>\n",
       "      <td>2019-12-01</td>\n",
       "      <td>06:15:00</td>\n",
       "      <td>2019-12-01 06:15:00</td>\n",
       "      <td>2019-12-01 06:00:00</td>\n",
       "      <td>15.0</td>\n",
       "      <td>False</td>\n",
       "    </tr>\n",
       "    <tr>\n",
       "      <th>7</th>\n",
       "      <td>2019-12-01</td>\n",
       "      <td>06:20:00</td>\n",
       "      <td>2019-12-01 06:20:00</td>\n",
       "      <td>2019-12-01 06:00:00</td>\n",
       "      <td>20.0</td>\n",
       "      <td>False</td>\n",
       "    </tr>\n",
       "    <tr>\n",
       "      <th>8</th>\n",
       "      <td>2019-12-01</td>\n",
       "      <td>06:55:00</td>\n",
       "      <td>2019-12-01 06:55:00</td>\n",
       "      <td>2019-12-01 06:00:00</td>\n",
       "      <td>55.0</td>\n",
       "      <td>False</td>\n",
       "    </tr>\n",
       "    <tr>\n",
       "      <th>9</th>\n",
       "      <td>2019-12-01</td>\n",
       "      <td>07:00:00</td>\n",
       "      <td>2019-12-01 07:00:00</td>\n",
       "      <td>2019-12-01 07:00:00</td>\n",
       "      <td>0.0</td>\n",
       "      <td>False</td>\n",
       "    </tr>\n",
       "  </tbody>\n",
       "</table>\n",
       "</div>"
      ],
      "text/plain": [
       "   flightdate scheduled_departure_time              dep_dt  \\\n",
       "0  2019-12-01                 00:15:00 2019-12-01 00:15:00   \n",
       "1  2019-12-01                 00:15:00 2019-12-01 00:15:00   \n",
       "2  2019-12-01                 00:15:00 2019-12-01 00:15:00   \n",
       "3  2019-12-01                 00:15:00 2019-12-01 00:15:00   \n",
       "4  2019-12-01                 06:00:00 2019-12-01 06:00:00   \n",
       "5  2019-12-01                 06:00:00 2019-12-01 06:00:00   \n",
       "6  2019-12-01                 06:15:00 2019-12-01 06:15:00   \n",
       "7  2019-12-01                 06:20:00 2019-12-01 06:20:00   \n",
       "8  2019-12-01                 06:55:00 2019-12-01 06:55:00   \n",
       "9  2019-12-01                 07:00:00 2019-12-01 07:00:00   \n",
       "\n",
       "                wx_dt  wx_staleness_min  wx_missing  \n",
       "0 2019-12-01 00:00:00              15.0       False  \n",
       "1 2019-12-01 00:00:00              15.0       False  \n",
       "2 2019-12-01 00:00:00              15.0       False  \n",
       "3 2019-12-01 00:00:00              15.0       False  \n",
       "4 2019-12-01 06:00:00               0.0       False  \n",
       "5 2019-12-01 06:00:00               0.0       False  \n",
       "6 2019-12-01 06:00:00              15.0       False  \n",
       "7 2019-12-01 06:00:00              20.0       False  \n",
       "8 2019-12-01 06:00:00              55.0       False  \n",
       "9 2019-12-01 07:00:00               0.0       False  "
      ]
     },
     "execution_count": 33,
     "metadata": {},
     "output_type": "execute_result"
    }
   ],
   "source": [
    "f[\"dep_key\"] = f[\"dep_dt\"].view(\"int64\")\n",
    "w[\"wx_key\"]  = w[\"wx_dt\"].view(\"int64\")\n",
    "\n",
    "f = f.sort_values(\"dep_key\").reset_index(drop=True)\n",
    "w = w.sort_values(\"wx_key\").reset_index(drop=True)\n",
    "\n",
    "TOL_NS = pd.Timedelta(\"3H\").value\n",
    "\n",
    "merged = pd.merge_asof(\n",
    "    f, w,\n",
    "    left_on=\"dep_key\",\n",
    "    right_on=\"wx_key\",\n",
    "    direction=\"backward\",\n",
    "    tolerance=TOL_NS\n",
    ")\n",
    "\n",
    "merged[\"wx_missing\"] = merged[\"wx_dt\"].isna()\n",
    "merged[\"wx_staleness_min\"] = (merged[\"dep_dt\"] - merged[\"wx_dt\"]).dt.total_seconds() / 60\n",
    "\n",
    "merged[[\"flightdate\",\"scheduled_departure_time\",\"dep_dt\",\"wx_dt\",\"wx_staleness_min\",\"wx_missing\"]].head(10)\n"
   ]
  },
  {
   "cell_type": "code",
   "execution_count": 34,
   "id": "401c439d",
   "metadata": {},
   "outputs": [
    {
     "name": "stdout",
     "output_type": "stream",
     "text": [
      "Rows: 5,190\n",
      "Matched within tolerance: 5,190 (100.0%)\n",
      "\n",
      "Staleness (minutes) — matched only:\n",
      "count    5190.000000\n",
      "mean       27.764162\n",
      "std        18.491144\n",
      "min         0.000000\n",
      "25%        10.000000\n",
      "50%        30.000000\n",
      "75%        45.000000\n",
      "max        59.000000\n",
      "Name: wx_staleness_min, dtype: float64\n"
     ]
    }
   ],
   "source": [
    "n_total = len(merged)\n",
    "n_match = (~merged[\"wx_missing\"]).sum()\n",
    "print(f\"Rows: {n_total:,}\")\n",
    "print(f\"Matched within tolerance: {n_match:,} ({(n_match/n_total if n_total else np.nan):.1%})\")\n",
    "\n",
    "print(\"\\nStaleness (minutes) — matched only:\")\n",
    "print(merged.loc[~merged[\"wx_missing\"], \"wx_staleness_min\"].describe())\n"
   ]
  },
  {
   "cell_type": "code",
   "execution_count": null,
   "id": "0dd41769",
   "metadata": {},
   "outputs": [],
   "source": []
  }
 ],
 "metadata": {
  "kernelspec": {
   "display_name": ".venv",
   "language": "python",
   "name": "python3"
  },
  "language_info": {
   "codemirror_mode": {
    "name": "ipython",
    "version": 3
   },
   "file_extension": ".py",
   "mimetype": "text/x-python",
   "name": "python",
   "nbconvert_exporter": "python",
   "pygments_lexer": "ipython3",
   "version": "3.11.12"
  }
 },
 "nbformat": 4,
 "nbformat_minor": 5
}
