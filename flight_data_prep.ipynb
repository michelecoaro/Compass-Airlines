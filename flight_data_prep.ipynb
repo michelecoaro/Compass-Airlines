{
 "cells": [
  {
   "cell_type": "markdown",
   "id": "d6047176",
   "metadata": {},
   "source": [
    "# Import and Libraries"
   ]
  },
  {
   "cell_type": "code",
   "execution_count": 1,
   "id": "e074d0e9",
   "metadata": {},
   "outputs": [],
   "source": [
    "import pandas as pd\n",
    "import numpy as np\n",
    "from pathlib import Path\n",
    "\n",
    "RAW_PATH = Path('./Data/Flight_on_time_HIX.csv')\n",
    "CLEAN_PATH = Path('./Data/Flight_on_time_HIX_cleaned.csv')\n"
   ]
  },
  {
   "cell_type": "code",
   "execution_count": 2,
   "id": "ceaebfd7",
   "metadata": {},
   "outputs": [
    {
     "name": "stdout",
     "output_type": "stream",
     "text": [
      "DataFrame shape: (65669, 18)\n"
     ]
    },
    {
     "data": {
      "text/html": [
       "<div>\n",
       "<style scoped>\n",
       "    .dataframe tbody tr th:only-of-type {\n",
       "        vertical-align: middle;\n",
       "    }\n",
       "\n",
       "    .dataframe tbody tr th {\n",
       "        vertical-align: top;\n",
       "    }\n",
       "\n",
       "    .dataframe thead th {\n",
       "        text-align: right;\n",
       "    }\n",
       "</style>\n",
       "<table border=\"1\" class=\"dataframe\">\n",
       "  <thead>\n",
       "    <tr style=\"text-align: right;\">\n",
       "      <th></th>\n",
       "      <th>Airline</th>\n",
       "      <th>Flight_Number</th>\n",
       "      <th>Plane_ID</th>\n",
       "      <th>FlightDate</th>\n",
       "      <th>Origin_Airport</th>\n",
       "      <th>Destination_Airport</th>\n",
       "      <th>Flight_Distance</th>\n",
       "      <th>Scheduled_Departure_Time</th>\n",
       "      <th>Actual_Departure_Time</th>\n",
       "      <th>Departure_Delay_Minutes</th>\n",
       "      <th>Departure_Taxi</th>\n",
       "      <th>Departure_WheelsOff</th>\n",
       "      <th>Scheduled_Arrival_Time</th>\n",
       "      <th>Actual_Arrival_Time</th>\n",
       "      <th>Arrival_Delay_Minutes</th>\n",
       "      <th>Arrival_Taxi</th>\n",
       "      <th>Arrival_WheelsOn</th>\n",
       "      <th>Delay_Reason</th>\n",
       "    </tr>\n",
       "  </thead>\n",
       "  <tbody>\n",
       "    <tr>\n",
       "      <th>0</th>\n",
       "      <td>TR</td>\n",
       "      <td>4135</td>\n",
       "      <td>GJLOAB</td>\n",
       "      <td>2019-12-01</td>\n",
       "      <td>IYF</td>\n",
       "      <td>HIX</td>\n",
       "      <td>678.0</td>\n",
       "      <td>1</td>\n",
       "      <td>103.0</td>\n",
       "      <td>62.0</td>\n",
       "      <td>15.0</td>\n",
       "      <td>118.0</td>\n",
       "      <td>127</td>\n",
       "      <td>219.0</td>\n",
       "      <td>52.0</td>\n",
       "      <td>7.0</td>\n",
       "      <td>212.0</td>\n",
       "      <td>LateAircraft</td>\n",
       "    </tr>\n",
       "    <tr>\n",
       "      <th>1</th>\n",
       "      <td>TR</td>\n",
       "      <td>3776</td>\n",
       "      <td>GDISCI</td>\n",
       "      <td>2019-12-01</td>\n",
       "      <td>HEN</td>\n",
       "      <td>HIX</td>\n",
       "      <td>1700.0</td>\n",
       "      <td>10</td>\n",
       "      <td>25.0</td>\n",
       "      <td>15.0</td>\n",
       "      <td>21.0</td>\n",
       "      <td>46.0</td>\n",
       "      <td>616</td>\n",
       "      <td>624.0</td>\n",
       "      <td>8.0</td>\n",
       "      <td>27.0</td>\n",
       "      <td>557.0</td>\n",
       "      <td>NaN</td>\n",
       "    </tr>\n",
       "    <tr>\n",
       "      <th>2</th>\n",
       "      <td>RO</td>\n",
       "      <td>4754</td>\n",
       "      <td>GHHWLL</td>\n",
       "      <td>2019-12-01</td>\n",
       "      <td>HIX</td>\n",
       "      <td>IZN</td>\n",
       "      <td>413.0</td>\n",
       "      <td>10</td>\n",
       "      <td>10.0</td>\n",
       "      <td>0.0</td>\n",
       "      <td>15.0</td>\n",
       "      <td>25.0</td>\n",
       "      <td>242</td>\n",
       "      <td>227.0</td>\n",
       "      <td>0.0</td>\n",
       "      <td>5.0</td>\n",
       "      <td>222.0</td>\n",
       "      <td>NaN</td>\n",
       "    </tr>\n",
       "  </tbody>\n",
       "</table>\n",
       "</div>"
      ],
      "text/plain": [
       "  Airline  Flight_Number Plane_ID  FlightDate Origin_Airport  \\\n",
       "0      TR           4135   GJLOAB  2019-12-01            IYF   \n",
       "1      TR           3776   GDISCI  2019-12-01            HEN   \n",
       "2      RO           4754   GHHWLL  2019-12-01            HIX   \n",
       "\n",
       "  Destination_Airport  Flight_Distance  Scheduled_Departure_Time  \\\n",
       "0                 HIX            678.0                         1   \n",
       "1                 HIX           1700.0                        10   \n",
       "2                 IZN            413.0                        10   \n",
       "\n",
       "   Actual_Departure_Time  Departure_Delay_Minutes  Departure_Taxi  \\\n",
       "0                  103.0                     62.0            15.0   \n",
       "1                   25.0                     15.0            21.0   \n",
       "2                   10.0                      0.0            15.0   \n",
       "\n",
       "   Departure_WheelsOff  Scheduled_Arrival_Time  Actual_Arrival_Time  \\\n",
       "0                118.0                     127                219.0   \n",
       "1                 46.0                     616                624.0   \n",
       "2                 25.0                     242                227.0   \n",
       "\n",
       "   Arrival_Delay_Minutes  Arrival_Taxi  Arrival_WheelsOn  Delay_Reason  \n",
       "0                   52.0           7.0             212.0  LateAircraft  \n",
       "1                    8.0          27.0             557.0           NaN  \n",
       "2                    0.0           5.0             222.0           NaN  "
      ]
     },
     "execution_count": 2,
     "metadata": {},
     "output_type": "execute_result"
    }
   ],
   "source": [
    "\n",
    "df = pd.read_csv(RAW_PATH)\n",
    "print('DataFrame shape:', df.shape)\n",
    "df.head(3)\n"
   ]
  },
  {
   "cell_type": "code",
   "execution_count": 3,
   "id": "829fd102",
   "metadata": {},
   "outputs": [
    {
     "name": "stdout",
     "output_type": "stream",
     "text": [
      "\n",
      "Column dtypes:\n",
      "Airline                      object\n",
      "Flight_Number                 int64\n",
      "Plane_ID                     object\n",
      "FlightDate                   object\n",
      "Origin_Airport               object\n",
      "Destination_Airport          object\n",
      "Flight_Distance             float64\n",
      "Scheduled_Departure_Time      int64\n",
      "Actual_Departure_Time       float64\n",
      "Departure_Delay_Minutes     float64\n",
      "Departure_Taxi              float64\n",
      "Departure_WheelsOff         float64\n",
      "Scheduled_Arrival_Time        int64\n",
      "Actual_Arrival_Time         float64\n",
      "Arrival_Delay_Minutes       float64\n",
      "Arrival_Taxi                float64\n",
      "Arrival_WheelsOn            float64\n",
      "Delay_Reason                 object\n",
      "dtype: object\n",
      "\n",
      "Null counts:\n",
      "Airline                         0\n",
      "Flight_Number                   0\n",
      "Plane_ID                        0\n",
      "FlightDate                      0\n",
      "Origin_Airport                  0\n",
      "Destination_Airport             0\n",
      "Flight_Distance                 0\n",
      "Scheduled_Departure_Time        0\n",
      "Actual_Departure_Time           0\n",
      "Departure_Delay_Minutes         0\n",
      "Departure_Taxi                  0\n",
      "Departure_WheelsOff             0\n",
      "Scheduled_Arrival_Time          0\n",
      "Actual_Arrival_Time             0\n",
      "Arrival_Delay_Minutes           0\n",
      "Arrival_Taxi                    0\n",
      "Arrival_WheelsOn                0\n",
      "Delay_Reason                51588\n",
      "dtype: int64\n"
     ]
    }
   ],
   "source": [
    "\n",
    "print('\\nColumn dtypes:')\n",
    "print(df.dtypes)\n",
    "print('\\nNull counts:')\n",
    "print(df.isna().sum())\n"
   ]
  },
  {
   "cell_type": "markdown",
   "id": "0f209c5b",
   "metadata": {},
   "source": [
    "# Data Cleaning"
   ]
  },
  {
   "cell_type": "markdown",
   "id": "03d2af7d",
   "metadata": {},
   "source": [
    "The data is in hhmm format (615 -> 06:15). This section builds a few helper functions that convert a variety of different data formats (int, float, etc...) to datetime.time. This is done to ensure consistency in data treatment"
   ]
  },
  {
   "cell_type": "code",
   "execution_count": 4,
   "id": "949e0f3c",
   "metadata": {},
   "outputs": [],
   "source": [
    "\n",
    "import re\n",
    "from datetime import datetime, timedelta, time\n",
    "\n",
    "def _coerce_hhmm_to_tuple(x):\n",
    "    \"\"\"Return (hour, minute) from flexible inputs:\n",
    "    - 0-2359 ints/floats representing hhmm (e.g., 5, 45, 615, 1330)\n",
    "    - 'HH:MM' or 'HH:MM:SS' strings\n",
    "    - already time/datetime objects\n",
    "    Returns None if cannot parse.\n",
    "    \"\"\"\n",
    "    if pd.isna(x):\n",
    "        return None\n",
    "    # If already datetime.time\n",
    "    if isinstance(x, time):\n",
    "        return x.hour, x.minute\n",
    "    if isinstance(x, datetime):\n",
    "        return x.hour, x.minute\n",
    "    # Strings like '08:20:00' or '8:20'\n",
    "    if isinstance(x, str):\n",
    "        s = x.strip()\n",
    "        m = re.match(r'^(\\d{1,2}):(\\d{2})(?::(\\d{2}))?$', s)\n",
    "        if m:\n",
    "            hh = int(m.group(1))\n",
    "            mm = int(m.group(2))\n",
    "            return hh, mm\n",
    "        # try numeric string like '820' or '45'\n",
    "        if s.isdigit():\n",
    "            try:\n",
    "                v = int(s)\n",
    "                hh = v // 100\n",
    "                mm = v % 100\n",
    "                return hh, mm\n",
    "            except:\n",
    "                return None\n",
    "        return None\n",
    "    # Numeric hhmm: 45 -> 00:45, 820 -> 08:20\n",
    "    if isinstance(x, (int, np.integer)):\n",
    "        v = int(x)\n",
    "        hh = v // 100\n",
    "        mm = v % 100\n",
    "        return hh, mm\n",
    "    if isinstance(x, (float, np.floating)):\n",
    "        v = int(round(x))\n",
    "        hh = v // 100\n",
    "        mm = v % 100\n",
    "        return hh, mm\n",
    "    return None\n",
    "\n",
    "def to_clock_str(x):\n",
    "    t = _coerce_hhmm_to_tuple(x)\n",
    "    if t is None:\n",
    "        return np.nan\n",
    "    hh, mm = t\n",
    "    # Basic guards\n",
    "    if not (0 <= hh <= 23 and 0 <= mm <= 59):\n",
    "        return np.nan\n",
    "    return f\"{hh:02d}:{mm:02d}:00\"\n",
    "\n",
    "def ensure_clock_time(df, col):\n",
    "    \"\"\"Coerce a column to 'HH:MM:SS' strings (or NaN).\"\"\"\n",
    "    return df[col].apply(to_clock_str)\n"
   ]
  },
  {
   "cell_type": "markdown",
   "id": "178434a7",
   "metadata": {},
   "source": [
    "Here, scheduled and actual times are coerced (forced) to consistent clock format (hh:mm:ss)"
   ]
  },
  {
   "cell_type": "code",
   "execution_count": 5,
   "id": "0a6059b6",
   "metadata": {},
   "outputs": [
    {
     "data": {
      "text/html": [
       "<div>\n",
       "<style scoped>\n",
       "    .dataframe tbody tr th:only-of-type {\n",
       "        vertical-align: middle;\n",
       "    }\n",
       "\n",
       "    .dataframe tbody tr th {\n",
       "        vertical-align: top;\n",
       "    }\n",
       "\n",
       "    .dataframe thead th {\n",
       "        text-align: right;\n",
       "    }\n",
       "</style>\n",
       "<table border=\"1\" class=\"dataframe\">\n",
       "  <thead>\n",
       "    <tr style=\"text-align: right;\">\n",
       "      <th></th>\n",
       "      <th>Scheduled_Departure_Time</th>\n",
       "      <th>Scheduled_Arrival_Time</th>\n",
       "      <th>Actual_Departure_Time</th>\n",
       "      <th>Actual_Arrival_Time</th>\n",
       "      <th>Departure_WheelsOff</th>\n",
       "      <th>Arrival_WheelsOn</th>\n",
       "    </tr>\n",
       "  </thead>\n",
       "  <tbody>\n",
       "    <tr>\n",
       "      <th>0</th>\n",
       "      <td>00:01:00</td>\n",
       "      <td>01:27:00</td>\n",
       "      <td>01:03:00</td>\n",
       "      <td>02:19:00</td>\n",
       "      <td>01:18:00</td>\n",
       "      <td>02:12:00</td>\n",
       "    </tr>\n",
       "    <tr>\n",
       "      <th>1</th>\n",
       "      <td>00:10:00</td>\n",
       "      <td>06:16:00</td>\n",
       "      <td>00:25:00</td>\n",
       "      <td>06:24:00</td>\n",
       "      <td>00:46:00</td>\n",
       "      <td>05:57:00</td>\n",
       "    </tr>\n",
       "    <tr>\n",
       "      <th>2</th>\n",
       "      <td>00:10:00</td>\n",
       "      <td>02:42:00</td>\n",
       "      <td>00:10:00</td>\n",
       "      <td>02:27:00</td>\n",
       "      <td>00:25:00</td>\n",
       "      <td>02:22:00</td>\n",
       "    </tr>\n",
       "    <tr>\n",
       "      <th>3</th>\n",
       "      <td>00:10:00</td>\n",
       "      <td>01:11:00</td>\n",
       "      <td>00:44:00</td>\n",
       "      <td>01:55:00</td>\n",
       "      <td>01:18:00</td>\n",
       "      <td>01:51:00</td>\n",
       "    </tr>\n",
       "    <tr>\n",
       "      <th>4</th>\n",
       "      <td>00:10:00</td>\n",
       "      <td>01:32:00</td>\n",
       "      <td>02:34:00</td>\n",
       "      <td>03:58:00</td>\n",
       "      <td>03:00:00</td>\n",
       "      <td>03:52:00</td>\n",
       "    </tr>\n",
       "  </tbody>\n",
       "</table>\n",
       "</div>"
      ],
      "text/plain": [
       "  Scheduled_Departure_Time Scheduled_Arrival_Time Actual_Departure_Time  \\\n",
       "0                 00:01:00               01:27:00              01:03:00   \n",
       "1                 00:10:00               06:16:00              00:25:00   \n",
       "2                 00:10:00               02:42:00              00:10:00   \n",
       "3                 00:10:00               01:11:00              00:44:00   \n",
       "4                 00:10:00               01:32:00              02:34:00   \n",
       "\n",
       "  Actual_Arrival_Time Departure_WheelsOff Arrival_WheelsOn  \n",
       "0            02:19:00            01:18:00         02:12:00  \n",
       "1            06:24:00            00:46:00         05:57:00  \n",
       "2            02:27:00            00:25:00         02:22:00  \n",
       "3            01:55:00            01:18:00         01:51:00  \n",
       "4            03:58:00            03:00:00         03:52:00  "
      ]
     },
     "execution_count": 5,
     "metadata": {},
     "output_type": "execute_result"
    }
   ],
   "source": [
    "time_cols = [\n",
    "    'Scheduled_Departure_Time', 'Scheduled_Arrival_Time',\n",
    "    'Actual_Departure_Time', 'Actual_Arrival_Time',\n",
    "    'Departure_WheelsOff', 'Arrival_WheelsOn'\n",
    "]\n",
    "\n",
    "# Only coerce columns that exist\n",
    "existing_time_cols = [c for c in time_cols if c in df.columns]\n",
    "for c in existing_time_cols:\n",
    "    df[c] = ensure_clock_time(df, c)\n",
    "\n",
    "df[existing_time_cols].head(5)\n"
   ]
  },
  {
   "cell_type": "markdown",
   "id": "611704dd",
   "metadata": {},
   "source": [
    "Parsing FlightDate column to obtain calendar features (DayOfWeek, Month, etc...). For the specific scope of this case, this step will serve as a proxy for robusting treating delay times"
   ]
  },
  {
   "cell_type": "code",
   "execution_count": 6,
   "id": "f153e594",
   "metadata": {},
   "outputs": [],
   "source": [
    "\n",
    "df['FlightDate'] = pd.to_datetime(df['FlightDate'], errors='coerce')\n",
    "df['DayOfWeek'] = df['FlightDate'].dt.dayofweek    # Monday=0\n",
    "df['Month'] = df['FlightDate'].dt.month\n",
    "df['Quarter'] = df['FlightDate'].dt.quarter\n",
    "df['IsWeekend'] = df['DayOfWeek'].isin([5,6]).astype(int)\n"
   ]
  },
  {
   "cell_type": "markdown",
   "id": "c504f27d",
   "metadata": {},
   "source": [
    "Same reasoning as above, deriving hour-of-day features. This may be employed in transversal dataset analysis"
   ]
  },
  {
   "cell_type": "code",
   "execution_count": 7,
   "id": "a636cf18",
   "metadata": {},
   "outputs": [],
   "source": [
    "\n",
    "def hour_from_clock_str(s):\n",
    "    if pd.isna(s): \n",
    "        return np.nan\n",
    "    try:\n",
    "        return int(s[:2])\n",
    "    except:\n",
    "        return np.nan\n",
    "\n",
    "df['Dep_Hour'] = df['Scheduled_Departure_Time'].apply(hour_from_clock_str)\n",
    "df['Arr_Hour'] = df['Scheduled_Arrival_Time'].apply(hour_from_clock_str)\n",
    "\n",
    "# Red-eye flights: depart late night or arrive early morning\n",
    "df['Is_Redeye'] = ((df['Dep_Hour'] >= 22) | (df['Arr_Hour'] <= 5)).astype(int)\n"
   ]
  },
  {
   "cell_type": "markdown",
   "id": "76c13a8c",
   "metadata": {},
   "source": [
    "Recomputing the delays column, basically ensuring the rollover when the flight is across two days, to avoid having skewed delays result. Without this step, a flight scheduled to leave at 10pm and arrive at 1AM, with a 1 hour delay, would be computed as a 20 hour delay (2:00 - 22:00 -> 20 hr delay)"
   ]
  },
  {
   "cell_type": "code",
   "execution_count": 8,
   "id": "c8d3895e",
   "metadata": {},
   "outputs": [],
   "source": [
    "def combine_date_time(date_series, time_str_series):\n",
    "    return pd.to_datetime(\n",
    "        date_series.dt.strftime('%Y-%m-%d') + ' ' + time_str_series,\n",
    "        errors='coerce'\n",
    "    )\n",
    "\n",
    "# Ensuring non-negative delay computation with a simple helper function\n",
    "def minutes_diff_nonnegative(actual, scheduled):\n",
    "    if pd.isna(actual) or pd.isna(scheduled):\n",
    "        return np.nan\n",
    "    delta = (actual - scheduled).total_seconds() / 60.0\n",
    "    return max(delta, 0.0)\n",
    "\n",
    "# Building base datetimes columns, both scheduled and actual\n",
    "dep_sched_dt = combine_date_time(df['FlightDate'], df['Scheduled_Departure_Time'])\n",
    "arr_sched_dt = combine_date_time(df['FlightDate'], df['Scheduled_Arrival_Time'])\n",
    "dep_actual_dt = combine_date_time(df['FlightDate'], df['Actual_Departure_Time'])\n",
    "arr_actual_dt = combine_date_time(df['FlightDate'], df['Actual_Arrival_Time'])\n",
    "\n",
    "# Structuring rollover adjustments based on departures, both scheduled and actual\n",
    "arr_sched_dt_adj = arr_sched_dt.copy()\n",
    "mask_sched_roll = arr_sched_dt.notna() & dep_sched_dt.notna() & (arr_sched_dt < dep_sched_dt)\n",
    "arr_sched_dt_adj[mask_sched_roll] = arr_sched_dt_adj[mask_sched_roll] + pd.Timedelta(days=1)\n",
    "\n",
    "arr_actual_dt_adj = arr_actual_dt.copy()\n",
    "mask_actual_roll = arr_actual_dt.notna() & dep_actual_dt.notna() & (arr_actual_dt < dep_actual_dt)\n",
    "arr_actual_dt_adj[mask_actual_roll] = arr_actual_dt_adj[mask_actual_roll] + pd.Timedelta(days=1)\n",
    "\n",
    "# Recomputing delays with corrected rollovers\n",
    "df['Departure_Delay_Recomputed'] = [\n",
    "    minutes_diff_nonnegative(a, s) for a, s in zip(dep_actual_dt, dep_sched_dt)\n",
    "]\n",
    "df['Arrival_Delay_Recomputed'] = [\n",
    "    minutes_diff_nonnegative(a, s) for a, s in zip(arr_actual_dt_adj, arr_sched_dt_adj)\n",
    "]\n",
    "\n",
    "\n",
    "\n"
   ]
  },
  {
   "cell_type": "markdown",
   "id": "62087a6b",
   "metadata": {},
   "source": [
    "Consistency check and diagnostics: comparing computed with provided delays"
   ]
  },
  {
   "cell_type": "code",
   "execution_count": 9,
   "id": "feed34ee",
   "metadata": {},
   "outputs": [
    {
     "name": "stdout",
     "output_type": "stream",
     "text": [
      "Departure delays:\n",
      "Rows with both values: 64,667\n",
      "Share within ±1.0 minute: 0.996\n",
      "Mean absolute difference (mins): 2.041\n",
      "\n",
      "Arrival delays:\n",
      "Rows with both values: 64,653\n",
      "Share within ±1.0 minute: 0.988\n",
      "Mean absolute difference (mins): 327.216\n"
     ]
    }
   ],
   "source": [
    "\n",
    "def compare_delay_cols(provided_col, recomputed_col, tolerance=1.0):\n",
    "    if provided_col not in df.columns:\n",
    "        print(f\"Provided column '{provided_col}' not present; skipping.\")\n",
    "        return None\n",
    "    prov = df[provided_col]\n",
    "    rec = df[recomputed_col]\n",
    "    both = prov.notna() & rec.notna()\n",
    "    diffs = (prov[both] - rec[both]).abs()\n",
    "    exact = (diffs <= tolerance).mean() if both.sum() > 0 else np.nan\n",
    "    print(f\"Rows with both values: {both.sum():,}\")\n",
    "    print(f\"Share within ±{tolerance} minute: {exact:.3f}\")\n",
    "    print(\"Mean absolute difference (mins):\", round(diffs.mean(), 3) if both.sum() else 'NA')\n",
    "    return diffs\n",
    "\n",
    "print('Departure delays:')\n",
    "_ = compare_delay_cols('Departure_Delay_Minutes', 'Departure_Delay_Recomputed', tolerance=1.0)\n",
    "\n",
    "print('\\nArrival delays:')\n",
    "_ = compare_delay_cols('Arrival_Delay_Minutes', 'Arrival_Delay_Recomputed', tolerance=1.0)\n"
   ]
  },
  {
   "cell_type": "code",
   "execution_count": null,
   "id": "f9c42508",
   "metadata": {},
   "outputs": [],
   "source": [
    "# Adjusting block times (gate-out to gate-in) with newly computed adjusted rollovers\n",
    "sched_block = arr_sched_dt_adj - dep_sched_dt\n",
    "act_block = arr_actual_dt_adj - dep_actual_dt\n",
    "\n",
    "df['Scheduled_BlockTime_Min'] = sched_block.dt.total_seconds() / 60.0\n",
    "df['Actual_BlockTime_Min'] = act_block.dt.total_seconds() / 60.0\n",
    "\n",
    "# Segmenting block time into taxi and airborne components\n",
    "if {'Departure_Taxi','Arrival_Taxi'}.issubset(df.columns):\n",
    "    df['Total_Taxi_Time_Min'] = df['Departure_Taxi'].fillna(0) + df['Arrival_Taxi'].fillna(0)\n",
    "else:\n",
    "    df['Total_Taxi_Time_Min'] = np.nan\n",
    "\n",
    "df['Airborne_Time_Min'] = df['Actual_BlockTime_Min'] - df['Total_Taxi_Time_Min']\n",
    "\n",
    "# Creating binary flags for departure/arrival delays over 15 minutes\n",
    "df['Is_Departure_Delayed_15'] = (df['Departure_Delay_Recomputed'] > 15).astype('Int64')\n",
    "df['Is_Arrival_Delayed_15'] = (df['Arrival_Delay_Recomputed'] > 15).astype('Int64')\n"
   ]
  },
  {
   "cell_type": "markdown",
   "id": "e7ace5d7",
   "metadata": {},
   "source": [
    "Sanity checks, to ensure that there has been no major error in treating the data"
   ]
  },
  {
   "cell_type": "code",
   "execution_count": 11,
   "id": "951ec844",
   "metadata": {},
   "outputs": [
    {
     "data": {
      "text/plain": [
       "{'rows': 65669,\n",
       " 'n_airlines': 16,\n",
       " 'n_routes': None,\n",
       " 'dep_delay_mean': np.float64(14.24),\n",
       " 'arr_delay_mean': np.float64(26.04),\n",
       " 'pct_dep_delayed_15': np.float64(18.29),\n",
       " 'pct_arr_delayed_15': np.float64(20.67)}"
      ]
     },
     "execution_count": 11,
     "metadata": {},
     "output_type": "execute_result"
    }
   ],
   "source": [
    "\n",
    "summary = {\n",
    "    'rows': len(df),\n",
    "    'n_airlines': df['Airline'].nunique() if 'Airline' in df.columns else None,\n",
    "    'n_routes': df['Route'].nunique() if 'Route' in df.columns else None,\n",
    "    'dep_delay_mean': round(df['Departure_Delay_Recomputed'].mean(), 2),\n",
    "    'arr_delay_mean': round(df['Arrival_Delay_Recomputed'].mean(), 2),\n",
    "    'pct_dep_delayed_15': round(100 * (df['Is_Departure_Delayed_15'] == 1).mean(), 2),\n",
    "    'pct_arr_delayed_15': round(100 * (df['Is_Arrival_Delayed_15'] == 1).mean(), 2),\n",
    "}\n",
    "summary\n"
   ]
  },
  {
   "cell_type": "code",
   "execution_count": 12,
   "id": "24883557",
   "metadata": {},
   "outputs": [
    {
     "data": {
      "text/plain": [
       "Delay_Reason                  51588\n",
       "Airborne_Time_Min              1018\n",
       "Actual_BlockTime_Min           1018\n",
       "Arrival_Delay_Recomputed       1016\n",
       "Departure_Delay_Recomputed     1002\n",
       "DayOfWeek                      1000\n",
       "Quarter                        1000\n",
       "Month                          1000\n",
       "Scheduled_BlockTime_Min        1000\n",
       "FlightDate                     1000\n",
       "Arrival_WheelsOn                 29\n",
       "Actual_Arrival_Time              17\n",
       "Actual_Departure_Time             2\n",
       "Departure_WheelsOff               2\n",
       "Total_Taxi_Time_Min               0\n",
       "dtype: int64"
      ]
     },
     "execution_count": 12,
     "metadata": {},
     "output_type": "execute_result"
    }
   ],
   "source": [
    "\n",
    "mv = df.isna().sum().sort_values(ascending=False)\n",
    "mv.head(15)\n"
   ]
  },
  {
   "cell_type": "markdown",
   "id": "bd8a638b",
   "metadata": {},
   "source": [
    "Last step: saving cleaned data to our data folder. We will use the cleaned df from now on"
   ]
  },
  {
   "cell_type": "code",
   "execution_count": 15,
   "id": "565e04a3",
   "metadata": {},
   "outputs": [],
   "source": [
    "# Save cleaned data\n",
    "df.to_csv(CLEAN_PATH, index=False)\n"
   ]
  }
 ],
 "metadata": {
  "kernelspec": {
   "display_name": ".venv",
   "language": "python",
   "name": "python3"
  },
  "language_info": {
   "codemirror_mode": {
    "name": "ipython",
    "version": 3
   },
   "file_extension": ".py",
   "mimetype": "text/x-python",
   "name": "python",
   "nbconvert_exporter": "python",
   "pygments_lexer": "ipython3",
   "version": "3.11.12"
  }
 },
 "nbformat": 4,
 "nbformat_minor": 5
}
