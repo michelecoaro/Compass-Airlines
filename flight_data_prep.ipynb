{
 "cells": [
  {
   "cell_type": "markdown",
   "id": "d6047176",
   "metadata": {},
   "source": [
    "# Import and Libraries"
   ]
  },
  {
   "cell_type": "code",
   "execution_count": 1,
   "id": "e074d0e9",
   "metadata": {},
   "outputs": [],
   "source": [
    "import pandas as pd\n",
    "import numpy as np\n",
    "from pathlib import Path\n",
    "\n",
    "RAW_PATH = Path('./Data/Flight_on_time_HIX.csv')\n",
    "CLEAN_PATH = Path('./Data/Flight_on_time_HIX_cleaned.csv')\n"
   ]
  },
  {
   "cell_type": "code",
   "execution_count": 2,
   "id": "ceaebfd7",
   "metadata": {},
   "outputs": [
    {
     "name": "stdout",
     "output_type": "stream",
     "text": [
      "DataFrame shape: (65669, 18)\n"
     ]
    },
    {
     "data": {
      "text/html": [
       "<div>\n",
       "<style scoped>\n",
       "    .dataframe tbody tr th:only-of-type {\n",
       "        vertical-align: middle;\n",
       "    }\n",
       "\n",
       "    .dataframe tbody tr th {\n",
       "        vertical-align: top;\n",
       "    }\n",
       "\n",
       "    .dataframe thead th {\n",
       "        text-align: right;\n",
       "    }\n",
       "</style>\n",
       "<table border=\"1\" class=\"dataframe\">\n",
       "  <thead>\n",
       "    <tr style=\"text-align: right;\">\n",
       "      <th></th>\n",
       "      <th>Airline</th>\n",
       "      <th>Flight_Number</th>\n",
       "      <th>Plane_ID</th>\n",
       "      <th>FlightDate</th>\n",
       "      <th>Origin_Airport</th>\n",
       "      <th>Destination_Airport</th>\n",
       "      <th>Flight_Distance</th>\n",
       "      <th>Scheduled_Departure_Time</th>\n",
       "      <th>Actual_Departure_Time</th>\n",
       "      <th>Departure_Delay_Minutes</th>\n",
       "      <th>Departure_Taxi</th>\n",
       "      <th>Departure_WheelsOff</th>\n",
       "      <th>Scheduled_Arrival_Time</th>\n",
       "      <th>Actual_Arrival_Time</th>\n",
       "      <th>Arrival_Delay_Minutes</th>\n",
       "      <th>Arrival_Taxi</th>\n",
       "      <th>Arrival_WheelsOn</th>\n",
       "      <th>Delay_Reason</th>\n",
       "    </tr>\n",
       "  </thead>\n",
       "  <tbody>\n",
       "    <tr>\n",
       "      <th>0</th>\n",
       "      <td>TR</td>\n",
       "      <td>4135</td>\n",
       "      <td>GJLOAB</td>\n",
       "      <td>2019-12-01</td>\n",
       "      <td>IYF</td>\n",
       "      <td>HIX</td>\n",
       "      <td>678.0</td>\n",
       "      <td>1</td>\n",
       "      <td>103.0</td>\n",
       "      <td>62.0</td>\n",
       "      <td>15.0</td>\n",
       "      <td>118.0</td>\n",
       "      <td>127</td>\n",
       "      <td>219.0</td>\n",
       "      <td>52.0</td>\n",
       "      <td>7.0</td>\n",
       "      <td>212.0</td>\n",
       "      <td>LateAircraft</td>\n",
       "    </tr>\n",
       "    <tr>\n",
       "      <th>1</th>\n",
       "      <td>TR</td>\n",
       "      <td>3776</td>\n",
       "      <td>GDISCI</td>\n",
       "      <td>2019-12-01</td>\n",
       "      <td>HEN</td>\n",
       "      <td>HIX</td>\n",
       "      <td>1700.0</td>\n",
       "      <td>10</td>\n",
       "      <td>25.0</td>\n",
       "      <td>15.0</td>\n",
       "      <td>21.0</td>\n",
       "      <td>46.0</td>\n",
       "      <td>616</td>\n",
       "      <td>624.0</td>\n",
       "      <td>8.0</td>\n",
       "      <td>27.0</td>\n",
       "      <td>557.0</td>\n",
       "      <td>NaN</td>\n",
       "    </tr>\n",
       "    <tr>\n",
       "      <th>2</th>\n",
       "      <td>RO</td>\n",
       "      <td>4754</td>\n",
       "      <td>GHHWLL</td>\n",
       "      <td>2019-12-01</td>\n",
       "      <td>HIX</td>\n",
       "      <td>IZN</td>\n",
       "      <td>413.0</td>\n",
       "      <td>10</td>\n",
       "      <td>10.0</td>\n",
       "      <td>0.0</td>\n",
       "      <td>15.0</td>\n",
       "      <td>25.0</td>\n",
       "      <td>242</td>\n",
       "      <td>227.0</td>\n",
       "      <td>0.0</td>\n",
       "      <td>5.0</td>\n",
       "      <td>222.0</td>\n",
       "      <td>NaN</td>\n",
       "    </tr>\n",
       "  </tbody>\n",
       "</table>\n",
       "</div>"
      ],
      "text/plain": [
       "  Airline  Flight_Number Plane_ID  FlightDate Origin_Airport  \\\n",
       "0      TR           4135   GJLOAB  2019-12-01            IYF   \n",
       "1      TR           3776   GDISCI  2019-12-01            HEN   \n",
       "2      RO           4754   GHHWLL  2019-12-01            HIX   \n",
       "\n",
       "  Destination_Airport  Flight_Distance  Scheduled_Departure_Time  \\\n",
       "0                 HIX            678.0                         1   \n",
       "1                 HIX           1700.0                        10   \n",
       "2                 IZN            413.0                        10   \n",
       "\n",
       "   Actual_Departure_Time  Departure_Delay_Minutes  Departure_Taxi  \\\n",
       "0                  103.0                     62.0            15.0   \n",
       "1                   25.0                     15.0            21.0   \n",
       "2                   10.0                      0.0            15.0   \n",
       "\n",
       "   Departure_WheelsOff  Scheduled_Arrival_Time  Actual_Arrival_Time  \\\n",
       "0                118.0                     127                219.0   \n",
       "1                 46.0                     616                624.0   \n",
       "2                 25.0                     242                227.0   \n",
       "\n",
       "   Arrival_Delay_Minutes  Arrival_Taxi  Arrival_WheelsOn  Delay_Reason  \n",
       "0                   52.0           7.0             212.0  LateAircraft  \n",
       "1                    8.0          27.0             557.0           NaN  \n",
       "2                    0.0           5.0             222.0           NaN  "
      ]
     },
     "execution_count": 2,
     "metadata": {},
     "output_type": "execute_result"
    }
   ],
   "source": [
    "\n",
    "df = pd.read_csv(RAW_PATH)\n",
    "print('DataFrame shape:', df.shape)\n",
    "df.head(3)\n"
   ]
  },
  {
   "cell_type": "code",
   "execution_count": 3,
   "id": "829fd102",
   "metadata": {},
   "outputs": [
    {
     "name": "stdout",
     "output_type": "stream",
     "text": [
      "\n",
      "Column dtypes:\n",
      "Airline                      object\n",
      "Flight_Number                 int64\n",
      "Plane_ID                     object\n",
      "FlightDate                   object\n",
      "Origin_Airport               object\n",
      "Destination_Airport          object\n",
      "Flight_Distance             float64\n",
      "Scheduled_Departure_Time      int64\n",
      "Actual_Departure_Time       float64\n",
      "Departure_Delay_Minutes     float64\n",
      "Departure_Taxi              float64\n",
      "Departure_WheelsOff         float64\n",
      "Scheduled_Arrival_Time        int64\n",
      "Actual_Arrival_Time         float64\n",
      "Arrival_Delay_Minutes       float64\n",
      "Arrival_Taxi                float64\n",
      "Arrival_WheelsOn            float64\n",
      "Delay_Reason                 object\n",
      "dtype: object\n",
      "\n",
      "Null counts:\n",
      "Airline                         0\n",
      "Flight_Number                   0\n",
      "Plane_ID                        0\n",
      "FlightDate                      0\n",
      "Origin_Airport                  0\n",
      "Destination_Airport             0\n",
      "Flight_Distance                 0\n",
      "Scheduled_Departure_Time        0\n",
      "Actual_Departure_Time           0\n",
      "Departure_Delay_Minutes         0\n",
      "Departure_Taxi                  0\n",
      "Departure_WheelsOff             0\n",
      "Scheduled_Arrival_Time          0\n",
      "Actual_Arrival_Time             0\n",
      "Arrival_Delay_Minutes           0\n",
      "Arrival_Taxi                    0\n",
      "Arrival_WheelsOn                0\n",
      "Delay_Reason                51588\n",
      "dtype: int64\n"
     ]
    }
   ],
   "source": [
    "\n",
    "print('\\nColumn dtypes:')\n",
    "print(df.dtypes)\n",
    "print('\\nNull counts:')\n",
    "print(df.isna().sum())\n"
   ]
  },
  {
   "cell_type": "markdown",
   "id": "0f209c5b",
   "metadata": {},
   "source": [
    "# Data Cleaning"
   ]
  },
  {
   "cell_type": "markdown",
   "id": "03d2af7d",
   "metadata": {},
   "source": [
    "The data is in hhmm format (615 -> 06:15). This section builds a few helper functions that convert a variety of different data formats (int, float, etc...) to datetime.time. This is done to ensure consistency in data treatment"
   ]
  },
  {
   "cell_type": "code",
   "execution_count": 4,
   "id": "949e0f3c",
   "metadata": {},
   "outputs": [],
   "source": [
    "\n",
    "import re\n",
    "from datetime import datetime, timedelta, time\n",
    "\n",
    "def _coerce_hhmm_to_tuple(x):\n",
    "    \"\"\"Return (hour, minute) from flexible inputs:\n",
    "    - 0-2359 ints/floats representing hhmm (e.g., 5, 45, 615, 1330)\n",
    "    - 'HH:MM' or 'HH:MM:SS' strings\n",
    "    - already time/datetime objects\n",
    "    Returns None if cannot parse.\n",
    "    \"\"\"\n",
    "    if pd.isna(x):\n",
    "        return None\n",
    "    # If already datetime.time\n",
    "    if isinstance(x, time):\n",
    "        return x.hour, x.minute\n",
    "    if isinstance(x, datetime):\n",
    "        return x.hour, x.minute\n",
    "    # Strings like '08:20:00' or '8:20'\n",
    "    if isinstance(x, str):\n",
    "        s = x.strip()\n",
    "        m = re.match(r'^(\\d{1,2}):(\\d{2})(?::(\\d{2}))?$', s)\n",
    "        if m:\n",
    "            hh = int(m.group(1))\n",
    "            mm = int(m.group(2))\n",
    "            return hh, mm\n",
    "        # try numeric string like '820' or '45'\n",
    "        if s.isdigit():\n",
    "            try:\n",
    "                v = int(s)\n",
    "                hh = v // 100\n",
    "                mm = v % 100\n",
    "                return hh, mm\n",
    "            except:\n",
    "                return None\n",
    "        return None\n",
    "    # Numeric hhmm: 45 -> 00:45, 820 -> 08:20\n",
    "    if isinstance(x, (int, np.integer)):\n",
    "        v = int(x)\n",
    "        hh = v // 100\n",
    "        mm = v % 100\n",
    "        return hh, mm\n",
    "    if isinstance(x, (float, np.floating)):\n",
    "        v = int(round(x))\n",
    "        hh = v // 100\n",
    "        mm = v % 100\n",
    "        return hh, mm\n",
    "    return None\n",
    "\n",
    "def to_clock_str(x):\n",
    "    t = _coerce_hhmm_to_tuple(x)\n",
    "    if t is None:\n",
    "        return np.nan\n",
    "    hh, mm = t\n",
    "    # Basic guards\n",
    "    if not (0 <= hh <= 23 and 0 <= mm <= 59):\n",
    "        return np.nan\n",
    "    return f\"{hh:02d}:{mm:02d}:00\"\n",
    "\n",
    "def ensure_clock_time(df, col):\n",
    "    \"\"\"Coerce a column to 'HH:MM:SS' strings (or NaN).\"\"\"\n",
    "    return df[col].apply(to_clock_str)\n"
   ]
  },
  {
   "cell_type": "markdown",
   "id": "178434a7",
   "metadata": {},
   "source": [
    "Here, scheduled and actual times are coerced (forced) to consistent clock format (hh:mm:ss)"
   ]
  },
  {
   "cell_type": "code",
   "execution_count": 5,
   "id": "0a6059b6",
   "metadata": {},
   "outputs": [
    {
     "data": {
      "text/html": [
       "<div>\n",
       "<style scoped>\n",
       "    .dataframe tbody tr th:only-of-type {\n",
       "        vertical-align: middle;\n",
       "    }\n",
       "\n",
       "    .dataframe tbody tr th {\n",
       "        vertical-align: top;\n",
       "    }\n",
       "\n",
       "    .dataframe thead th {\n",
       "        text-align: right;\n",
       "    }\n",
       "</style>\n",
       "<table border=\"1\" class=\"dataframe\">\n",
       "  <thead>\n",
       "    <tr style=\"text-align: right;\">\n",
       "      <th></th>\n",
       "      <th>Scheduled_Departure_Time</th>\n",
       "      <th>Scheduled_Arrival_Time</th>\n",
       "      <th>Actual_Departure_Time</th>\n",
       "      <th>Actual_Arrival_Time</th>\n",
       "      <th>Departure_WheelsOff</th>\n",
       "      <th>Arrival_WheelsOn</th>\n",
       "    </tr>\n",
       "  </thead>\n",
       "  <tbody>\n",
       "    <tr>\n",
       "      <th>0</th>\n",
       "      <td>00:01:00</td>\n",
       "      <td>01:27:00</td>\n",
       "      <td>01:03:00</td>\n",
       "      <td>02:19:00</td>\n",
       "      <td>01:18:00</td>\n",
       "      <td>02:12:00</td>\n",
       "    </tr>\n",
       "    <tr>\n",
       "      <th>1</th>\n",
       "      <td>00:10:00</td>\n",
       "      <td>06:16:00</td>\n",
       "      <td>00:25:00</td>\n",
       "      <td>06:24:00</td>\n",
       "      <td>00:46:00</td>\n",
       "      <td>05:57:00</td>\n",
       "    </tr>\n",
       "    <tr>\n",
       "      <th>2</th>\n",
       "      <td>00:10:00</td>\n",
       "      <td>02:42:00</td>\n",
       "      <td>00:10:00</td>\n",
       "      <td>02:27:00</td>\n",
       "      <td>00:25:00</td>\n",
       "      <td>02:22:00</td>\n",
       "    </tr>\n",
       "    <tr>\n",
       "      <th>3</th>\n",
       "      <td>00:10:00</td>\n",
       "      <td>01:11:00</td>\n",
       "      <td>00:44:00</td>\n",
       "      <td>01:55:00</td>\n",
       "      <td>01:18:00</td>\n",
       "      <td>01:51:00</td>\n",
       "    </tr>\n",
       "    <tr>\n",
       "      <th>4</th>\n",
       "      <td>00:10:00</td>\n",
       "      <td>01:32:00</td>\n",
       "      <td>02:34:00</td>\n",
       "      <td>03:58:00</td>\n",
       "      <td>03:00:00</td>\n",
       "      <td>03:52:00</td>\n",
       "    </tr>\n",
       "  </tbody>\n",
       "</table>\n",
       "</div>"
      ],
      "text/plain": [
       "  Scheduled_Departure_Time Scheduled_Arrival_Time Actual_Departure_Time  \\\n",
       "0                 00:01:00               01:27:00              01:03:00   \n",
       "1                 00:10:00               06:16:00              00:25:00   \n",
       "2                 00:10:00               02:42:00              00:10:00   \n",
       "3                 00:10:00               01:11:00              00:44:00   \n",
       "4                 00:10:00               01:32:00              02:34:00   \n",
       "\n",
       "  Actual_Arrival_Time Departure_WheelsOff Arrival_WheelsOn  \n",
       "0            02:19:00            01:18:00         02:12:00  \n",
       "1            06:24:00            00:46:00         05:57:00  \n",
       "2            02:27:00            00:25:00         02:22:00  \n",
       "3            01:55:00            01:18:00         01:51:00  \n",
       "4            03:58:00            03:00:00         03:52:00  "
      ]
     },
     "execution_count": 5,
     "metadata": {},
     "output_type": "execute_result"
    }
   ],
   "source": [
    "time_cols = [\n",
    "    'Scheduled_Departure_Time', 'Scheduled_Arrival_Time',\n",
    "    'Actual_Departure_Time', 'Actual_Arrival_Time',\n",
    "    'Departure_WheelsOff', 'Arrival_WheelsOn'\n",
    "]\n",
    "\n",
    "# Only coerce columns that exist\n",
    "existing_time_cols = [c for c in time_cols if c in df.columns]\n",
    "for c in existing_time_cols:\n",
    "    df[c] = ensure_clock_time(df, c)\n",
    "\n",
    "df[existing_time_cols].head(5)\n"
   ]
  },
  {
   "cell_type": "markdown",
   "id": "611704dd",
   "metadata": {},
   "source": [
    "Parsing FlightDate column to obtain calendar features (DayOfWeek, Month, etc...). For the specific scope of this case, this step will serve as a proxy for robusting treating delay times"
   ]
  },
  {
   "cell_type": "code",
   "execution_count": 6,
   "id": "f153e594",
   "metadata": {},
   "outputs": [],
   "source": [
    "\n",
    "df['FlightDate'] = pd.to_datetime(df['FlightDate'], errors='coerce')\n",
    "df['DayOfWeek'] = df['FlightDate'].dt.dayofweek    # Monday=0\n",
    "df['Month'] = df['FlightDate'].dt.month\n",
    "df['Quarter'] = df['FlightDate'].dt.quarter\n",
    "df['IsWeekend'] = df['DayOfWeek'].isin([5,6]).astype(int)\n"
   ]
  },
  {
   "cell_type": "markdown",
   "id": "c504f27d",
   "metadata": {},
   "source": [
    "Same reasoning as above, deriving hour-of-day features. This may be employed in transversal dataset analysis"
   ]
  },
  {
   "cell_type": "code",
   "execution_count": 7,
   "id": "a636cf18",
   "metadata": {},
   "outputs": [],
   "source": [
    "\n",
    "def hour_from_clock_str(s):\n",
    "    if pd.isna(s): \n",
    "        return np.nan\n",
    "    try:\n",
    "        return int(s[:2])\n",
    "    except:\n",
    "        return np.nan\n",
    "\n",
    "df['Dep_Hour'] = df['Scheduled_Departure_Time'].apply(hour_from_clock_str)\n",
    "df['Arr_Hour'] = df['Scheduled_Arrival_Time'].apply(hour_from_clock_str)\n",
    "\n",
    "# Red-eye flights: depart late night or arrive early morning\n",
    "df['Is_Redeye'] = ((df['Dep_Hour'] >= 22) | (df['Arr_Hour'] <= 5)).astype(int)\n"
   ]
  },
  {
   "cell_type": "markdown",
   "id": "76c13a8c",
   "metadata": {},
   "source": [
    "Recomputing the delays column, basically ensuring the rollover when the flight is across two days, to avoid having skewed delays result. Without this step, a flight scheduled to leave at 10pm and arrive at 1AM, with a 1 hour delay, would be computed as a 20 hour delay (2:00 - 22:00 -> 20 hr delay)"
   ]
  },
  {
   "cell_type": "code",
   "execution_count": 8,
   "id": "c8d3895e",
   "metadata": {},
   "outputs": [],
   "source": [
    "def combine_date_time(date_series, time_str_series):\n",
    "    return pd.to_datetime(\n",
    "        date_series.dt.strftime('%Y-%m-%d') + ' ' + time_str_series,\n",
    "        errors='coerce'\n",
    "    )\n",
    "\n",
    "# Ensuring non-negative delay computation with a simple helper function\n",
    "def minutes_diff_nonnegative(actual, scheduled):\n",
    "    if pd.isna(actual) or pd.isna(scheduled):\n",
    "        return np.nan\n",
    "    delta = (actual - scheduled).total_seconds() / 60.0\n",
    "    return max(delta, 0.0)\n",
    "\n",
    "# Building base datetimes columns, both scheduled and actual\n",
    "dep_sched_dt = combine_date_time(df['FlightDate'], df['Scheduled_Departure_Time'])\n",
    "arr_sched_dt = combine_date_time(df['FlightDate'], df['Scheduled_Arrival_Time'])\n",
    "dep_actual_dt = combine_date_time(df['FlightDate'], df['Actual_Departure_Time'])\n",
    "arr_actual_dt = combine_date_time(df['FlightDate'], df['Actual_Arrival_Time'])\n",
    "\n",
    "# Structuring rollover adjustments based on departures, both scheduled and actual\n",
    "arr_sched_dt_adj = arr_sched_dt.copy()\n",
    "mask_sched_roll = arr_sched_dt.notna() & dep_sched_dt.notna() & (arr_sched_dt < dep_sched_dt)\n",
    "arr_sched_dt_adj[mask_sched_roll] = arr_sched_dt_adj[mask_sched_roll] + pd.Timedelta(days=1)\n",
    "\n",
    "arr_actual_dt_adj = arr_actual_dt.copy()\n",
    "mask_actual_roll = arr_actual_dt.notna() & dep_actual_dt.notna() & (arr_actual_dt < dep_actual_dt)\n",
    "arr_actual_dt_adj[mask_actual_roll] = arr_actual_dt_adj[mask_actual_roll] + pd.Timedelta(days=1)\n",
    "\n",
    "# Recomputing delays with corrected rollovers\n",
    "df['Departure_Delay_Recomputed'] = [\n",
    "    minutes_diff_nonnegative(a, s) for a, s in zip(dep_actual_dt, dep_sched_dt)\n",
    "]\n",
    "df['Arrival_Delay_Recomputed'] = [\n",
    "    minutes_diff_nonnegative(a, s) for a, s in zip(arr_actual_dt_adj, arr_sched_dt_adj)\n",
    "]\n",
    "\n",
    "\n",
    "\n"
   ]
  },
  {
   "cell_type": "markdown",
   "id": "62087a6b",
   "metadata": {},
   "source": [
    "Consistency check and diagnostics: comparing computed with provided delays"
   ]
  },
  {
   "cell_type": "code",
   "execution_count": 9,
   "id": "feed34ee",
   "metadata": {},
   "outputs": [
    {
     "name": "stdout",
     "output_type": "stream",
     "text": [
      "Departure delays:\n",
      "Rows with both values: 64,667\n",
      "Share within ±1.0 minute: 0.996\n",
      "Mean absolute difference (mins): 2.041\n",
      "\n",
      "Arrival delays:\n",
      "Rows with both values: 64,653\n",
      "Share within ±1.0 minute: 0.988\n",
      "Mean absolute difference (mins): 327.216\n"
     ]
    }
   ],
   "source": [
    "\n",
    "def compare_delay_cols(provided_col, recomputed_col, tolerance=1.0):\n",
    "    if provided_col not in df.columns:\n",
    "        print(f\"Provided column '{provided_col}' not present; skipping.\")\n",
    "        return None\n",
    "    prov = df[provided_col]\n",
    "    rec = df[recomputed_col]\n",
    "    both = prov.notna() & rec.notna()\n",
    "    diffs = (prov[both] - rec[both]).abs()\n",
    "    exact = (diffs <= tolerance).mean() if both.sum() > 0 else np.nan\n",
    "    print(f\"Rows with both values: {both.sum():,}\")\n",
    "    print(f\"Share within ±{tolerance} minute: {exact:.3f}\")\n",
    "    print(\"Mean absolute difference (mins):\", round(diffs.mean(), 3) if both.sum() else 'NA')\n",
    "    return diffs\n",
    "\n",
    "print('Departure delays:')\n",
    "_ = compare_delay_cols('Departure_Delay_Minutes', 'Departure_Delay_Recomputed', tolerance=1.0)\n",
    "\n",
    "print('\\nArrival delays:')\n",
    "_ = compare_delay_cols('Arrival_Delay_Minutes', 'Arrival_Delay_Recomputed', tolerance=1.0)\n"
   ]
  },
  {
   "cell_type": "code",
   "execution_count": 10,
   "id": "f9c42508",
   "metadata": {},
   "outputs": [],
   "source": [
    "# Adjusting block times (gate-out to gate-in) with newly computed adjusted rollovers\n",
    "sched_block = arr_sched_dt_adj - dep_sched_dt\n",
    "act_block = arr_actual_dt_adj - dep_actual_dt\n",
    "\n",
    "df['Scheduled_BlockTime_Min'] = sched_block.dt.total_seconds() / 60.0\n",
    "df['Actual_BlockTime_Min'] = act_block.dt.total_seconds() / 60.0\n",
    "\n",
    "# Segmenting block time into taxi and airborne components\n",
    "if {'Departure_Taxi','Arrival_Taxi'}.issubset(df.columns):\n",
    "    df['Total_Taxi_Time_Min'] = df['Departure_Taxi'].fillna(0) + df['Arrival_Taxi'].fillna(0)\n",
    "else:\n",
    "    df['Total_Taxi_Time_Min'] = np.nan\n",
    "\n",
    "df['Airborne_Time_Min'] = df['Actual_BlockTime_Min'] - df['Total_Taxi_Time_Min']\n",
    "\n",
    "# Creating binary flags for departure/arrival delays over 15 minutes\n",
    "df['Is_Departure_Delayed_15'] = (df['Departure_Delay_Recomputed'] > 15).astype('Int64')\n",
    "df['Is_Arrival_Delayed_15'] = (df['Arrival_Delay_Recomputed'] > 15).astype('Int64')\n"
   ]
  },
  {
   "cell_type": "markdown",
   "id": "e7ace5d7",
   "metadata": {},
   "source": [
    "Sanity checks, to ensure that there has been no major error in treating the data"
   ]
  },
  {
   "cell_type": "code",
   "execution_count": 11,
   "id": "951ec844",
   "metadata": {},
   "outputs": [
    {
     "data": {
      "text/plain": [
       "{'rows': 65669,\n",
       " 'n_airlines': 16,\n",
       " 'n_routes': None,\n",
       " 'dep_delay_mean': np.float64(14.24),\n",
       " 'arr_delay_mean': np.float64(26.04),\n",
       " 'pct_dep_delayed_15': np.float64(18.29),\n",
       " 'pct_arr_delayed_15': np.float64(20.67)}"
      ]
     },
     "execution_count": 11,
     "metadata": {},
     "output_type": "execute_result"
    }
   ],
   "source": [
    "\n",
    "summary = {\n",
    "    'rows': len(df),\n",
    "    'n_airlines': df['Airline'].nunique() if 'Airline' in df.columns else None,\n",
    "    'n_routes': df['Route'].nunique() if 'Route' in df.columns else None,\n",
    "    'dep_delay_mean': round(df['Departure_Delay_Recomputed'].mean(), 2),\n",
    "    'arr_delay_mean': round(df['Arrival_Delay_Recomputed'].mean(), 2),\n",
    "    'pct_dep_delayed_15': round(100 * (df['Is_Departure_Delayed_15'] == 1).mean(), 2),\n",
    "    'pct_arr_delayed_15': round(100 * (df['Is_Arrival_Delayed_15'] == 1).mean(), 2),\n",
    "}\n",
    "summary\n"
   ]
  },
  {
   "cell_type": "code",
   "execution_count": 12,
   "id": "24883557",
   "metadata": {},
   "outputs": [
    {
     "data": {
      "text/plain": [
       "Delay_Reason                  51588\n",
       "Airborne_Time_Min              1018\n",
       "Actual_BlockTime_Min           1018\n",
       "Arrival_Delay_Recomputed       1016\n",
       "Departure_Delay_Recomputed     1002\n",
       "DayOfWeek                      1000\n",
       "Quarter                        1000\n",
       "Month                          1000\n",
       "Scheduled_BlockTime_Min        1000\n",
       "FlightDate                     1000\n",
       "Arrival_WheelsOn                 29\n",
       "Actual_Arrival_Time              17\n",
       "Actual_Departure_Time             2\n",
       "Departure_WheelsOff               2\n",
       "Total_Taxi_Time_Min               0\n",
       "dtype: int64"
      ]
     },
     "execution_count": 12,
     "metadata": {},
     "output_type": "execute_result"
    }
   ],
   "source": [
    "\n",
    "mv = df.isna().sum().sort_values(ascending=False)\n",
    "mv.head(15)\n"
   ]
  },
  {
   "cell_type": "markdown",
   "id": "bd8a638b",
   "metadata": {},
   "source": [
    "Last step: saving cleaned data to our data folder. We will use the cleaned df from now on"
   ]
  },
  {
   "cell_type": "code",
   "execution_count": 13,
   "id": "565e04a3",
   "metadata": {},
   "outputs": [],
   "source": [
    "# Save cleaned total data\n",
    "df.to_csv(CLEAN_PATH, index=False)\n"
   ]
  },
  {
   "cell_type": "markdown",
   "id": "025812a0",
   "metadata": {},
   "source": [
    "# Data Filtering"
   ]
  },
  {
   "cell_type": "markdown",
   "id": "16dad706",
   "metadata": {},
   "source": [
    "Re-importing the clean dataset. This step can be skipped if the whole notebook is ran from the top, but in case only the following piece was ran, this code piece ensures consistency"
   ]
  },
  {
   "cell_type": "code",
   "execution_count": null,
   "id": "971ae5ec",
   "metadata": {},
   "outputs": [],
   "source": [
    "df_clean = pd.read_csv(CLEAN_PATH)\n",
    "if \"FlightDate\" in df_clean.columns:\n",
    "    df_clean[\"FlightDate\"] = pd.to_datetime(df_clean[\"FlightDate\"], errors=\"coerce\")\n",
    "\n",
    "print(f\"Loaded clean dataset from: {CLEAN_PATH}  |  rows={len(df_clean):,}\")\n"
   ]
  },
  {
   "cell_type": "markdown",
   "id": "7e376e2b",
   "metadata": {},
   "source": [
    "At this point, the clean dataset can be filtered to keep only flghts from HIX operated by CA"
   ]
  },
  {
   "cell_type": "code",
   "execution_count": null,
   "id": "f6640bf6",
   "metadata": {},
   "outputs": [],
   "source": [
    "# Filter to Compass Airlines (CA) flights departing from HIX\n",
    "required_cols = [\n",
    "    \"Airline\",\"Origin_Airport\",\"Destination_Airport\",\"FlightDate\",\n",
    "    \"Dep_Hour\",\"Arr_Hour\",\n",
    "    \"Is_Arrival_Delayed_15\",\n",
    "    \"Arrival_Delay_Recomputed\",\"Departure_Delay_Recomputed\",\"Total_Taxi_Time_Min\"\n",
    "]\n",
    "missing = [c for c in required_cols if c not in df_clean.columns]\n",
    "if missing:\n",
    "    raise KeyError(f\"Missing required columns for CA/HIX analysis: {missing}\")\n",
    "\n",
    "df_ca_hix = df_clean.query(\"Airline == 'CA' and Origin_Airport == 'HIX'\").copy()\n",
    "print(f\"Filtered flights from HIX and operated by CA dataset rows = {len(df_ca_hix):,}\")\n",
    "\n",
    "CA_HIX_PATH = Path(\"./Data/Flight_on_time_HIX_CA.csv\")\n",
    "df_ca_hix.to_csv(CA_HIX_PATH, index=False)\n",
    "print(f\"Saved filtered dataset → {CA_HIX_PATH.resolve()}\")\n"
   ]
  },
  {
   "cell_type": "markdown",
   "id": "0f0614e0",
   "metadata": {},
   "source": [
    "# KPI and insights from data"
   ]
  },
  {
   "cell_type": "markdown",
   "id": "9ca23590",
   "metadata": {},
   "source": [
    "Identifying a non-exahustive listing of KPIs. These should give us a decent overlook of some significant trend in the data, mainly by cross-referencing the time that takes to carry out different flight steps (taxi time vs delay, for instance)"
   ]
  },
  {
   "cell_type": "code",
   "execution_count": 16,
   "id": "df7c746b",
   "metadata": {},
   "outputs": [
    {
     "data": {
      "text/html": [
       "<div>\n",
       "<style scoped>\n",
       "    .dataframe tbody tr th:only-of-type {\n",
       "        vertical-align: middle;\n",
       "    }\n",
       "\n",
       "    .dataframe tbody tr th {\n",
       "        vertical-align: top;\n",
       "    }\n",
       "\n",
       "    .dataframe thead th {\n",
       "        text-align: right;\n",
       "    }\n",
       "</style>\n",
       "<table border=\"1\" class=\"dataframe\">\n",
       "  <thead>\n",
       "    <tr style=\"text-align: right;\">\n",
       "      <th></th>\n",
       "      <th>Metric</th>\n",
       "      <th>Value</th>\n",
       "    </tr>\n",
       "  </thead>\n",
       "  <tbody>\n",
       "    <tr>\n",
       "      <th>0</th>\n",
       "      <td>Rows (CA from HIX)</td>\n",
       "      <td>5256</td>\n",
       "    </tr>\n",
       "    <tr>\n",
       "      <th>1</th>\n",
       "      <td>Unique destinations</td>\n",
       "      <td>117</td>\n",
       "    </tr>\n",
       "    <tr>\n",
       "      <th>2</th>\n",
       "      <td>Arrival on-time rate (&lt;15m)</td>\n",
       "      <td>77.09%</td>\n",
       "    </tr>\n",
       "    <tr>\n",
       "      <th>3</th>\n",
       "      <td>Avg arrival delay (min)</td>\n",
       "      <td>15.99</td>\n",
       "    </tr>\n",
       "    <tr>\n",
       "      <th>4</th>\n",
       "      <td>Avg departure delay (min)</td>\n",
       "      <td>15.72</td>\n",
       "    </tr>\n",
       "    <tr>\n",
       "      <th>5</th>\n",
       "      <td>Avg total taxi time (min)</td>\n",
       "      <td>31.74</td>\n",
       "    </tr>\n",
       "  </tbody>\n",
       "</table>\n",
       "</div>"
      ],
      "text/plain": [
       "                        Metric   Value\n",
       "0           Rows (CA from HIX)    5256\n",
       "1          Unique destinations     117\n",
       "2  Arrival on-time rate (<15m)  77.09%\n",
       "3      Avg arrival delay (min)   15.99\n",
       "4    Avg departure delay (min)   15.72\n",
       "5    Avg total taxi time (min)   31.74"
      ]
     },
     "execution_count": 16,
     "metadata": {},
     "output_type": "execute_result"
    }
   ],
   "source": [
    "def pct(x):\n",
    "    return None if pd.isna(x) else f\"{round(100*x,2)}%\"\n",
    "\n",
    "if len(df_ca_hix) == 0:\n",
    "    raise ValueError(\"No CA flights departing HIX found. Check filters or data period.\")\n",
    "\n",
    "kpis = {\n",
    "    \"Rows (CA from HIX)\": len(df_ca_hix),\n",
    "    \"Unique destinations\": df_ca_hix[\"Destination_Airport\"].nunique(),\n",
    "    \"Arrival on-time rate (<15m)\": pct(1 - df_ca_hix[\"Is_Arrival_Delayed_15\"].mean()),\n",
    "    \"Avg arrival delay (min)\": round(df_ca_hix[\"Arrival_Delay_Recomputed\"].mean(), 2),\n",
    "    \"Avg departure delay (min)\": round(df_ca_hix[\"Departure_Delay_Recomputed\"].mean(), 2),\n",
    "    \"Avg total taxi time (min)\": round(df_ca_hix[\"Total_Taxi_Time_Min\"].mean(), 2),\n",
    "}\n",
    "kpi_df = pd.DataFrame(list(kpis.items()), columns=[\"Metric\",\"Value\"])\n",
    "kpi_df\n"
   ]
  },
  {
   "cell_type": "markdown",
   "id": "a1d1b3ce",
   "metadata": {},
   "source": [
    "Here, another possible approach: looking from the route-level point of view, by taking into consideration the first 15 destinations by destination airport"
   ]
  },
  {
   "cell_type": "code",
   "execution_count": 17,
   "id": "e24385b2",
   "metadata": {},
   "outputs": [
    {
     "data": {
      "text/html": [
       "<div>\n",
       "<style scoped>\n",
       "    .dataframe tbody tr th:only-of-type {\n",
       "        vertical-align: middle;\n",
       "    }\n",
       "\n",
       "    .dataframe tbody tr th {\n",
       "        vertical-align: top;\n",
       "    }\n",
       "\n",
       "    .dataframe thead th {\n",
       "        text-align: right;\n",
       "    }\n",
       "</style>\n",
       "<table border=\"1\" class=\"dataframe\">\n",
       "  <thead>\n",
       "    <tr style=\"text-align: right;\">\n",
       "      <th></th>\n",
       "      <th>Destination_Airport</th>\n",
       "      <th>flights</th>\n",
       "      <th>on_time</th>\n",
       "      <th>avg_arr_delay</th>\n",
       "      <th>avg_dep_delay</th>\n",
       "      <th>avg_taxi</th>\n",
       "    </tr>\n",
       "  </thead>\n",
       "  <tbody>\n",
       "    <tr>\n",
       "      <th>0</th>\n",
       "      <td>UEU</td>\n",
       "      <td>286</td>\n",
       "      <td>81.5%</td>\n",
       "      <td>14.58</td>\n",
       "      <td>13.87</td>\n",
       "      <td>33.40</td>\n",
       "    </tr>\n",
       "    <tr>\n",
       "      <th>1</th>\n",
       "      <td>WKQ</td>\n",
       "      <td>200</td>\n",
       "      <td>79.0%</td>\n",
       "      <td>13.97</td>\n",
       "      <td>13.64</td>\n",
       "      <td>34.90</td>\n",
       "    </tr>\n",
       "    <tr>\n",
       "      <th>2</th>\n",
       "      <td>FBY</td>\n",
       "      <td>135</td>\n",
       "      <td>77.0%</td>\n",
       "      <td>15.42</td>\n",
       "      <td>13.53</td>\n",
       "      <td>33.73</td>\n",
       "    </tr>\n",
       "    <tr>\n",
       "      <th>3</th>\n",
       "      <td>YNU</td>\n",
       "      <td>132</td>\n",
       "      <td>76.5%</td>\n",
       "      <td>19.02</td>\n",
       "      <td>17.49</td>\n",
       "      <td>33.56</td>\n",
       "    </tr>\n",
       "    <tr>\n",
       "      <th>4</th>\n",
       "      <td>HBW</td>\n",
       "      <td>128</td>\n",
       "      <td>71.1%</td>\n",
       "      <td>16.16</td>\n",
       "      <td>15.66</td>\n",
       "      <td>31.67</td>\n",
       "    </tr>\n",
       "    <tr>\n",
       "      <th>5</th>\n",
       "      <td>BEX</td>\n",
       "      <td>128</td>\n",
       "      <td>74.2%</td>\n",
       "      <td>15.50</td>\n",
       "      <td>13.34</td>\n",
       "      <td>35.73</td>\n",
       "    </tr>\n",
       "    <tr>\n",
       "      <th>6</th>\n",
       "      <td>LPL</td>\n",
       "      <td>119</td>\n",
       "      <td>84.9%</td>\n",
       "      <td>13.03</td>\n",
       "      <td>13.35</td>\n",
       "      <td>27.52</td>\n",
       "    </tr>\n",
       "    <tr>\n",
       "      <th>7</th>\n",
       "      <td>LCW</td>\n",
       "      <td>108</td>\n",
       "      <td>74.1%</td>\n",
       "      <td>21.46</td>\n",
       "      <td>24.99</td>\n",
       "      <td>33.55</td>\n",
       "    </tr>\n",
       "    <tr>\n",
       "      <th>8</th>\n",
       "      <td>WJG</td>\n",
       "      <td>103</td>\n",
       "      <td>74.8%</td>\n",
       "      <td>16.06</td>\n",
       "      <td>15.57</td>\n",
       "      <td>32.39</td>\n",
       "    </tr>\n",
       "    <tr>\n",
       "      <th>9</th>\n",
       "      <td>TJY</td>\n",
       "      <td>99</td>\n",
       "      <td>70.7%</td>\n",
       "      <td>27.65</td>\n",
       "      <td>30.53</td>\n",
       "      <td>31.18</td>\n",
       "    </tr>\n",
       "    <tr>\n",
       "      <th>10</th>\n",
       "      <td>UFC</td>\n",
       "      <td>98</td>\n",
       "      <td>85.7%</td>\n",
       "      <td>8.28</td>\n",
       "      <td>13.05</td>\n",
       "      <td>31.35</td>\n",
       "    </tr>\n",
       "    <tr>\n",
       "      <th>11</th>\n",
       "      <td>WRS</td>\n",
       "      <td>92</td>\n",
       "      <td>84.8%</td>\n",
       "      <td>9.88</td>\n",
       "      <td>8.82</td>\n",
       "      <td>30.01</td>\n",
       "    </tr>\n",
       "    <tr>\n",
       "      <th>12</th>\n",
       "      <td>TMF</td>\n",
       "      <td>92</td>\n",
       "      <td>79.3%</td>\n",
       "      <td>12.33</td>\n",
       "      <td>12.35</td>\n",
       "      <td>30.26</td>\n",
       "    </tr>\n",
       "    <tr>\n",
       "      <th>13</th>\n",
       "      <td>VFM</td>\n",
       "      <td>90</td>\n",
       "      <td>73.3%</td>\n",
       "      <td>18.07</td>\n",
       "      <td>20.64</td>\n",
       "      <td>32.31</td>\n",
       "    </tr>\n",
       "    <tr>\n",
       "      <th>14</th>\n",
       "      <td>FTC</td>\n",
       "      <td>87</td>\n",
       "      <td>79.3%</td>\n",
       "      <td>16.45</td>\n",
       "      <td>18.10</td>\n",
       "      <td>30.02</td>\n",
       "    </tr>\n",
       "  </tbody>\n",
       "</table>\n",
       "</div>"
      ],
      "text/plain": [
       "   Destination_Airport  flights on_time  avg_arr_delay  avg_dep_delay  \\\n",
       "0                  UEU      286   81.5%          14.58          13.87   \n",
       "1                  WKQ      200   79.0%          13.97          13.64   \n",
       "2                  FBY      135   77.0%          15.42          13.53   \n",
       "3                  YNU      132   76.5%          19.02          17.49   \n",
       "4                  HBW      128   71.1%          16.16          15.66   \n",
       "5                  BEX      128   74.2%          15.50          13.34   \n",
       "6                  LPL      119   84.9%          13.03          13.35   \n",
       "7                  LCW      108   74.1%          21.46          24.99   \n",
       "8                  WJG      103   74.8%          16.06          15.57   \n",
       "9                  TJY       99   70.7%          27.65          30.53   \n",
       "10                 UFC       98   85.7%           8.28          13.05   \n",
       "11                 WRS       92   84.8%           9.88           8.82   \n",
       "12                 TMF       92   79.3%          12.33          12.35   \n",
       "13                 VFM       90   73.3%          18.07          20.64   \n",
       "14                 FTC       87   79.3%          16.45          18.10   \n",
       "\n",
       "    avg_taxi  \n",
       "0      33.40  \n",
       "1      34.90  \n",
       "2      33.73  \n",
       "3      33.56  \n",
       "4      31.67  \n",
       "5      35.73  \n",
       "6      27.52  \n",
       "7      33.55  \n",
       "8      32.39  \n",
       "9      31.18  \n",
       "10     31.35  \n",
       "11     30.01  \n",
       "12     30.26  \n",
       "13     32.31  \n",
       "14     30.02  "
      ]
     },
     "execution_count": 17,
     "metadata": {},
     "output_type": "execute_result"
    }
   ],
   "source": [
    "route_summary = (\n",
    "    df_ca_hix\n",
    "    .groupby(\"Destination_Airport\")\n",
    "    .agg(\n",
    "        flights=(\"Is_Arrival_Delayed_15\",\"size\"),\n",
    "        on_time=(\"Is_Arrival_Delayed_15\", lambda s: 1 - s.mean()),\n",
    "        avg_arr_delay=(\"Arrival_Delay_Recomputed\",\"mean\"),\n",
    "        avg_dep_delay=(\"Departure_Delay_Recomputed\",\"mean\"),\n",
    "        avg_taxi=(\"Total_Taxi_Time_Min\",\"mean\"),\n",
    "    )\n",
    "    .sort_values(\"flights\", ascending=False)\n",
    "    .head(15)\n",
    "    .reset_index()\n",
    ")\n",
    "route_summary[\"on_time\"] = (route_summary[\"on_time\"]*100).round(1).astype(str) + \"%\"\n",
    "route_summary.round({\"avg_arr_delay\":2,\"avg_dep_delay\":2,\"avg_taxi\":2})\n"
   ]
  },
  {
   "cell_type": "code",
   "execution_count": 19,
   "id": "1cccdfdb",
   "metadata": {},
   "outputs": [],
   "source": [
    "import plotly.express as px\n",
    "import plotly.graph_objects as go"
   ]
  },
  {
   "cell_type": "code",
   "execution_count": 27,
   "id": "8f060814",
   "metadata": {},
   "outputs": [
    {
     "data": {
      "application/vnd.plotly.v1+json": {
       "config": {
        "plotlyServerURL": "https://plot.ly"
       },
       "data": [
        {
         "hovertemplate": "Destination_Airport=%{x}<br>on_time_rate=%{y}<extra></extra>",
         "legendgroup": "",
         "marker": {
          "color": "#636efa",
          "pattern": {
           "shape": ""
          }
         },
         "name": "",
         "orientation": "v",
         "showlegend": false,
         "textposition": "auto",
         "type": "bar",
         "x": [
          "IZU",
          "KRJ",
          "VNU",
          "CRR",
          "CRW",
          "LIK",
          "UFM",
          "YRL",
          "MLM",
          "FKD",
          "EXU",
          "EJY",
          "VXC",
          "MPM",
          "FJH",
          "IEM",
          "MLF",
          "UFC",
          "LCH",
          "EVR",
          "TKF",
          "LPL",
          "HDU",
          "WRS",
          "UNC",
          "ERH",
          "YJX",
          "ING",
          "KFW",
          "FVC",
          "FVG",
          "UEU",
          "FCC",
          "LXZ",
          "VFO",
          "ZIV",
          "KUO",
          "IMX",
          "UKP",
          "VYI",
          "YTU",
          "TMF",
          "FTC",
          "XMP",
          "VDR",
          "LKF",
          "WKQ",
          "UUF",
          "MMW",
          "VCY",
          "FYN",
          "ZIL",
          "FBY",
          "VRE",
          "VYM",
          "YNU",
          "WWQ",
          "LGC",
          "FSM",
          "LLH",
          "XRL",
          "EEE",
          "FBA",
          "HIZ",
          "KFU",
          "WJG",
          "TCV",
          "EZN",
          "BEX",
          "VBV",
          "FJJ",
          "LCW",
          "LSH",
          "XRO",
          "IZN",
          "NZH",
          "ENV",
          "VFM",
          "WCB",
          "LUZ",
          "IRB",
          "TKQ",
          "XLA",
          "LRN",
          "VDB",
          "AGH",
          "TSK",
          "UYG",
          "VIQ",
          "FUN",
          "AJP",
          "HBW",
          "VCN",
          "TJY",
          "YEN",
          "LYX",
          "KZW",
          "WTU",
          "QEU",
          "HXM",
          "ZJJ",
          "CRH",
          "VMA",
          "VZX",
          "VYU",
          "UZM",
          "LTY",
          "CWE",
          "TKS",
          "BTN",
          "XNL",
          "IYF",
          "UXL",
          "TMJ",
          "ULZ",
          "LRP",
          "KEI"
         ],
         "xaxis": "x",
         "y": {
          "bdata": "AAAAAAAA8D8AAAAAAADwPwAAAAAAAPA/AAAAAAAA8D8AAAAAAADwPwAAAAAAAPA/AAAAAAAA8D8AAAAAAADwPwAAAAAAAPA/AAAAAAAA8D8AAAAAAADwPzw8PDw8POw/BS+n4OUU7D8AAAAAAADsP6OLLrroous/3LZt27Zt6z/ctm3btm3rP9y2bdu2bes/JrSX0F5C6z8zMzMzMzPrPzMzMzMzM+s/u98ou98o6z8nm2yyySbrP7KQhSxkIes/spCFLGQh6z87sRM7sRPrPyivobyG8uo/KK+hvIby6j/X/LBIGXjqP5IkSZIkSeo/nd3Cr8ZE6j9NW+Pv5hHqPwAAAAAAAOo/AAAAAAAA6j/PnTt37tzpP4qd2Imd2Ok/chzHcRzH6T+amZmZmZnpP5qZmZmZmek/mpmZmZmZ6T+amZmZmZnpPxaykIUsZOk/qBGWexph6T+oEZZ7GmHpP34OqQnGW+k/U9aUNWVN6T9I4XoUrkfpP0mSJEmSJOk/I2g4qfvy6D884o64I+7oPzmO4ziO4+g/a3ET5ne16D9uilHD36boP9iJndiJneg/2Imd2Imd6D988MEHH3zoP3h4eHh4eOg/6tb8sEgZ6D8YGBgYGBjoPwAAAAAAAOg/AAAAAAAA6D8AAAAAAADoPwAAAAAAAOg/AAAAAAAA6D8AAAAAAADoP1cbQ9Md7Oc/SA9Uzm7h5z/bN6x9w9rnPwAAAAAAwOc/vvfee++95z9CewntJbTnP0J7Ce0ltOc/RHkN5TWU5z9EeQ3lNZTnP0R5DeU1lOc/LPscUhOM5z94d3d3d3fnP3h3d3d3d+c/3LZt27Zt5z+fdYMp8lnnP3psRdBwUuc/RhdddNFF5z9GF1100UXnP0YXXXTRRec/RhdddNFF5z+6c+fOnTvnPwAAAAAAAOc/t23btm3b5j+3bdu2bdvmP7dt27Zt2+Y/t23btm3b5j8AAAAAAMDmP8prKK+hvOY/S4Fav1Kg5j+WlpaWlpbmP2ZmZmZmZuY/dmIndmIn5j8AAAAAAADmP1FeQ3kN5eU/UV5DeQ3l5T9u27Zt27blP1ZVVVVVVeU/VlVVVVVV5T9WVVVVVVXlP1ZVVVVVVeU/VlVVVVVV5T9ddNFFF13kP1100UUXXeQ/X0J7Ce0l5D84velNb3rjP9y2bdu2beM/AAAAAAAA4D8AAAAAAADgPwAAAAAAAOA/KK+hvIby2j+YmZmZmZnJPwAAAAAAAAAA",
          "dtype": "f8"
         },
         "yaxis": "y"
        }
       ],
       "layout": {
        "barmode": "relative",
        "legend": {
         "tracegroupgap": 0
        },
        "margin": {
         "b": 20,
         "l": 20,
         "r": 20,
         "t": 60
        },
        "template": {
         "data": {
          "bar": [
           {
            "error_x": {
             "color": "#f2f5fa"
            },
            "error_y": {
             "color": "#f2f5fa"
            },
            "marker": {
             "line": {
              "color": "rgb(17,17,17)",
              "width": 0.5
             },
             "pattern": {
              "fillmode": "overlay",
              "size": 10,
              "solidity": 0.2
             }
            },
            "type": "bar"
           }
          ],
          "barpolar": [
           {
            "marker": {
             "line": {
              "color": "rgb(17,17,17)",
              "width": 0.5
             },
             "pattern": {
              "fillmode": "overlay",
              "size": 10,
              "solidity": 0.2
             }
            },
            "type": "barpolar"
           }
          ],
          "carpet": [
           {
            "aaxis": {
             "endlinecolor": "#A2B1C6",
             "gridcolor": "#506784",
             "linecolor": "#506784",
             "minorgridcolor": "#506784",
             "startlinecolor": "#A2B1C6"
            },
            "baxis": {
             "endlinecolor": "#A2B1C6",
             "gridcolor": "#506784",
             "linecolor": "#506784",
             "minorgridcolor": "#506784",
             "startlinecolor": "#A2B1C6"
            },
            "type": "carpet"
           }
          ],
          "choropleth": [
           {
            "colorbar": {
             "outlinewidth": 0,
             "ticks": ""
            },
            "type": "choropleth"
           }
          ],
          "contour": [
           {
            "colorbar": {
             "outlinewidth": 0,
             "ticks": ""
            },
            "colorscale": [
             [
              0,
              "#0d0887"
             ],
             [
              0.1111111111111111,
              "#46039f"
             ],
             [
              0.2222222222222222,
              "#7201a8"
             ],
             [
              0.3333333333333333,
              "#9c179e"
             ],
             [
              0.4444444444444444,
              "#bd3786"
             ],
             [
              0.5555555555555556,
              "#d8576b"
             ],
             [
              0.6666666666666666,
              "#ed7953"
             ],
             [
              0.7777777777777778,
              "#fb9f3a"
             ],
             [
              0.8888888888888888,
              "#fdca26"
             ],
             [
              1,
              "#f0f921"
             ]
            ],
            "type": "contour"
           }
          ],
          "contourcarpet": [
           {
            "colorbar": {
             "outlinewidth": 0,
             "ticks": ""
            },
            "type": "contourcarpet"
           }
          ],
          "heatmap": [
           {
            "colorbar": {
             "outlinewidth": 0,
             "ticks": ""
            },
            "colorscale": [
             [
              0,
              "#0d0887"
             ],
             [
              0.1111111111111111,
              "#46039f"
             ],
             [
              0.2222222222222222,
              "#7201a8"
             ],
             [
              0.3333333333333333,
              "#9c179e"
             ],
             [
              0.4444444444444444,
              "#bd3786"
             ],
             [
              0.5555555555555556,
              "#d8576b"
             ],
             [
              0.6666666666666666,
              "#ed7953"
             ],
             [
              0.7777777777777778,
              "#fb9f3a"
             ],
             [
              0.8888888888888888,
              "#fdca26"
             ],
             [
              1,
              "#f0f921"
             ]
            ],
            "type": "heatmap"
           }
          ],
          "histogram": [
           {
            "marker": {
             "pattern": {
              "fillmode": "overlay",
              "size": 10,
              "solidity": 0.2
             }
            },
            "type": "histogram"
           }
          ],
          "histogram2d": [
           {
            "colorbar": {
             "outlinewidth": 0,
             "ticks": ""
            },
            "colorscale": [
             [
              0,
              "#0d0887"
             ],
             [
              0.1111111111111111,
              "#46039f"
             ],
             [
              0.2222222222222222,
              "#7201a8"
             ],
             [
              0.3333333333333333,
              "#9c179e"
             ],
             [
              0.4444444444444444,
              "#bd3786"
             ],
             [
              0.5555555555555556,
              "#d8576b"
             ],
             [
              0.6666666666666666,
              "#ed7953"
             ],
             [
              0.7777777777777778,
              "#fb9f3a"
             ],
             [
              0.8888888888888888,
              "#fdca26"
             ],
             [
              1,
              "#f0f921"
             ]
            ],
            "type": "histogram2d"
           }
          ],
          "histogram2dcontour": [
           {
            "colorbar": {
             "outlinewidth": 0,
             "ticks": ""
            },
            "colorscale": [
             [
              0,
              "#0d0887"
             ],
             [
              0.1111111111111111,
              "#46039f"
             ],
             [
              0.2222222222222222,
              "#7201a8"
             ],
             [
              0.3333333333333333,
              "#9c179e"
             ],
             [
              0.4444444444444444,
              "#bd3786"
             ],
             [
              0.5555555555555556,
              "#d8576b"
             ],
             [
              0.6666666666666666,
              "#ed7953"
             ],
             [
              0.7777777777777778,
              "#fb9f3a"
             ],
             [
              0.8888888888888888,
              "#fdca26"
             ],
             [
              1,
              "#f0f921"
             ]
            ],
            "type": "histogram2dcontour"
           }
          ],
          "mesh3d": [
           {
            "colorbar": {
             "outlinewidth": 0,
             "ticks": ""
            },
            "type": "mesh3d"
           }
          ],
          "parcoords": [
           {
            "line": {
             "colorbar": {
              "outlinewidth": 0,
              "ticks": ""
             }
            },
            "type": "parcoords"
           }
          ],
          "pie": [
           {
            "automargin": true,
            "type": "pie"
           }
          ],
          "scatter": [
           {
            "marker": {
             "line": {
              "color": "#283442"
             }
            },
            "type": "scatter"
           }
          ],
          "scatter3d": [
           {
            "line": {
             "colorbar": {
              "outlinewidth": 0,
              "ticks": ""
             }
            },
            "marker": {
             "colorbar": {
              "outlinewidth": 0,
              "ticks": ""
             }
            },
            "type": "scatter3d"
           }
          ],
          "scattercarpet": [
           {
            "marker": {
             "colorbar": {
              "outlinewidth": 0,
              "ticks": ""
             }
            },
            "type": "scattercarpet"
           }
          ],
          "scattergeo": [
           {
            "marker": {
             "colorbar": {
              "outlinewidth": 0,
              "ticks": ""
             }
            },
            "type": "scattergeo"
           }
          ],
          "scattergl": [
           {
            "marker": {
             "line": {
              "color": "#283442"
             }
            },
            "type": "scattergl"
           }
          ],
          "scattermap": [
           {
            "marker": {
             "colorbar": {
              "outlinewidth": 0,
              "ticks": ""
             }
            },
            "type": "scattermap"
           }
          ],
          "scattermapbox": [
           {
            "marker": {
             "colorbar": {
              "outlinewidth": 0,
              "ticks": ""
             }
            },
            "type": "scattermapbox"
           }
          ],
          "scatterpolar": [
           {
            "marker": {
             "colorbar": {
              "outlinewidth": 0,
              "ticks": ""
             }
            },
            "type": "scatterpolar"
           }
          ],
          "scatterpolargl": [
           {
            "marker": {
             "colorbar": {
              "outlinewidth": 0,
              "ticks": ""
             }
            },
            "type": "scatterpolargl"
           }
          ],
          "scatterternary": [
           {
            "marker": {
             "colorbar": {
              "outlinewidth": 0,
              "ticks": ""
             }
            },
            "type": "scatterternary"
           }
          ],
          "surface": [
           {
            "colorbar": {
             "outlinewidth": 0,
             "ticks": ""
            },
            "colorscale": [
             [
              0,
              "#0d0887"
             ],
             [
              0.1111111111111111,
              "#46039f"
             ],
             [
              0.2222222222222222,
              "#7201a8"
             ],
             [
              0.3333333333333333,
              "#9c179e"
             ],
             [
              0.4444444444444444,
              "#bd3786"
             ],
             [
              0.5555555555555556,
              "#d8576b"
             ],
             [
              0.6666666666666666,
              "#ed7953"
             ],
             [
              0.7777777777777778,
              "#fb9f3a"
             ],
             [
              0.8888888888888888,
              "#fdca26"
             ],
             [
              1,
              "#f0f921"
             ]
            ],
            "type": "surface"
           }
          ],
          "table": [
           {
            "cells": {
             "fill": {
              "color": "#506784"
             },
             "line": {
              "color": "rgb(17,17,17)"
             }
            },
            "header": {
             "fill": {
              "color": "#2a3f5f"
             },
             "line": {
              "color": "rgb(17,17,17)"
             }
            },
            "type": "table"
           }
          ]
         },
         "layout": {
          "annotationdefaults": {
           "arrowcolor": "#f2f5fa",
           "arrowhead": 0,
           "arrowwidth": 1
          },
          "autotypenumbers": "strict",
          "coloraxis": {
           "colorbar": {
            "outlinewidth": 0,
            "ticks": ""
           }
          },
          "colorscale": {
           "diverging": [
            [
             0,
             "#8e0152"
            ],
            [
             0.1,
             "#c51b7d"
            ],
            [
             0.2,
             "#de77ae"
            ],
            [
             0.3,
             "#f1b6da"
            ],
            [
             0.4,
             "#fde0ef"
            ],
            [
             0.5,
             "#f7f7f7"
            ],
            [
             0.6,
             "#e6f5d0"
            ],
            [
             0.7,
             "#b8e186"
            ],
            [
             0.8,
             "#7fbc41"
            ],
            [
             0.9,
             "#4d9221"
            ],
            [
             1,
             "#276419"
            ]
           ],
           "sequential": [
            [
             0,
             "#0d0887"
            ],
            [
             0.1111111111111111,
             "#46039f"
            ],
            [
             0.2222222222222222,
             "#7201a8"
            ],
            [
             0.3333333333333333,
             "#9c179e"
            ],
            [
             0.4444444444444444,
             "#bd3786"
            ],
            [
             0.5555555555555556,
             "#d8576b"
            ],
            [
             0.6666666666666666,
             "#ed7953"
            ],
            [
             0.7777777777777778,
             "#fb9f3a"
            ],
            [
             0.8888888888888888,
             "#fdca26"
            ],
            [
             1,
             "#f0f921"
            ]
           ],
           "sequentialminus": [
            [
             0,
             "#0d0887"
            ],
            [
             0.1111111111111111,
             "#46039f"
            ],
            [
             0.2222222222222222,
             "#7201a8"
            ],
            [
             0.3333333333333333,
             "#9c179e"
            ],
            [
             0.4444444444444444,
             "#bd3786"
            ],
            [
             0.5555555555555556,
             "#d8576b"
            ],
            [
             0.6666666666666666,
             "#ed7953"
            ],
            [
             0.7777777777777778,
             "#fb9f3a"
            ],
            [
             0.8888888888888888,
             "#fdca26"
            ],
            [
             1,
             "#f0f921"
            ]
           ]
          },
          "colorway": [
           "#636efa",
           "#EF553B",
           "#00cc96",
           "#ab63fa",
           "#FFA15A",
           "#19d3f3",
           "#FF6692",
           "#B6E880",
           "#FF97FF",
           "#FECB52"
          ],
          "font": {
           "color": "#f2f5fa"
          },
          "geo": {
           "bgcolor": "rgb(17,17,17)",
           "lakecolor": "rgb(17,17,17)",
           "landcolor": "rgb(17,17,17)",
           "showlakes": true,
           "showland": true,
           "subunitcolor": "#506784"
          },
          "hoverlabel": {
           "align": "left"
          },
          "hovermode": "closest",
          "mapbox": {
           "style": "dark"
          },
          "paper_bgcolor": "rgb(17,17,17)",
          "plot_bgcolor": "rgb(17,17,17)",
          "polar": {
           "angularaxis": {
            "gridcolor": "#506784",
            "linecolor": "#506784",
            "ticks": ""
           },
           "bgcolor": "rgb(17,17,17)",
           "radialaxis": {
            "gridcolor": "#506784",
            "linecolor": "#506784",
            "ticks": ""
           }
          },
          "scene": {
           "xaxis": {
            "backgroundcolor": "rgb(17,17,17)",
            "gridcolor": "#506784",
            "gridwidth": 2,
            "linecolor": "#506784",
            "showbackground": true,
            "ticks": "",
            "zerolinecolor": "#C8D4E3"
           },
           "yaxis": {
            "backgroundcolor": "rgb(17,17,17)",
            "gridcolor": "#506784",
            "gridwidth": 2,
            "linecolor": "#506784",
            "showbackground": true,
            "ticks": "",
            "zerolinecolor": "#C8D4E3"
           },
           "zaxis": {
            "backgroundcolor": "rgb(17,17,17)",
            "gridcolor": "#506784",
            "gridwidth": 2,
            "linecolor": "#506784",
            "showbackground": true,
            "ticks": "",
            "zerolinecolor": "#C8D4E3"
           }
          },
          "shapedefaults": {
           "line": {
            "color": "#f2f5fa"
           }
          },
          "sliderdefaults": {
           "bgcolor": "#C8D4E3",
           "bordercolor": "rgb(17,17,17)",
           "borderwidth": 1,
           "tickwidth": 0
          },
          "ternary": {
           "aaxis": {
            "gridcolor": "#506784",
            "linecolor": "#506784",
            "ticks": ""
           },
           "baxis": {
            "gridcolor": "#506784",
            "linecolor": "#506784",
            "ticks": ""
           },
           "bgcolor": "rgb(17,17,17)",
           "caxis": {
            "gridcolor": "#506784",
            "linecolor": "#506784",
            "ticks": ""
           }
          },
          "title": {
           "x": 0.05
          },
          "updatemenudefaults": {
           "bgcolor": "#506784",
           "borderwidth": 0
          },
          "xaxis": {
           "automargin": true,
           "gridcolor": "#283442",
           "linecolor": "#506784",
           "ticks": "",
           "title": {
            "standoff": 15
           },
           "zerolinecolor": "#283442",
           "zerolinewidth": 2
          },
          "yaxis": {
           "automargin": true,
           "gridcolor": "#283442",
           "linecolor": "#506784",
           "ticks": "",
           "title": {
            "standoff": 15
           },
           "zerolinecolor": "#283442",
           "zerolinewidth": 2
          }
         }
        },
        "title": {
         "text": "CA from HIX — Arrival On-Time Rate by Destination"
        },
        "xaxis": {
         "anchor": "y",
         "domain": [
          0,
          1
         ],
         "title": {
          "text": "Destination"
         }
        },
        "yaxis": {
         "anchor": "x",
         "domain": [
          0,
          1
         ],
         "range": [
          0,
          1
         ],
         "title": {
          "text": "On-Time Rate"
         }
        }
       }
      }
     },
     "metadata": {},
     "output_type": "display_data"
    }
   ],
   "source": [
    "# On-time rate by destination, sorted\n",
    "ontime_dest = (1 - df_ca_hix.groupby(\"Destination_Airport\")[\"Is_Arrival_Delayed_15\"].mean())\\\n",
    "                .rename(\"on_time_rate\").reset_index().sort_values(\"on_time_rate\", ascending=False)\n",
    "\n",
    "fig1 = px.bar(\n",
    "    ontime_dest,\n",
    "    x=\"Destination_Airport\",\n",
    "    y=\"on_time_rate\",\n",
    "    template= \"plotly_dark\",\n",
    "    title=\"CA from HIX — Arrival On-Time Rate by Destination\",\n",
    ")\n",
    "fig1.update_yaxes(range=[0,1], title=\"On-Time Rate\")\n",
    "fig1.update_xaxes(title=\"Destination\")\n",
    "fig1.update_layout(margin=dict(l=20,r=20,t=60,b=20))\n",
    "fig1.show()"
   ]
  },
  {
   "cell_type": "code",
   "execution_count": 28,
   "id": "91b66f66",
   "metadata": {},
   "outputs": [
    {
     "data": {
      "application/vnd.plotly.v1+json": {
       "config": {
        "plotlyServerURL": "https://plot.ly"
       },
       "data": [
        {
         "hovertemplate": "dep_hour=%{x}<br>delay_share=%{y}<extra></extra>",
         "legendgroup": "",
         "line": {
          "color": "#636efa",
          "dash": "solid"
         },
         "marker": {
          "symbol": "circle"
         },
         "mode": "lines+markers",
         "name": "",
         "orientation": "v",
         "showlegend": false,
         "type": "scatter",
         "x": {
          "bdata": "AAECAwQFBgcICQoLDA0ODxAREhMUFRYX",
          "dtype": "i1"
         },
         "xaxis": "x",
         "y": {
          "bdata": "27Zt27Zt2z8AAAAAAAD4fwAAAAAAAPh/AAAAAAAA+H8AAAAAAAD4fwAAAAAAAAAAyRCso837xD+cj8H5GJzPP+qgDuqgDso/IV4kq3BOzj9Ql5xaEw7QP2PC4DtNgc0/CIOcJftrzT98GmG5pxHGP1EP9VAP9dA/quhZ6Xzizj8pXI/C9SjMP7Je9vMwfcw/khu5kRu50T9T5hUxZV7RPxXbesP7oMo/qYilIpaKyD8Qt4DCqE7DPwAAAAAAAPh/",
          "dtype": "f8"
         },
         "yaxis": "y"
        }
       ],
       "layout": {
        "legend": {
         "tracegroupgap": 0
        },
        "margin": {
         "b": 20,
         "l": 20,
         "r": 20,
         "t": 60
        },
        "template": {
         "data": {
          "bar": [
           {
            "error_x": {
             "color": "#f2f5fa"
            },
            "error_y": {
             "color": "#f2f5fa"
            },
            "marker": {
             "line": {
              "color": "rgb(17,17,17)",
              "width": 0.5
             },
             "pattern": {
              "fillmode": "overlay",
              "size": 10,
              "solidity": 0.2
             }
            },
            "type": "bar"
           }
          ],
          "barpolar": [
           {
            "marker": {
             "line": {
              "color": "rgb(17,17,17)",
              "width": 0.5
             },
             "pattern": {
              "fillmode": "overlay",
              "size": 10,
              "solidity": 0.2
             }
            },
            "type": "barpolar"
           }
          ],
          "carpet": [
           {
            "aaxis": {
             "endlinecolor": "#A2B1C6",
             "gridcolor": "#506784",
             "linecolor": "#506784",
             "minorgridcolor": "#506784",
             "startlinecolor": "#A2B1C6"
            },
            "baxis": {
             "endlinecolor": "#A2B1C6",
             "gridcolor": "#506784",
             "linecolor": "#506784",
             "minorgridcolor": "#506784",
             "startlinecolor": "#A2B1C6"
            },
            "type": "carpet"
           }
          ],
          "choropleth": [
           {
            "colorbar": {
             "outlinewidth": 0,
             "ticks": ""
            },
            "type": "choropleth"
           }
          ],
          "contour": [
           {
            "colorbar": {
             "outlinewidth": 0,
             "ticks": ""
            },
            "colorscale": [
             [
              0,
              "#0d0887"
             ],
             [
              0.1111111111111111,
              "#46039f"
             ],
             [
              0.2222222222222222,
              "#7201a8"
             ],
             [
              0.3333333333333333,
              "#9c179e"
             ],
             [
              0.4444444444444444,
              "#bd3786"
             ],
             [
              0.5555555555555556,
              "#d8576b"
             ],
             [
              0.6666666666666666,
              "#ed7953"
             ],
             [
              0.7777777777777778,
              "#fb9f3a"
             ],
             [
              0.8888888888888888,
              "#fdca26"
             ],
             [
              1,
              "#f0f921"
             ]
            ],
            "type": "contour"
           }
          ],
          "contourcarpet": [
           {
            "colorbar": {
             "outlinewidth": 0,
             "ticks": ""
            },
            "type": "contourcarpet"
           }
          ],
          "heatmap": [
           {
            "colorbar": {
             "outlinewidth": 0,
             "ticks": ""
            },
            "colorscale": [
             [
              0,
              "#0d0887"
             ],
             [
              0.1111111111111111,
              "#46039f"
             ],
             [
              0.2222222222222222,
              "#7201a8"
             ],
             [
              0.3333333333333333,
              "#9c179e"
             ],
             [
              0.4444444444444444,
              "#bd3786"
             ],
             [
              0.5555555555555556,
              "#d8576b"
             ],
             [
              0.6666666666666666,
              "#ed7953"
             ],
             [
              0.7777777777777778,
              "#fb9f3a"
             ],
             [
              0.8888888888888888,
              "#fdca26"
             ],
             [
              1,
              "#f0f921"
             ]
            ],
            "type": "heatmap"
           }
          ],
          "histogram": [
           {
            "marker": {
             "pattern": {
              "fillmode": "overlay",
              "size": 10,
              "solidity": 0.2
             }
            },
            "type": "histogram"
           }
          ],
          "histogram2d": [
           {
            "colorbar": {
             "outlinewidth": 0,
             "ticks": ""
            },
            "colorscale": [
             [
              0,
              "#0d0887"
             ],
             [
              0.1111111111111111,
              "#46039f"
             ],
             [
              0.2222222222222222,
              "#7201a8"
             ],
             [
              0.3333333333333333,
              "#9c179e"
             ],
             [
              0.4444444444444444,
              "#bd3786"
             ],
             [
              0.5555555555555556,
              "#d8576b"
             ],
             [
              0.6666666666666666,
              "#ed7953"
             ],
             [
              0.7777777777777778,
              "#fb9f3a"
             ],
             [
              0.8888888888888888,
              "#fdca26"
             ],
             [
              1,
              "#f0f921"
             ]
            ],
            "type": "histogram2d"
           }
          ],
          "histogram2dcontour": [
           {
            "colorbar": {
             "outlinewidth": 0,
             "ticks": ""
            },
            "colorscale": [
             [
              0,
              "#0d0887"
             ],
             [
              0.1111111111111111,
              "#46039f"
             ],
             [
              0.2222222222222222,
              "#7201a8"
             ],
             [
              0.3333333333333333,
              "#9c179e"
             ],
             [
              0.4444444444444444,
              "#bd3786"
             ],
             [
              0.5555555555555556,
              "#d8576b"
             ],
             [
              0.6666666666666666,
              "#ed7953"
             ],
             [
              0.7777777777777778,
              "#fb9f3a"
             ],
             [
              0.8888888888888888,
              "#fdca26"
             ],
             [
              1,
              "#f0f921"
             ]
            ],
            "type": "histogram2dcontour"
           }
          ],
          "mesh3d": [
           {
            "colorbar": {
             "outlinewidth": 0,
             "ticks": ""
            },
            "type": "mesh3d"
           }
          ],
          "parcoords": [
           {
            "line": {
             "colorbar": {
              "outlinewidth": 0,
              "ticks": ""
             }
            },
            "type": "parcoords"
           }
          ],
          "pie": [
           {
            "automargin": true,
            "type": "pie"
           }
          ],
          "scatter": [
           {
            "marker": {
             "line": {
              "color": "#283442"
             }
            },
            "type": "scatter"
           }
          ],
          "scatter3d": [
           {
            "line": {
             "colorbar": {
              "outlinewidth": 0,
              "ticks": ""
             }
            },
            "marker": {
             "colorbar": {
              "outlinewidth": 0,
              "ticks": ""
             }
            },
            "type": "scatter3d"
           }
          ],
          "scattercarpet": [
           {
            "marker": {
             "colorbar": {
              "outlinewidth": 0,
              "ticks": ""
             }
            },
            "type": "scattercarpet"
           }
          ],
          "scattergeo": [
           {
            "marker": {
             "colorbar": {
              "outlinewidth": 0,
              "ticks": ""
             }
            },
            "type": "scattergeo"
           }
          ],
          "scattergl": [
           {
            "marker": {
             "line": {
              "color": "#283442"
             }
            },
            "type": "scattergl"
           }
          ],
          "scattermap": [
           {
            "marker": {
             "colorbar": {
              "outlinewidth": 0,
              "ticks": ""
             }
            },
            "type": "scattermap"
           }
          ],
          "scattermapbox": [
           {
            "marker": {
             "colorbar": {
              "outlinewidth": 0,
              "ticks": ""
             }
            },
            "type": "scattermapbox"
           }
          ],
          "scatterpolar": [
           {
            "marker": {
             "colorbar": {
              "outlinewidth": 0,
              "ticks": ""
             }
            },
            "type": "scatterpolar"
           }
          ],
          "scatterpolargl": [
           {
            "marker": {
             "colorbar": {
              "outlinewidth": 0,
              "ticks": ""
             }
            },
            "type": "scatterpolargl"
           }
          ],
          "scatterternary": [
           {
            "marker": {
             "colorbar": {
              "outlinewidth": 0,
              "ticks": ""
             }
            },
            "type": "scatterternary"
           }
          ],
          "surface": [
           {
            "colorbar": {
             "outlinewidth": 0,
             "ticks": ""
            },
            "colorscale": [
             [
              0,
              "#0d0887"
             ],
             [
              0.1111111111111111,
              "#46039f"
             ],
             [
              0.2222222222222222,
              "#7201a8"
             ],
             [
              0.3333333333333333,
              "#9c179e"
             ],
             [
              0.4444444444444444,
              "#bd3786"
             ],
             [
              0.5555555555555556,
              "#d8576b"
             ],
             [
              0.6666666666666666,
              "#ed7953"
             ],
             [
              0.7777777777777778,
              "#fb9f3a"
             ],
             [
              0.8888888888888888,
              "#fdca26"
             ],
             [
              1,
              "#f0f921"
             ]
            ],
            "type": "surface"
           }
          ],
          "table": [
           {
            "cells": {
             "fill": {
              "color": "#506784"
             },
             "line": {
              "color": "rgb(17,17,17)"
             }
            },
            "header": {
             "fill": {
              "color": "#2a3f5f"
             },
             "line": {
              "color": "rgb(17,17,17)"
             }
            },
            "type": "table"
           }
          ]
         },
         "layout": {
          "annotationdefaults": {
           "arrowcolor": "#f2f5fa",
           "arrowhead": 0,
           "arrowwidth": 1
          },
          "autotypenumbers": "strict",
          "coloraxis": {
           "colorbar": {
            "outlinewidth": 0,
            "ticks": ""
           }
          },
          "colorscale": {
           "diverging": [
            [
             0,
             "#8e0152"
            ],
            [
             0.1,
             "#c51b7d"
            ],
            [
             0.2,
             "#de77ae"
            ],
            [
             0.3,
             "#f1b6da"
            ],
            [
             0.4,
             "#fde0ef"
            ],
            [
             0.5,
             "#f7f7f7"
            ],
            [
             0.6,
             "#e6f5d0"
            ],
            [
             0.7,
             "#b8e186"
            ],
            [
             0.8,
             "#7fbc41"
            ],
            [
             0.9,
             "#4d9221"
            ],
            [
             1,
             "#276419"
            ]
           ],
           "sequential": [
            [
             0,
             "#0d0887"
            ],
            [
             0.1111111111111111,
             "#46039f"
            ],
            [
             0.2222222222222222,
             "#7201a8"
            ],
            [
             0.3333333333333333,
             "#9c179e"
            ],
            [
             0.4444444444444444,
             "#bd3786"
            ],
            [
             0.5555555555555556,
             "#d8576b"
            ],
            [
             0.6666666666666666,
             "#ed7953"
            ],
            [
             0.7777777777777778,
             "#fb9f3a"
            ],
            [
             0.8888888888888888,
             "#fdca26"
            ],
            [
             1,
             "#f0f921"
            ]
           ],
           "sequentialminus": [
            [
             0,
             "#0d0887"
            ],
            [
             0.1111111111111111,
             "#46039f"
            ],
            [
             0.2222222222222222,
             "#7201a8"
            ],
            [
             0.3333333333333333,
             "#9c179e"
            ],
            [
             0.4444444444444444,
             "#bd3786"
            ],
            [
             0.5555555555555556,
             "#d8576b"
            ],
            [
             0.6666666666666666,
             "#ed7953"
            ],
            [
             0.7777777777777778,
             "#fb9f3a"
            ],
            [
             0.8888888888888888,
             "#fdca26"
            ],
            [
             1,
             "#f0f921"
            ]
           ]
          },
          "colorway": [
           "#636efa",
           "#EF553B",
           "#00cc96",
           "#ab63fa",
           "#FFA15A",
           "#19d3f3",
           "#FF6692",
           "#B6E880",
           "#FF97FF",
           "#FECB52"
          ],
          "font": {
           "color": "#f2f5fa"
          },
          "geo": {
           "bgcolor": "rgb(17,17,17)",
           "lakecolor": "rgb(17,17,17)",
           "landcolor": "rgb(17,17,17)",
           "showlakes": true,
           "showland": true,
           "subunitcolor": "#506784"
          },
          "hoverlabel": {
           "align": "left"
          },
          "hovermode": "closest",
          "mapbox": {
           "style": "dark"
          },
          "paper_bgcolor": "rgb(17,17,17)",
          "plot_bgcolor": "rgb(17,17,17)",
          "polar": {
           "angularaxis": {
            "gridcolor": "#506784",
            "linecolor": "#506784",
            "ticks": ""
           },
           "bgcolor": "rgb(17,17,17)",
           "radialaxis": {
            "gridcolor": "#506784",
            "linecolor": "#506784",
            "ticks": ""
           }
          },
          "scene": {
           "xaxis": {
            "backgroundcolor": "rgb(17,17,17)",
            "gridcolor": "#506784",
            "gridwidth": 2,
            "linecolor": "#506784",
            "showbackground": true,
            "ticks": "",
            "zerolinecolor": "#C8D4E3"
           },
           "yaxis": {
            "backgroundcolor": "rgb(17,17,17)",
            "gridcolor": "#506784",
            "gridwidth": 2,
            "linecolor": "#506784",
            "showbackground": true,
            "ticks": "",
            "zerolinecolor": "#C8D4E3"
           },
           "zaxis": {
            "backgroundcolor": "rgb(17,17,17)",
            "gridcolor": "#506784",
            "gridwidth": 2,
            "linecolor": "#506784",
            "showbackground": true,
            "ticks": "",
            "zerolinecolor": "#C8D4E3"
           }
          },
          "shapedefaults": {
           "line": {
            "color": "#f2f5fa"
           }
          },
          "sliderdefaults": {
           "bgcolor": "#C8D4E3",
           "bordercolor": "rgb(17,17,17)",
           "borderwidth": 1,
           "tickwidth": 0
          },
          "ternary": {
           "aaxis": {
            "gridcolor": "#506784",
            "linecolor": "#506784",
            "ticks": ""
           },
           "baxis": {
            "gridcolor": "#506784",
            "linecolor": "#506784",
            "ticks": ""
           },
           "bgcolor": "rgb(17,17,17)",
           "caxis": {
            "gridcolor": "#506784",
            "linecolor": "#506784",
            "ticks": ""
           }
          },
          "title": {
           "x": 0.05
          },
          "updatemenudefaults": {
           "bgcolor": "#506784",
           "borderwidth": 0
          },
          "xaxis": {
           "automargin": true,
           "gridcolor": "#283442",
           "linecolor": "#506784",
           "ticks": "",
           "title": {
            "standoff": 15
           },
           "zerolinecolor": "#283442",
           "zerolinewidth": 2
          },
          "yaxis": {
           "automargin": true,
           "gridcolor": "#283442",
           "linecolor": "#506784",
           "ticks": "",
           "title": {
            "standoff": 15
           },
           "zerolinecolor": "#283442",
           "zerolinewidth": 2
          }
         }
        },
        "title": {
         "text": "CA from HIX — Arrival Delay Risk by Departure Hour (≥15m)"
        },
        "xaxis": {
         "anchor": "y",
         "domain": [
          0,
          1
         ],
         "dtick": 1,
         "title": {
          "text": "Departure Hour (0–23)"
         }
        },
        "yaxis": {
         "anchor": "x",
         "domain": [
          0,
          1
         ],
         "range": [
          0,
          1
         ],
         "title": {
          "text": "Share Delayed (≥15m)"
         }
        }
       }
      }
     },
     "metadata": {},
     "output_type": "display_data"
    }
   ],
   "source": [
    "risk_by_hour = df_ca_hix.groupby(\"Dep_Hour\")[\"Is_Arrival_Delayed_15\"].mean()\\\n",
    "                .reindex(range(24)).reset_index().rename(columns={\"Dep_Hour\":\"dep_hour\",\"Is_Arrival_Delayed_15\":\"delay_share\"})\n",
    "\n",
    "fig2 = px.line(\n",
    "    risk_by_hour,\n",
    "    x=\"dep_hour\",\n",
    "    y=\"delay_share\",\n",
    "    markers=True,\n",
    "    template= \"plotly_dark\",\n",
    "    title=\"CA from HIX — Arrival Delay Risk by Departure Hour (≥15m)\",\n",
    ")\n",
    "fig2.update_yaxes(range=[0,1], title=\"Share Delayed (≥15m)\")\n",
    "fig2.update_xaxes(title=\"Departure Hour (0–23)\", dtick=1)\n",
    "fig2.update_layout(margin=dict(l=20,r=20,t=60,b=20))\n",
    "fig2.show()"
   ]
  },
  {
   "cell_type": "code",
   "execution_count": 29,
   "id": "eb28aeec",
   "metadata": {},
   "outputs": [
    {
     "data": {
      "application/vnd.plotly.v1+json": {
       "config": {
        "plotlyServerURL": "https://plot.ly"
       },
       "data": [
        {
         "hovertemplate": "day=%{x}<br>on_time_rate=%{y}<extra></extra>",
         "legendgroup": "",
         "line": {
          "color": "#636efa",
          "dash": "solid"
         },
         "marker": {
          "symbol": "circle"
         },
         "mode": "lines+markers",
         "name": "",
         "orientation": "v",
         "showlegend": false,
         "type": "scatter",
         "x": {
          "bdata": "AAAAAAAA8D8AAAAAAAAAQAAAAAAAAAhAAAAAAAAAEEAAAAAAAAAUQAAAAAAAABhAAAAAAAAAHEAAAAAAAAAgQAAAAAAAACJAAAAAAAAAJEAAAAAAAAAmQAAAAAAAAChAAAAAAAAAKkAAAAAAAAAsQAAAAAAAAC5AAAAAAAAAMEAAAAAAAAAxQAAAAAAAADJAAAAAAAAAM0AAAAAAAAA0QAAAAAAAADVAAAAAAAAANkAAAAAAAAA3QAAAAAAAADhAAAAAAAAAOUAAAAAAAAA6QAAAAAAAADtAAAAAAAAAPEAAAAAAAAA9QAAAAAAAAD5AAAAAAAAAP0A=",
          "dtype": "f8"
         },
         "xaxis": "x",
         "y": {
          "bdata": "dhPZTWQ34T9yHMdxHMfhPzJH6faV1es/HdRBHdRB7T8ojOo0OcjsPx3UQR3UQe0/opP2QTKg7j/fe++9997rP6vljRFM9Oc/1OQg81Ii6D9QGNVpcpDpP6pNbWpTm+o/h36zdeg36z97FK5H4XrkP3h3d3d3d+c/qqqqqqqq2j+2OV3lmfjoP/3aQy4rBuo/y/mznD/L6T8ffPDBBx/sP769vb29ve0/wJ6rWDa+6T8ffPDBBx/sPwAAAAAAwOE/cUfcEXfE7T+wrN4lDwbsP6Sp82sPuew/AAAAAAAA6z/GTZjf1eLmP3S4DPjkcMk/NpTXUF5D4T8=",
          "dtype": "f8"
         },
         "yaxis": "y"
        }
       ],
       "layout": {
        "legend": {
         "tracegroupgap": 0
        },
        "margin": {
         "b": 20,
         "l": 20,
         "r": 20,
         "t": 60
        },
        "template": {
         "data": {
          "bar": [
           {
            "error_x": {
             "color": "#f2f5fa"
            },
            "error_y": {
             "color": "#f2f5fa"
            },
            "marker": {
             "line": {
              "color": "rgb(17,17,17)",
              "width": 0.5
             },
             "pattern": {
              "fillmode": "overlay",
              "size": 10,
              "solidity": 0.2
             }
            },
            "type": "bar"
           }
          ],
          "barpolar": [
           {
            "marker": {
             "line": {
              "color": "rgb(17,17,17)",
              "width": 0.5
             },
             "pattern": {
              "fillmode": "overlay",
              "size": 10,
              "solidity": 0.2
             }
            },
            "type": "barpolar"
           }
          ],
          "carpet": [
           {
            "aaxis": {
             "endlinecolor": "#A2B1C6",
             "gridcolor": "#506784",
             "linecolor": "#506784",
             "minorgridcolor": "#506784",
             "startlinecolor": "#A2B1C6"
            },
            "baxis": {
             "endlinecolor": "#A2B1C6",
             "gridcolor": "#506784",
             "linecolor": "#506784",
             "minorgridcolor": "#506784",
             "startlinecolor": "#A2B1C6"
            },
            "type": "carpet"
           }
          ],
          "choropleth": [
           {
            "colorbar": {
             "outlinewidth": 0,
             "ticks": ""
            },
            "type": "choropleth"
           }
          ],
          "contour": [
           {
            "colorbar": {
             "outlinewidth": 0,
             "ticks": ""
            },
            "colorscale": [
             [
              0,
              "#0d0887"
             ],
             [
              0.1111111111111111,
              "#46039f"
             ],
             [
              0.2222222222222222,
              "#7201a8"
             ],
             [
              0.3333333333333333,
              "#9c179e"
             ],
             [
              0.4444444444444444,
              "#bd3786"
             ],
             [
              0.5555555555555556,
              "#d8576b"
             ],
             [
              0.6666666666666666,
              "#ed7953"
             ],
             [
              0.7777777777777778,
              "#fb9f3a"
             ],
             [
              0.8888888888888888,
              "#fdca26"
             ],
             [
              1,
              "#f0f921"
             ]
            ],
            "type": "contour"
           }
          ],
          "contourcarpet": [
           {
            "colorbar": {
             "outlinewidth": 0,
             "ticks": ""
            },
            "type": "contourcarpet"
           }
          ],
          "heatmap": [
           {
            "colorbar": {
             "outlinewidth": 0,
             "ticks": ""
            },
            "colorscale": [
             [
              0,
              "#0d0887"
             ],
             [
              0.1111111111111111,
              "#46039f"
             ],
             [
              0.2222222222222222,
              "#7201a8"
             ],
             [
              0.3333333333333333,
              "#9c179e"
             ],
             [
              0.4444444444444444,
              "#bd3786"
             ],
             [
              0.5555555555555556,
              "#d8576b"
             ],
             [
              0.6666666666666666,
              "#ed7953"
             ],
             [
              0.7777777777777778,
              "#fb9f3a"
             ],
             [
              0.8888888888888888,
              "#fdca26"
             ],
             [
              1,
              "#f0f921"
             ]
            ],
            "type": "heatmap"
           }
          ],
          "histogram": [
           {
            "marker": {
             "pattern": {
              "fillmode": "overlay",
              "size": 10,
              "solidity": 0.2
             }
            },
            "type": "histogram"
           }
          ],
          "histogram2d": [
           {
            "colorbar": {
             "outlinewidth": 0,
             "ticks": ""
            },
            "colorscale": [
             [
              0,
              "#0d0887"
             ],
             [
              0.1111111111111111,
              "#46039f"
             ],
             [
              0.2222222222222222,
              "#7201a8"
             ],
             [
              0.3333333333333333,
              "#9c179e"
             ],
             [
              0.4444444444444444,
              "#bd3786"
             ],
             [
              0.5555555555555556,
              "#d8576b"
             ],
             [
              0.6666666666666666,
              "#ed7953"
             ],
             [
              0.7777777777777778,
              "#fb9f3a"
             ],
             [
              0.8888888888888888,
              "#fdca26"
             ],
             [
              1,
              "#f0f921"
             ]
            ],
            "type": "histogram2d"
           }
          ],
          "histogram2dcontour": [
           {
            "colorbar": {
             "outlinewidth": 0,
             "ticks": ""
            },
            "colorscale": [
             [
              0,
              "#0d0887"
             ],
             [
              0.1111111111111111,
              "#46039f"
             ],
             [
              0.2222222222222222,
              "#7201a8"
             ],
             [
              0.3333333333333333,
              "#9c179e"
             ],
             [
              0.4444444444444444,
              "#bd3786"
             ],
             [
              0.5555555555555556,
              "#d8576b"
             ],
             [
              0.6666666666666666,
              "#ed7953"
             ],
             [
              0.7777777777777778,
              "#fb9f3a"
             ],
             [
              0.8888888888888888,
              "#fdca26"
             ],
             [
              1,
              "#f0f921"
             ]
            ],
            "type": "histogram2dcontour"
           }
          ],
          "mesh3d": [
           {
            "colorbar": {
             "outlinewidth": 0,
             "ticks": ""
            },
            "type": "mesh3d"
           }
          ],
          "parcoords": [
           {
            "line": {
             "colorbar": {
              "outlinewidth": 0,
              "ticks": ""
             }
            },
            "type": "parcoords"
           }
          ],
          "pie": [
           {
            "automargin": true,
            "type": "pie"
           }
          ],
          "scatter": [
           {
            "marker": {
             "line": {
              "color": "#283442"
             }
            },
            "type": "scatter"
           }
          ],
          "scatter3d": [
           {
            "line": {
             "colorbar": {
              "outlinewidth": 0,
              "ticks": ""
             }
            },
            "marker": {
             "colorbar": {
              "outlinewidth": 0,
              "ticks": ""
             }
            },
            "type": "scatter3d"
           }
          ],
          "scattercarpet": [
           {
            "marker": {
             "colorbar": {
              "outlinewidth": 0,
              "ticks": ""
             }
            },
            "type": "scattercarpet"
           }
          ],
          "scattergeo": [
           {
            "marker": {
             "colorbar": {
              "outlinewidth": 0,
              "ticks": ""
             }
            },
            "type": "scattergeo"
           }
          ],
          "scattergl": [
           {
            "marker": {
             "line": {
              "color": "#283442"
             }
            },
            "type": "scattergl"
           }
          ],
          "scattermap": [
           {
            "marker": {
             "colorbar": {
              "outlinewidth": 0,
              "ticks": ""
             }
            },
            "type": "scattermap"
           }
          ],
          "scattermapbox": [
           {
            "marker": {
             "colorbar": {
              "outlinewidth": 0,
              "ticks": ""
             }
            },
            "type": "scattermapbox"
           }
          ],
          "scatterpolar": [
           {
            "marker": {
             "colorbar": {
              "outlinewidth": 0,
              "ticks": ""
             }
            },
            "type": "scatterpolar"
           }
          ],
          "scatterpolargl": [
           {
            "marker": {
             "colorbar": {
              "outlinewidth": 0,
              "ticks": ""
             }
            },
            "type": "scatterpolargl"
           }
          ],
          "scatterternary": [
           {
            "marker": {
             "colorbar": {
              "outlinewidth": 0,
              "ticks": ""
             }
            },
            "type": "scatterternary"
           }
          ],
          "surface": [
           {
            "colorbar": {
             "outlinewidth": 0,
             "ticks": ""
            },
            "colorscale": [
             [
              0,
              "#0d0887"
             ],
             [
              0.1111111111111111,
              "#46039f"
             ],
             [
              0.2222222222222222,
              "#7201a8"
             ],
             [
              0.3333333333333333,
              "#9c179e"
             ],
             [
              0.4444444444444444,
              "#bd3786"
             ],
             [
              0.5555555555555556,
              "#d8576b"
             ],
             [
              0.6666666666666666,
              "#ed7953"
             ],
             [
              0.7777777777777778,
              "#fb9f3a"
             ],
             [
              0.8888888888888888,
              "#fdca26"
             ],
             [
              1,
              "#f0f921"
             ]
            ],
            "type": "surface"
           }
          ],
          "table": [
           {
            "cells": {
             "fill": {
              "color": "#506784"
             },
             "line": {
              "color": "rgb(17,17,17)"
             }
            },
            "header": {
             "fill": {
              "color": "#2a3f5f"
             },
             "line": {
              "color": "rgb(17,17,17)"
             }
            },
            "type": "table"
           }
          ]
         },
         "layout": {
          "annotationdefaults": {
           "arrowcolor": "#f2f5fa",
           "arrowhead": 0,
           "arrowwidth": 1
          },
          "autotypenumbers": "strict",
          "coloraxis": {
           "colorbar": {
            "outlinewidth": 0,
            "ticks": ""
           }
          },
          "colorscale": {
           "diverging": [
            [
             0,
             "#8e0152"
            ],
            [
             0.1,
             "#c51b7d"
            ],
            [
             0.2,
             "#de77ae"
            ],
            [
             0.3,
             "#f1b6da"
            ],
            [
             0.4,
             "#fde0ef"
            ],
            [
             0.5,
             "#f7f7f7"
            ],
            [
             0.6,
             "#e6f5d0"
            ],
            [
             0.7,
             "#b8e186"
            ],
            [
             0.8,
             "#7fbc41"
            ],
            [
             0.9,
             "#4d9221"
            ],
            [
             1,
             "#276419"
            ]
           ],
           "sequential": [
            [
             0,
             "#0d0887"
            ],
            [
             0.1111111111111111,
             "#46039f"
            ],
            [
             0.2222222222222222,
             "#7201a8"
            ],
            [
             0.3333333333333333,
             "#9c179e"
            ],
            [
             0.4444444444444444,
             "#bd3786"
            ],
            [
             0.5555555555555556,
             "#d8576b"
            ],
            [
             0.6666666666666666,
             "#ed7953"
            ],
            [
             0.7777777777777778,
             "#fb9f3a"
            ],
            [
             0.8888888888888888,
             "#fdca26"
            ],
            [
             1,
             "#f0f921"
            ]
           ],
           "sequentialminus": [
            [
             0,
             "#0d0887"
            ],
            [
             0.1111111111111111,
             "#46039f"
            ],
            [
             0.2222222222222222,
             "#7201a8"
            ],
            [
             0.3333333333333333,
             "#9c179e"
            ],
            [
             0.4444444444444444,
             "#bd3786"
            ],
            [
             0.5555555555555556,
             "#d8576b"
            ],
            [
             0.6666666666666666,
             "#ed7953"
            ],
            [
             0.7777777777777778,
             "#fb9f3a"
            ],
            [
             0.8888888888888888,
             "#fdca26"
            ],
            [
             1,
             "#f0f921"
            ]
           ]
          },
          "colorway": [
           "#636efa",
           "#EF553B",
           "#00cc96",
           "#ab63fa",
           "#FFA15A",
           "#19d3f3",
           "#FF6692",
           "#B6E880",
           "#FF97FF",
           "#FECB52"
          ],
          "font": {
           "color": "#f2f5fa"
          },
          "geo": {
           "bgcolor": "rgb(17,17,17)",
           "lakecolor": "rgb(17,17,17)",
           "landcolor": "rgb(17,17,17)",
           "showlakes": true,
           "showland": true,
           "subunitcolor": "#506784"
          },
          "hoverlabel": {
           "align": "left"
          },
          "hovermode": "closest",
          "mapbox": {
           "style": "dark"
          },
          "paper_bgcolor": "rgb(17,17,17)",
          "plot_bgcolor": "rgb(17,17,17)",
          "polar": {
           "angularaxis": {
            "gridcolor": "#506784",
            "linecolor": "#506784",
            "ticks": ""
           },
           "bgcolor": "rgb(17,17,17)",
           "radialaxis": {
            "gridcolor": "#506784",
            "linecolor": "#506784",
            "ticks": ""
           }
          },
          "scene": {
           "xaxis": {
            "backgroundcolor": "rgb(17,17,17)",
            "gridcolor": "#506784",
            "gridwidth": 2,
            "linecolor": "#506784",
            "showbackground": true,
            "ticks": "",
            "zerolinecolor": "#C8D4E3"
           },
           "yaxis": {
            "backgroundcolor": "rgb(17,17,17)",
            "gridcolor": "#506784",
            "gridwidth": 2,
            "linecolor": "#506784",
            "showbackground": true,
            "ticks": "",
            "zerolinecolor": "#C8D4E3"
           },
           "zaxis": {
            "backgroundcolor": "rgb(17,17,17)",
            "gridcolor": "#506784",
            "gridwidth": 2,
            "linecolor": "#506784",
            "showbackground": true,
            "ticks": "",
            "zerolinecolor": "#C8D4E3"
           }
          },
          "shapedefaults": {
           "line": {
            "color": "#f2f5fa"
           }
          },
          "sliderdefaults": {
           "bgcolor": "#C8D4E3",
           "bordercolor": "rgb(17,17,17)",
           "borderwidth": 1,
           "tickwidth": 0
          },
          "ternary": {
           "aaxis": {
            "gridcolor": "#506784",
            "linecolor": "#506784",
            "ticks": ""
           },
           "baxis": {
            "gridcolor": "#506784",
            "linecolor": "#506784",
            "ticks": ""
           },
           "bgcolor": "rgb(17,17,17)",
           "caxis": {
            "gridcolor": "#506784",
            "linecolor": "#506784",
            "ticks": ""
           }
          },
          "title": {
           "x": 0.05
          },
          "updatemenudefaults": {
           "bgcolor": "#506784",
           "borderwidth": 0
          },
          "xaxis": {
           "automargin": true,
           "gridcolor": "#283442",
           "linecolor": "#506784",
           "ticks": "",
           "title": {
            "standoff": 15
           },
           "zerolinecolor": "#283442",
           "zerolinewidth": 2
          },
          "yaxis": {
           "automargin": true,
           "gridcolor": "#283442",
           "linecolor": "#506784",
           "ticks": "",
           "title": {
            "standoff": 15
           },
           "zerolinecolor": "#283442",
           "zerolinewidth": 2
          }
         }
        },
        "title": {
         "text": "CA from HIX — Daily Arrival On-Time Rate (Dec 2019)"
        },
        "xaxis": {
         "anchor": "y",
         "domain": [
          0,
          1
         ],
         "dtick": 1,
         "title": {
          "text": "Day of Month"
         }
        },
        "yaxis": {
         "anchor": "x",
         "domain": [
          0,
          1
         ],
         "range": [
          0,
          1
         ],
         "title": {
          "text": "On-Time Rate"
         }
        }
       }
      }
     },
     "metadata": {},
     "output_type": "display_data"
    }
   ],
   "source": [
    "if \"FlightDate\" in df_ca_hix.columns and df_ca_hix[\"FlightDate\"].notna().any():\n",
    "    daily_ontime = (1 - df_ca_hix.groupby(df_ca_hix[\"FlightDate\"].dt.day)[\"Is_Arrival_Delayed_15\"].mean())\\\n",
    "                    .reset_index().rename(columns={\"FlightDate\":\"day\",\"Is_Arrival_Delayed_15\":\"on_time_rate\"})\n",
    "    daily_ontime.columns = [\"day\", \"on_time_rate\"]\n",
    "\n",
    "    fig3 = px.line(\n",
    "        daily_ontime,\n",
    "        x=\"day\",\n",
    "        y=\"on_time_rate\",\n",
    "        markers=True,\n",
    "        template= \"plotly_dark\",\n",
    "        title=\"CA from HIX — Daily Arrival On-Time Rate (Dec 2019)\",\n",
    "    )\n",
    "    fig3.update_yaxes(range=[0,1], title=\"On-Time Rate\")\n",
    "    fig3.update_xaxes(title=\"Day of Month\", dtick=1)\n",
    "    fig3.update_layout(margin=dict(l=20,r=20,t=60,b=20))\n",
    "    fig3.show()\n",
    "\n"
   ]
  },
  {
   "cell_type": "code",
   "execution_count": 31,
   "id": "24b66392",
   "metadata": {},
   "outputs": [
    {
     "data": {
      "application/vnd.plotly.v1+json": {
       "config": {
        "plotlyServerURL": "https://plot.ly"
       },
       "data": [
        {
         "hovertemplate": "Total Taxi Time (min)=%{x}<br>Arrival Delay (min)=%{y}<extra></extra>",
         "legendgroup": "",
         "marker": {
          "color": "#636efa",
          "opacity": 0.5,
          "symbol": "circle"
         },
         "mode": "markers",
         "name": "",
         "showlegend": false,
         "type": "scattergl",
         "x": {
          "bdata": "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",
          "dtype": "f8"
         },
         "xaxis": "x",
         "y": {
          "bdata": "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",
          "dtype": "f8"
         },
         "yaxis": "y"
        }
       ],
       "layout": {
        "legend": {
         "tracegroupgap": 0
        },
        "margin": {
         "b": 20,
         "l": 20,
         "r": 20,
         "t": 60
        },
        "template": {
         "data": {
          "bar": [
           {
            "error_x": {
             "color": "#f2f5fa"
            },
            "error_y": {
             "color": "#f2f5fa"
            },
            "marker": {
             "line": {
              "color": "rgb(17,17,17)",
              "width": 0.5
             },
             "pattern": {
              "fillmode": "overlay",
              "size": 10,
              "solidity": 0.2
             }
            },
            "type": "bar"
           }
          ],
          "barpolar": [
           {
            "marker": {
             "line": {
              "color": "rgb(17,17,17)",
              "width": 0.5
             },
             "pattern": {
              "fillmode": "overlay",
              "size": 10,
              "solidity": 0.2
             }
            },
            "type": "barpolar"
           }
          ],
          "carpet": [
           {
            "aaxis": {
             "endlinecolor": "#A2B1C6",
             "gridcolor": "#506784",
             "linecolor": "#506784",
             "minorgridcolor": "#506784",
             "startlinecolor": "#A2B1C6"
            },
            "baxis": {
             "endlinecolor": "#A2B1C6",
             "gridcolor": "#506784",
             "linecolor": "#506784",
             "minorgridcolor": "#506784",
             "startlinecolor": "#A2B1C6"
            },
            "type": "carpet"
           }
          ],
          "choropleth": [
           {
            "colorbar": {
             "outlinewidth": 0,
             "ticks": ""
            },
            "type": "choropleth"
           }
          ],
          "contour": [
           {
            "colorbar": {
             "outlinewidth": 0,
             "ticks": ""
            },
            "colorscale": [
             [
              0,
              "#0d0887"
             ],
             [
              0.1111111111111111,
              "#46039f"
             ],
             [
              0.2222222222222222,
              "#7201a8"
             ],
             [
              0.3333333333333333,
              "#9c179e"
             ],
             [
              0.4444444444444444,
              "#bd3786"
             ],
             [
              0.5555555555555556,
              "#d8576b"
             ],
             [
              0.6666666666666666,
              "#ed7953"
             ],
             [
              0.7777777777777778,
              "#fb9f3a"
             ],
             [
              0.8888888888888888,
              "#fdca26"
             ],
             [
              1,
              "#f0f921"
             ]
            ],
            "type": "contour"
           }
          ],
          "contourcarpet": [
           {
            "colorbar": {
             "outlinewidth": 0,
             "ticks": ""
            },
            "type": "contourcarpet"
           }
          ],
          "heatmap": [
           {
            "colorbar": {
             "outlinewidth": 0,
             "ticks": ""
            },
            "colorscale": [
             [
              0,
              "#0d0887"
             ],
             [
              0.1111111111111111,
              "#46039f"
             ],
             [
              0.2222222222222222,
              "#7201a8"
             ],
             [
              0.3333333333333333,
              "#9c179e"
             ],
             [
              0.4444444444444444,
              "#bd3786"
             ],
             [
              0.5555555555555556,
              "#d8576b"
             ],
             [
              0.6666666666666666,
              "#ed7953"
             ],
             [
              0.7777777777777778,
              "#fb9f3a"
             ],
             [
              0.8888888888888888,
              "#fdca26"
             ],
             [
              1,
              "#f0f921"
             ]
            ],
            "type": "heatmap"
           }
          ],
          "histogram": [
           {
            "marker": {
             "pattern": {
              "fillmode": "overlay",
              "size": 10,
              "solidity": 0.2
             }
            },
            "type": "histogram"
           }
          ],
          "histogram2d": [
           {
            "colorbar": {
             "outlinewidth": 0,
             "ticks": ""
            },
            "colorscale": [
             [
              0,
              "#0d0887"
             ],
             [
              0.1111111111111111,
              "#46039f"
             ],
             [
              0.2222222222222222,
              "#7201a8"
             ],
             [
              0.3333333333333333,
              "#9c179e"
             ],
             [
              0.4444444444444444,
              "#bd3786"
             ],
             [
              0.5555555555555556,
              "#d8576b"
             ],
             [
              0.6666666666666666,
              "#ed7953"
             ],
             [
              0.7777777777777778,
              "#fb9f3a"
             ],
             [
              0.8888888888888888,
              "#fdca26"
             ],
             [
              1,
              "#f0f921"
             ]
            ],
            "type": "histogram2d"
           }
          ],
          "histogram2dcontour": [
           {
            "colorbar": {
             "outlinewidth": 0,
             "ticks": ""
            },
            "colorscale": [
             [
              0,
              "#0d0887"
             ],
             [
              0.1111111111111111,
              "#46039f"
             ],
             [
              0.2222222222222222,
              "#7201a8"
             ],
             [
              0.3333333333333333,
              "#9c179e"
             ],
             [
              0.4444444444444444,
              "#bd3786"
             ],
             [
              0.5555555555555556,
              "#d8576b"
             ],
             [
              0.6666666666666666,
              "#ed7953"
             ],
             [
              0.7777777777777778,
              "#fb9f3a"
             ],
             [
              0.8888888888888888,
              "#fdca26"
             ],
             [
              1,
              "#f0f921"
             ]
            ],
            "type": "histogram2dcontour"
           }
          ],
          "mesh3d": [
           {
            "colorbar": {
             "outlinewidth": 0,
             "ticks": ""
            },
            "type": "mesh3d"
           }
          ],
          "parcoords": [
           {
            "line": {
             "colorbar": {
              "outlinewidth": 0,
              "ticks": ""
             }
            },
            "type": "parcoords"
           }
          ],
          "pie": [
           {
            "automargin": true,
            "type": "pie"
           }
          ],
          "scatter": [
           {
            "marker": {
             "line": {
              "color": "#283442"
             }
            },
            "type": "scatter"
           }
          ],
          "scatter3d": [
           {
            "line": {
             "colorbar": {
              "outlinewidth": 0,
              "ticks": ""
             }
            },
            "marker": {
             "colorbar": {
              "outlinewidth": 0,
              "ticks": ""
             }
            },
            "type": "scatter3d"
           }
          ],
          "scattercarpet": [
           {
            "marker": {
             "colorbar": {
              "outlinewidth": 0,
              "ticks": ""
             }
            },
            "type": "scattercarpet"
           }
          ],
          "scattergeo": [
           {
            "marker": {
             "colorbar": {
              "outlinewidth": 0,
              "ticks": ""
             }
            },
            "type": "scattergeo"
           }
          ],
          "scattergl": [
           {
            "marker": {
             "line": {
              "color": "#283442"
             }
            },
            "type": "scattergl"
           }
          ],
          "scattermap": [
           {
            "marker": {
             "colorbar": {
              "outlinewidth": 0,
              "ticks": ""
             }
            },
            "type": "scattermap"
           }
          ],
          "scattermapbox": [
           {
            "marker": {
             "colorbar": {
              "outlinewidth": 0,
              "ticks": ""
             }
            },
            "type": "scattermapbox"
           }
          ],
          "scatterpolar": [
           {
            "marker": {
             "colorbar": {
              "outlinewidth": 0,
              "ticks": ""
             }
            },
            "type": "scatterpolar"
           }
          ],
          "scatterpolargl": [
           {
            "marker": {
             "colorbar": {
              "outlinewidth": 0,
              "ticks": ""
             }
            },
            "type": "scatterpolargl"
           }
          ],
          "scatterternary": [
           {
            "marker": {
             "colorbar": {
              "outlinewidth": 0,
              "ticks": ""
             }
            },
            "type": "scatterternary"
           }
          ],
          "surface": [
           {
            "colorbar": {
             "outlinewidth": 0,
             "ticks": ""
            },
            "colorscale": [
             [
              0,
              "#0d0887"
             ],
             [
              0.1111111111111111,
              "#46039f"
             ],
             [
              0.2222222222222222,
              "#7201a8"
             ],
             [
              0.3333333333333333,
              "#9c179e"
             ],
             [
              0.4444444444444444,
              "#bd3786"
             ],
             [
              0.5555555555555556,
              "#d8576b"
             ],
             [
              0.6666666666666666,
              "#ed7953"
             ],
             [
              0.7777777777777778,
              "#fb9f3a"
             ],
             [
              0.8888888888888888,
              "#fdca26"
             ],
             [
              1,
              "#f0f921"
             ]
            ],
            "type": "surface"
           }
          ],
          "table": [
           {
            "cells": {
             "fill": {
              "color": "#506784"
             },
             "line": {
              "color": "rgb(17,17,17)"
             }
            },
            "header": {
             "fill": {
              "color": "#2a3f5f"
             },
             "line": {
              "color": "rgb(17,17,17)"
             }
            },
            "type": "table"
           }
          ]
         },
         "layout": {
          "annotationdefaults": {
           "arrowcolor": "#f2f5fa",
           "arrowhead": 0,
           "arrowwidth": 1
          },
          "autotypenumbers": "strict",
          "coloraxis": {
           "colorbar": {
            "outlinewidth": 0,
            "ticks": ""
           }
          },
          "colorscale": {
           "diverging": [
            [
             0,
             "#8e0152"
            ],
            [
             0.1,
             "#c51b7d"
            ],
            [
             0.2,
             "#de77ae"
            ],
            [
             0.3,
             "#f1b6da"
            ],
            [
             0.4,
             "#fde0ef"
            ],
            [
             0.5,
             "#f7f7f7"
            ],
            [
             0.6,
             "#e6f5d0"
            ],
            [
             0.7,
             "#b8e186"
            ],
            [
             0.8,
             "#7fbc41"
            ],
            [
             0.9,
             "#4d9221"
            ],
            [
             1,
             "#276419"
            ]
           ],
           "sequential": [
            [
             0,
             "#0d0887"
            ],
            [
             0.1111111111111111,
             "#46039f"
            ],
            [
             0.2222222222222222,
             "#7201a8"
            ],
            [
             0.3333333333333333,
             "#9c179e"
            ],
            [
             0.4444444444444444,
             "#bd3786"
            ],
            [
             0.5555555555555556,
             "#d8576b"
            ],
            [
             0.6666666666666666,
             "#ed7953"
            ],
            [
             0.7777777777777778,
             "#fb9f3a"
            ],
            [
             0.8888888888888888,
             "#fdca26"
            ],
            [
             1,
             "#f0f921"
            ]
           ],
           "sequentialminus": [
            [
             0,
             "#0d0887"
            ],
            [
             0.1111111111111111,
             "#46039f"
            ],
            [
             0.2222222222222222,
             "#7201a8"
            ],
            [
             0.3333333333333333,
             "#9c179e"
            ],
            [
             0.4444444444444444,
             "#bd3786"
            ],
            [
             0.5555555555555556,
             "#d8576b"
            ],
            [
             0.6666666666666666,
             "#ed7953"
            ],
            [
             0.7777777777777778,
             "#fb9f3a"
            ],
            [
             0.8888888888888888,
             "#fdca26"
            ],
            [
             1,
             "#f0f921"
            ]
           ]
          },
          "colorway": [
           "#636efa",
           "#EF553B",
           "#00cc96",
           "#ab63fa",
           "#FFA15A",
           "#19d3f3",
           "#FF6692",
           "#B6E880",
           "#FF97FF",
           "#FECB52"
          ],
          "font": {
           "color": "#f2f5fa"
          },
          "geo": {
           "bgcolor": "rgb(17,17,17)",
           "lakecolor": "rgb(17,17,17)",
           "landcolor": "rgb(17,17,17)",
           "showlakes": true,
           "showland": true,
           "subunitcolor": "#506784"
          },
          "hoverlabel": {
           "align": "left"
          },
          "hovermode": "closest",
          "mapbox": {
           "style": "dark"
          },
          "paper_bgcolor": "rgb(17,17,17)",
          "plot_bgcolor": "rgb(17,17,17)",
          "polar": {
           "angularaxis": {
            "gridcolor": "#506784",
            "linecolor": "#506784",
            "ticks": ""
           },
           "bgcolor": "rgb(17,17,17)",
           "radialaxis": {
            "gridcolor": "#506784",
            "linecolor": "#506784",
            "ticks": ""
           }
          },
          "scene": {
           "xaxis": {
            "backgroundcolor": "rgb(17,17,17)",
            "gridcolor": "#506784",
            "gridwidth": 2,
            "linecolor": "#506784",
            "showbackground": true,
            "ticks": "",
            "zerolinecolor": "#C8D4E3"
           },
           "yaxis": {
            "backgroundcolor": "rgb(17,17,17)",
            "gridcolor": "#506784",
            "gridwidth": 2,
            "linecolor": "#506784",
            "showbackground": true,
            "ticks": "",
            "zerolinecolor": "#C8D4E3"
           },
           "zaxis": {
            "backgroundcolor": "rgb(17,17,17)",
            "gridcolor": "#506784",
            "gridwidth": 2,
            "linecolor": "#506784",
            "showbackground": true,
            "ticks": "",
            "zerolinecolor": "#C8D4E3"
           }
          },
          "shapedefaults": {
           "line": {
            "color": "#f2f5fa"
           }
          },
          "sliderdefaults": {
           "bgcolor": "#C8D4E3",
           "bordercolor": "rgb(17,17,17)",
           "borderwidth": 1,
           "tickwidth": 0
          },
          "ternary": {
           "aaxis": {
            "gridcolor": "#506784",
            "linecolor": "#506784",
            "ticks": ""
           },
           "baxis": {
            "gridcolor": "#506784",
            "linecolor": "#506784",
            "ticks": ""
           },
           "bgcolor": "rgb(17,17,17)",
           "caxis": {
            "gridcolor": "#506784",
            "linecolor": "#506784",
            "ticks": ""
           }
          },
          "title": {
           "x": 0.05
          },
          "updatemenudefaults": {
           "bgcolor": "#506784",
           "borderwidth": 0
          },
          "xaxis": {
           "automargin": true,
           "gridcolor": "#283442",
           "linecolor": "#506784",
           "ticks": "",
           "title": {
            "standoff": 15
           },
           "zerolinecolor": "#283442",
           "zerolinewidth": 2
          },
          "yaxis": {
           "automargin": true,
           "gridcolor": "#283442",
           "linecolor": "#506784",
           "ticks": "",
           "title": {
            "standoff": 15
           },
           "zerolinecolor": "#283442",
           "zerolinewidth": 2
          }
         }
        },
        "title": {
         "text": "CA from HIX — Total Taxi Time vs Arrival Delay"
        },
        "xaxis": {
         "anchor": "y",
         "domain": [
          0,
          1
         ],
         "title": {
          "text": "Total Taxi Time (min)"
         }
        },
        "yaxis": {
         "anchor": "x",
         "domain": [
          0,
          1
         ],
         "title": {
          "text": "Arrival Delay (min)"
         }
        }
       }
      }
     },
     "metadata": {},
     "output_type": "display_data"
    }
   ],
   "source": [
    "fig4 = px.scatter(\n",
    "    df_ca_hix,\n",
    "    x=\"Total_Taxi_Time_Min\",\n",
    "    y=\"Arrival_Delay_Recomputed\",\n",
    "    opacity=0.5,\n",
    "    trendline=None,\n",
    "    title=\"CA from HIX — Total Taxi Time vs Arrival Delay\",\n",
    "    template= \"plotly_dark\",\n",
    "    labels={\"Total_Taxi_Time_Min\":\"Total Taxi Time (min)\", \"Arrival_Delay_Recomputed\":\"Arrival Delay (min)\"}\n",
    ")\n",
    "fig4.update_layout(margin=dict(l=20,r=20,t=60,b=20))\n",
    "fig4.show()\n"
   ]
  },
  {
   "cell_type": "code",
   "execution_count": null,
   "id": "9c6620b2",
   "metadata": {},
   "outputs": [],
   "source": []
  }
 ],
 "metadata": {
  "kernelspec": {
   "display_name": ".venv",
   "language": "python",
   "name": "python3"
  },
  "language_info": {
   "codemirror_mode": {
    "name": "ipython",
    "version": 3
   },
   "file_extension": ".py",
   "mimetype": "text/x-python",
   "name": "python",
   "nbconvert_exporter": "python",
   "pygments_lexer": "ipython3",
   "version": "3.11.12"
  }
 },
 "nbformat": 4,
 "nbformat_minor": 5
}
