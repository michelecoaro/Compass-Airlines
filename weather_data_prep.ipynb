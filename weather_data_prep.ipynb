{
 "cells": [
  {
   "cell_type": "markdown",
   "id": "b4c96cfa",
   "metadata": {},
   "source": [
    "# Import and Libraries"
   ]
  },
  {
   "cell_type": "code",
   "execution_count": 1,
   "id": "010d0706",
   "metadata": {},
   "outputs": [],
   "source": [
    "#uncomment the following to install required packages\n",
    "#!pip install pandas numpy matplotlib plotly nbformat\n"
   ]
  },
  {
   "cell_type": "code",
   "execution_count": 2,
   "id": "81bedde0",
   "metadata": {},
   "outputs": [],
   "source": [
    "import pandas as pd\n",
    "import numpy as np\n",
    "import matplotlib.pyplot as plt\n",
    "\n",
    "from pathlib import Path\n",
    "\n",
    "RAW_PATH = Path(\"./Data/weather.csv\")                 # adjust if needed\n",
    "CLEAN_PATH = Path(\"./Data/weather_cleaned.csv\")       # output\n",
    "pd.set_option(\"display.max_columns\", 50)\n"
   ]
  },
  {
   "cell_type": "code",
   "execution_count": 3,
   "id": "6e65492e",
   "metadata": {},
   "outputs": [
    {
     "name": "stdout",
     "output_type": "stream",
     "text": [
      "Loaded shape: (1536, 21)\n"
     ]
    },
    {
     "data": {
      "text/html": [
       "<div>\n",
       "<style scoped>\n",
       "    .dataframe tbody tr th:only-of-type {\n",
       "        vertical-align: middle;\n",
       "    }\n",
       "\n",
       "    .dataframe tbody tr th {\n",
       "        vertical-align: top;\n",
       "    }\n",
       "\n",
       "    .dataframe thead th {\n",
       "        text-align: right;\n",
       "    }\n",
       "</style>\n",
       "<table border=\"1\" class=\"dataframe\">\n",
       "  <thead>\n",
       "    <tr style=\"text-align: right;\">\n",
       "      <th></th>\n",
       "      <th>Unnamed: 0</th>\n",
       "      <th>airport</th>\n",
       "      <th>time</th>\n",
       "      <th>summary</th>\n",
       "      <th>precipIntensity</th>\n",
       "      <th>precipProbability</th>\n",
       "      <th>temperature</th>\n",
       "      <th>apparentTemperature</th>\n",
       "      <th>dewPoint</th>\n",
       "      <th>humidity</th>\n",
       "      <th>pressure</th>\n",
       "      <th>windSpeed</th>\n",
       "      <th>windGust</th>\n",
       "      <th>windBearing</th>\n",
       "      <th>cloudCover</th>\n",
       "      <th>uvIndex</th>\n",
       "      <th>visibility</th>\n",
       "      <th>ozone</th>\n",
       "      <th>precipType</th>\n",
       "      <th>precipAccumulation</th>\n",
       "      <th>time2</th>\n",
       "    </tr>\n",
       "  </thead>\n",
       "  <tbody>\n",
       "    <tr>\n",
       "      <th>0</th>\n",
       "      <td>1</td>\n",
       "      <td>Highland</td>\n",
       "      <td>2019-11-30 00:00:00</td>\n",
       "      <td>Overcast</td>\n",
       "      <td>0.0000</td>\n",
       "      <td>0.00</td>\n",
       "      <td>37.30</td>\n",
       "      <td>32.11</td>\n",
       "      <td>32.47</td>\n",
       "      <td>0.82</td>\n",
       "      <td>1019.58</td>\n",
       "      <td>6.70</td>\n",
       "      <td>8.06</td>\n",
       "      <td>141.090120</td>\n",
       "      <td>1.00</td>\n",
       "      <td>0</td>\n",
       "      <td>10.0</td>\n",
       "      <td>309.69</td>\n",
       "      <td>NaN</td>\n",
       "      <td>NaN</td>\n",
       "      <td>2019-11-30 00:00:00</td>\n",
       "    </tr>\n",
       "    <tr>\n",
       "      <th>1</th>\n",
       "      <td>2</td>\n",
       "      <td>Highland</td>\n",
       "      <td>2019-11-30 01:00:00</td>\n",
       "      <td>Possible Drizzle</td>\n",
       "      <td>0.0018</td>\n",
       "      <td>0.35</td>\n",
       "      <td>37.74</td>\n",
       "      <td>33.16</td>\n",
       "      <td>32.10</td>\n",
       "      <td>0.80</td>\n",
       "      <td>1018.31</td>\n",
       "      <td>5.77</td>\n",
       "      <td>7.58</td>\n",
       "      <td>110.003815</td>\n",
       "      <td>0.95</td>\n",
       "      <td>0</td>\n",
       "      <td>10.0</td>\n",
       "      <td>309.09</td>\n",
       "      <td>rain</td>\n",
       "      <td>NaN</td>\n",
       "      <td>2019-11-30 01:00:00</td>\n",
       "    </tr>\n",
       "    <tr>\n",
       "      <th>2</th>\n",
       "      <td>3</td>\n",
       "      <td>Highland</td>\n",
       "      <td>2019-11-30 02:00:00</td>\n",
       "      <td>Possible Drizzle</td>\n",
       "      <td>0.0062</td>\n",
       "      <td>0.54</td>\n",
       "      <td>37.60</td>\n",
       "      <td>31.13</td>\n",
       "      <td>32.41</td>\n",
       "      <td>0.83</td>\n",
       "      <td>1017.91</td>\n",
       "      <td>8.04</td>\n",
       "      <td>8.57</td>\n",
       "      <td>112.053620</td>\n",
       "      <td>1.00</td>\n",
       "      <td>0</td>\n",
       "      <td>10.0</td>\n",
       "      <td>308.70</td>\n",
       "      <td>rain</td>\n",
       "      <td>NaN</td>\n",
       "      <td>2019-11-30 02:00:00</td>\n",
       "    </tr>\n",
       "    <tr>\n",
       "      <th>3</th>\n",
       "      <td>4</td>\n",
       "      <td>Highland</td>\n",
       "      <td>2019-11-30 03:00:00</td>\n",
       "      <td>Light Rain</td>\n",
       "      <td>0.0135</td>\n",
       "      <td>0.71</td>\n",
       "      <td>36.60</td>\n",
       "      <td>29.78</td>\n",
       "      <td>31.76</td>\n",
       "      <td>0.83</td>\n",
       "      <td>1016.64</td>\n",
       "      <td>8.90</td>\n",
       "      <td>9.84</td>\n",
       "      <td>103.033220</td>\n",
       "      <td>1.00</td>\n",
       "      <td>0</td>\n",
       "      <td>10.0</td>\n",
       "      <td>309.40</td>\n",
       "      <td>rain</td>\n",
       "      <td>NaN</td>\n",
       "      <td>2019-11-30 03:00:00</td>\n",
       "    </tr>\n",
       "    <tr>\n",
       "      <th>4</th>\n",
       "      <td>5</td>\n",
       "      <td>Highland</td>\n",
       "      <td>2019-11-30 04:00:00</td>\n",
       "      <td>Overcast</td>\n",
       "      <td>0.0007</td>\n",
       "      <td>0.06</td>\n",
       "      <td>36.65</td>\n",
       "      <td>31.12</td>\n",
       "      <td>32.41</td>\n",
       "      <td>0.85</td>\n",
       "      <td>1017.49</td>\n",
       "      <td>6.95</td>\n",
       "      <td>8.95</td>\n",
       "      <td>104.085209</td>\n",
       "      <td>1.00</td>\n",
       "      <td>0</td>\n",
       "      <td>10.0</td>\n",
       "      <td>311.82</td>\n",
       "      <td>rain</td>\n",
       "      <td>NaN</td>\n",
       "      <td>2019-11-30 04:00:00</td>\n",
       "    </tr>\n",
       "  </tbody>\n",
       "</table>\n",
       "</div>"
      ],
      "text/plain": [
       "   Unnamed: 0   airport                 time           summary  \\\n",
       "0           1  Highland  2019-11-30 00:00:00          Overcast   \n",
       "1           2  Highland  2019-11-30 01:00:00  Possible Drizzle   \n",
       "2           3  Highland  2019-11-30 02:00:00  Possible Drizzle   \n",
       "3           4  Highland  2019-11-30 03:00:00        Light Rain   \n",
       "4           5  Highland  2019-11-30 04:00:00          Overcast   \n",
       "\n",
       "   precipIntensity  precipProbability  temperature  apparentTemperature  \\\n",
       "0           0.0000               0.00        37.30                32.11   \n",
       "1           0.0018               0.35        37.74                33.16   \n",
       "2           0.0062               0.54        37.60                31.13   \n",
       "3           0.0135               0.71        36.60                29.78   \n",
       "4           0.0007               0.06        36.65                31.12   \n",
       "\n",
       "   dewPoint  humidity  pressure  windSpeed  windGust  windBearing  cloudCover  \\\n",
       "0     32.47      0.82   1019.58       6.70      8.06   141.090120        1.00   \n",
       "1     32.10      0.80   1018.31       5.77      7.58   110.003815        0.95   \n",
       "2     32.41      0.83   1017.91       8.04      8.57   112.053620        1.00   \n",
       "3     31.76      0.83   1016.64       8.90      9.84   103.033220        1.00   \n",
       "4     32.41      0.85   1017.49       6.95      8.95   104.085209        1.00   \n",
       "\n",
       "   uvIndex  visibility   ozone precipType  precipAccumulation  \\\n",
       "0        0        10.0  309.69        NaN                 NaN   \n",
       "1        0        10.0  309.09       rain                 NaN   \n",
       "2        0        10.0  308.70       rain                 NaN   \n",
       "3        0        10.0  309.40       rain                 NaN   \n",
       "4        0        10.0  311.82       rain                 NaN   \n",
       "\n",
       "                 time2  \n",
       "0  2019-11-30 00:00:00  \n",
       "1  2019-11-30 01:00:00  \n",
       "2  2019-11-30 02:00:00  \n",
       "3  2019-11-30 03:00:00  \n",
       "4  2019-11-30 04:00:00  "
      ]
     },
     "execution_count": 3,
     "metadata": {},
     "output_type": "execute_result"
    }
   ],
   "source": [
    "df_weather = pd.read_csv(RAW_PATH)\n",
    "print(\"Loaded shape:\", df_weather.shape)\n",
    "df_weather.head(5)\n"
   ]
  },
  {
   "cell_type": "code",
   "execution_count": 4,
   "id": "540b173c",
   "metadata": {},
   "outputs": [
    {
     "name": "stdout",
     "output_type": "stream",
     "text": [
      "['Unnamed: 0', 'airport', 'time', 'summary', 'precipIntensity', 'precipProbability', 'temperature', 'apparentTemperature', 'dewPoint', 'humidity', 'pressure', 'windSpeed', 'windGust', 'windBearing', 'cloudCover', 'uvIndex', 'visibility', 'ozone', 'precipType', 'precipAccumulation', 'time2']\n",
      "<class 'pandas.core.frame.DataFrame'>\n",
      "RangeIndex: 1536 entries, 0 to 1535\n",
      "Data columns (total 21 columns):\n",
      " #   Column               Non-Null Count  Dtype  \n",
      "---  ------               --------------  -----  \n",
      " 0   Unnamed: 0           1536 non-null   int64  \n",
      " 1   airport              1536 non-null   object \n",
      " 2   time                 1536 non-null   object \n",
      " 3   summary              1536 non-null   object \n",
      " 4   precipIntensity      1536 non-null   float64\n",
      " 5   precipProbability    1536 non-null   float64\n",
      " 6   temperature          1536 non-null   float64\n",
      " 7   apparentTemperature  1536 non-null   float64\n",
      " 8   dewPoint             1536 non-null   float64\n",
      " 9   humidity             1536 non-null   float64\n",
      " 10  pressure             1536 non-null   float64\n",
      " 11  windSpeed            1536 non-null   float64\n",
      " 12  windGust             1536 non-null   float64\n",
      " 13  windBearing          1536 non-null   float64\n",
      " 14  cloudCover           1536 non-null   float64\n",
      " 15  uvIndex              1536 non-null   int64  \n",
      " 16  visibility           1536 non-null   float64\n",
      " 17  ozone                1536 non-null   float64\n",
      " 18  precipType           316 non-null    object \n",
      " 19  precipAccumulation   81 non-null     float64\n",
      " 20  time2                1536 non-null   object \n",
      "dtypes: float64(14), int64(2), object(5)\n",
      "memory usage: 252.1+ KB\n"
     ]
    }
   ],
   "source": [
    "print(df_weather.columns.tolist())\n",
    "df_weather.info()\n"
   ]
  },
  {
   "cell_type": "markdown",
   "id": "73cc4a3d",
   "metadata": {},
   "source": [
    "# Data Cleaning"
   ]
  },
  {
   "cell_type": "markdown",
   "id": "857427d9",
   "metadata": {},
   "source": [
    "Parsing column 'time' and developing a fallback using 'time2' in case 'time' is heavily NaN-filled. Here the checks carried out are possibly overly specific (for example looking at a ms level), but the idea is to build something that has some sort of elasticity in case the data source/structure changes"
   ]
  },
  {
   "cell_type": "code",
   "execution_count": 5,
   "id": "ef2a753d",
   "metadata": {},
   "outputs": [
    {
     "name": "stdout",
     "output_type": "stream",
     "text": [
      "Missing datetime after parsing: 0\n"
     ]
    },
    {
     "data": {
      "text/html": [
       "<div>\n",
       "<style scoped>\n",
       "    .dataframe tbody tr th:only-of-type {\n",
       "        vertical-align: middle;\n",
       "    }\n",
       "\n",
       "    .dataframe tbody tr th {\n",
       "        vertical-align: top;\n",
       "    }\n",
       "\n",
       "    .dataframe thead th {\n",
       "        text-align: right;\n",
       "    }\n",
       "</style>\n",
       "<table border=\"1\" class=\"dataframe\">\n",
       "  <thead>\n",
       "    <tr style=\"text-align: right;\">\n",
       "      <th></th>\n",
       "      <th>airport</th>\n",
       "      <th>datetime</th>\n",
       "    </tr>\n",
       "  </thead>\n",
       "  <tbody>\n",
       "    <tr>\n",
       "      <th>0</th>\n",
       "      <td>Eureka</td>\n",
       "      <td>2019-11-29 23:00:00</td>\n",
       "    </tr>\n",
       "    <tr>\n",
       "      <th>1</th>\n",
       "      <td>Highland</td>\n",
       "      <td>2019-11-30 00:00:00</td>\n",
       "    </tr>\n",
       "    <tr>\n",
       "      <th>2</th>\n",
       "      <td>Eureka</td>\n",
       "      <td>2019-11-30 00:00:00</td>\n",
       "    </tr>\n",
       "    <tr>\n",
       "      <th>3</th>\n",
       "      <td>Eureka</td>\n",
       "      <td>2019-11-30 01:00:00</td>\n",
       "    </tr>\n",
       "    <tr>\n",
       "      <th>4</th>\n",
       "      <td>Highland</td>\n",
       "      <td>2019-11-30 01:00:00</td>\n",
       "    </tr>\n",
       "  </tbody>\n",
       "</table>\n",
       "</div>"
      ],
      "text/plain": [
       "    airport            datetime\n",
       "0    Eureka 2019-11-29 23:00:00\n",
       "1  Highland 2019-11-30 00:00:00\n",
       "2    Eureka 2019-11-30 00:00:00\n",
       "3    Eureka 2019-11-30 01:00:00\n",
       "4  Highland 2019-11-30 01:00:00"
      ]
     },
     "execution_count": 5,
     "metadata": {},
     "output_type": "execute_result"
    }
   ],
   "source": [
    "\n",
    "if \"Unnamed: 0\" in df_weather.columns:\n",
    "    df_weather = df_weather.drop(columns=[\"Unnamed: 0\"])\n",
    "\n",
    "dt = pd.to_datetime(df_weather[\"time\"], errors=\"coerce\", utc=False) if \"time\" in df_weather.columns else pd.Series(pd.NaT, index=df_weather.index)\n",
    "\n",
    "if (dt.isna().mean() > 0.5) and (\"time2\" in df_weather.columns):\n",
    "    dt2 = pd.to_datetime(df_weather[\"time2\"], errors=\"coerce\", utc=False)\n",
    "    if dt2.notna().sum() > dt.notna().sum():\n",
    "        dt = dt2\n",
    "\n",
    "if (dt.isna().mean() > 0.5) and (\"time\" in df_weather.columns):\n",
    "    try:\n",
    "        dt_try = pd.to_datetime(df_weather[\"time\"].astype(float), unit=\"s\", errors=\"coerce\")\n",
    "        if dt_try.notna().sum() > dt.notna().sum():\n",
    "            dt = dt_try\n",
    "        else:\n",
    "            dt_try_ms = pd.to_datetime(df_weather[\"time\"].astype(float), unit=\"ms\", errors=\"coerce\")\n",
    "            if dt_try_ms.notna().sum() > dt.notna().sum():\n",
    "                dt = dt_try_ms\n",
    "    except Exception:\n",
    "        pass\n",
    "\n",
    "df_weather[\"datetime\"] = dt\n",
    "print(\"Missing datetime after parsing:\", df_weather[\"datetime\"].isna().sum())\n",
    "\n",
    "# Drop rows with no usable timestamp and sort\n",
    "df_weather = df_weather.dropna(subset=[\"datetime\"]).sort_values(\"datetime\").reset_index(drop=True)\n",
    "df_weather[[\"airport\", \"datetime\"]].head(5)\n"
   ]
  },
  {
   "cell_type": "markdown",
   "id": "93c055b2",
   "metadata": {},
   "source": [
    "In the following step, relevant columns have been kept, and columns with numeric values have been ensured to be in the correct format"
   ]
  },
  {
   "cell_type": "code",
   "execution_count": 6,
   "id": "fdd5d9c5",
   "metadata": {},
   "outputs": [
    {
     "data": {
      "text/html": [
       "<div>\n",
       "<style scoped>\n",
       "    .dataframe tbody tr th:only-of-type {\n",
       "        vertical-align: middle;\n",
       "    }\n",
       "\n",
       "    .dataframe tbody tr th {\n",
       "        vertical-align: top;\n",
       "    }\n",
       "\n",
       "    .dataframe thead th {\n",
       "        text-align: right;\n",
       "    }\n",
       "</style>\n",
       "<table border=\"1\" class=\"dataframe\">\n",
       "  <thead>\n",
       "    <tr style=\"text-align: right;\">\n",
       "      <th></th>\n",
       "      <th>datetime</th>\n",
       "      <th>airport</th>\n",
       "      <th>summary</th>\n",
       "      <th>precipIntensity</th>\n",
       "      <th>precipProbability</th>\n",
       "      <th>precipType</th>\n",
       "      <th>precipAccumulation</th>\n",
       "      <th>temperature</th>\n",
       "      <th>apparentTemperature</th>\n",
       "      <th>dewPoint</th>\n",
       "      <th>humidity</th>\n",
       "      <th>pressure</th>\n",
       "      <th>windSpeed</th>\n",
       "      <th>windGust</th>\n",
       "      <th>windBearing</th>\n",
       "      <th>cloudCover</th>\n",
       "      <th>uvIndex</th>\n",
       "      <th>visibility</th>\n",
       "      <th>ozone</th>\n",
       "    </tr>\n",
       "  </thead>\n",
       "  <tbody>\n",
       "    <tr>\n",
       "      <th>0</th>\n",
       "      <td>2019-11-29 23:00:00</td>\n",
       "      <td>Eureka</td>\n",
       "      <td>Clear</td>\n",
       "      <td>0.0000</td>\n",
       "      <td>0.00</td>\n",
       "      <td>NaN</td>\n",
       "      <td>NaN</td>\n",
       "      <td>30.01</td>\n",
       "      <td>19.83</td>\n",
       "      <td>12.32</td>\n",
       "      <td>0.48</td>\n",
       "      <td>1015.48</td>\n",
       "      <td>12.88</td>\n",
       "      <td>12.85</td>\n",
       "      <td>320.017083</td>\n",
       "      <td>0.19</td>\n",
       "      <td>0</td>\n",
       "      <td>10.0</td>\n",
       "      <td>355.66</td>\n",
       "    </tr>\n",
       "    <tr>\n",
       "      <th>1</th>\n",
       "      <td>2019-11-30 00:00:00</td>\n",
       "      <td>Highland</td>\n",
       "      <td>Overcast</td>\n",
       "      <td>0.0000</td>\n",
       "      <td>0.00</td>\n",
       "      <td>NaN</td>\n",
       "      <td>NaN</td>\n",
       "      <td>37.30</td>\n",
       "      <td>32.11</td>\n",
       "      <td>32.47</td>\n",
       "      <td>0.82</td>\n",
       "      <td>1019.58</td>\n",
       "      <td>6.70</td>\n",
       "      <td>8.06</td>\n",
       "      <td>141.090120</td>\n",
       "      <td>1.00</td>\n",
       "      <td>0</td>\n",
       "      <td>10.0</td>\n",
       "      <td>309.69</td>\n",
       "    </tr>\n",
       "    <tr>\n",
       "      <th>2</th>\n",
       "      <td>2019-11-30 00:00:00</td>\n",
       "      <td>Eureka</td>\n",
       "      <td>Mostly Cloudy</td>\n",
       "      <td>0.0000</td>\n",
       "      <td>0.00</td>\n",
       "      <td>NaN</td>\n",
       "      <td>NaN</td>\n",
       "      <td>30.10</td>\n",
       "      <td>18.94</td>\n",
       "      <td>10.81</td>\n",
       "      <td>0.45</td>\n",
       "      <td>1015.12</td>\n",
       "      <td>15.71</td>\n",
       "      <td>15.74</td>\n",
       "      <td>321.076483</td>\n",
       "      <td>0.69</td>\n",
       "      <td>0</td>\n",
       "      <td>10.0</td>\n",
       "      <td>355.91</td>\n",
       "    </tr>\n",
       "    <tr>\n",
       "      <th>3</th>\n",
       "      <td>2019-11-30 01:00:00</td>\n",
       "      <td>Eureka</td>\n",
       "      <td>Mostly Cloudy</td>\n",
       "      <td>0.0000</td>\n",
       "      <td>0.00</td>\n",
       "      <td>NaN</td>\n",
       "      <td>NaN</td>\n",
       "      <td>30.17</td>\n",
       "      <td>19.74</td>\n",
       "      <td>12.41</td>\n",
       "      <td>0.48</td>\n",
       "      <td>1015.24</td>\n",
       "      <td>12.89</td>\n",
       "      <td>12.82</td>\n",
       "      <td>315.058190</td>\n",
       "      <td>0.68</td>\n",
       "      <td>0</td>\n",
       "      <td>10.0</td>\n",
       "      <td>359.78</td>\n",
       "    </tr>\n",
       "    <tr>\n",
       "      <th>4</th>\n",
       "      <td>2019-11-30 01:00:00</td>\n",
       "      <td>Highland</td>\n",
       "      <td>Possible Drizzle</td>\n",
       "      <td>0.0018</td>\n",
       "      <td>0.35</td>\n",
       "      <td>rain</td>\n",
       "      <td>NaN</td>\n",
       "      <td>37.74</td>\n",
       "      <td>33.16</td>\n",
       "      <td>32.10</td>\n",
       "      <td>0.80</td>\n",
       "      <td>1018.31</td>\n",
       "      <td>5.77</td>\n",
       "      <td>7.58</td>\n",
       "      <td>110.003815</td>\n",
       "      <td>0.95</td>\n",
       "      <td>0</td>\n",
       "      <td>10.0</td>\n",
       "      <td>309.09</td>\n",
       "    </tr>\n",
       "  </tbody>\n",
       "</table>\n",
       "</div>"
      ],
      "text/plain": [
       "             datetime   airport           summary  precipIntensity  \\\n",
       "0 2019-11-29 23:00:00    Eureka             Clear           0.0000   \n",
       "1 2019-11-30 00:00:00  Highland          Overcast           0.0000   \n",
       "2 2019-11-30 00:00:00    Eureka     Mostly Cloudy           0.0000   \n",
       "3 2019-11-30 01:00:00    Eureka     Mostly Cloudy           0.0000   \n",
       "4 2019-11-30 01:00:00  Highland  Possible Drizzle           0.0018   \n",
       "\n",
       "   precipProbability precipType  precipAccumulation  temperature  \\\n",
       "0               0.00        NaN                 NaN        30.01   \n",
       "1               0.00        NaN                 NaN        37.30   \n",
       "2               0.00        NaN                 NaN        30.10   \n",
       "3               0.00        NaN                 NaN        30.17   \n",
       "4               0.35       rain                 NaN        37.74   \n",
       "\n",
       "   apparentTemperature  dewPoint  humidity  pressure  windSpeed  windGust  \\\n",
       "0                19.83     12.32      0.48   1015.48      12.88     12.85   \n",
       "1                32.11     32.47      0.82   1019.58       6.70      8.06   \n",
       "2                18.94     10.81      0.45   1015.12      15.71     15.74   \n",
       "3                19.74     12.41      0.48   1015.24      12.89     12.82   \n",
       "4                33.16     32.10      0.80   1018.31       5.77      7.58   \n",
       "\n",
       "   windBearing  cloudCover  uvIndex  visibility   ozone  \n",
       "0   320.017083        0.19        0        10.0  355.66  \n",
       "1   141.090120        1.00        0        10.0  309.69  \n",
       "2   321.076483        0.69        0        10.0  355.91  \n",
       "3   315.058190        0.68        0        10.0  359.78  \n",
       "4   110.003815        0.95        0        10.0  309.09  "
      ]
     },
     "execution_count": 6,
     "metadata": {},
     "output_type": "execute_result"
    }
   ],
   "source": [
    "keep = [\n",
    "    \"datetime\", \"airport\", \"summary\", \"precipIntensity\", \"precipProbability\", \"precipType\",\n",
    "    \"precipAccumulation\", \"temperature\", \"apparentTemperature\", \"dewPoint\", \"humidity\",\n",
    "    \"pressure\", \"windSpeed\", \"windGust\", \"windBearing\", \"cloudCover\", \"uvIndex\",\n",
    "    \"visibility\", \"ozone\"\n",
    "]\n",
    "keep = [c for c in keep if c in df_weather.columns]\n",
    "df_weather = df_weather[keep].copy()\n",
    "\n",
    "numeric_cols = [\n",
    "    \"precipIntensity\", \"precipProbability\", \"precipAccumulation\", \"temperature\",\n",
    "    \"apparentTemperature\", \"dewPoint\", \"humidity\", \"pressure\", \"windSpeed\",\n",
    "    \"windGust\", \"windBearing\", \"cloudCover\", \"uvIndex\", \"visibility\", \"ozone\"\n",
    "]\n",
    "for c in [c for c in numeric_cols if c in df_weather.columns]:\n",
    "    df_weather[c] = pd.to_numeric(df_weather[c], errors=\"coerce\")\n",
    "\n",
    "df_weather.head(5)\n"
   ]
  },
  {
   "cell_type": "markdown",
   "id": "7492eed7",
   "metadata": {},
   "source": [
    "Some basic sanity checks (Missing values per column, duplicate timestamps within airport, time coverage and sampling frequency)"
   ]
  },
  {
   "cell_type": "code",
   "execution_count": 7,
   "id": "fadf233e",
   "metadata": {},
   "outputs": [
    {
     "name": "stdout",
     "output_type": "stream",
     "text": [
      "Missing values by column:\n",
      "precipAccumulation     1455\n",
      "precipType             1220\n",
      "datetime                  0\n",
      "summary                   0\n",
      "airport                   0\n",
      "precipProbability         0\n",
      "precipIntensity           0\n",
      "temperature               0\n",
      "apparentTemperature       0\n",
      "dewPoint                  0\n",
      "humidity                  0\n",
      "pressure                  0\n",
      "windSpeed                 0\n",
      "windGust                  0\n",
      "windBearing               0\n",
      "cloudCover                0\n",
      "uvIndex                   0\n",
      "visibility                0\n",
      "ozone                     0\n",
      "dtype: int64\n",
      "Duplicate (airport, datetime) rows: 0\n",
      "Date coverage: 2019-11-29 23:00:00 → 2019-12-31 23:00:00\n",
      "Median sampling interval: 0 days 01:00:00\n"
     ]
    }
   ],
   "source": [
    "print(\"Missing values by column:\")\n",
    "print(df_weather.isna().sum().sort_values(ascending=False))\n",
    "\n",
    "# If multiple airports present, check duplicates per (airport, datetime)\n",
    "if \"airport\" in df_weather.columns and df_weather[\"airport\"].nunique() > 1:\n",
    "    dups = df_weather.duplicated(subset=[\"airport\", \"datetime\"]).sum()\n",
    "    print(\"Duplicate (airport, datetime) rows:\", dups)\n",
    "    if dups > 0:\n",
    "        # Keep the last observation in case of duplicates (simple, deterministic)\n",
    "        df_weather = df_weather.drop_duplicates(subset=[\"airport\", \"datetime\"], keep=\"last\")\n",
    "else:\n",
    "    dups = df_weather.duplicated(subset=[\"datetime\"]).sum()\n",
    "    print(\"Duplicate datetime rows:\", dups)\n",
    "    if dups > 0:\n",
    "        df_weather = df_weather.drop_duplicates(subset=[\"datetime\"], keep=\"last\")\n",
    "\n",
    "date_min, date_max = df_weather[\"datetime\"].min(), df_weather[\"datetime\"].max()\n",
    "print(\"Date coverage:\", date_min, \"→\", date_max)\n",
    "\n",
    "# Sampling frequency check (rough): median delta\n",
    "delta = df_weather[\"datetime\"].diff().dropna()\n",
    "print(\"Median sampling interval:\", delta.median())\n"
   ]
  },
  {
   "cell_type": "markdown",
   "id": "a824f998",
   "metadata": {},
   "source": [
    "Validation of hourly airport data - at this stage the dataset was kept in its entirety. The idea is to filter it later on, focusing on HIX data, but at the same time providing a soldi structure that can be used for multiple airports when/if needed. Moreover, in this case the code works smoothly as the data is hourly, and always at hh:00. In case the data was more sparse or with inconsistent timestamps, a strategy could have been resampling the data and producing hourly averages, so to have cleaner data"
   ]
  },
  {
   "cell_type": "code",
   "execution_count": 8,
   "id": "1d92e696",
   "metadata": {},
   "outputs": [
    {
     "name": "stdout",
     "output_type": "stream",
     "text": [
      "\n",
      " Hourly validation for Eureka\n",
      "Rows: 768\n",
      "Median step: 0 days 01:00:00\n",
      "Unique steps (sec): [Timedelta('0 days 01:00:00')]\n",
      "Duplicate timestamp rows: 0\n",
      "Missing hourly slots (gaps): 0\n",
      "\n",
      " Hourly validation for Highland\n",
      "Rows: 768\n",
      "Median step: 0 days 01:00:00\n",
      "Unique steps (sec): [Timedelta('0 days 01:00:00')]\n",
      "Duplicate timestamp rows: 0\n",
      "Missing hourly slots (gaps): 0\n",
      "\n",
      "✅ Skipped resampling because data is already hourly.\n"
     ]
    },
    {
     "name": "stderr",
     "output_type": "stream",
     "text": [
      "C:\\Users\\MicheleCoaro\\AppData\\Local\\Temp\\ipykernel_8936\\1592534167.py:15: FutureWarning: 'H' is deprecated and will be removed in a future version, please use 'h' instead.\n",
      "  full_index = pd.date_range(df[\"datetime\"].min(), df[\"datetime\"].max(), freq=\"1H\")\n",
      "C:\\Users\\MicheleCoaro\\AppData\\Local\\Temp\\ipykernel_8936\\1592534167.py:16: FutureWarning: 'H' is deprecated and will be removed in a future version, please use 'h' instead.\n",
      "  gap_count = len(full_index.difference(df[\"datetime\"].dt.floor(\"H\").unique()))\n",
      "C:\\Users\\MicheleCoaro\\AppData\\Local\\Temp\\ipykernel_8936\\1592534167.py:15: FutureWarning: 'H' is deprecated and will be removed in a future version, please use 'h' instead.\n",
      "  full_index = pd.date_range(df[\"datetime\"].min(), df[\"datetime\"].max(), freq=\"1H\")\n",
      "C:\\Users\\MicheleCoaro\\AppData\\Local\\Temp\\ipykernel_8936\\1592534167.py:16: FutureWarning: 'H' is deprecated and will be removed in a future version, please use 'h' instead.\n",
      "  gap_count = len(full_index.difference(df[\"datetime\"].dt.floor(\"H\").unique()))\n"
     ]
    },
    {
     "data": {
      "text/html": [
       "<div>\n",
       "<style scoped>\n",
       "    .dataframe tbody tr th:only-of-type {\n",
       "        vertical-align: middle;\n",
       "    }\n",
       "\n",
       "    .dataframe tbody tr th {\n",
       "        vertical-align: top;\n",
       "    }\n",
       "\n",
       "    .dataframe thead th {\n",
       "        text-align: right;\n",
       "    }\n",
       "</style>\n",
       "<table border=\"1\" class=\"dataframe\">\n",
       "  <thead>\n",
       "    <tr style=\"text-align: right;\">\n",
       "      <th></th>\n",
       "      <th>datetime</th>\n",
       "      <th>airport</th>\n",
       "      <th>summary</th>\n",
       "      <th>precipIntensity</th>\n",
       "      <th>precipProbability</th>\n",
       "      <th>precipType</th>\n",
       "      <th>precipAccumulation</th>\n",
       "      <th>temperature</th>\n",
       "      <th>apparentTemperature</th>\n",
       "      <th>dewPoint</th>\n",
       "      <th>humidity</th>\n",
       "      <th>pressure</th>\n",
       "      <th>windSpeed</th>\n",
       "      <th>windGust</th>\n",
       "      <th>windBearing</th>\n",
       "      <th>cloudCover</th>\n",
       "      <th>uvIndex</th>\n",
       "      <th>visibility</th>\n",
       "      <th>ozone</th>\n",
       "    </tr>\n",
       "  </thead>\n",
       "  <tbody>\n",
       "    <tr>\n",
       "      <th>0</th>\n",
       "      <td>2019-11-29 23:00:00</td>\n",
       "      <td>Eureka</td>\n",
       "      <td>Clear</td>\n",
       "      <td>0.0000</td>\n",
       "      <td>0.00</td>\n",
       "      <td>NaN</td>\n",
       "      <td>NaN</td>\n",
       "      <td>30.01</td>\n",
       "      <td>19.83</td>\n",
       "      <td>12.32</td>\n",
       "      <td>0.48</td>\n",
       "      <td>1015.48</td>\n",
       "      <td>12.88</td>\n",
       "      <td>12.85</td>\n",
       "      <td>320.017083</td>\n",
       "      <td>0.19</td>\n",
       "      <td>0</td>\n",
       "      <td>10.0</td>\n",
       "      <td>355.66</td>\n",
       "    </tr>\n",
       "    <tr>\n",
       "      <th>1</th>\n",
       "      <td>2019-11-30 00:00:00</td>\n",
       "      <td>Eureka</td>\n",
       "      <td>Mostly Cloudy</td>\n",
       "      <td>0.0000</td>\n",
       "      <td>0.00</td>\n",
       "      <td>NaN</td>\n",
       "      <td>NaN</td>\n",
       "      <td>30.10</td>\n",
       "      <td>18.94</td>\n",
       "      <td>10.81</td>\n",
       "      <td>0.45</td>\n",
       "      <td>1015.12</td>\n",
       "      <td>15.71</td>\n",
       "      <td>15.74</td>\n",
       "      <td>321.076483</td>\n",
       "      <td>0.69</td>\n",
       "      <td>0</td>\n",
       "      <td>10.0</td>\n",
       "      <td>355.91</td>\n",
       "    </tr>\n",
       "    <tr>\n",
       "      <th>768</th>\n",
       "      <td>2019-11-30 00:00:00</td>\n",
       "      <td>Highland</td>\n",
       "      <td>Overcast</td>\n",
       "      <td>0.0000</td>\n",
       "      <td>0.00</td>\n",
       "      <td>NaN</td>\n",
       "      <td>NaN</td>\n",
       "      <td>37.30</td>\n",
       "      <td>32.11</td>\n",
       "      <td>32.47</td>\n",
       "      <td>0.82</td>\n",
       "      <td>1019.58</td>\n",
       "      <td>6.70</td>\n",
       "      <td>8.06</td>\n",
       "      <td>141.090120</td>\n",
       "      <td>1.00</td>\n",
       "      <td>0</td>\n",
       "      <td>10.0</td>\n",
       "      <td>309.69</td>\n",
       "    </tr>\n",
       "    <tr>\n",
       "      <th>2</th>\n",
       "      <td>2019-11-30 01:00:00</td>\n",
       "      <td>Eureka</td>\n",
       "      <td>Mostly Cloudy</td>\n",
       "      <td>0.0000</td>\n",
       "      <td>0.00</td>\n",
       "      <td>NaN</td>\n",
       "      <td>NaN</td>\n",
       "      <td>30.17</td>\n",
       "      <td>19.74</td>\n",
       "      <td>12.41</td>\n",
       "      <td>0.48</td>\n",
       "      <td>1015.24</td>\n",
       "      <td>12.89</td>\n",
       "      <td>12.82</td>\n",
       "      <td>315.058190</td>\n",
       "      <td>0.68</td>\n",
       "      <td>0</td>\n",
       "      <td>10.0</td>\n",
       "      <td>359.78</td>\n",
       "    </tr>\n",
       "    <tr>\n",
       "      <th>769</th>\n",
       "      <td>2019-11-30 01:00:00</td>\n",
       "      <td>Highland</td>\n",
       "      <td>Possible Drizzle</td>\n",
       "      <td>0.0018</td>\n",
       "      <td>0.35</td>\n",
       "      <td>rain</td>\n",
       "      <td>NaN</td>\n",
       "      <td>37.74</td>\n",
       "      <td>33.16</td>\n",
       "      <td>32.10</td>\n",
       "      <td>0.80</td>\n",
       "      <td>1018.31</td>\n",
       "      <td>5.77</td>\n",
       "      <td>7.58</td>\n",
       "      <td>110.003815</td>\n",
       "      <td>0.95</td>\n",
       "      <td>0</td>\n",
       "      <td>10.0</td>\n",
       "      <td>309.09</td>\n",
       "    </tr>\n",
       "  </tbody>\n",
       "</table>\n",
       "</div>"
      ],
      "text/plain": [
       "               datetime   airport           summary  precipIntensity  \\\n",
       "0   2019-11-29 23:00:00    Eureka             Clear           0.0000   \n",
       "1   2019-11-30 00:00:00    Eureka     Mostly Cloudy           0.0000   \n",
       "768 2019-11-30 00:00:00  Highland          Overcast           0.0000   \n",
       "2   2019-11-30 01:00:00    Eureka     Mostly Cloudy           0.0000   \n",
       "769 2019-11-30 01:00:00  Highland  Possible Drizzle           0.0018   \n",
       "\n",
       "     precipProbability precipType  precipAccumulation  temperature  \\\n",
       "0                 0.00        NaN                 NaN        30.01   \n",
       "1                 0.00        NaN                 NaN        30.10   \n",
       "768               0.00        NaN                 NaN        37.30   \n",
       "2                 0.00        NaN                 NaN        30.17   \n",
       "769               0.35       rain                 NaN        37.74   \n",
       "\n",
       "     apparentTemperature  dewPoint  humidity  pressure  windSpeed  windGust  \\\n",
       "0                  19.83     12.32      0.48   1015.48      12.88     12.85   \n",
       "1                  18.94     10.81      0.45   1015.12      15.71     15.74   \n",
       "768                32.11     32.47      0.82   1019.58       6.70      8.06   \n",
       "2                  19.74     12.41      0.48   1015.24      12.89     12.82   \n",
       "769                33.16     32.10      0.80   1018.31       5.77      7.58   \n",
       "\n",
       "     windBearing  cloudCover  uvIndex  visibility   ozone  \n",
       "0     320.017083        0.19        0        10.0  355.66  \n",
       "1     321.076483        0.69        0        10.0  355.91  \n",
       "768   141.090120        1.00        0        10.0  309.69  \n",
       "2     315.058190        0.68        0        10.0  359.78  \n",
       "769   110.003815        0.95        0        10.0  309.09  "
      ]
     },
     "execution_count": 8,
     "metadata": {},
     "output_type": "execute_result"
    }
   ],
   "source": [
    "has_multi_airports = (\"airport\" in df_weather.columns and df_weather[\"airport\"].nunique() > 1)\n",
    "\n",
    "def _validate_hourly(df, label=\"(all)\"):\n",
    "    df = df.sort_values(\"datetime\")\n",
    "    # Check median and unique step\n",
    "    deltas = df[\"datetime\"].diff().dropna()\n",
    "    median_step = deltas.median()\n",
    "    unique_steps = deltas.value_counts().index.astype(\"timedelta64[s]\").unique()\n",
    "\n",
    "    # duplicates check (per airport if applicable)\n",
    "    dup_count = df.duplicated(subset=[\"datetime\"]).sum() if \"airport\" not in df.columns else \\\n",
    "                df.duplicated(subset=[\"airport\",\"datetime\"]).sum()\n",
    "\n",
    "    # Gaps (count missing expected hours between min and max)\n",
    "    full_index = pd.date_range(df[\"datetime\"].min(), df[\"datetime\"].max(), freq=\"1H\")\n",
    "    gap_count = len(full_index.difference(df[\"datetime\"].dt.floor(\"H\").unique()))\n",
    "\n",
    "    print(f\"\\n Hourly validation for {label}\")\n",
    "    print(\"Rows:\", len(df))\n",
    "    print(\"Median step:\", median_step)\n",
    "    print(\"Unique steps (sec):\", list(unique_steps))\n",
    "    print(\"Duplicate timestamp rows:\", dup_count)\n",
    "    print(\"Missing hourly slots (gaps):\", gap_count)\n",
    "\n",
    "    # soft warnings (wont stop execution)\n",
    "    if median_step != pd.Timedelta(hours=1):\n",
    "        print(\"⚠️  Median step is not 1H — data may not be strictly hourly.\")\n",
    "    if dup_count > 0:\n",
    "        print(\"⚠️  Found duplicate timestamps — consider deduplicating.\")\n",
    "    if gap_count > 0:\n",
    "        print(\"⚠️  Found gaps — consider resampling or forward-filling before merge.\")\n",
    "\n",
    "    return df\n",
    "\n",
    "if has_multi_airports:\n",
    "    frames = []\n",
    "    for ap, df_ in df_weather.groupby(\"airport\", sort=False):\n",
    "        frames.append(_validate_hourly(df_, label=ap))\n",
    "    df_weather = pd.concat(frames, ignore_index=True).sort_values([\"datetime\",\"airport\"])\n",
    "else:\n",
    "    df_weather = _validate_hourly(df_weather).sort_values(\"datetime\")\n",
    "\n",
    "print(\"\\n✅ Skipped resampling because data is already hourly.\")\n",
    "df_weather.head(5)\n"
   ]
  },
  {
   "cell_type": "markdown",
   "id": "4fd41814",
   "metadata": {},
   "source": [
    "Derivation of some minimal 'flags'\n",
    "\n",
    "is_low_vis -> visibility <5 miles \n",
    "\n",
    "is_precip (precipIntensity > 0 or precProb <0.5)"
   ]
  },
  {
   "cell_type": "code",
   "execution_count": 9,
   "id": "eb1fcf9f",
   "metadata": {},
   "outputs": [
    {
     "data": {
      "text/html": [
       "<div>\n",
       "<style scoped>\n",
       "    .dataframe tbody tr th:only-of-type {\n",
       "        vertical-align: middle;\n",
       "    }\n",
       "\n",
       "    .dataframe tbody tr th {\n",
       "        vertical-align: top;\n",
       "    }\n",
       "\n",
       "    .dataframe thead th {\n",
       "        text-align: right;\n",
       "    }\n",
       "</style>\n",
       "<table border=\"1\" class=\"dataframe\">\n",
       "  <thead>\n",
       "    <tr style=\"text-align: right;\">\n",
       "      <th></th>\n",
       "      <th>datetime</th>\n",
       "      <th>airport</th>\n",
       "      <th>visibility</th>\n",
       "      <th>is_low_vis</th>\n",
       "      <th>precipIntensity</th>\n",
       "      <th>precipProbability</th>\n",
       "      <th>is_precip</th>\n",
       "      <th>temp_dew_diff_F</th>\n",
       "    </tr>\n",
       "  </thead>\n",
       "  <tbody>\n",
       "    <tr>\n",
       "      <th>0</th>\n",
       "      <td>2019-11-29 23:00:00</td>\n",
       "      <td>Eureka</td>\n",
       "      <td>10.0</td>\n",
       "      <td>0</td>\n",
       "      <td>0.0000</td>\n",
       "      <td>0.00</td>\n",
       "      <td>0</td>\n",
       "      <td>17.69</td>\n",
       "    </tr>\n",
       "    <tr>\n",
       "      <th>1</th>\n",
       "      <td>2019-11-30 00:00:00</td>\n",
       "      <td>Eureka</td>\n",
       "      <td>10.0</td>\n",
       "      <td>0</td>\n",
       "      <td>0.0000</td>\n",
       "      <td>0.00</td>\n",
       "      <td>0</td>\n",
       "      <td>19.29</td>\n",
       "    </tr>\n",
       "    <tr>\n",
       "      <th>768</th>\n",
       "      <td>2019-11-30 00:00:00</td>\n",
       "      <td>Highland</td>\n",
       "      <td>10.0</td>\n",
       "      <td>0</td>\n",
       "      <td>0.0000</td>\n",
       "      <td>0.00</td>\n",
       "      <td>0</td>\n",
       "      <td>4.83</td>\n",
       "    </tr>\n",
       "    <tr>\n",
       "      <th>2</th>\n",
       "      <td>2019-11-30 01:00:00</td>\n",
       "      <td>Eureka</td>\n",
       "      <td>10.0</td>\n",
       "      <td>0</td>\n",
       "      <td>0.0000</td>\n",
       "      <td>0.00</td>\n",
       "      <td>0</td>\n",
       "      <td>17.76</td>\n",
       "    </tr>\n",
       "    <tr>\n",
       "      <th>769</th>\n",
       "      <td>2019-11-30 01:00:00</td>\n",
       "      <td>Highland</td>\n",
       "      <td>10.0</td>\n",
       "      <td>0</td>\n",
       "      <td>0.0018</td>\n",
       "      <td>0.35</td>\n",
       "      <td>1</td>\n",
       "      <td>5.64</td>\n",
       "    </tr>\n",
       "    <tr>\n",
       "      <th>3</th>\n",
       "      <td>2019-11-30 02:00:00</td>\n",
       "      <td>Eureka</td>\n",
       "      <td>10.0</td>\n",
       "      <td>0</td>\n",
       "      <td>0.0000</td>\n",
       "      <td>0.00</td>\n",
       "      <td>0</td>\n",
       "      <td>15.96</td>\n",
       "    </tr>\n",
       "    <tr>\n",
       "      <th>770</th>\n",
       "      <td>2019-11-30 02:00:00</td>\n",
       "      <td>Highland</td>\n",
       "      <td>10.0</td>\n",
       "      <td>0</td>\n",
       "      <td>0.0062</td>\n",
       "      <td>0.54</td>\n",
       "      <td>1</td>\n",
       "      <td>5.19</td>\n",
       "    </tr>\n",
       "    <tr>\n",
       "      <th>4</th>\n",
       "      <td>2019-11-30 03:00:00</td>\n",
       "      <td>Eureka</td>\n",
       "      <td>10.0</td>\n",
       "      <td>0</td>\n",
       "      <td>0.0000</td>\n",
       "      <td>0.00</td>\n",
       "      <td>0</td>\n",
       "      <td>17.33</td>\n",
       "    </tr>\n",
       "  </tbody>\n",
       "</table>\n",
       "</div>"
      ],
      "text/plain": [
       "               datetime   airport  visibility  is_low_vis  precipIntensity  \\\n",
       "0   2019-11-29 23:00:00    Eureka        10.0           0           0.0000   \n",
       "1   2019-11-30 00:00:00    Eureka        10.0           0           0.0000   \n",
       "768 2019-11-30 00:00:00  Highland        10.0           0           0.0000   \n",
       "2   2019-11-30 01:00:00    Eureka        10.0           0           0.0000   \n",
       "769 2019-11-30 01:00:00  Highland        10.0           0           0.0018   \n",
       "3   2019-11-30 02:00:00    Eureka        10.0           0           0.0000   \n",
       "770 2019-11-30 02:00:00  Highland        10.0           0           0.0062   \n",
       "4   2019-11-30 03:00:00    Eureka        10.0           0           0.0000   \n",
       "\n",
       "     precipProbability  is_precip  temp_dew_diff_F  \n",
       "0                 0.00          0            17.69  \n",
       "1                 0.00          0            19.29  \n",
       "768               0.00          0             4.83  \n",
       "2                 0.00          0            17.76  \n",
       "769               0.35          1             5.64  \n",
       "3                 0.00          0            15.96  \n",
       "770               0.54          1             5.19  \n",
       "4                 0.00          0            17.33  "
      ]
     },
     "execution_count": 9,
     "metadata": {},
     "output_type": "execute_result"
    }
   ],
   "source": [
    "if \"visibility\" in df_weather.columns:\n",
    "    df_weather[\"is_low_vis\"] = (df_weather[\"visibility\"] < 5).astype(\"Int8\")\n",
    "else:\n",
    "    df_weather[\"is_low_vis\"] = pd.NA\n",
    "\n",
    "has_intensity = \"precipIntensity\" in df_weather.columns\n",
    "has_probability = \"precipProbability\" in df_weather.columns\n",
    "if has_intensity or has_probability:\n",
    "    cond = pd.Series(False, index=df_weather.index)\n",
    "    if has_intensity:\n",
    "        cond = cond | (df_weather[\"precipIntensity\"].fillna(0) > 0)\n",
    "    if has_probability:\n",
    "        cond = cond | (df_weather[\"precipProbability\"].fillna(0) >= 0.5)\n",
    "    df_weather[\"is_precip\"] = cond.astype(\"Int8\")\n",
    "else:\n",
    "    df_weather[\"is_precip\"] = pd.NA\n",
    "\n",
    "if {\"temperature\", \"dewPoint\"}.issubset(df_weather.columns):\n",
    "    df_weather[\"temp_dew_diff_F\"] = (df_weather[\"temperature\"] - df_weather[\"dewPoint\"]).astype(float)\n",
    "else:\n",
    "    df_weather[\"temp_dew_diff_F\"] = np.nan\n",
    "\n",
    "df_weather[[\"datetime\",\"airport\",\"visibility\",\"is_low_vis\",\"precipIntensity\",\"precipProbability\",\"is_precip\",\"temp_dew_diff_F\"]].head(8)\n"
   ]
  },
  {
   "cell_type": "markdown",
   "id": "0271b8a2",
   "metadata": {},
   "source": [
    "Some EDA visualization, here again on the whole dataset, to have some visual understanding of the data shape"
   ]
  },
  {
   "cell_type": "code",
   "execution_count": 10,
   "id": "be9f4199",
   "metadata": {},
   "outputs": [
    {
     "data": {
      "image/png": "[encoded data removed]",
      "text/plain": [
       "<Figure size 1200x800 with 6 Axes>"
      ]
     },
     "metadata": {},
     "output_type": "display_data"
    },
    {
     "data": {
      "image/png": "[encoded data removed]",
      "text/plain": [
       "<Figure size 1200x300 with 1 Axes>"
      ]
     },
     "metadata": {},
     "output_type": "display_data"
    },
    {
     "data": {
      "image/png": "[encoded data removed]",
      "text/plain": [
       "<Figure size 1200x300 with 1 Axes>"
      ]
     },
     "metadata": {},
     "output_type": "display_data"
    }
   ],
   "source": [
    "\n",
    "num_preview = [c for c in [\"temperature\",\"dewPoint\",\"visibility\",\"windSpeed\",\"pressure\",\"precipIntensity\"] if c in df_weather.columns]\n",
    "if num_preview:\n",
    "    ax = df_weather[num_preview].hist(bins=30, figsize=(12, 8))\n",
    "    plt.tight_layout()\n",
    "    plt.show()\n",
    "\n",
    "# Time series glimpse (if single airport or after filtering)\n",
    "if \"visibility\" in df_weather.columns:\n",
    "    df_weather.set_index(\"datetime\")[\"visibility\"].plot(figsize=(12, 3), title=\"Visibility over time\")\n",
    "    plt.show()\n",
    "\n",
    "if \"windSpeed\" in df_weather.columns:\n",
    "    df_weather.set_index(\"datetime\")[\"windSpeed\"].plot(figsize=(12, 3), title=\"Wind speed over time\")\n",
    "    plt.show()\n"
   ]
  },
  {
   "cell_type": "code",
   "execution_count": 11,
   "id": "8de2ab10",
   "metadata": {},
   "outputs": [
    {
     "data": {
      "text/plain": [
       "(WindowsPath('Data/weather_cleaned.csv'), True)"
      ]
     },
     "execution_count": 11,
     "metadata": {},
     "output_type": "execute_result"
    }
   ],
   "source": [
    "df_weather.to_csv(CLEAN_PATH, index=False)\n",
    "CLEAN_PATH, CLEAN_PATH.exists()\n"
   ]
  },
  {
   "cell_type": "markdown",
   "id": "c2279519",
   "metadata": {},
   "source": [
    "# Data Filtering"
   ]
  },
  {
   "cell_type": "markdown",
   "id": "ef9c151b",
   "metadata": {},
   "source": [
    "Keeping only HIX data, as that is what interests us"
   ]
  },
  {
   "cell_type": "code",
   "execution_count": 12,
   "id": "ff38629b",
   "metadata": {},
   "outputs": [
    {
     "data": {
      "text/html": [
       "<div>\n",
       "<style scoped>\n",
       "    .dataframe tbody tr th:only-of-type {\n",
       "        vertical-align: middle;\n",
       "    }\n",
       "\n",
       "    .dataframe tbody tr th {\n",
       "        vertical-align: top;\n",
       "    }\n",
       "\n",
       "    .dataframe thead th {\n",
       "        text-align: right;\n",
       "    }\n",
       "</style>\n",
       "<table border=\"1\" class=\"dataframe\">\n",
       "  <thead>\n",
       "    <tr style=\"text-align: right;\">\n",
       "      <th></th>\n",
       "      <th>datetime</th>\n",
       "      <th>airport</th>\n",
       "      <th>summary</th>\n",
       "      <th>precipIntensity</th>\n",
       "      <th>precipProbability</th>\n",
       "      <th>precipType</th>\n",
       "      <th>precipAccumulation</th>\n",
       "      <th>temperature</th>\n",
       "      <th>apparentTemperature</th>\n",
       "      <th>dewPoint</th>\n",
       "      <th>humidity</th>\n",
       "      <th>pressure</th>\n",
       "      <th>windSpeed</th>\n",
       "      <th>windGust</th>\n",
       "      <th>windBearing</th>\n",
       "      <th>cloudCover</th>\n",
       "      <th>uvIndex</th>\n",
       "      <th>visibility</th>\n",
       "      <th>ozone</th>\n",
       "      <th>is_low_vis</th>\n",
       "      <th>is_precip</th>\n",
       "      <th>temp_dew_diff_F</th>\n",
       "    </tr>\n",
       "  </thead>\n",
       "  <tbody>\n",
       "    <tr>\n",
       "      <th>0</th>\n",
       "      <td>2019-11-30 00:00:00</td>\n",
       "      <td>HIX</td>\n",
       "      <td>Overcast</td>\n",
       "      <td>0.0000</td>\n",
       "      <td>0.00</td>\n",
       "      <td>NaN</td>\n",
       "      <td>NaN</td>\n",
       "      <td>37.30</td>\n",
       "      <td>32.11</td>\n",
       "      <td>32.47</td>\n",
       "      <td>0.82</td>\n",
       "      <td>1019.58</td>\n",
       "      <td>6.70</td>\n",
       "      <td>8.06</td>\n",
       "      <td>141.090120</td>\n",
       "      <td>1.00</td>\n",
       "      <td>0</td>\n",
       "      <td>10.0</td>\n",
       "      <td>309.69</td>\n",
       "      <td>0</td>\n",
       "      <td>0</td>\n",
       "      <td>4.83</td>\n",
       "    </tr>\n",
       "    <tr>\n",
       "      <th>1</th>\n",
       "      <td>2019-11-30 01:00:00</td>\n",
       "      <td>HIX</td>\n",
       "      <td>Possible Drizzle</td>\n",
       "      <td>0.0018</td>\n",
       "      <td>0.35</td>\n",
       "      <td>rain</td>\n",
       "      <td>NaN</td>\n",
       "      <td>37.74</td>\n",
       "      <td>33.16</td>\n",
       "      <td>32.10</td>\n",
       "      <td>0.80</td>\n",
       "      <td>1018.31</td>\n",
       "      <td>5.77</td>\n",
       "      <td>7.58</td>\n",
       "      <td>110.003815</td>\n",
       "      <td>0.95</td>\n",
       "      <td>0</td>\n",
       "      <td>10.0</td>\n",
       "      <td>309.09</td>\n",
       "      <td>0</td>\n",
       "      <td>1</td>\n",
       "      <td>5.64</td>\n",
       "    </tr>\n",
       "    <tr>\n",
       "      <th>2</th>\n",
       "      <td>2019-11-30 02:00:00</td>\n",
       "      <td>HIX</td>\n",
       "      <td>Possible Drizzle</td>\n",
       "      <td>0.0062</td>\n",
       "      <td>0.54</td>\n",
       "      <td>rain</td>\n",
       "      <td>NaN</td>\n",
       "      <td>37.60</td>\n",
       "      <td>31.13</td>\n",
       "      <td>32.41</td>\n",
       "      <td>0.83</td>\n",
       "      <td>1017.91</td>\n",
       "      <td>8.04</td>\n",
       "      <td>8.57</td>\n",
       "      <td>112.053620</td>\n",
       "      <td>1.00</td>\n",
       "      <td>0</td>\n",
       "      <td>10.0</td>\n",
       "      <td>308.70</td>\n",
       "      <td>0</td>\n",
       "      <td>1</td>\n",
       "      <td>5.19</td>\n",
       "    </tr>\n",
       "    <tr>\n",
       "      <th>3</th>\n",
       "      <td>2019-11-30 03:00:00</td>\n",
       "      <td>HIX</td>\n",
       "      <td>Light Rain</td>\n",
       "      <td>0.0135</td>\n",
       "      <td>0.71</td>\n",
       "      <td>rain</td>\n",
       "      <td>NaN</td>\n",
       "      <td>36.60</td>\n",
       "      <td>29.78</td>\n",
       "      <td>31.76</td>\n",
       "      <td>0.83</td>\n",
       "      <td>1016.64</td>\n",
       "      <td>8.90</td>\n",
       "      <td>9.84</td>\n",
       "      <td>103.033220</td>\n",
       "      <td>1.00</td>\n",
       "      <td>0</td>\n",
       "      <td>10.0</td>\n",
       "      <td>309.40</td>\n",
       "      <td>0</td>\n",
       "      <td>1</td>\n",
       "      <td>4.84</td>\n",
       "    </tr>\n",
       "    <tr>\n",
       "      <th>4</th>\n",
       "      <td>2019-11-30 04:00:00</td>\n",
       "      <td>HIX</td>\n",
       "      <td>Overcast</td>\n",
       "      <td>0.0007</td>\n",
       "      <td>0.06</td>\n",
       "      <td>rain</td>\n",
       "      <td>NaN</td>\n",
       "      <td>36.65</td>\n",
       "      <td>31.12</td>\n",
       "      <td>32.41</td>\n",
       "      <td>0.85</td>\n",
       "      <td>1017.49</td>\n",
       "      <td>6.95</td>\n",
       "      <td>8.95</td>\n",
       "      <td>104.085209</td>\n",
       "      <td>1.00</td>\n",
       "      <td>0</td>\n",
       "      <td>10.0</td>\n",
       "      <td>311.82</td>\n",
       "      <td>0</td>\n",
       "      <td>1</td>\n",
       "      <td>4.24</td>\n",
       "    </tr>\n",
       "  </tbody>\n",
       "</table>\n",
       "</div>"
      ],
      "text/plain": [
       "              datetime airport           summary  precipIntensity  \\\n",
       "0  2019-11-30 00:00:00     HIX          Overcast           0.0000   \n",
       "1  2019-11-30 01:00:00     HIX  Possible Drizzle           0.0018   \n",
       "2  2019-11-30 02:00:00     HIX  Possible Drizzle           0.0062   \n",
       "3  2019-11-30 03:00:00     HIX        Light Rain           0.0135   \n",
       "4  2019-11-30 04:00:00     HIX          Overcast           0.0007   \n",
       "\n",
       "   precipProbability precipType  precipAccumulation  temperature  \\\n",
       "0               0.00        NaN                 NaN        37.30   \n",
       "1               0.35       rain                 NaN        37.74   \n",
       "2               0.54       rain                 NaN        37.60   \n",
       "3               0.71       rain                 NaN        36.60   \n",
       "4               0.06       rain                 NaN        36.65   \n",
       "\n",
       "   apparentTemperature  dewPoint  humidity  pressure  windSpeed  windGust  \\\n",
       "0                32.11     32.47      0.82   1019.58       6.70      8.06   \n",
       "1                33.16     32.10      0.80   1018.31       5.77      7.58   \n",
       "2                31.13     32.41      0.83   1017.91       8.04      8.57   \n",
       "3                29.78     31.76      0.83   1016.64       8.90      9.84   \n",
       "4                31.12     32.41      0.85   1017.49       6.95      8.95   \n",
       "\n",
       "   windBearing  cloudCover  uvIndex  visibility   ozone  is_low_vis  \\\n",
       "0   141.090120        1.00        0        10.0  309.69           0   \n",
       "1   110.003815        0.95        0        10.0  309.09           0   \n",
       "2   112.053620        1.00        0        10.0  308.70           0   \n",
       "3   103.033220        1.00        0        10.0  309.40           0   \n",
       "4   104.085209        1.00        0        10.0  311.82           0   \n",
       "\n",
       "   is_precip  temp_dew_diff_F  \n",
       "0          0             4.83  \n",
       "1          1             5.64  \n",
       "2          1             5.19  \n",
       "3          1             4.84  \n",
       "4          1             4.24  "
      ]
     },
     "execution_count": 12,
     "metadata": {},
     "output_type": "execute_result"
    }
   ],
   "source": [
    "df_weather_HIX = pd.read_csv(CLEAN_PATH)\n",
    "df_weather_HIX = df_weather_HIX[df_weather_HIX[\"airport\"] == \"Highland\"].reset_index(drop=True)\n",
    "df_weather_HIX['airport'] = \"HIX\"\n",
    "df_weather_HIX.head(5)\n"
   ]
  },
  {
   "cell_type": "code",
   "execution_count": 13,
   "id": "d3861496",
   "metadata": {},
   "outputs": [],
   "source": [
    "df_weather_HIX.to_csv(\"./Data/weather_cleaned_HIX.csv\", index=False)"
   ]
  },
  {
   "cell_type": "markdown",
   "id": "6d1c2723",
   "metadata": {},
   "source": [
    "# KPI and Insights"
   ]
  },
  {
   "cell_type": "markdown",
   "id": "28620c7b",
   "metadata": {},
   "source": [
    "The idea here is to derive from the data some type of indicator or variable that enables us to better understande the data characteristics and trends. The final goal is to enrich comprehension of this data, so that the quality of the analysis carried out in the dedicated notebook can be augmented."
   ]
  },
  {
   "cell_type": "markdown",
   "id": "14bf921c",
   "metadata": {},
   "source": [
    "First of all, let's define (arbitrarily) adverse conditions"
   ]
  },
  {
   "cell_type": "code",
   "execution_count": 14,
   "id": "c7609827",
   "metadata": {},
   "outputs": [],
   "source": [
    "df_weather_HIX[\"is_precip\"] = (df_weather_HIX[\"precipIntensity\"].fillna(0) > 0).astype(int)\n",
    "df_weather_HIX[\"is_low_vis\"] = (df_weather_HIX[\"visibility\"] < 5).astype(int)\n",
    "df_weather_HIX[\"is_high_wind\"] = (df_weather_HIX[\"windSpeed\"] > 20).astype(int)\n",
    "df_weather_HIX[\"dewpoint_spread\"] = df_weather_HIX[\"temperature\"] - df_weather_HIX[\"dewPoint\"]\n"
   ]
  },
  {
   "cell_type": "markdown",
   "id": "91a988d8",
   "metadata": {},
   "source": [
    "Then, let's create some daily KPI aggreagation for grouped viewing"
   ]
  },
  {
   "cell_type": "code",
   "execution_count": 15,
   "id": "655c27a6",
   "metadata": {},
   "outputs": [
    {
     "data": {
      "text/html": [
       "<div>\n",
       "<style scoped>\n",
       "    .dataframe tbody tr th:only-of-type {\n",
       "        vertical-align: middle;\n",
       "    }\n",
       "\n",
       "    .dataframe tbody tr th {\n",
       "        vertical-align: top;\n",
       "    }\n",
       "\n",
       "    .dataframe thead th {\n",
       "        text-align: right;\n",
       "    }\n",
       "</style>\n",
       "<table border=\"1\" class=\"dataframe\">\n",
       "  <thead>\n",
       "    <tr style=\"text-align: right;\">\n",
       "      <th></th>\n",
       "      <th>precip_hours</th>\n",
       "      <th>low_vis_hours</th>\n",
       "      <th>high_wind_hours</th>\n",
       "      <th>mean_temp</th>\n",
       "      <th>min_temp</th>\n",
       "      <th>max_temp</th>\n",
       "      <th>mean_wind</th>\n",
       "      <th>gust_95p</th>\n",
       "      <th>dewpoint_spread_mean</th>\n",
       "    </tr>\n",
       "  </thead>\n",
       "  <tbody>\n",
       "    <tr>\n",
       "      <th>count</th>\n",
       "      <td>768.000000</td>\n",
       "      <td>768.000000</td>\n",
       "      <td>768.000000</td>\n",
       "      <td>768.000000</td>\n",
       "      <td>768.000000</td>\n",
       "      <td>768.000000</td>\n",
       "      <td>768.000000</td>\n",
       "      <td>768.000000</td>\n",
       "      <td>768.000000</td>\n",
       "    </tr>\n",
       "    <tr>\n",
       "      <th>mean</th>\n",
       "      <td>0.130208</td>\n",
       "      <td>0.026042</td>\n",
       "      <td>0.002604</td>\n",
       "      <td>34.280169</td>\n",
       "      <td>34.280169</td>\n",
       "      <td>34.280169</td>\n",
       "      <td>8.219297</td>\n",
       "      <td>10.850469</td>\n",
       "      <td>8.711133</td>\n",
       "    </tr>\n",
       "    <tr>\n",
       "      <th>std</th>\n",
       "      <td>0.336752</td>\n",
       "      <td>0.159363</td>\n",
       "      <td>0.050998</td>\n",
       "      <td>9.826115</td>\n",
       "      <td>9.826115</td>\n",
       "      <td>9.826115</td>\n",
       "      <td>3.636964</td>\n",
       "      <td>6.227166</td>\n",
       "      <td>4.803855</td>\n",
       "    </tr>\n",
       "    <tr>\n",
       "      <th>min</th>\n",
       "      <td>0.000000</td>\n",
       "      <td>0.000000</td>\n",
       "      <td>0.000000</td>\n",
       "      <td>11.530000</td>\n",
       "      <td>11.530000</td>\n",
       "      <td>11.530000</td>\n",
       "      <td>0.510000</td>\n",
       "      <td>0.750000</td>\n",
       "      <td>0.360000</td>\n",
       "    </tr>\n",
       "    <tr>\n",
       "      <th>25%</th>\n",
       "      <td>0.000000</td>\n",
       "      <td>0.000000</td>\n",
       "      <td>0.000000</td>\n",
       "      <td>27.570000</td>\n",
       "      <td>27.570000</td>\n",
       "      <td>27.570000</td>\n",
       "      <td>5.675000</td>\n",
       "      <td>6.757500</td>\n",
       "      <td>5.685000</td>\n",
       "    </tr>\n",
       "    <tr>\n",
       "      <th>50%</th>\n",
       "      <td>0.000000</td>\n",
       "      <td>0.000000</td>\n",
       "      <td>0.000000</td>\n",
       "      <td>34.325000</td>\n",
       "      <td>34.325000</td>\n",
       "      <td>34.325000</td>\n",
       "      <td>8.085000</td>\n",
       "      <td>9.940000</td>\n",
       "      <td>7.590000</td>\n",
       "    </tr>\n",
       "    <tr>\n",
       "      <th>75%</th>\n",
       "      <td>0.000000</td>\n",
       "      <td>0.000000</td>\n",
       "      <td>0.000000</td>\n",
       "      <td>39.912500</td>\n",
       "      <td>39.912500</td>\n",
       "      <td>39.912500</td>\n",
       "      <td>10.402500</td>\n",
       "      <td>13.247500</td>\n",
       "      <td>11.060000</td>\n",
       "    </tr>\n",
       "    <tr>\n",
       "      <th>max</th>\n",
       "      <td>1.000000</td>\n",
       "      <td>1.000000</td>\n",
       "      <td>1.000000</td>\n",
       "      <td>61.750000</td>\n",
       "      <td>61.750000</td>\n",
       "      <td>61.750000</td>\n",
       "      <td>20.300000</td>\n",
       "      <td>34.300000</td>\n",
       "      <td>32.000000</td>\n",
       "    </tr>\n",
       "  </tbody>\n",
       "</table>\n",
       "</div>"
      ],
      "text/plain": [
       "       precip_hours  low_vis_hours  high_wind_hours   mean_temp    min_temp  \\\n",
       "count    768.000000     768.000000       768.000000  768.000000  768.000000   \n",
       "mean       0.130208       0.026042         0.002604   34.280169   34.280169   \n",
       "std        0.336752       0.159363         0.050998    9.826115    9.826115   \n",
       "min        0.000000       0.000000         0.000000   11.530000   11.530000   \n",
       "25%        0.000000       0.000000         0.000000   27.570000   27.570000   \n",
       "50%        0.000000       0.000000         0.000000   34.325000   34.325000   \n",
       "75%        0.000000       0.000000         0.000000   39.912500   39.912500   \n",
       "max        1.000000       1.000000         1.000000   61.750000   61.750000   \n",
       "\n",
       "         max_temp   mean_wind    gust_95p  dewpoint_spread_mean  \n",
       "count  768.000000  768.000000  768.000000            768.000000  \n",
       "mean    34.280169    8.219297   10.850469              8.711133  \n",
       "std      9.826115    3.636964    6.227166              4.803855  \n",
       "min     11.530000    0.510000    0.750000              0.360000  \n",
       "25%     27.570000    5.675000    6.757500              5.685000  \n",
       "50%     34.325000    8.085000    9.940000              7.590000  \n",
       "75%     39.912500   10.402500   13.247500             11.060000  \n",
       "max     61.750000   20.300000   34.300000             32.000000  "
      ]
     },
     "metadata": {},
     "output_type": "display_data"
    }
   ],
   "source": [
    "daily_kpis = df_weather_HIX.groupby(\"datetime\").agg(\n",
    "    precip_hours = (\"is_precip\",\"sum\"),\n",
    "    low_vis_hours = (\"is_low_vis\",\"sum\"),\n",
    "    high_wind_hours = (\"is_high_wind\",\"sum\"),\n",
    "    mean_temp = (\"temperature\",\"mean\"),\n",
    "    min_temp = (\"temperature\",\"min\"),\n",
    "    max_temp = (\"temperature\",\"max\"),\n",
    "    mean_wind = (\"windSpeed\",\"mean\"),\n",
    "    gust_95p = (\"windGust\", lambda x: np.nanpercentile(x,95)),\n",
    "    dewpoint_spread_mean = (\"dewpoint_spread\",\"mean\"),\n",
    ")\n",
    "display(daily_kpis.describe())\n"
   ]
  },
  {
   "cell_type": "markdown",
   "id": "389c3f56",
   "metadata": {},
   "source": [
    "Next, let's compute global KPIs"
   ]
  },
  {
   "cell_type": "code",
   "execution_count": 16,
   "id": "e1521f3d",
   "metadata": {},
   "outputs": [
    {
     "data": {
      "text/html": [
       "<div>\n",
       "<style scoped>\n",
       "    .dataframe tbody tr th:only-of-type {\n",
       "        vertical-align: middle;\n",
       "    }\n",
       "\n",
       "    .dataframe tbody tr th {\n",
       "        vertical-align: top;\n",
       "    }\n",
       "\n",
       "    .dataframe thead th {\n",
       "        text-align: right;\n",
       "    }\n",
       "</style>\n",
       "<table border=\"1\" class=\"dataframe\">\n",
       "  <thead>\n",
       "    <tr style=\"text-align: right;\">\n",
       "      <th></th>\n",
       "      <th>Total hours</th>\n",
       "      <th>Hours with precipitation</th>\n",
       "      <th>Share precip hours (%)</th>\n",
       "      <th>Hours with low visibility</th>\n",
       "      <th>Hours with high winds</th>\n",
       "      <th>Avg temperature (°F)</th>\n",
       "      <th>Avg dewpoint spread (°F)</th>\n",
       "    </tr>\n",
       "  </thead>\n",
       "  <tbody>\n",
       "    <tr>\n",
       "      <th>HIX</th>\n",
       "      <td>768</td>\n",
       "      <td>100</td>\n",
       "      <td>13.020833</td>\n",
       "      <td>20</td>\n",
       "      <td>2</td>\n",
       "      <td>34.280169</td>\n",
       "      <td>8.711133</td>\n",
       "    </tr>\n",
       "  </tbody>\n",
       "</table>\n",
       "</div>"
      ],
      "text/plain": [
       "     Total hours  Hours with precipitation  Share precip hours (%)  \\\n",
       "HIX          768                       100               13.020833   \n",
       "\n",
       "     Hours with low visibility  Hours with high winds  Avg temperature (°F)  \\\n",
       "HIX                         20                      2             34.280169   \n",
       "\n",
       "     Avg dewpoint spread (°F)  \n",
       "HIX                  8.711133  "
      ]
     },
     "execution_count": 16,
     "metadata": {},
     "output_type": "execute_result"
    }
   ],
   "source": [
    "weather_summary = {\n",
    "    \"Total hours\": len(df_weather_HIX),\n",
    "    \"Hours with precipitation\": df_weather_HIX[\"is_precip\"].sum(),\n",
    "    \"Share precip hours (%)\": 100 * df_weather_HIX[\"is_precip\"].mean(),\n",
    "    \"Hours with low visibility\": df_weather_HIX[\"is_low_vis\"].sum(),\n",
    "    \"Hours with high winds\": df_weather_HIX[\"is_high_wind\"].sum(),\n",
    "    \"Avg temperature (°F)\": df_weather_HIX[\"temperature\"].mean(),\n",
    "    \"Avg dewpoint spread (°F)\": df_weather_HIX[\"dewpoint_spread\"].mean(),\n",
    "}\n",
    "pd.DataFrame(weather_summary, index=[\"HIX\"])\n"
   ]
  },
  {
   "cell_type": "code",
   "execution_count": 17,
   "id": "2bb5734c",
   "metadata": {},
   "outputs": [],
   "source": [
    "import plotly.express as px\n",
    "import plotly.graph_objects as go"
   ]
  },
  {
   "cell_type": "code",
   "execution_count": 18,
   "id": "7f729c08",
   "metadata": {},
   "outputs": [],
   "source": [
    "w = df_weather_HIX.copy()\n",
    "w[\"datetime\"] = pd.to_datetime(w[\"datetime\"])\n",
    "w = w.sort_values(\"datetime\").reset_index(drop=True)\n",
    "w[\"date\"] = w[\"datetime\"].dt.date\n",
    "w[\"hour\"] = w[\"datetime\"].dt.hour\n",
    "w[\"dewpoint_spread\"] = w[\"temperature\"] - w[\"dewPoint\"]\n"
   ]
  },
  {
   "cell_type": "code",
   "execution_count": 19,
   "id": "67452769",
   "metadata": {},
   "outputs": [],
   "source": [
    "LOW_VIS_MI = 5     # <5 miles considered low visibility, as done ppreviously\n",
    "HIGH_WIND_MPH = 10.34  # wind with speed between 50 and 61 km/h (31-37 mph) is considered strong wind by https://www.meteosvizzera.admin.ch/dam/jcr:08425f94-9261-4332-bee7-56ef54fe94a8/Beaufort_Tabelle_IT_gam.pdf, however, this number has been recomputed in the following analysis, due to the shape of the data\n",
    "PRECIP_EPS  = 0.0  # threshold for considering precipitation, if greater than 0.0, then we consider precipitation to be happening\n",
    "\n",
    "w[\"is_precip\"]   = (w[\"precipIntensity\"].fillna(0) > PRECIP_EPS).astype(int)\n",
    "w[\"is_low_vis\"]  = (w[\"visibility\"] < LOW_VIS_MI).astype(int)\n",
    "w[\"is_high_wind\"]= (w[\"windSpeed\"] > HIGH_WIND_MPH).astype(int)\n"
   ]
  },
  {
   "cell_type": "markdown",
   "id": "fc8491d2",
   "metadata": {},
   "source": [
    "creating a daily Kpi frame, to be sed for some plots"
   ]
  },
  {
   "cell_type": "code",
   "execution_count": 20,
   "id": "55ac5cc4",
   "metadata": {},
   "outputs": [],
   "source": [
    "daily = w.groupby(\"date\", as_index=False).agg(\n",
    "    precip_hours   = (\"is_precip\",\"sum\"),\n",
    "    low_vis_hours  = (\"is_low_vis\",\"sum\"),\n",
    "    high_wind_hours= (\"is_high_wind\",\"sum\"),\n",
    "    mean_temp      = (\"temperature\",\"mean\"),\n",
    "    gust_95p       = (\"windGust\", lambda x: np.nanpercentile(x,95)),\n",
    ")"
   ]
  },
  {
   "cell_type": "code",
   "execution_count": 21,
   "id": "3c1018d9",
   "metadata": {},
   "outputs": [
    {
     "data": {
      "application/vnd.plotly.v1+json": {
       "config": {
        "plotlyServerURL": "https://plot.ly"
       },
       "data": [
        {
         "customdata": {
          "bdata": "TxvotIHKQkCq8dJNYmA5QB+F61G40kJAlUOLbOe7LEBPG+i0gUY/QOlRuB6FazJAPQrXo3D5QECbxCCwcog0QPOLJb9YKkJABawcWmTbPUBPG+i0gWJCQOOlm8QgkCJAgk4b6LSNQUCMl24Sg+AtQD0K16NwAUBA+anx0k3CLkBLfrHkF1dEQEs3iUFg9TZAmZmZmZnZRECPwvUoXO86QClcj8L1qDNAvZ8aL90kNEBtoNMGOs0yQFTjpZvE4DJAERERERF9QEByaJHtfF89QI/C9ShcE0NA3SQGgZWDJ0DNzMzMzEQ+QKRwPQrXIzFAXI/C9SisN0AQWDm0yHYlQJNfLPnFUjtAsJ3vp8YLHkAL16NwPfI4QArXo3A92jRAhetRuB4VMkAaL90kBkEoQKgNdNpAVzlA0k1iEFjJNkBTuB6F6+E+QAaBlUOLrCFAj8L1KFybQkBYObTIdt4jQCW/WPKL9UNAvp8aL93UNEDJL5b8Yg1EQAAAAAAAYClAjCW/WPLPREBXObTIdh40QNtApw107kdA0CLb+X5KKkBTuB6F60lKQFG4HoXroTNAMzMzMzMvQUDXo3A9CucwQK5H4XoUvkJAhxbZzveTKkCrqqqqqrJKQN9PjZdu8jRAtYFOG+iEQEBwPQrXo7hAQEjhehSuNzpApZvEILDyP0A=",
          "dtype": "f8",
          "shape": "32, 2"
         },
         "hovertemplate": "condition=precip_hours<br>date=%{x}<br>hours=%{y}<br>mean_temp=%{customdata[0]:.1f}<br>gust_95p=%{customdata[1]:.1f}<extra></extra>",
         "legendgroup": "precip_hours",
         "marker": {
          "color": "#636efa",
          "pattern": {
           "shape": ""
          }
         },
         "name": "precip_hours",
         "orientation": "v",
         "showlegend": true,
         "textposition": "auto",
         "type": "bar",
         "x": [
          "2019-11-30",
          "2019-12-01",
          "2019-12-02",
          "2019-12-03",
          "2019-12-04",
          "2019-12-05",
          "2019-12-06",
          "2019-12-07",
          "2019-12-08",
          "2019-12-09",
          "2019-12-10",
          "2019-12-11",
          "2019-12-12",
          "2019-12-13",
          "2019-12-14",
          "2019-12-15",
          "2019-12-16",
          "2019-12-17",
          "2019-12-18",
          "2019-12-19",
          "2019-12-20",
          "2019-12-21",
          "2019-12-22",
          "2019-12-23",
          "2019-12-24",
          "2019-12-25",
          "2019-12-26",
          "2019-12-27",
          "2019-12-28",
          "2019-12-29",
          "2019-12-30",
          "2019-12-31"
         ],
         "xaxis": "x",
         "y": {
          "bdata": "EhMHAwAAAAABDAEAAAABAAMAAQAAAAAAAAABAAILDgY=",
          "dtype": "i1"
         },
         "yaxis": "y"
        },
        {
         "customdata": {
          "bdata": "TxvotIHKQkCq8dJNYmA5QB+F61G40kJAlUOLbOe7LEBPG+i0gUY/QOlRuB6FazJAPQrXo3D5QECbxCCwcog0QPOLJb9YKkJABawcWmTbPUBPG+i0gWJCQOOlm8QgkCJAgk4b6LSNQUCMl24Sg+AtQD0K16NwAUBA+anx0k3CLkBLfrHkF1dEQEs3iUFg9TZAmZmZmZnZRECPwvUoXO86QClcj8L1qDNAvZ8aL90kNEBtoNMGOs0yQFTjpZvE4DJAERERERF9QEByaJHtfF89QI/C9ShcE0NA3SQGgZWDJ0DNzMzMzEQ+QKRwPQrXIzFAXI/C9SisN0AQWDm0yHYlQJNfLPnFUjtAsJ3vp8YLHkAL16NwPfI4QArXo3A92jRAhetRuB4VMkAaL90kBkEoQKgNdNpAVzlA0k1iEFjJNkBTuB6F6+E+QAaBlUOLrCFAj8L1KFybQkBYObTIdt4jQCW/WPKL9UNAvp8aL93UNEDJL5b8Yg1EQAAAAAAAYClAjCW/WPLPREBXObTIdh40QNtApw107kdA0CLb+X5KKkBTuB6F60lKQFG4HoXroTNAMzMzMzMvQUDXo3A9CucwQK5H4XoUvkJAhxbZzveTKkCrqqqqqrJKQN9PjZdu8jRAtYFOG+iEQEBwPQrXo7hAQEjhehSuNzpApZvEILDyP0A=",
          "dtype": "f8",
          "shape": "32, 2"
         },
         "hovertemplate": "condition=low_vis_hours<br>date=%{x}<br>hours=%{y}<br>mean_temp=%{customdata[0]:.1f}<br>gust_95p=%{customdata[1]:.1f}<extra></extra>",
         "legendgroup": "low_vis_hours",
         "marker": {
          "color": "#EF553B",
          "pattern": {
           "shape": ""
          }
         },
         "name": "low_vis_hours",
         "orientation": "v",
         "showlegend": true,
         "textposition": "auto",
         "type": "bar",
         "x": [
          "2019-11-30",
          "2019-12-01",
          "2019-12-02",
          "2019-12-03",
          "2019-12-04",
          "2019-12-05",
          "2019-12-06",
          "2019-12-07",
          "2019-12-08",
          "2019-12-09",
          "2019-12-10",
          "2019-12-11",
          "2019-12-12",
          "2019-12-13",
          "2019-12-14",
          "2019-12-15",
          "2019-12-16",
          "2019-12-17",
          "2019-12-18",
          "2019-12-19",
          "2019-12-20",
          "2019-12-21",
          "2019-12-22",
          "2019-12-23",
          "2019-12-24",
          "2019-12-25",
          "2019-12-26",
          "2019-12-27",
          "2019-12-28",
          "2019-12-29",
          "2019-12-30",
          "2019-12-31"
         ],
         "xaxis": "x",
         "y": {
          "bdata": "AgQAAAAAAAAAAQAAAAAAAAAAAAAAAAAABgAAAAAAAQY=",
          "dtype": "i1"
         },
         "yaxis": "y"
        },
        {
         "customdata": {
          "bdata": "TxvotIHKQkCq8dJNYmA5QB+F61G40kJAlUOLbOe7LEBPG+i0gUY/QOlRuB6FazJAPQrXo3D5QECbxCCwcog0QPOLJb9YKkJABawcWmTbPUBPG+i0gWJCQOOlm8QgkCJAgk4b6LSNQUCMl24Sg+AtQD0K16NwAUBA+anx0k3CLkBLfrHkF1dEQEs3iUFg9TZAmZmZmZnZRECPwvUoXO86QClcj8L1qDNAvZ8aL90kNEBtoNMGOs0yQFTjpZvE4DJAERERERF9QEByaJHtfF89QI/C9ShcE0NA3SQGgZWDJ0DNzMzMzEQ+QKRwPQrXIzFAXI/C9SisN0AQWDm0yHYlQJNfLPnFUjtAsJ3vp8YLHkAL16NwPfI4QArXo3A92jRAhetRuB4VMkAaL90kBkEoQKgNdNpAVzlA0k1iEFjJNkBTuB6F6+E+QAaBlUOLrCFAj8L1KFybQkBYObTIdt4jQCW/WPKL9UNAvp8aL93UNEDJL5b8Yg1EQAAAAAAAYClAjCW/WPLPREBXObTIdh40QNtApw107kdA0CLb+X5KKkBTuB6F60lKQFG4HoXroTNAMzMzMzMvQUDXo3A9CucwQK5H4XoUvkJAhxbZzveTKkCrqqqqqrJKQN9PjZdu8jRAtYFOG+iEQEBwPQrXo7hAQEjhehSuNzpApZvEILDyP0A=",
          "dtype": "f8",
          "shape": "32, 2"
         },
         "hovertemplate": "condition=high_wind_hours<br>date=%{x}<br>hours=%{y}<br>mean_temp=%{customdata[0]:.1f}<br>gust_95p=%{customdata[1]:.1f}<extra></extra>",
         "legendgroup": "high_wind_hours",
         "marker": {
          "color": "#00cc96",
          "pattern": {
           "shape": ""
          }
         },
         "name": "high_wind_hours",
         "orientation": "v",
         "showlegend": true,
         "textposition": "auto",
         "type": "bar",
         "x": [
          "2019-11-30",
          "2019-12-01",
          "2019-12-02",
          "2019-12-03",
          "2019-12-04",
          "2019-12-05",
          "2019-12-06",
          "2019-12-07",
          "2019-12-08",
          "2019-12-09",
          "2019-12-10",
          "2019-12-11",
          "2019-12-12",
          "2019-12-13",
          "2019-12-14",
          "2019-12-15",
          "2019-12-16",
          "2019-12-17",
          "2019-12-18",
          "2019-12-19",
          "2019-12-20",
          "2019-12-21",
          "2019-12-22",
          "2019-12-23",
          "2019-12-24",
          "2019-12-25",
          "2019-12-26",
          "2019-12-27",
          "2019-12-28",
          "2019-12-29",
          "2019-12-30",
          "2019-12-31"
         ],
         "xaxis": "x",
         "y": {
          "bdata": "DwgKCBAABwANCg0DDQAIAgAHAgQAAAIAAAEHAgAGFhQ=",
          "dtype": "i1"
         },
         "yaxis": "y"
        }
       ],
       "layout": {
        "barmode": "stack",
        "legend": {
         "title": {
          "text": "condition"
         },
         "tracegroupgap": 0
        },
        "template": {
         "data": {
          "bar": [
           {
            "error_x": {
             "color": "#f2f5fa"
            },
            "error_y": {
             "color": "#f2f5fa"
            },
            "marker": {
             "line": {
              "color": "rgb(17,17,17)",
              "width": 0.5
             },
             "pattern": {
              "fillmode": "overlay",
              "size": 10,
              "solidity": 0.2
             }
            },
            "type": "bar"
           }
          ],
          "barpolar": [
           {
            "marker": {
             "line": {
              "color": "rgb(17,17,17)",
              "width": 0.5
             },
             "pattern": {
              "fillmode": "overlay",
              "size": 10,
              "solidity": 0.2
             }
            },
            "type": "barpolar"
           }
          ],
          "carpet": [
           {
            "aaxis": {
             "endlinecolor": "#A2B1C6",
             "gridcolor": "#506784",
             "linecolor": "#506784",
             "minorgridcolor": "#506784",
             "startlinecolor": "#A2B1C6"
            },
            "baxis": {
             "endlinecolor": "#A2B1C6",
             "gridcolor": "#506784",
             "linecolor": "#506784",
             "minorgridcolor": "#506784",
             "startlinecolor": "#A2B1C6"
            },
            "type": "carpet"
           }
          ],
          "choropleth": [
           {
            "colorbar": {
             "outlinewidth": 0,
             "ticks": ""
            },
            "type": "choropleth"
           }
          ],
          "contour": [
           {
            "colorbar": {
             "outlinewidth": 0,
             "ticks": ""
            },
            "colorscale": [
             [
              0,
              "#0d0887"
             ],
             [
              0.1111111111111111,
              "#46039f"
             ],
             [
              0.2222222222222222,
              "#7201a8"
             ],
             [
              0.3333333333333333,
              "#9c179e"
             ],
             [
              0.4444444444444444,
              "#bd3786"
             ],
             [
              0.5555555555555556,
              "#d8576b"
             ],
             [
              0.6666666666666666,
              "#ed7953"
             ],
             [
              0.7777777777777778,
              "#fb9f3a"
             ],
             [
              0.8888888888888888,
              "#fdca26"
             ],
             [
              1,
              "#f0f921"
             ]
            ],
            "type": "contour"
           }
          ],
          "contourcarpet": [
           {
            "colorbar": {
             "outlinewidth": 0,
             "ticks": ""
            },
            "type": "contourcarpet"
           }
          ],
          "heatmap": [
           {
            "colorbar": {
             "outlinewidth": 0,
             "ticks": ""
            },
            "colorscale": [
             [
              0,
              "#0d0887"
             ],
             [
              0.1111111111111111,
              "#46039f"
             ],
             [
              0.2222222222222222,
              "#7201a8"
             ],
             [
              0.3333333333333333,
              "#9c179e"
             ],
             [
              0.4444444444444444,
              "#bd3786"
             ],
             [
              0.5555555555555556,
              "#d8576b"
             ],
             [
              0.6666666666666666,
              "#ed7953"
             ],
             [
              0.7777777777777778,
              "#fb9f3a"
             ],
             [
              0.8888888888888888,
              "#fdca26"
             ],
             [
              1,
              "#f0f921"
             ]
            ],
            "type": "heatmap"
           }
          ],
          "histogram": [
           {
            "marker": {
             "pattern": {
              "fillmode": "overlay",
              "size": 10,
              "solidity": 0.2
             }
            },
            "type": "histogram"
           }
          ],
          "histogram2d": [
           {
            "colorbar": {
             "outlinewidth": 0,
             "ticks": ""
            },
            "colorscale": [
             [
              0,
              "#0d0887"
             ],
             [
              0.1111111111111111,
              "#46039f"
             ],
             [
              0.2222222222222222,
              "#7201a8"
             ],
             [
              0.3333333333333333,
              "#9c179e"
             ],
             [
              0.4444444444444444,
              "#bd3786"
             ],
             [
              0.5555555555555556,
              "#d8576b"
             ],
             [
              0.6666666666666666,
              "#ed7953"
             ],
             [
              0.7777777777777778,
              "#fb9f3a"
             ],
             [
              0.8888888888888888,
              "#fdca26"
             ],
             [
              1,
              "#f0f921"
             ]
            ],
            "type": "histogram2d"
           }
          ],
          "histogram2dcontour": [
           {
            "colorbar": {
             "outlinewidth": 0,
             "ticks": ""
            },
            "colorscale": [
             [
              0,
              "#0d0887"
             ],
             [
              0.1111111111111111,
              "#46039f"
             ],
             [
              0.2222222222222222,
              "#7201a8"
             ],
             [
              0.3333333333333333,
              "#9c179e"
             ],
             [
              0.4444444444444444,
              "#bd3786"
             ],
             [
              0.5555555555555556,
              "#d8576b"
             ],
             [
              0.6666666666666666,
              "#ed7953"
             ],
             [
              0.7777777777777778,
              "#fb9f3a"
             ],
             [
              0.8888888888888888,
              "#fdca26"
             ],
             [
              1,
              "#f0f921"
             ]
            ],
            "type": "histogram2dcontour"
           }
          ],
          "mesh3d": [
           {
            "colorbar": {
             "outlinewidth": 0,
             "ticks": ""
            },
            "type": "mesh3d"
           }
          ],
          "parcoords": [
           {
            "line": {
             "colorbar": {
              "outlinewidth": 0,
              "ticks": ""
             }
            },
            "type": "parcoords"
           }
          ],
          "pie": [
           {
            "automargin": true,
            "type": "pie"
           }
          ],
          "scatter": [
           {
            "marker": {
             "line": {
              "color": "#283442"
             }
            },
            "type": "scatter"
           }
          ],
          "scatter3d": [
           {
            "line": {
             "colorbar": {
              "outlinewidth": 0,
              "ticks": ""
             }
            },
            "marker": {
             "colorbar": {
              "outlinewidth": 0,
              "ticks": ""
             }
            },
            "type": "scatter3d"
           }
          ],
          "scattercarpet": [
           {
            "marker": {
             "colorbar": {
              "outlinewidth": 0,
              "ticks": ""
             }
            },
            "type": "scattercarpet"
           }
          ],
          "scattergeo": [
           {
            "marker": {
             "colorbar": {
              "outlinewidth": 0,
              "ticks": ""
             }
            },
            "type": "scattergeo"
           }
          ],
          "scattergl": [
           {
            "marker": {
             "line": {
              "color": "#283442"
             }
            },
            "type": "scattergl"
           }
          ],
          "scattermap": [
           {
            "marker": {
             "colorbar": {
              "outlinewidth": 0,
              "ticks": ""
             }
            },
            "type": "scattermap"
           }
          ],
          "scattermapbox": [
           {
            "marker": {
             "colorbar": {
              "outlinewidth": 0,
              "ticks": ""
             }
            },
            "type": "scattermapbox"
           }
          ],
          "scatterpolar": [
           {
            "marker": {
             "colorbar": {
              "outlinewidth": 0,
              "ticks": ""
             }
            },
            "type": "scatterpolar"
           }
          ],
          "scatterpolargl": [
           {
            "marker": {
             "colorbar": {
              "outlinewidth": 0,
              "ticks": ""
             }
            },
            "type": "scatterpolargl"
           }
          ],
          "scatterternary": [
           {
            "marker": {
             "colorbar": {
              "outlinewidth": 0,
              "ticks": ""
             }
            },
            "type": "scatterternary"
           }
          ],
          "surface": [
           {
            "colorbar": {
             "outlinewidth": 0,
             "ticks": ""
            },
            "colorscale": [
             [
              0,
              "#0d0887"
             ],
             [
              0.1111111111111111,
              "#46039f"
             ],
             [
              0.2222222222222222,
              "#7201a8"
             ],
             [
              0.3333333333333333,
              "#9c179e"
             ],
             [
              0.4444444444444444,
              "#bd3786"
             ],
             [
              0.5555555555555556,
              "#d8576b"
             ],
             [
              0.6666666666666666,
              "#ed7953"
             ],
             [
              0.7777777777777778,
              "#fb9f3a"
             ],
             [
              0.8888888888888888,
              "#fdca26"
             ],
             [
              1,
              "#f0f921"
             ]
            ],
            "type": "surface"
           }
          ],
          "table": [
           {
            "cells": {
             "fill": {
              "color": "#506784"
             },
             "line": {
              "color": "rgb(17,17,17)"
             }
            },
            "header": {
             "fill": {
              "color": "#2a3f5f"
             },
             "line": {
              "color": "rgb(17,17,17)"
             }
            },
            "type": "table"
           }
          ]
         },
         "layout": {
          "annotationdefaults": {
           "arrowcolor": "#f2f5fa",
           "arrowhead": 0,
           "arrowwidth": 1
          },
          "autotypenumbers": "strict",
          "coloraxis": {
           "colorbar": {
            "outlinewidth": 0,
            "ticks": ""
           }
          },
          "colorscale": {
           "diverging": [
            [
             0,
             "#8e0152"
            ],
            [
             0.1,
             "#c51b7d"
            ],
            [
             0.2,
             "#de77ae"
            ],
            [
             0.3,
             "#f1b6da"
            ],
            [
             0.4,
             "#fde0ef"
            ],
            [
             0.5,
             "#f7f7f7"
            ],
            [
             0.6,
             "#e6f5d0"
            ],
            [
             0.7,
             "#b8e186"
            ],
            [
             0.8,
             "#7fbc41"
            ],
            [
             0.9,
             "#4d9221"
            ],
            [
             1,
             "#276419"
            ]
           ],
           "sequential": [
            [
             0,
             "#0d0887"
            ],
            [
             0.1111111111111111,
             "#46039f"
            ],
            [
             0.2222222222222222,
             "#7201a8"
            ],
            [
             0.3333333333333333,
             "#9c179e"
            ],
            [
             0.4444444444444444,
             "#bd3786"
            ],
            [
             0.5555555555555556,
             "#d8576b"
            ],
            [
             0.6666666666666666,
             "#ed7953"
            ],
            [
             0.7777777777777778,
             "#fb9f3a"
            ],
            [
             0.8888888888888888,
             "#fdca26"
            ],
            [
             1,
             "#f0f921"
            ]
           ],
           "sequentialminus": [
            [
             0,
             "#0d0887"
            ],
            [
             0.1111111111111111,
             "#46039f"
            ],
            [
             0.2222222222222222,
             "#7201a8"
            ],
            [
             0.3333333333333333,
             "#9c179e"
            ],
            [
             0.4444444444444444,
             "#bd3786"
            ],
            [
             0.5555555555555556,
             "#d8576b"
            ],
            [
             0.6666666666666666,
             "#ed7953"
            ],
            [
             0.7777777777777778,
             "#fb9f3a"
            ],
            [
             0.8888888888888888,
             "#fdca26"
            ],
            [
             1,
             "#f0f921"
            ]
           ]
          },
          "colorway": [
           "#636efa",
           "#EF553B",
           "#00cc96",
           "#ab63fa",
           "#FFA15A",
           "#19d3f3",
           "#FF6692",
           "#B6E880",
           "#FF97FF",
           "#FECB52"
          ],
          "font": {
           "color": "#f2f5fa"
          },
          "geo": {
           "bgcolor": "rgb(17,17,17)",
           "lakecolor": "rgb(17,17,17)",
           "landcolor": "rgb(17,17,17)",
           "showlakes": true,
           "showland": true,
           "subunitcolor": "#506784"
          },
          "hoverlabel": {
           "align": "left"
          },
          "hovermode": "closest",
          "mapbox": {
           "style": "dark"
          },
          "paper_bgcolor": "rgb(17,17,17)",
          "plot_bgcolor": "rgb(17,17,17)",
          "polar": {
           "angularaxis": {
            "gridcolor": "#506784",
            "linecolor": "#506784",
            "ticks": ""
           },
           "bgcolor": "rgb(17,17,17)",
           "radialaxis": {
            "gridcolor": "#506784",
            "linecolor": "#506784",
            "ticks": ""
           }
          },
          "scene": {
           "xaxis": {
            "backgroundcolor": "rgb(17,17,17)",
            "gridcolor": "#506784",
            "gridwidth": 2,
            "linecolor": "#506784",
            "showbackground": true,
            "ticks": "",
            "zerolinecolor": "#C8D4E3"
           },
           "yaxis": {
            "backgroundcolor": "rgb(17,17,17)",
            "gridcolor": "#506784",
            "gridwidth": 2,
            "linecolor": "#506784",
            "showbackground": true,
            "ticks": "",
            "zerolinecolor": "#C8D4E3"
           },
           "zaxis": {
            "backgroundcolor": "rgb(17,17,17)",
            "gridcolor": "#506784",
            "gridwidth": 2,
            "linecolor": "#506784",
            "showbackground": true,
            "ticks": "",
            "zerolinecolor": "#C8D4E3"
           }
          },
          "shapedefaults": {
           "line": {
            "color": "#f2f5fa"
           }
          },
          "sliderdefaults": {
           "bgcolor": "#C8D4E3",
           "bordercolor": "rgb(17,17,17)",
           "borderwidth": 1,
           "tickwidth": 0
          },
          "ternary": {
           "aaxis": {
            "gridcolor": "#506784",
            "linecolor": "#506784",
            "ticks": ""
           },
           "baxis": {
            "gridcolor": "#506784",
            "linecolor": "#506784",
            "ticks": ""
           },
           "bgcolor": "rgb(17,17,17)",
           "caxis": {
            "gridcolor": "#506784",
            "linecolor": "#506784",
            "ticks": ""
           }
          },
          "title": {
           "x": 0.05
          },
          "updatemenudefaults": {
           "bgcolor": "#506784",
           "borderwidth": 0
          },
          "xaxis": {
           "automargin": true,
           "gridcolor": "#283442",
           "linecolor": "#506784",
           "ticks": "",
           "title": {
            "standoff": 15
           },
           "zerolinecolor": "#283442",
           "zerolinewidth": 2
          },
          "yaxis": {
           "automargin": true,
           "gridcolor": "#283442",
           "linecolor": "#506784",
           "ticks": "",
           "title": {
            "standoff": 15
           },
           "zerolinecolor": "#283442",
           "zerolinewidth": 2
          }
         }
        },
        "title": {
         "text": "HIX • Daily Adverse-Condition Hours"
        },
        "xaxis": {
         "anchor": "y",
         "domain": [
          0,
          1
         ],
         "title": {
          "text": ""
         }
        },
        "yaxis": {
         "anchor": "x",
         "domain": [
          0,
          1
         ],
         "title": {
          "text": "Hours"
         }
        }
       }
      }
     },
     "metadata": {},
     "output_type": "display_data"
    }
   ],
   "source": [
    "daily_long = daily.melt(\n",
    "    id_vars=[\"date\",\"mean_temp\",\"gust_95p\"],\n",
    "    value_vars=[\"precip_hours\",\"low_vis_hours\",\"high_wind_hours\"],\n",
    "    var_name=\"condition\", value_name=\"hours\"\n",
    ")\n",
    "\n",
    "fig1 = px.bar(\n",
    "    daily_long, x=\"date\", y=\"hours\", color=\"condition\",\n",
    "    title=\"HIX • Daily Adverse-Condition Hours\",\n",
    "    hover_data={\"mean_temp\":\":.1f\", \"gust_95p\":\":.1f\"}\n",
    ")\n",
    "fig1.update_layout(barmode=\"stack\", \n",
    "                   xaxis_title=\"\", \n",
    "                   yaxis_title=\"Hours\",\n",
    "                   template = 'plotly_dark'\n",
    "                   )\n",
    "fig1.show()\n"
   ]
  },
  {
   "cell_type": "code",
   "execution_count": 22,
   "id": "f4990afe",
   "metadata": {},
   "outputs": [
    {
     "data": {
      "application/vnd.plotly.v1+json": {
       "config": {
        "plotlyServerURL": "https://plot.ly"
       },
       "data": [
        {
         "hovertemplate": "Time: %{x}<br>Temp: %{y:.1f}°F<extra></extra>",
         "mode": "lines",
         "name": "Temperature",
         "type": "scatter",
         "x": [
          "2019-11-30T00:00:00.000000000",
          "2019-11-30T01:00:00.000000000",
          "2019-11-30T02:00:00.000000000",
          "2019-11-30T03:00:00.000000000",
          "2019-11-30T04:00:00.000000000",
          "2019-11-30T05:00:00.000000000",
          "2019-11-30T06:00:00.000000000",
          "2019-11-30T07:00:00.000000000",
          "2019-11-30T08:00:00.000000000",
          "2019-11-30T09:00:00.000000000",
          "2019-11-30T10:00:00.000000000",
          "2019-11-30T11:00:00.000000000",
          "2019-11-30T12:00:00.000000000",
          "2019-11-30T13:00:00.000000000",
          "2019-11-30T14:00:00.000000000",
          "2019-11-30T15:00:00.000000000",
          "2019-11-30T16:00:00.000000000",
          "2019-11-30T17:00:00.000000000",
          "2019-11-30T18:00:00.000000000",
          "2019-11-30T19:00:00.000000000",
          "2019-11-30T20:00:00.000000000",
          "2019-11-30T21:00:00.000000000",
          "2019-11-30T22:00:00.000000000",
          "2019-11-30T23:00:00.000000000",
          "2019-12-01T00:00:00.000000000",
          "2019-12-01T01:00:00.000000000",
          "2019-12-01T02:00:00.000000000",
          "2019-12-01T03:00:00.000000000",
          "2019-12-01T04:00:00.000000000",
          "2019-12-01T05:00:00.000000000",
          "2019-12-01T06:00:00.000000000",
          "2019-12-01T07:00:00.000000000",
          "2019-12-01T08:00:00.000000000",
          "2019-12-01T09:00:00.000000000",
          "2019-12-01T10:00:00.000000000",
          "2019-12-01T11:00:00.000000000",
          "2019-12-01T12:00:00.000000000",
          "2019-12-01T13:00:00.000000000",
          "2019-12-01T14:00:00.000000000",
          "2019-12-01T15:00:00.000000000",
          "2019-12-01T16:00:00.000000000",
          "2019-12-01T17:00:00.000000000",
          "2019-12-01T18:00:00.000000000",
          "2019-12-01T19:00:00.000000000",
          "2019-12-01T20:00:00.000000000",
          "2019-12-01T21:00:00.000000000",
          "2019-12-01T22:00:00.000000000",
          "2019-12-01T23:00:00.000000000",
          "2019-12-02T00:00:00.000000000",
          "2019-12-02T01:00:00.000000000",
          "2019-12-02T02:00:00.000000000",
          "2019-12-02T03:00:00.000000000",
          "2019-12-02T04:00:00.000000000",
          "2019-12-02T05:00:00.000000000",
          "2019-12-02T06:00:00.000000000",
          "2019-12-02T07:00:00.000000000",
          "2019-12-02T08:00:00.000000000",
          "2019-12-02T09:00:00.000000000",
          "2019-12-02T10:00:00.000000000",
          "2019-12-02T11:00:00.000000000",
          "2019-12-02T12:00:00.000000000",
          "2019-12-02T13:00:00.000000000",
          "2019-12-02T14:00:00.000000000",
          "2019-12-02T15:00:00.000000000",
          "2019-12-02T16:00:00.000000000",
          "2019-12-02T17:00:00.000000000",
          "2019-12-02T18:00:00.000000000",
          "2019-12-02T19:00:00.000000000",
          "2019-12-02T20:00:00.000000000",
          "2019-12-02T21:00:00.000000000",
          "2019-12-02T22:00:00.000000000",
          "2019-12-02T23:00:00.000000000",
          "2019-12-03T00:00:00.000000000",
          "2019-12-03T01:00:00.000000000",
          "2019-12-03T02:00:00.000000000",
          "2019-12-03T03:00:00.000000000",
          "2019-12-03T04:00:00.000000000",
          "2019-12-03T05:00:00.000000000",
          "2019-12-03T06:00:00.000000000",
          "2019-12-03T07:00:00.000000000",
          "2019-12-03T08:00:00.000000000",
          "2019-12-03T09:00:00.000000000",
          "2019-12-03T10:00:00.000000000",
          "2019-12-03T11:00:00.000000000",
          "2019-12-03T12:00:00.000000000",
          "2019-12-03T13:00:00.000000000",
          "2019-12-03T14:00:00.000000000",
          "2019-12-03T15:00:00.000000000",
          "2019-12-03T16:00:00.000000000",
          "2019-12-03T17:00:00.000000000",
          "2019-12-03T18:00:00.000000000",
          "2019-12-03T19:00:00.000000000",
          "2019-12-03T20:00:00.000000000",
          "2019-12-03T21:00:00.000000000",
          "2019-12-03T22:00:00.000000000",
          "2019-12-03T23:00:00.000000000",
          "2019-12-04T00:00:00.000000000",
          "2019-12-04T01:00:00.000000000",
          "2019-12-04T02:00:00.000000000",
          "2019-12-04T03:00:00.000000000",
          "2019-12-04T04:00:00.000000000",
          "2019-12-04T05:00:00.000000000",
          "2019-12-04T06:00:00.000000000",
          "2019-12-04T07:00:00.000000000",
          "2019-12-04T08:00:00.000000000",
          "2019-12-04T09:00:00.000000000",
          "2019-12-04T10:00:00.000000000",
          "2019-12-04T11:00:00.000000000",
          "2019-12-04T12:00:00.000000000",
          "2019-12-04T13:00:00.000000000",
          "2019-12-04T14:00:00.000000000",
          "2019-12-04T15:00:00.000000000",
          "2019-12-04T16:00:00.000000000",
          "2019-12-04T17:00:00.000000000",
          "2019-12-04T18:00:00.000000000",
          "2019-12-04T19:00:00.000000000",
          "2019-12-04T20:00:00.000000000",
          "2019-12-04T21:00:00.000000000",
          "2019-12-04T22:00:00.000000000",
          "2019-12-04T23:00:00.000000000",
          "2019-12-05T00:00:00.000000000",
          "2019-12-05T01:00:00.000000000",
          "2019-12-05T02:00:00.000000000",
          "2019-12-05T03:00:00.000000000",
          "2019-12-05T04:00:00.000000000",
          "2019-12-05T05:00:00.000000000",
          "2019-12-05T06:00:00.000000000",
          "2019-12-05T07:00:00.000000000",
          "2019-12-05T08:00:00.000000000",
          "2019-12-05T09:00:00.000000000",
          "2019-12-05T10:00:00.000000000",
          "2019-12-05T11:00:00.000000000",
          "2019-12-05T12:00:00.000000000",
          "2019-12-05T13:00:00.000000000",
          "2019-12-05T14:00:00.000000000",
          "2019-12-05T15:00:00.000000000",
          "2019-12-05T16:00:00.000000000",
          "2019-12-05T17:00:00.000000000",
          "2019-12-05T18:00:00.000000000",
          "2019-12-05T19:00:00.000000000",
          "2019-12-05T20:00:00.000000000",
          "2019-12-05T21:00:00.000000000",
          "2019-12-05T22:00:00.000000000",
          "2019-12-05T23:00:00.000000000",
          "2019-12-06T00:00:00.000000000",
          "2019-12-06T01:00:00.000000000",
          "2019-12-06T02:00:00.000000000",
          "2019-12-06T03:00:00.000000000",
          "2019-12-06T04:00:00.000000000",
          "2019-12-06T05:00:00.000000000",
          "2019-12-06T06:00:00.000000000",
          "2019-12-06T07:00:00.000000000",
          "2019-12-06T08:00:00.000000000",
          "2019-12-06T09:00:00.000000000",
          "2019-12-06T10:00:00.000000000",
          "2019-12-06T11:00:00.000000000",
          "2019-12-06T12:00:00.000000000",
          "2019-12-06T13:00:00.000000000",
          "2019-12-06T14:00:00.000000000",
          "2019-12-06T15:00:00.000000000",
          "2019-12-06T16:00:00.000000000",
          "2019-12-06T17:00:00.000000000",
          "2019-12-06T18:00:00.000000000",
          "2019-12-06T19:00:00.000000000",
          "2019-12-06T20:00:00.000000000",
          "2019-12-06T21:00:00.000000000",
          "2019-12-06T22:00:00.000000000",
          "2019-12-06T23:00:00.000000000",
          "2019-12-07T00:00:00.000000000",
          "2019-12-07T01:00:00.000000000",
          "2019-12-07T02:00:00.000000000",
          "2019-12-07T03:00:00.000000000",
          "2019-12-07T04:00:00.000000000",
          "2019-12-07T05:00:00.000000000",
          "2019-12-07T06:00:00.000000000",
          "2019-12-07T07:00:00.000000000",
          "2019-12-07T08:00:00.000000000",
          "2019-12-07T09:00:00.000000000",
          "2019-12-07T10:00:00.000000000",
          "2019-12-07T11:00:00.000000000",
          "2019-12-07T12:00:00.000000000",
          "2019-12-07T13:00:00.000000000",
          "2019-12-07T14:00:00.000000000",
          "2019-12-07T15:00:00.000000000",
          "2019-12-07T16:00:00.000000000",
          "2019-12-07T17:00:00.000000000",
          "2019-12-07T18:00:00.000000000",
          "2019-12-07T19:00:00.000000000",
          "2019-12-07T20:00:00.000000000",
          "2019-12-07T21:00:00.000000000",
          "2019-12-07T22:00:00.000000000",
          "2019-12-07T23:00:00.000000000",
          "2019-12-08T00:00:00.000000000",
          "2019-12-08T01:00:00.000000000",
          "2019-12-08T02:00:00.000000000",
          "2019-12-08T03:00:00.000000000",
          "2019-12-08T04:00:00.000000000",
          "2019-12-08T05:00:00.000000000",
          "2019-12-08T06:00:00.000000000",
          "2019-12-08T07:00:00.000000000",
          "2019-12-08T08:00:00.000000000",
          "2019-12-08T09:00:00.000000000",
          "2019-12-08T10:00:00.000000000",
          "2019-12-08T11:00:00.000000000",
          "2019-12-08T12:00:00.000000000",
          "2019-12-08T13:00:00.000000000",
          "2019-12-08T14:00:00.000000000",
          "2019-12-08T15:00:00.000000000",
          "2019-12-08T16:00:00.000000000",
          "2019-12-08T17:00:00.000000000",
          "2019-12-08T18:00:00.000000000",
          "2019-12-08T19:00:00.000000000",
          "2019-12-08T20:00:00.000000000",
          "2019-12-08T21:00:00.000000000",
          "2019-12-08T22:00:00.000000000",
          "2019-12-08T23:00:00.000000000",
          "2019-12-09T00:00:00.000000000",
          "2019-12-09T01:00:00.000000000",
          "2019-12-09T02:00:00.000000000",
          "2019-12-09T03:00:00.000000000",
          "2019-12-09T04:00:00.000000000",
          "2019-12-09T05:00:00.000000000",
          "2019-12-09T06:00:00.000000000",
          "2019-12-09T07:00:00.000000000",
          "2019-12-09T08:00:00.000000000",
          "2019-12-09T09:00:00.000000000",
          "2019-12-09T10:00:00.000000000",
          "2019-12-09T11:00:00.000000000",
          "2019-12-09T12:00:00.000000000",
          "2019-12-09T13:00:00.000000000",
          "2019-12-09T14:00:00.000000000",
          "2019-12-09T15:00:00.000000000",
          "2019-12-09T16:00:00.000000000",
          "2019-12-09T17:00:00.000000000",
          "2019-12-09T18:00:00.000000000",
          "2019-12-09T19:00:00.000000000",
          "2019-12-09T20:00:00.000000000",
          "2019-12-09T21:00:00.000000000",
          "2019-12-09T22:00:00.000000000",
          "2019-12-09T23:00:00.000000000",
          "2019-12-10T00:00:00.000000000",
          "2019-12-10T01:00:00.000000000",
          "2019-12-10T02:00:00.000000000",
          "2019-12-10T03:00:00.000000000",
          "2019-12-10T04:00:00.000000000",
          "2019-12-10T05:00:00.000000000",
          "2019-12-10T06:00:00.000000000",
          "2019-12-10T07:00:00.000000000",
          "2019-12-10T08:00:00.000000000",
          "2019-12-10T09:00:00.000000000",
          "2019-12-10T10:00:00.000000000",
          "2019-12-10T11:00:00.000000000",
          "2019-12-10T12:00:00.000000000",
          "2019-12-10T13:00:00.000000000",
          "2019-12-10T14:00:00.000000000",
          "2019-12-10T15:00:00.000000000",
          "2019-12-10T16:00:00.000000000",
          "2019-12-10T17:00:00.000000000",
          "2019-12-10T18:00:00.000000000",
          "2019-12-10T19:00:00.000000000",
          "2019-12-10T20:00:00.000000000",
          "2019-12-10T21:00:00.000000000",
          "2019-12-10T22:00:00.000000000",
          "2019-12-10T23:00:00.000000000",
          "2019-12-11T00:00:00.000000000",
          "2019-12-11T01:00:00.000000000",
          "2019-12-11T02:00:00.000000000",
          "2019-12-11T03:00:00.000000000",
          "2019-12-11T04:00:00.000000000",
          "2019-12-11T05:00:00.000000000",
          "2019-12-11T06:00:00.000000000",
          "2019-12-11T07:00:00.000000000",
          "2019-12-11T08:00:00.000000000",
          "2019-12-11T09:00:00.000000000",
          "2019-12-11T10:00:00.000000000",
          "2019-12-11T11:00:00.000000000",
          "2019-12-11T12:00:00.000000000",
          "2019-12-11T13:00:00.000000000",
          "2019-12-11T14:00:00.000000000",
          "2019-12-11T15:00:00.000000000",
          "2019-12-11T16:00:00.000000000",
          "2019-12-11T17:00:00.000000000",
          "2019-12-11T18:00:00.000000000",
          "2019-12-11T19:00:00.000000000",
          "2019-12-11T20:00:00.000000000",
          "2019-12-11T21:00:00.000000000",
          "2019-12-11T22:00:00.000000000",
          "2019-12-11T23:00:00.000000000",
          "2019-12-12T00:00:00.000000000",
          "2019-12-12T01:00:00.000000000",
          "2019-12-12T02:00:00.000000000",
          "2019-12-12T03:00:00.000000000",
          "2019-12-12T04:00:00.000000000",
          "2019-12-12T05:00:00.000000000",
          "2019-12-12T06:00:00.000000000",
          "2019-12-12T07:00:00.000000000",
          "2019-12-12T08:00:00.000000000",
          "2019-12-12T09:00:00.000000000",
          "2019-12-12T10:00:00.000000000",
          "2019-12-12T11:00:00.000000000",
          "2019-12-12T12:00:00.000000000",
          "2019-12-12T13:00:00.000000000",
          "2019-12-12T14:00:00.000000000",
          "2019-12-12T15:00:00.000000000",
          "2019-12-12T16:00:00.000000000",
          "2019-12-12T17:00:00.000000000",
          "2019-12-12T18:00:00.000000000",
          "2019-12-12T19:00:00.000000000",
          "2019-12-12T20:00:00.000000000",
          "2019-12-12T21:00:00.000000000",
          "2019-12-12T22:00:00.000000000",
          "2019-12-12T23:00:00.000000000",
          "2019-12-13T00:00:00.000000000",
          "2019-12-13T01:00:00.000000000",
          "2019-12-13T02:00:00.000000000",
          "2019-12-13T03:00:00.000000000",
          "2019-12-13T04:00:00.000000000",
          "2019-12-13T05:00:00.000000000",
          "2019-12-13T06:00:00.000000000",
          "2019-12-13T07:00:00.000000000",
          "2019-12-13T08:00:00.000000000",
          "2019-12-13T09:00:00.000000000",
          "2019-12-13T10:00:00.000000000",
          "2019-12-13T11:00:00.000000000",
          "2019-12-13T12:00:00.000000000",
          "2019-12-13T13:00:00.000000000",
          "2019-12-13T14:00:00.000000000",
          "2019-12-13T15:00:00.000000000",
          "2019-12-13T16:00:00.000000000",
          "2019-12-13T17:00:00.000000000",
          "2019-12-13T18:00:00.000000000",
          "2019-12-13T19:00:00.000000000",
          "2019-12-13T20:00:00.000000000",
          "2019-12-13T21:00:00.000000000",
          "2019-12-13T22:00:00.000000000",
          "2019-12-13T23:00:00.000000000",
          "2019-12-14T00:00:00.000000000",
          "2019-12-14T01:00:00.000000000",
          "2019-12-14T02:00:00.000000000",
          "2019-12-14T03:00:00.000000000",
          "2019-12-14T04:00:00.000000000",
          "2019-12-14T05:00:00.000000000",
          "2019-12-14T06:00:00.000000000",
          "2019-12-14T07:00:00.000000000",
          "2019-12-14T08:00:00.000000000",
          "2019-12-14T09:00:00.000000000",
          "2019-12-14T10:00:00.000000000",
          "2019-12-14T11:00:00.000000000",
          "2019-12-14T12:00:00.000000000",
          "2019-12-14T13:00:00.000000000",
          "2019-12-14T14:00:00.000000000",
          "2019-12-14T15:00:00.000000000",
          "2019-12-14T16:00:00.000000000",
          "2019-12-14T17:00:00.000000000",
          "2019-12-14T18:00:00.000000000",
          "2019-12-14T19:00:00.000000000",
          "2019-12-14T20:00:00.000000000",
          "2019-12-14T21:00:00.000000000",
          "2019-12-14T22:00:00.000000000",
          "2019-12-14T23:00:00.000000000",
          "2019-12-15T00:00:00.000000000",
          "2019-12-15T01:00:00.000000000",
          "2019-12-15T02:00:00.000000000",
          "2019-12-15T03:00:00.000000000",
          "2019-12-15T04:00:00.000000000",
          "2019-12-15T05:00:00.000000000",
          "2019-12-15T06:00:00.000000000",
          "2019-12-15T07:00:00.000000000",
          "2019-12-15T08:00:00.000000000",
          "2019-12-15T09:00:00.000000000",
          "2019-12-15T10:00:00.000000000",
          "2019-12-15T11:00:00.000000000",
          "2019-12-15T12:00:00.000000000",
          "2019-12-15T13:00:00.000000000",
          "2019-12-15T14:00:00.000000000",
          "2019-12-15T15:00:00.000000000",
          "2019-12-15T16:00:00.000000000",
          "2019-12-15T17:00:00.000000000",
          "2019-12-15T18:00:00.000000000",
          "2019-12-15T19:00:00.000000000",
          "2019-12-15T20:00:00.000000000",
          "2019-12-15T21:00:00.000000000",
          "2019-12-15T22:00:00.000000000",
          "2019-12-15T23:00:00.000000000",
          "2019-12-16T00:00:00.000000000",
          "2019-12-16T01:00:00.000000000",
          "2019-12-16T02:00:00.000000000",
          "2019-12-16T03:00:00.000000000",
          "2019-12-16T04:00:00.000000000",
          "2019-12-16T05:00:00.000000000",
          "2019-12-16T06:00:00.000000000",
          "2019-12-16T07:00:00.000000000",
          "2019-12-16T08:00:00.000000000",
          "2019-12-16T09:00:00.000000000",
          "2019-12-16T10:00:00.000000000",
          "2019-12-16T11:00:00.000000000",
          "2019-12-16T12:00:00.000000000",
          "2019-12-16T13:00:00.000000000",
          "2019-12-16T14:00:00.000000000",
          "2019-12-16T15:00:00.000000000",
          "2019-12-16T16:00:00.000000000",
          "2019-12-16T17:00:00.000000000",
          "2019-12-16T18:00:00.000000000",
          "2019-12-16T19:00:00.000000000",
          "2019-12-16T20:00:00.000000000",
          "2019-12-16T21:00:00.000000000",
          "2019-12-16T22:00:00.000000000",
          "2019-12-16T23:00:00.000000000",
          "2019-12-17T00:00:00.000000000",
          "2019-12-17T01:00:00.000000000",
          "2019-12-17T02:00:00.000000000",
          "2019-12-17T03:00:00.000000000",
          "2019-12-17T04:00:00.000000000",
          "2019-12-17T05:00:00.000000000",
          "2019-12-17T06:00:00.000000000",
          "2019-12-17T07:00:00.000000000",
          "2019-12-17T08:00:00.000000000",
          "2019-12-17T09:00:00.000000000",
          "2019-12-17T10:00:00.000000000",
          "2019-12-17T11:00:00.000000000",
          "2019-12-17T12:00:00.000000000",
          "2019-12-17T13:00:00.000000000",
          "2019-12-17T14:00:00.000000000",
          "2019-12-17T15:00:00.000000000",
          "2019-12-17T16:00:00.000000000",
          "2019-12-17T17:00:00.000000000",
          "2019-12-17T18:00:00.000000000",
          "2019-12-17T19:00:00.000000000",
          "2019-12-17T20:00:00.000000000",
          "2019-12-17T21:00:00.000000000",
          "2019-12-17T22:00:00.000000000",
          "2019-12-17T23:00:00.000000000",
          "2019-12-18T00:00:00.000000000",
          "2019-12-18T01:00:00.000000000",
          "2019-12-18T02:00:00.000000000",
          "2019-12-18T03:00:00.000000000",
          "2019-12-18T04:00:00.000000000",
          "2019-12-18T05:00:00.000000000",
          "2019-12-18T06:00:00.000000000",
          "2019-12-18T07:00:00.000000000",
          "2019-12-18T08:00:00.000000000",
          "2019-12-18T09:00:00.000000000",
          "2019-12-18T10:00:00.000000000",
          "2019-12-18T11:00:00.000000000",
          "2019-12-18T12:00:00.000000000",
          "2019-12-18T13:00:00.000000000",
          "2019-12-18T14:00:00.000000000",
          "2019-12-18T15:00:00.000000000",
          "2019-12-18T16:00:00.000000000",
          "2019-12-18T17:00:00.000000000",
          "2019-12-18T18:00:00.000000000",
          "2019-12-18T19:00:00.000000000",
          "2019-12-18T20:00:00.000000000",
          "2019-12-18T21:00:00.000000000",
          "2019-12-18T22:00:00.000000000",
          "2019-12-18T23:00:00.000000000",
          "2019-12-19T00:00:00.000000000",
          "2019-12-19T01:00:00.000000000",
          "2019-12-19T02:00:00.000000000",
          "2019-12-19T03:00:00.000000000",
          "2019-12-19T04:00:00.000000000",
          "2019-12-19T05:00:00.000000000",
          "2019-12-19T06:00:00.000000000",
          "2019-12-19T07:00:00.000000000",
          "2019-12-19T08:00:00.000000000",
          "2019-12-19T09:00:00.000000000",
          "2019-12-19T10:00:00.000000000",
          "2019-12-19T11:00:00.000000000",
          "2019-12-19T12:00:00.000000000",
          "2019-12-19T13:00:00.000000000",
          "2019-12-19T14:00:00.000000000",
          "2019-12-19T15:00:00.000000000",
          "2019-12-19T16:00:00.000000000",
          "2019-12-19T17:00:00.000000000",
          "2019-12-19T18:00:00.000000000",
          "2019-12-19T19:00:00.000000000",
          "2019-12-19T20:00:00.000000000",
          "2019-12-19T21:00:00.000000000",
          "2019-12-19T22:00:00.000000000",
          "2019-12-19T23:00:00.000000000",
          "2019-12-20T00:00:00.000000000",
          "2019-12-20T01:00:00.000000000",
          "2019-12-20T02:00:00.000000000",
          "2019-12-20T03:00:00.000000000",
          "2019-12-20T04:00:00.000000000",
          "2019-12-20T05:00:00.000000000",
          "2019-12-20T06:00:00.000000000",
          "2019-12-20T07:00:00.000000000",
          "2019-12-20T08:00:00.000000000",
          "2019-12-20T09:00:00.000000000",
          "2019-12-20T10:00:00.000000000",
          "2019-12-20T11:00:00.000000000",
          "2019-12-20T12:00:00.000000000",
          "2019-12-20T13:00:00.000000000",
          "2019-12-20T14:00:00.000000000",
          "2019-12-20T15:00:00.000000000",
          "2019-12-20T16:00:00.000000000",
          "2019-12-20T17:00:00.000000000",
          "2019-12-20T18:00:00.000000000",
          "2019-12-20T19:00:00.000000000",
          "2019-12-20T20:00:00.000000000",
          "2019-12-20T21:00:00.000000000",
          "2019-12-20T22:00:00.000000000",
          "2019-12-20T23:00:00.000000000",
          "2019-12-21T00:00:00.000000000",
          "2019-12-21T01:00:00.000000000",
          "2019-12-21T02:00:00.000000000",
          "2019-12-21T03:00:00.000000000",
          "2019-12-21T04:00:00.000000000",
          "2019-12-21T05:00:00.000000000",
          "2019-12-21T06:00:00.000000000",
          "2019-12-21T07:00:00.000000000",
          "2019-12-21T08:00:00.000000000",
          "2019-12-21T09:00:00.000000000",
          "2019-12-21T10:00:00.000000000",
          "2019-12-21T11:00:00.000000000",
          "2019-12-21T12:00:00.000000000",
          "2019-12-21T13:00:00.000000000",
          "2019-12-21T14:00:00.000000000",
          "2019-12-21T15:00:00.000000000",
          "2019-12-21T16:00:00.000000000",
          "2019-12-21T17:00:00.000000000",
          "2019-12-21T18:00:00.000000000",
          "2019-12-21T19:00:00.000000000",
          "2019-12-21T20:00:00.000000000",
          "2019-12-21T21:00:00.000000000",
          "2019-12-21T22:00:00.000000000",
          "2019-12-21T23:00:00.000000000",
          "2019-12-22T00:00:00.000000000",
          "2019-12-22T01:00:00.000000000",
          "2019-12-22T02:00:00.000000000",
          "2019-12-22T03:00:00.000000000",
          "2019-12-22T04:00:00.000000000",
          "2019-12-22T05:00:00.000000000",
          "2019-12-22T06:00:00.000000000",
          "2019-12-22T07:00:00.000000000",
          "2019-12-22T08:00:00.000000000",
          "2019-12-22T09:00:00.000000000",
          "2019-12-22T10:00:00.000000000",
          "2019-12-22T11:00:00.000000000",
          "2019-12-22T12:00:00.000000000",
          "2019-12-22T13:00:00.000000000",
          "2019-12-22T14:00:00.000000000",
          "2019-12-22T15:00:00.000000000",
          "2019-12-22T16:00:00.000000000",
          "2019-12-22T17:00:00.000000000",
          "2019-12-22T18:00:00.000000000",
          "2019-12-22T19:00:00.000000000",
          "2019-12-22T20:00:00.000000000",
          "2019-12-22T21:00:00.000000000",
          "2019-12-22T22:00:00.000000000",
          "2019-12-22T23:00:00.000000000",
          "2019-12-23T00:00:00.000000000",
          "2019-12-23T01:00:00.000000000",
          "2019-12-23T02:00:00.000000000",
          "2019-12-23T03:00:00.000000000",
          "2019-12-23T04:00:00.000000000",
          "2019-12-23T05:00:00.000000000",
          "2019-12-23T06:00:00.000000000",
          "2019-12-23T07:00:00.000000000",
          "2019-12-23T08:00:00.000000000",
          "2019-12-23T09:00:00.000000000",
          "2019-12-23T10:00:00.000000000",
          "2019-12-23T11:00:00.000000000",
          "2019-12-23T12:00:00.000000000",
          "2019-12-23T13:00:00.000000000",
          "2019-12-23T14:00:00.000000000",
          "2019-12-23T15:00:00.000000000",
          "2019-12-23T16:00:00.000000000",
          "2019-12-23T17:00:00.000000000",
          "2019-12-23T18:00:00.000000000",
          "2019-12-23T19:00:00.000000000",
          "2019-12-23T20:00:00.000000000",
          "2019-12-23T21:00:00.000000000",
          "2019-12-23T22:00:00.000000000",
          "2019-12-23T23:00:00.000000000",
          "2019-12-24T00:00:00.000000000",
          "2019-12-24T01:00:00.000000000",
          "2019-12-24T02:00:00.000000000",
          "2019-12-24T03:00:00.000000000",
          "2019-12-24T04:00:00.000000000",
          "2019-12-24T05:00:00.000000000",
          "2019-12-24T06:00:00.000000000",
          "2019-12-24T07:00:00.000000000",
          "2019-12-24T08:00:00.000000000",
          "2019-12-24T09:00:00.000000000",
          "2019-12-24T10:00:00.000000000",
          "2019-12-24T11:00:00.000000000",
          "2019-12-24T12:00:00.000000000",
          "2019-12-24T13:00:00.000000000",
          "2019-12-24T14:00:00.000000000",
          "2019-12-24T15:00:00.000000000",
          "2019-12-24T16:00:00.000000000",
          "2019-12-24T17:00:00.000000000",
          "2019-12-24T18:00:00.000000000",
          "2019-12-24T19:00:00.000000000",
          "2019-12-24T20:00:00.000000000",
          "2019-12-24T21:00:00.000000000",
          "2019-12-24T22:00:00.000000000",
          "2019-12-24T23:00:00.000000000",
          "2019-12-25T00:00:00.000000000",
          "2019-12-25T01:00:00.000000000",
          "2019-12-25T02:00:00.000000000",
          "2019-12-25T03:00:00.000000000",
          "2019-12-25T04:00:00.000000000",
          "2019-12-25T05:00:00.000000000",
          "2019-12-25T06:00:00.000000000",
          "2019-12-25T07:00:00.000000000",
          "2019-12-25T08:00:00.000000000",
          "2019-12-25T09:00:00.000000000",
          "2019-12-25T10:00:00.000000000",
          "2019-12-25T11:00:00.000000000",
          "2019-12-25T12:00:00.000000000",
          "2019-12-25T13:00:00.000000000",
          "2019-12-25T14:00:00.000000000",
          "2019-12-25T15:00:00.000000000",
          "2019-12-25T16:00:00.000000000",
          "2019-12-25T17:00:00.000000000",
          "2019-12-25T18:00:00.000000000",
          "2019-12-25T19:00:00.000000000",
          "2019-12-25T20:00:00.000000000",
          "2019-12-25T21:00:00.000000000",
          "2019-12-25T22:00:00.000000000",
          "2019-12-25T23:00:00.000000000",
          "2019-12-26T00:00:00.000000000",
          "2019-12-26T01:00:00.000000000",
          "2019-12-26T02:00:00.000000000",
          "2019-12-26T03:00:00.000000000",
          "2019-12-26T04:00:00.000000000",
          "2019-12-26T05:00:00.000000000",
          "2019-12-26T06:00:00.000000000",
          "2019-12-26T07:00:00.000000000",
          "2019-12-26T08:00:00.000000000",
          "2019-12-26T09:00:00.000000000",
          "2019-12-26T10:00:00.000000000",
          "2019-12-26T11:00:00.000000000",
          "2019-12-26T12:00:00.000000000",
          "2019-12-26T13:00:00.000000000",
          "2019-12-26T14:00:00.000000000",
          "2019-12-26T15:00:00.000000000",
          "2019-12-26T16:00:00.000000000",
          "2019-12-26T17:00:00.000000000",
          "2019-12-26T18:00:00.000000000",
          "2019-12-26T19:00:00.000000000",
          "2019-12-26T20:00:00.000000000",
          "2019-12-26T21:00:00.000000000",
          "2019-12-26T22:00:00.000000000",
          "2019-12-26T23:00:00.000000000",
          "2019-12-27T00:00:00.000000000",
          "2019-12-27T01:00:00.000000000",
          "2019-12-27T02:00:00.000000000",
          "2019-12-27T03:00:00.000000000",
          "2019-12-27T04:00:00.000000000",
          "2019-12-27T05:00:00.000000000",
          "2019-12-27T06:00:00.000000000",
          "2019-12-27T07:00:00.000000000",
          "2019-12-27T08:00:00.000000000",
          "2019-12-27T09:00:00.000000000",
          "2019-12-27T10:00:00.000000000",
          "2019-12-27T11:00:00.000000000",
          "2019-12-27T12:00:00.000000000",
          "2019-12-27T13:00:00.000000000",
          "2019-12-27T14:00:00.000000000",
          "2019-12-27T15:00:00.000000000",
          "2019-12-27T16:00:00.000000000",
          "2019-12-27T17:00:00.000000000",
          "2019-12-27T18:00:00.000000000",
          "2019-12-27T19:00:00.000000000",
          "2019-12-27T20:00:00.000000000",
          "2019-12-27T21:00:00.000000000",
          "2019-12-27T22:00:00.000000000",
          "2019-12-27T23:00:00.000000000",
          "2019-12-28T00:00:00.000000000",
          "2019-12-28T01:00:00.000000000",
          "2019-12-28T02:00:00.000000000",
          "2019-12-28T03:00:00.000000000",
          "2019-12-28T04:00:00.000000000",
          "2019-12-28T05:00:00.000000000",
          "2019-12-28T06:00:00.000000000",
          "2019-12-28T07:00:00.000000000",
          "2019-12-28T08:00:00.000000000",
          "2019-12-28T09:00:00.000000000",
          "2019-12-28T10:00:00.000000000",
          "2019-12-28T11:00:00.000000000",
          "2019-12-28T12:00:00.000000000",
          "2019-12-28T13:00:00.000000000",
          "2019-12-28T14:00:00.000000000",
          "2019-12-28T15:00:00.000000000",
          "2019-12-28T16:00:00.000000000",
          "2019-12-28T17:00:00.000000000",
          "2019-12-28T18:00:00.000000000",
          "2019-12-28T19:00:00.000000000",
          "2019-12-28T20:00:00.000000000",
          "2019-12-28T21:00:00.000000000",
          "2019-12-28T22:00:00.000000000",
          "2019-12-28T23:00:00.000000000",
          "2019-12-29T00:00:00.000000000",
          "2019-12-29T01:00:00.000000000",
          "2019-12-29T02:00:00.000000000",
          "2019-12-29T03:00:00.000000000",
          "2019-12-29T04:00:00.000000000",
          "2019-12-29T05:00:00.000000000",
          "2019-12-29T06:00:00.000000000",
          "2019-12-29T07:00:00.000000000",
          "2019-12-29T08:00:00.000000000",
          "2019-12-29T09:00:00.000000000",
          "2019-12-29T10:00:00.000000000",
          "2019-12-29T11:00:00.000000000",
          "2019-12-29T12:00:00.000000000",
          "2019-12-29T13:00:00.000000000",
          "2019-12-29T14:00:00.000000000",
          "2019-12-29T15:00:00.000000000",
          "2019-12-29T16:00:00.000000000",
          "2019-12-29T17:00:00.000000000",
          "2019-12-29T18:00:00.000000000",
          "2019-12-29T19:00:00.000000000",
          "2019-12-29T20:00:00.000000000",
          "2019-12-29T21:00:00.000000000",
          "2019-12-29T22:00:00.000000000",
          "2019-12-29T23:00:00.000000000",
          "2019-12-30T00:00:00.000000000",
          "2019-12-30T01:00:00.000000000",
          "2019-12-30T02:00:00.000000000",
          "2019-12-30T03:00:00.000000000",
          "2019-12-30T04:00:00.000000000",
          "2019-12-30T05:00:00.000000000",
          "2019-12-30T06:00:00.000000000",
          "2019-12-30T07:00:00.000000000",
          "2019-12-30T08:00:00.000000000",
          "2019-12-30T09:00:00.000000000",
          "2019-12-30T10:00:00.000000000",
          "2019-12-30T11:00:00.000000000",
          "2019-12-30T12:00:00.000000000",
          "2019-12-30T13:00:00.000000000",
          "2019-12-30T14:00:00.000000000",
          "2019-12-30T15:00:00.000000000",
          "2019-12-30T16:00:00.000000000",
          "2019-12-30T17:00:00.000000000",
          "2019-12-30T18:00:00.000000000",
          "2019-12-30T19:00:00.000000000",
          "2019-12-30T20:00:00.000000000",
          "2019-12-30T21:00:00.000000000",
          "2019-12-30T22:00:00.000000000",
          "2019-12-30T23:00:00.000000000",
          "2019-12-31T00:00:00.000000000",
          "2019-12-31T01:00:00.000000000",
          "2019-12-31T02:00:00.000000000",
          "2019-12-31T03:00:00.000000000",
          "2019-12-31T04:00:00.000000000",
          "2019-12-31T05:00:00.000000000",
          "2019-12-31T06:00:00.000000000",
          "2019-12-31T07:00:00.000000000",
          "2019-12-31T08:00:00.000000000",
          "2019-12-31T09:00:00.000000000",
          "2019-12-31T10:00:00.000000000",
          "2019-12-31T11:00:00.000000000",
          "2019-12-31T12:00:00.000000000",
          "2019-12-31T13:00:00.000000000",
          "2019-12-31T14:00:00.000000000",
          "2019-12-31T15:00:00.000000000",
          "2019-12-31T16:00:00.000000000",
          "2019-12-31T17:00:00.000000000",
          "2019-12-31T18:00:00.000000000",
          "2019-12-31T19:00:00.000000000",
          "2019-12-31T20:00:00.000000000",
          "2019-12-31T21:00:00.000000000",
          "2019-12-31T22:00:00.000000000",
          "2019-12-31T23:00:00.000000000"
         ],
         "y": {
          "bdata": "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",
          "dtype": "f8"
         }
        },
        {
         "hovertemplate": "Time: %{x}<br>Precip Intensity: %{y:.2f}<extra></extra>",
         "mode": "lines",
         "name": "Precip Intensity",
         "type": "scatter",
         "x": [
          "2019-11-30T00:00:00.000000000",
          "2019-11-30T01:00:00.000000000",
          "2019-11-30T02:00:00.000000000",
          "2019-11-30T03:00:00.000000000",
          "2019-11-30T04:00:00.000000000",
          "2019-11-30T05:00:00.000000000",
          "2019-11-30T06:00:00.000000000",
          "2019-11-30T07:00:00.000000000",
          "2019-11-30T08:00:00.000000000",
          "2019-11-30T09:00:00.000000000",
          "2019-11-30T10:00:00.000000000",
          "2019-11-30T11:00:00.000000000",
          "2019-11-30T12:00:00.000000000",
          "2019-11-30T13:00:00.000000000",
          "2019-11-30T14:00:00.000000000",
          "2019-11-30T15:00:00.000000000",
          "2019-11-30T16:00:00.000000000",
          "2019-11-30T17:00:00.000000000",
          "2019-11-30T18:00:00.000000000",
          "2019-11-30T19:00:00.000000000",
          "2019-11-30T20:00:00.000000000",
          "2019-11-30T21:00:00.000000000",
          "2019-11-30T22:00:00.000000000",
          "2019-11-30T23:00:00.000000000",
          "2019-12-01T00:00:00.000000000",
          "2019-12-01T01:00:00.000000000",
          "2019-12-01T02:00:00.000000000",
          "2019-12-01T03:00:00.000000000",
          "2019-12-01T04:00:00.000000000",
          "2019-12-01T05:00:00.000000000",
          "2019-12-01T06:00:00.000000000",
          "2019-12-01T07:00:00.000000000",
          "2019-12-01T08:00:00.000000000",
          "2019-12-01T09:00:00.000000000",
          "2019-12-01T10:00:00.000000000",
          "2019-12-01T11:00:00.000000000",
          "2019-12-01T12:00:00.000000000",
          "2019-12-01T13:00:00.000000000",
          "2019-12-01T14:00:00.000000000",
          "2019-12-01T15:00:00.000000000",
          "2019-12-01T16:00:00.000000000",
          "2019-12-01T17:00:00.000000000",
          "2019-12-01T18:00:00.000000000",
          "2019-12-01T19:00:00.000000000",
          "2019-12-01T20:00:00.000000000",
          "2019-12-01T21:00:00.000000000",
          "2019-12-01T22:00:00.000000000",
          "2019-12-01T23:00:00.000000000",
          "2019-12-02T00:00:00.000000000",
          "2019-12-02T01:00:00.000000000",
          "2019-12-02T02:00:00.000000000",
          "2019-12-02T03:00:00.000000000",
          "2019-12-02T04:00:00.000000000",
          "2019-12-02T05:00:00.000000000",
          "2019-12-02T06:00:00.000000000",
          "2019-12-02T07:00:00.000000000",
          "2019-12-02T08:00:00.000000000",
          "2019-12-02T09:00:00.000000000",
          "2019-12-02T10:00:00.000000000",
          "2019-12-02T11:00:00.000000000",
          "2019-12-02T12:00:00.000000000",
          "2019-12-02T13:00:00.000000000",
          "2019-12-02T14:00:00.000000000",
          "2019-12-02T15:00:00.000000000",
          "2019-12-02T16:00:00.000000000",
          "2019-12-02T17:00:00.000000000",
          "2019-12-02T18:00:00.000000000",
          "2019-12-02T19:00:00.000000000",
          "2019-12-02T20:00:00.000000000",
          "2019-12-02T21:00:00.000000000",
          "2019-12-02T22:00:00.000000000",
          "2019-12-02T23:00:00.000000000",
          "2019-12-03T00:00:00.000000000",
          "2019-12-03T01:00:00.000000000",
          "2019-12-03T02:00:00.000000000",
          "2019-12-03T03:00:00.000000000",
          "2019-12-03T04:00:00.000000000",
          "2019-12-03T05:00:00.000000000",
          "2019-12-03T06:00:00.000000000",
          "2019-12-03T07:00:00.000000000",
          "2019-12-03T08:00:00.000000000",
          "2019-12-03T09:00:00.000000000",
          "2019-12-03T10:00:00.000000000",
          "2019-12-03T11:00:00.000000000",
          "2019-12-03T12:00:00.000000000",
          "2019-12-03T13:00:00.000000000",
          "2019-12-03T14:00:00.000000000",
          "2019-12-03T15:00:00.000000000",
          "2019-12-03T16:00:00.000000000",
          "2019-12-03T17:00:00.000000000",
          "2019-12-03T18:00:00.000000000",
          "2019-12-03T19:00:00.000000000",
          "2019-12-03T20:00:00.000000000",
          "2019-12-03T21:00:00.000000000",
          "2019-12-03T22:00:00.000000000",
          "2019-12-03T23:00:00.000000000",
          "2019-12-04T00:00:00.000000000",
          "2019-12-04T01:00:00.000000000",
          "2019-12-04T02:00:00.000000000",
          "2019-12-04T03:00:00.000000000",
          "2019-12-04T04:00:00.000000000",
          "2019-12-04T05:00:00.000000000",
          "2019-12-04T06:00:00.000000000",
          "2019-12-04T07:00:00.000000000",
          "2019-12-04T08:00:00.000000000",
          "2019-12-04T09:00:00.000000000",
          "2019-12-04T10:00:00.000000000",
          "2019-12-04T11:00:00.000000000",
          "2019-12-04T12:00:00.000000000",
          "2019-12-04T13:00:00.000000000",
          "2019-12-04T14:00:00.000000000",
          "2019-12-04T15:00:00.000000000",
          "2019-12-04T16:00:00.000000000",
          "2019-12-04T17:00:00.000000000",
          "2019-12-04T18:00:00.000000000",
          "2019-12-04T19:00:00.000000000",
          "2019-12-04T20:00:00.000000000",
          "2019-12-04T21:00:00.000000000",
          "2019-12-04T22:00:00.000000000",
          "2019-12-04T23:00:00.000000000",
          "2019-12-05T00:00:00.000000000",
          "2019-12-05T01:00:00.000000000",
          "2019-12-05T02:00:00.000000000",
          "2019-12-05T03:00:00.000000000",
          "2019-12-05T04:00:00.000000000",
          "2019-12-05T05:00:00.000000000",
          "2019-12-05T06:00:00.000000000",
          "2019-12-05T07:00:00.000000000",
          "2019-12-05T08:00:00.000000000",
          "2019-12-05T09:00:00.000000000",
          "2019-12-05T10:00:00.000000000",
          "2019-12-05T11:00:00.000000000",
          "2019-12-05T12:00:00.000000000",
          "2019-12-05T13:00:00.000000000",
          "2019-12-05T14:00:00.000000000",
          "2019-12-05T15:00:00.000000000",
          "2019-12-05T16:00:00.000000000",
          "2019-12-05T17:00:00.000000000",
          "2019-12-05T18:00:00.000000000",
          "2019-12-05T19:00:00.000000000",
          "2019-12-05T20:00:00.000000000",
          "2019-12-05T21:00:00.000000000",
          "2019-12-05T22:00:00.000000000",
          "2019-12-05T23:00:00.000000000",
          "2019-12-06T00:00:00.000000000",
          "2019-12-06T01:00:00.000000000",
          "2019-12-06T02:00:00.000000000",
          "2019-12-06T03:00:00.000000000",
          "2019-12-06T04:00:00.000000000",
          "2019-12-06T05:00:00.000000000",
          "2019-12-06T06:00:00.000000000",
          "2019-12-06T07:00:00.000000000",
          "2019-12-06T08:00:00.000000000",
          "2019-12-06T09:00:00.000000000",
          "2019-12-06T10:00:00.000000000",
          "2019-12-06T11:00:00.000000000",
          "2019-12-06T12:00:00.000000000",
          "2019-12-06T13:00:00.000000000",
          "2019-12-06T14:00:00.000000000",
          "2019-12-06T15:00:00.000000000",
          "2019-12-06T16:00:00.000000000",
          "2019-12-06T17:00:00.000000000",
          "2019-12-06T18:00:00.000000000",
          "2019-12-06T19:00:00.000000000",
          "2019-12-06T20:00:00.000000000",
          "2019-12-06T21:00:00.000000000",
          "2019-12-06T22:00:00.000000000",
          "2019-12-06T23:00:00.000000000",
          "2019-12-07T00:00:00.000000000",
          "2019-12-07T01:00:00.000000000",
          "2019-12-07T02:00:00.000000000",
          "2019-12-07T03:00:00.000000000",
          "2019-12-07T04:00:00.000000000",
          "2019-12-07T05:00:00.000000000",
          "2019-12-07T06:00:00.000000000",
          "2019-12-07T07:00:00.000000000",
          "2019-12-07T08:00:00.000000000",
          "2019-12-07T09:00:00.000000000",
          "2019-12-07T10:00:00.000000000",
          "2019-12-07T11:00:00.000000000",
          "2019-12-07T12:00:00.000000000",
          "2019-12-07T13:00:00.000000000",
          "2019-12-07T14:00:00.000000000",
          "2019-12-07T15:00:00.000000000",
          "2019-12-07T16:00:00.000000000",
          "2019-12-07T17:00:00.000000000",
          "2019-12-07T18:00:00.000000000",
          "2019-12-07T19:00:00.000000000",
          "2019-12-07T20:00:00.000000000",
          "2019-12-07T21:00:00.000000000",
          "2019-12-07T22:00:00.000000000",
          "2019-12-07T23:00:00.000000000",
          "2019-12-08T00:00:00.000000000",
          "2019-12-08T01:00:00.000000000",
          "2019-12-08T02:00:00.000000000",
          "2019-12-08T03:00:00.000000000",
          "2019-12-08T04:00:00.000000000",
          "2019-12-08T05:00:00.000000000",
          "2019-12-08T06:00:00.000000000",
          "2019-12-08T07:00:00.000000000",
          "2019-12-08T08:00:00.000000000",
          "2019-12-08T09:00:00.000000000",
          "2019-12-08T10:00:00.000000000",
          "2019-12-08T11:00:00.000000000",
          "2019-12-08T12:00:00.000000000",
          "2019-12-08T13:00:00.000000000",
          "2019-12-08T14:00:00.000000000",
          "2019-12-08T15:00:00.000000000",
          "2019-12-08T16:00:00.000000000",
          "2019-12-08T17:00:00.000000000",
          "2019-12-08T18:00:00.000000000",
          "2019-12-08T19:00:00.000000000",
          "2019-12-08T20:00:00.000000000",
          "2019-12-08T21:00:00.000000000",
          "2019-12-08T22:00:00.000000000",
          "2019-12-08T23:00:00.000000000",
          "2019-12-09T00:00:00.000000000",
          "2019-12-09T01:00:00.000000000",
          "2019-12-09T02:00:00.000000000",
          "2019-12-09T03:00:00.000000000",
          "2019-12-09T04:00:00.000000000",
          "2019-12-09T05:00:00.000000000",
          "2019-12-09T06:00:00.000000000",
          "2019-12-09T07:00:00.000000000",
          "2019-12-09T08:00:00.000000000",
          "2019-12-09T09:00:00.000000000",
          "2019-12-09T10:00:00.000000000",
          "2019-12-09T11:00:00.000000000",
          "2019-12-09T12:00:00.000000000",
          "2019-12-09T13:00:00.000000000",
          "2019-12-09T14:00:00.000000000",
          "2019-12-09T15:00:00.000000000",
          "2019-12-09T16:00:00.000000000",
          "2019-12-09T17:00:00.000000000",
          "2019-12-09T18:00:00.000000000",
          "2019-12-09T19:00:00.000000000",
          "2019-12-09T20:00:00.000000000",
          "2019-12-09T21:00:00.000000000",
          "2019-12-09T22:00:00.000000000",
          "2019-12-09T23:00:00.000000000",
          "2019-12-10T00:00:00.000000000",
          "2019-12-10T01:00:00.000000000",
          "2019-12-10T02:00:00.000000000",
          "2019-12-10T03:00:00.000000000",
          "2019-12-10T04:00:00.000000000",
          "2019-12-10T05:00:00.000000000",
          "2019-12-10T06:00:00.000000000",
          "2019-12-10T07:00:00.000000000",
          "2019-12-10T08:00:00.000000000",
          "2019-12-10T09:00:00.000000000",
          "2019-12-10T10:00:00.000000000",
          "2019-12-10T11:00:00.000000000",
          "2019-12-10T12:00:00.000000000",
          "2019-12-10T13:00:00.000000000",
          "2019-12-10T14:00:00.000000000",
          "2019-12-10T15:00:00.000000000",
          "2019-12-10T16:00:00.000000000",
          "2019-12-10T17:00:00.000000000",
          "2019-12-10T18:00:00.000000000",
          "2019-12-10T19:00:00.000000000",
          "2019-12-10T20:00:00.000000000",
          "2019-12-10T21:00:00.000000000",
          "2019-12-10T22:00:00.000000000",
          "2019-12-10T23:00:00.000000000",
          "2019-12-11T00:00:00.000000000",
          "2019-12-11T01:00:00.000000000",
          "2019-12-11T02:00:00.000000000",
          "2019-12-11T03:00:00.000000000",
          "2019-12-11T04:00:00.000000000",
          "2019-12-11T05:00:00.000000000",
          "2019-12-11T06:00:00.000000000",
          "2019-12-11T07:00:00.000000000",
          "2019-12-11T08:00:00.000000000",
          "2019-12-11T09:00:00.000000000",
          "2019-12-11T10:00:00.000000000",
          "2019-12-11T11:00:00.000000000",
          "2019-12-11T12:00:00.000000000",
          "2019-12-11T13:00:00.000000000",
          "2019-12-11T14:00:00.000000000",
          "2019-12-11T15:00:00.000000000",
          "2019-12-11T16:00:00.000000000",
          "2019-12-11T17:00:00.000000000",
          "2019-12-11T18:00:00.000000000",
          "2019-12-11T19:00:00.000000000",
          "2019-12-11T20:00:00.000000000",
          "2019-12-11T21:00:00.000000000",
          "2019-12-11T22:00:00.000000000",
          "2019-12-11T23:00:00.000000000",
          "2019-12-12T00:00:00.000000000",
          "2019-12-12T01:00:00.000000000",
          "2019-12-12T02:00:00.000000000",
          "2019-12-12T03:00:00.000000000",
          "2019-12-12T04:00:00.000000000",
          "2019-12-12T05:00:00.000000000",
          "2019-12-12T06:00:00.000000000",
          "2019-12-12T07:00:00.000000000",
          "2019-12-12T08:00:00.000000000",
          "2019-12-12T09:00:00.000000000",
          "2019-12-12T10:00:00.000000000",
          "2019-12-12T11:00:00.000000000",
          "2019-12-12T12:00:00.000000000",
          "2019-12-12T13:00:00.000000000",
          "2019-12-12T14:00:00.000000000",
          "2019-12-12T15:00:00.000000000",
          "2019-12-12T16:00:00.000000000",
          "2019-12-12T17:00:00.000000000",
          "2019-12-12T18:00:00.000000000",
          "2019-12-12T19:00:00.000000000",
          "2019-12-12T20:00:00.000000000",
          "2019-12-12T21:00:00.000000000",
          "2019-12-12T22:00:00.000000000",
          "2019-12-12T23:00:00.000000000",
          "2019-12-13T00:00:00.000000000",
          "2019-12-13T01:00:00.000000000",
          "2019-12-13T02:00:00.000000000",
          "2019-12-13T03:00:00.000000000",
          "2019-12-13T04:00:00.000000000",
          "2019-12-13T05:00:00.000000000",
          "2019-12-13T06:00:00.000000000",
          "2019-12-13T07:00:00.000000000",
          "2019-12-13T08:00:00.000000000",
          "2019-12-13T09:00:00.000000000",
          "2019-12-13T10:00:00.000000000",
          "2019-12-13T11:00:00.000000000",
          "2019-12-13T12:00:00.000000000",
          "2019-12-13T13:00:00.000000000",
          "2019-12-13T14:00:00.000000000",
          "2019-12-13T15:00:00.000000000",
          "2019-12-13T16:00:00.000000000",
          "2019-12-13T17:00:00.000000000",
          "2019-12-13T18:00:00.000000000",
          "2019-12-13T19:00:00.000000000",
          "2019-12-13T20:00:00.000000000",
          "2019-12-13T21:00:00.000000000",
          "2019-12-13T22:00:00.000000000",
          "2019-12-13T23:00:00.000000000",
          "2019-12-14T00:00:00.000000000",
          "2019-12-14T01:00:00.000000000",
          "2019-12-14T02:00:00.000000000",
          "2019-12-14T03:00:00.000000000",
          "2019-12-14T04:00:00.000000000",
          "2019-12-14T05:00:00.000000000",
          "2019-12-14T06:00:00.000000000",
          "2019-12-14T07:00:00.000000000",
          "2019-12-14T08:00:00.000000000",
          "2019-12-14T09:00:00.000000000",
          "2019-12-14T10:00:00.000000000",
          "2019-12-14T11:00:00.000000000",
          "2019-12-14T12:00:00.000000000",
          "2019-12-14T13:00:00.000000000",
          "2019-12-14T14:00:00.000000000",
          "2019-12-14T15:00:00.000000000",
          "2019-12-14T16:00:00.000000000",
          "2019-12-14T17:00:00.000000000",
          "2019-12-14T18:00:00.000000000",
          "2019-12-14T19:00:00.000000000",
          "2019-12-14T20:00:00.000000000",
          "2019-12-14T21:00:00.000000000",
          "2019-12-14T22:00:00.000000000",
          "2019-12-14T23:00:00.000000000",
          "2019-12-15T00:00:00.000000000",
          "2019-12-15T01:00:00.000000000",
          "2019-12-15T02:00:00.000000000",
          "2019-12-15T03:00:00.000000000",
          "2019-12-15T04:00:00.000000000",
          "2019-12-15T05:00:00.000000000",
          "2019-12-15T06:00:00.000000000",
          "2019-12-15T07:00:00.000000000",
          "2019-12-15T08:00:00.000000000",
          "2019-12-15T09:00:00.000000000",
          "2019-12-15T10:00:00.000000000",
          "2019-12-15T11:00:00.000000000",
          "2019-12-15T12:00:00.000000000",
          "2019-12-15T13:00:00.000000000",
          "2019-12-15T14:00:00.000000000",
          "2019-12-15T15:00:00.000000000",
          "2019-12-15T16:00:00.000000000",
          "2019-12-15T17:00:00.000000000",
          "2019-12-15T18:00:00.000000000",
          "2019-12-15T19:00:00.000000000",
          "2019-12-15T20:00:00.000000000",
          "2019-12-15T21:00:00.000000000",
          "2019-12-15T22:00:00.000000000",
          "2019-12-15T23:00:00.000000000",
          "2019-12-16T00:00:00.000000000",
          "2019-12-16T01:00:00.000000000",
          "2019-12-16T02:00:00.000000000",
          "2019-12-16T03:00:00.000000000",
          "2019-12-16T04:00:00.000000000",
          "2019-12-16T05:00:00.000000000",
          "2019-12-16T06:00:00.000000000",
          "2019-12-16T07:00:00.000000000",
          "2019-12-16T08:00:00.000000000",
          "2019-12-16T09:00:00.000000000",
          "2019-12-16T10:00:00.000000000",
          "2019-12-16T11:00:00.000000000",
          "2019-12-16T12:00:00.000000000",
          "2019-12-16T13:00:00.000000000",
          "2019-12-16T14:00:00.000000000",
          "2019-12-16T15:00:00.000000000",
          "2019-12-16T16:00:00.000000000",
          "2019-12-16T17:00:00.000000000",
          "2019-12-16T18:00:00.000000000",
          "2019-12-16T19:00:00.000000000",
          "2019-12-16T20:00:00.000000000",
          "2019-12-16T21:00:00.000000000",
          "2019-12-16T22:00:00.000000000",
          "2019-12-16T23:00:00.000000000",
          "2019-12-17T00:00:00.000000000",
          "2019-12-17T01:00:00.000000000",
          "2019-12-17T02:00:00.000000000",
          "2019-12-17T03:00:00.000000000",
          "2019-12-17T04:00:00.000000000",
          "2019-12-17T05:00:00.000000000",
          "2019-12-17T06:00:00.000000000",
          "2019-12-17T07:00:00.000000000",
          "2019-12-17T08:00:00.000000000",
          "2019-12-17T09:00:00.000000000",
          "2019-12-17T10:00:00.000000000",
          "2019-12-17T11:00:00.000000000",
          "2019-12-17T12:00:00.000000000",
          "2019-12-17T13:00:00.000000000",
          "2019-12-17T14:00:00.000000000",
          "2019-12-17T15:00:00.000000000",
          "2019-12-17T16:00:00.000000000",
          "2019-12-17T17:00:00.000000000",
          "2019-12-17T18:00:00.000000000",
          "2019-12-17T19:00:00.000000000",
          "2019-12-17T20:00:00.000000000",
          "2019-12-17T21:00:00.000000000",
          "2019-12-17T22:00:00.000000000",
          "2019-12-17T23:00:00.000000000",
          "2019-12-18T00:00:00.000000000",
          "2019-12-18T01:00:00.000000000",
          "2019-12-18T02:00:00.000000000",
          "2019-12-18T03:00:00.000000000",
          "2019-12-18T04:00:00.000000000",
          "2019-12-18T05:00:00.000000000",
          "2019-12-18T06:00:00.000000000",
          "2019-12-18T07:00:00.000000000",
          "2019-12-18T08:00:00.000000000",
          "2019-12-18T09:00:00.000000000",
          "2019-12-18T10:00:00.000000000",
          "2019-12-18T11:00:00.000000000",
          "2019-12-18T12:00:00.000000000",
          "2019-12-18T13:00:00.000000000",
          "2019-12-18T14:00:00.000000000",
          "2019-12-18T15:00:00.000000000",
          "2019-12-18T16:00:00.000000000",
          "2019-12-18T17:00:00.000000000",
          "2019-12-18T18:00:00.000000000",
          "2019-12-18T19:00:00.000000000",
          "2019-12-18T20:00:00.000000000",
          "2019-12-18T21:00:00.000000000",
          "2019-12-18T22:00:00.000000000",
          "2019-12-18T23:00:00.000000000",
          "2019-12-19T00:00:00.000000000",
          "2019-12-19T01:00:00.000000000",
          "2019-12-19T02:00:00.000000000",
          "2019-12-19T03:00:00.000000000",
          "2019-12-19T04:00:00.000000000",
          "2019-12-19T05:00:00.000000000",
          "2019-12-19T06:00:00.000000000",
          "2019-12-19T07:00:00.000000000",
          "2019-12-19T08:00:00.000000000",
          "2019-12-19T09:00:00.000000000",
          "2019-12-19T10:00:00.000000000",
          "2019-12-19T11:00:00.000000000",
          "2019-12-19T12:00:00.000000000",
          "2019-12-19T13:00:00.000000000",
          "2019-12-19T14:00:00.000000000",
          "2019-12-19T15:00:00.000000000",
          "2019-12-19T16:00:00.000000000",
          "2019-12-19T17:00:00.000000000",
          "2019-12-19T18:00:00.000000000",
          "2019-12-19T19:00:00.000000000",
          "2019-12-19T20:00:00.000000000",
          "2019-12-19T21:00:00.000000000",
          "2019-12-19T22:00:00.000000000",
          "2019-12-19T23:00:00.000000000",
          "2019-12-20T00:00:00.000000000",
          "2019-12-20T01:00:00.000000000",
          "2019-12-20T02:00:00.000000000",
          "2019-12-20T03:00:00.000000000",
          "2019-12-20T04:00:00.000000000",
          "2019-12-20T05:00:00.000000000",
          "2019-12-20T06:00:00.000000000",
          "2019-12-20T07:00:00.000000000",
          "2019-12-20T08:00:00.000000000",
          "2019-12-20T09:00:00.000000000",
          "2019-12-20T10:00:00.000000000",
          "2019-12-20T11:00:00.000000000",
          "2019-12-20T12:00:00.000000000",
          "2019-12-20T13:00:00.000000000",
          "2019-12-20T14:00:00.000000000",
          "2019-12-20T15:00:00.000000000",
          "2019-12-20T16:00:00.000000000",
          "2019-12-20T17:00:00.000000000",
          "2019-12-20T18:00:00.000000000",
          "2019-12-20T19:00:00.000000000",
          "2019-12-20T20:00:00.000000000",
          "2019-12-20T21:00:00.000000000",
          "2019-12-20T22:00:00.000000000",
          "2019-12-20T23:00:00.000000000",
          "2019-12-21T00:00:00.000000000",
          "2019-12-21T01:00:00.000000000",
          "2019-12-21T02:00:00.000000000",
          "2019-12-21T03:00:00.000000000",
          "2019-12-21T04:00:00.000000000",
          "2019-12-21T05:00:00.000000000",
          "2019-12-21T06:00:00.000000000",
          "2019-12-21T07:00:00.000000000",
          "2019-12-21T08:00:00.000000000",
          "2019-12-21T09:00:00.000000000",
          "2019-12-21T10:00:00.000000000",
          "2019-12-21T11:00:00.000000000",
          "2019-12-21T12:00:00.000000000",
          "2019-12-21T13:00:00.000000000",
          "2019-12-21T14:00:00.000000000",
          "2019-12-21T15:00:00.000000000",
          "2019-12-21T16:00:00.000000000",
          "2019-12-21T17:00:00.000000000",
          "2019-12-21T18:00:00.000000000",
          "2019-12-21T19:00:00.000000000",
          "2019-12-21T20:00:00.000000000",
          "2019-12-21T21:00:00.000000000",
          "2019-12-21T22:00:00.000000000",
          "2019-12-21T23:00:00.000000000",
          "2019-12-22T00:00:00.000000000",
          "2019-12-22T01:00:00.000000000",
          "2019-12-22T02:00:00.000000000",
          "2019-12-22T03:00:00.000000000",
          "2019-12-22T04:00:00.000000000",
          "2019-12-22T05:00:00.000000000",
          "2019-12-22T06:00:00.000000000",
          "2019-12-22T07:00:00.000000000",
          "2019-12-22T08:00:00.000000000",
          "2019-12-22T09:00:00.000000000",
          "2019-12-22T10:00:00.000000000",
          "2019-12-22T11:00:00.000000000",
          "2019-12-22T12:00:00.000000000",
          "2019-12-22T13:00:00.000000000",
          "2019-12-22T14:00:00.000000000",
          "2019-12-22T15:00:00.000000000",
          "2019-12-22T16:00:00.000000000",
          "2019-12-22T17:00:00.000000000",
          "2019-12-22T18:00:00.000000000",
          "2019-12-22T19:00:00.000000000",
          "2019-12-22T20:00:00.000000000",
          "2019-12-22T21:00:00.000000000",
          "2019-12-22T22:00:00.000000000",
          "2019-12-22T23:00:00.000000000",
          "2019-12-23T00:00:00.000000000",
          "2019-12-23T01:00:00.000000000",
          "2019-12-23T02:00:00.000000000",
          "2019-12-23T03:00:00.000000000",
          "2019-12-23T04:00:00.000000000",
          "2019-12-23T05:00:00.000000000",
          "2019-12-23T06:00:00.000000000",
          "2019-12-23T07:00:00.000000000",
          "2019-12-23T08:00:00.000000000",
          "2019-12-23T09:00:00.000000000",
          "2019-12-23T10:00:00.000000000",
          "2019-12-23T11:00:00.000000000",
          "2019-12-23T12:00:00.000000000",
          "2019-12-23T13:00:00.000000000",
          "2019-12-23T14:00:00.000000000",
          "2019-12-23T15:00:00.000000000",
          "2019-12-23T16:00:00.000000000",
          "2019-12-23T17:00:00.000000000",
          "2019-12-23T18:00:00.000000000",
          "2019-12-23T19:00:00.000000000",
          "2019-12-23T20:00:00.000000000",
          "2019-12-23T21:00:00.000000000",
          "2019-12-23T22:00:00.000000000",
          "2019-12-23T23:00:00.000000000",
          "2019-12-24T00:00:00.000000000",
          "2019-12-24T01:00:00.000000000",
          "2019-12-24T02:00:00.000000000",
          "2019-12-24T03:00:00.000000000",
          "2019-12-24T04:00:00.000000000",
          "2019-12-24T05:00:00.000000000",
          "2019-12-24T06:00:00.000000000",
          "2019-12-24T07:00:00.000000000",
          "2019-12-24T08:00:00.000000000",
          "2019-12-24T09:00:00.000000000",
          "2019-12-24T10:00:00.000000000",
          "2019-12-24T11:00:00.000000000",
          "2019-12-24T12:00:00.000000000",
          "2019-12-24T13:00:00.000000000",
          "2019-12-24T14:00:00.000000000",
          "2019-12-24T15:00:00.000000000",
          "2019-12-24T16:00:00.000000000",
          "2019-12-24T17:00:00.000000000",
          "2019-12-24T18:00:00.000000000",
          "2019-12-24T19:00:00.000000000",
          "2019-12-24T20:00:00.000000000",
          "2019-12-24T21:00:00.000000000",
          "2019-12-24T22:00:00.000000000",
          "2019-12-24T23:00:00.000000000",
          "2019-12-25T00:00:00.000000000",
          "2019-12-25T01:00:00.000000000",
          "2019-12-25T02:00:00.000000000",
          "2019-12-25T03:00:00.000000000",
          "2019-12-25T04:00:00.000000000",
          "2019-12-25T05:00:00.000000000",
          "2019-12-25T06:00:00.000000000",
          "2019-12-25T07:00:00.000000000",
          "2019-12-25T08:00:00.000000000",
          "2019-12-25T09:00:00.000000000",
          "2019-12-25T10:00:00.000000000",
          "2019-12-25T11:00:00.000000000",
          "2019-12-25T12:00:00.000000000",
          "2019-12-25T13:00:00.000000000",
          "2019-12-25T14:00:00.000000000",
          "2019-12-25T15:00:00.000000000",
          "2019-12-25T16:00:00.000000000",
          "2019-12-25T17:00:00.000000000",
          "2019-12-25T18:00:00.000000000",
          "2019-12-25T19:00:00.000000000",
          "2019-12-25T20:00:00.000000000",
          "2019-12-25T21:00:00.000000000",
          "2019-12-25T22:00:00.000000000",
          "2019-12-25T23:00:00.000000000",
          "2019-12-26T00:00:00.000000000",
          "2019-12-26T01:00:00.000000000",
          "2019-12-26T02:00:00.000000000",
          "2019-12-26T03:00:00.000000000",
          "2019-12-26T04:00:00.000000000",
          "2019-12-26T05:00:00.000000000",
          "2019-12-26T06:00:00.000000000",
          "2019-12-26T07:00:00.000000000",
          "2019-12-26T08:00:00.000000000",
          "2019-12-26T09:00:00.000000000",
          "2019-12-26T10:00:00.000000000",
          "2019-12-26T11:00:00.000000000",
          "2019-12-26T12:00:00.000000000",
          "2019-12-26T13:00:00.000000000",
          "2019-12-26T14:00:00.000000000",
          "2019-12-26T15:00:00.000000000",
          "2019-12-26T16:00:00.000000000",
          "2019-12-26T17:00:00.000000000",
          "2019-12-26T18:00:00.000000000",
          "2019-12-26T19:00:00.000000000",
          "2019-12-26T20:00:00.000000000",
          "2019-12-26T21:00:00.000000000",
          "2019-12-26T22:00:00.000000000",
          "2019-12-26T23:00:00.000000000",
          "2019-12-27T00:00:00.000000000",
          "2019-12-27T01:00:00.000000000",
          "2019-12-27T02:00:00.000000000",
          "2019-12-27T03:00:00.000000000",
          "2019-12-27T04:00:00.000000000",
          "2019-12-27T05:00:00.000000000",
          "2019-12-27T06:00:00.000000000",
          "2019-12-27T07:00:00.000000000",
          "2019-12-27T08:00:00.000000000",
          "2019-12-27T09:00:00.000000000",
          "2019-12-27T10:00:00.000000000",
          "2019-12-27T11:00:00.000000000",
          "2019-12-27T12:00:00.000000000",
          "2019-12-27T13:00:00.000000000",
          "2019-12-27T14:00:00.000000000",
          "2019-12-27T15:00:00.000000000",
          "2019-12-27T16:00:00.000000000",
          "2019-12-27T17:00:00.000000000",
          "2019-12-27T18:00:00.000000000",
          "2019-12-27T19:00:00.000000000",
          "2019-12-27T20:00:00.000000000",
          "2019-12-27T21:00:00.000000000",
          "2019-12-27T22:00:00.000000000",
          "2019-12-27T23:00:00.000000000",
          "2019-12-28T00:00:00.000000000",
          "2019-12-28T01:00:00.000000000",
          "2019-12-28T02:00:00.000000000",
          "2019-12-28T03:00:00.000000000",
          "2019-12-28T04:00:00.000000000",
          "2019-12-28T05:00:00.000000000",
          "2019-12-28T06:00:00.000000000",
          "2019-12-28T07:00:00.000000000",
          "2019-12-28T08:00:00.000000000",
          "2019-12-28T09:00:00.000000000",
          "2019-12-28T10:00:00.000000000",
          "2019-12-28T11:00:00.000000000",
          "2019-12-28T12:00:00.000000000",
          "2019-12-28T13:00:00.000000000",
          "2019-12-28T14:00:00.000000000",
          "2019-12-28T15:00:00.000000000",
          "2019-12-28T16:00:00.000000000",
          "2019-12-28T17:00:00.000000000",
          "2019-12-28T18:00:00.000000000",
          "2019-12-28T19:00:00.000000000",
          "2019-12-28T20:00:00.000000000",
          "2019-12-28T21:00:00.000000000",
          "2019-12-28T22:00:00.000000000",
          "2019-12-28T23:00:00.000000000",
          "2019-12-29T00:00:00.000000000",
          "2019-12-29T01:00:00.000000000",
          "2019-12-29T02:00:00.000000000",
          "2019-12-29T03:00:00.000000000",
          "2019-12-29T04:00:00.000000000",
          "2019-12-29T05:00:00.000000000",
          "2019-12-29T06:00:00.000000000",
          "2019-12-29T07:00:00.000000000",
          "2019-12-29T08:00:00.000000000",
          "2019-12-29T09:00:00.000000000",
          "2019-12-29T10:00:00.000000000",
          "2019-12-29T11:00:00.000000000",
          "2019-12-29T12:00:00.000000000",
          "2019-12-29T13:00:00.000000000",
          "2019-12-29T14:00:00.000000000",
          "2019-12-29T15:00:00.000000000",
          "2019-12-29T16:00:00.000000000",
          "2019-12-29T17:00:00.000000000",
          "2019-12-29T18:00:00.000000000",
          "2019-12-29T19:00:00.000000000",
          "2019-12-29T20:00:00.000000000",
          "2019-12-29T21:00:00.000000000",
          "2019-12-29T22:00:00.000000000",
          "2019-12-29T23:00:00.000000000",
          "2019-12-30T00:00:00.000000000",
          "2019-12-30T01:00:00.000000000",
          "2019-12-30T02:00:00.000000000",
          "2019-12-30T03:00:00.000000000",
          "2019-12-30T04:00:00.000000000",
          "2019-12-30T05:00:00.000000000",
          "2019-12-30T06:00:00.000000000",
          "2019-12-30T07:00:00.000000000",
          "2019-12-30T08:00:00.000000000",
          "2019-12-30T09:00:00.000000000",
          "2019-12-30T10:00:00.000000000",
          "2019-12-30T11:00:00.000000000",
          "2019-12-30T12:00:00.000000000",
          "2019-12-30T13:00:00.000000000",
          "2019-12-30T14:00:00.000000000",
          "2019-12-30T15:00:00.000000000",
          "2019-12-30T16:00:00.000000000",
          "2019-12-30T17:00:00.000000000",
          "2019-12-30T18:00:00.000000000",
          "2019-12-30T19:00:00.000000000",
          "2019-12-30T20:00:00.000000000",
          "2019-12-30T21:00:00.000000000",
          "2019-12-30T22:00:00.000000000",
          "2019-12-30T23:00:00.000000000",
          "2019-12-31T00:00:00.000000000",
          "2019-12-31T01:00:00.000000000",
          "2019-12-31T02:00:00.000000000",
          "2019-12-31T03:00:00.000000000",
          "2019-12-31T04:00:00.000000000",
          "2019-12-31T05:00:00.000000000",
          "2019-12-31T06:00:00.000000000",
          "2019-12-31T07:00:00.000000000",
          "2019-12-31T08:00:00.000000000",
          "2019-12-31T09:00:00.000000000",
          "2019-12-31T10:00:00.000000000",
          "2019-12-31T11:00:00.000000000",
          "2019-12-31T12:00:00.000000000",
          "2019-12-31T13:00:00.000000000",
          "2019-12-31T14:00:00.000000000",
          "2019-12-31T15:00:00.000000000",
          "2019-12-31T16:00:00.000000000",
          "2019-12-31T17:00:00.000000000",
          "2019-12-31T18:00:00.000000000",
          "2019-12-31T19:00:00.000000000",
          "2019-12-31T20:00:00.000000000",
          "2019-12-31T21:00:00.000000000",
          "2019-12-31T22:00:00.000000000",
          "2019-12-31T23:00:00.000000000"
         ],
         "y": {
          "bdata": "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",
          "dtype": "f8"
         },
         "yaxis": "y2"
        },
        {
         "hovertemplate": "Time: %{x}<br>Low visibility<extra></extra>",
         "marker": {
          "opacity": 0.3,
          "size": 6
         },
         "mode": "markers",
         "name": "Low Visibility (<5 mi)",
         "type": "scatter",
         "x": [
          "2019-11-30T20:00:00.000000000",
          "2019-11-30T23:00:00.000000000",
          "2019-12-01T05:00:00.000000000",
          "2019-12-01T06:00:00.000000000",
          "2019-12-01T07:00:00.000000000",
          "2019-12-01T19:00:00.000000000",
          "2019-12-09T05:00:00.000000000",
          "2019-12-24T03:00:00.000000000",
          "2019-12-24T04:00:00.000000000",
          "2019-12-24T05:00:00.000000000",
          "2019-12-24T06:00:00.000000000",
          "2019-12-24T07:00:00.000000000",
          "2019-12-24T08:00:00.000000000",
          "2019-12-30T22:00:00.000000000",
          "2019-12-31T00:00:00.000000000",
          "2019-12-31T01:00:00.000000000",
          "2019-12-31T02:00:00.000000000",
          "2019-12-31T03:00:00.000000000",
          "2019-12-31T04:00:00.000000000",
          "2019-12-31T05:00:00.000000000"
         ],
         "y": [
          0.0875,
          0.0875,
          0.0875,
          0.0875,
          0.0875,
          0.0875,
          0.0875,
          0.0875,
          0.0875,
          0.0875,
          0.0875,
          0.0875,
          0.0875,
          0.0875,
          0.0875,
          0.0875,
          0.0875,
          0.0875,
          0.0875,
          0.0875
         ],
         "yaxis": "y2"
        }
       ],
       "layout": {
        "legend": {
         "orientation": "h",
         "x": 0,
         "xanchor": "left",
         "y": 1.02,
         "yanchor": "bottom"
        },
        "template": {
         "data": {
          "bar": [
           {
            "error_x": {
             "color": "#f2f5fa"
            },
            "error_y": {
             "color": "#f2f5fa"
            },
            "marker": {
             "line": {
              "color": "rgb(17,17,17)",
              "width": 0.5
             },
             "pattern": {
              "fillmode": "overlay",
              "size": 10,
              "solidity": 0.2
             }
            },
            "type": "bar"
           }
          ],
          "barpolar": [
           {
            "marker": {
             "line": {
              "color": "rgb(17,17,17)",
              "width": 0.5
             },
             "pattern": {
              "fillmode": "overlay",
              "size": 10,
              "solidity": 0.2
             }
            },
            "type": "barpolar"
           }
          ],
          "carpet": [
           {
            "aaxis": {
             "endlinecolor": "#A2B1C6",
             "gridcolor": "#506784",
             "linecolor": "#506784",
             "minorgridcolor": "#506784",
             "startlinecolor": "#A2B1C6"
            },
            "baxis": {
             "endlinecolor": "#A2B1C6",
             "gridcolor": "#506784",
             "linecolor": "#506784",
             "minorgridcolor": "#506784",
             "startlinecolor": "#A2B1C6"
            },
            "type": "carpet"
           }
          ],
          "choropleth": [
           {
            "colorbar": {
             "outlinewidth": 0,
             "ticks": ""
            },
            "type": "choropleth"
           }
          ],
          "contour": [
           {
            "colorbar": {
             "outlinewidth": 0,
             "ticks": ""
            },
            "colorscale": [
             [
              0,
              "#0d0887"
             ],
             [
              0.1111111111111111,
              "#46039f"
             ],
             [
              0.2222222222222222,
              "#7201a8"
             ],
             [
              0.3333333333333333,
              "#9c179e"
             ],
             [
              0.4444444444444444,
              "#bd3786"
             ],
             [
              0.5555555555555556,
              "#d8576b"
             ],
             [
              0.6666666666666666,
              "#ed7953"
             ],
             [
              0.7777777777777778,
              "#fb9f3a"
             ],
             [
              0.8888888888888888,
              "#fdca26"
             ],
             [
              1,
              "#f0f921"
             ]
            ],
            "type": "contour"
           }
          ],
          "contourcarpet": [
           {
            "colorbar": {
             "outlinewidth": 0,
             "ticks": ""
            },
            "type": "contourcarpet"
           }
          ],
          "heatmap": [
           {
            "colorbar": {
             "outlinewidth": 0,
             "ticks": ""
            },
            "colorscale": [
             [
              0,
              "#0d0887"
             ],
             [
              0.1111111111111111,
              "#46039f"
             ],
             [
              0.2222222222222222,
              "#7201a8"
             ],
             [
              0.3333333333333333,
              "#9c179e"
             ],
             [
              0.4444444444444444,
              "#bd3786"
             ],
             [
              0.5555555555555556,
              "#d8576b"
             ],
             [
              0.6666666666666666,
              "#ed7953"
             ],
             [
              0.7777777777777778,
              "#fb9f3a"
             ],
             [
              0.8888888888888888,
              "#fdca26"
             ],
             [
              1,
              "#f0f921"
             ]
            ],
            "type": "heatmap"
           }
          ],
          "histogram": [
           {
            "marker": {
             "pattern": {
              "fillmode": "overlay",
              "size": 10,
              "solidity": 0.2
             }
            },
            "type": "histogram"
           }
          ],
          "histogram2d": [
           {
            "colorbar": {
             "outlinewidth": 0,
             "ticks": ""
            },
            "colorscale": [
             [
              0,
              "#0d0887"
             ],
             [
              0.1111111111111111,
              "#46039f"
             ],
             [
              0.2222222222222222,
              "#7201a8"
             ],
             [
              0.3333333333333333,
              "#9c179e"
             ],
             [
              0.4444444444444444,
              "#bd3786"
             ],
             [
              0.5555555555555556,
              "#d8576b"
             ],
             [
              0.6666666666666666,
              "#ed7953"
             ],
             [
              0.7777777777777778,
              "#fb9f3a"
             ],
             [
              0.8888888888888888,
              "#fdca26"
             ],
             [
              1,
              "#f0f921"
             ]
            ],
            "type": "histogram2d"
           }
          ],
          "histogram2dcontour": [
           {
            "colorbar": {
             "outlinewidth": 0,
             "ticks": ""
            },
            "colorscale": [
             [
              0,
              "#0d0887"
             ],
             [
              0.1111111111111111,
              "#46039f"
             ],
             [
              0.2222222222222222,
              "#7201a8"
             ],
             [
              0.3333333333333333,
              "#9c179e"
             ],
             [
              0.4444444444444444,
              "#bd3786"
             ],
             [
              0.5555555555555556,
              "#d8576b"
             ],
             [
              0.6666666666666666,
              "#ed7953"
             ],
             [
              0.7777777777777778,
              "#fb9f3a"
             ],
             [
              0.8888888888888888,
              "#fdca26"
             ],
             [
              1,
              "#f0f921"
             ]
            ],
            "type": "histogram2dcontour"
           }
          ],
          "mesh3d": [
           {
            "colorbar": {
             "outlinewidth": 0,
             "ticks": ""
            },
            "type": "mesh3d"
           }
          ],
          "parcoords": [
           {
            "line": {
             "colorbar": {
              "outlinewidth": 0,
              "ticks": ""
             }
            },
            "type": "parcoords"
           }
          ],
          "pie": [
           {
            "automargin": true,
            "type": "pie"
           }
          ],
          "scatter": [
           {
            "marker": {
             "line": {
              "color": "#283442"
             }
            },
            "type": "scatter"
           }
          ],
          "scatter3d": [
           {
            "line": {
             "colorbar": {
              "outlinewidth": 0,
              "ticks": ""
             }
            },
            "marker": {
             "colorbar": {
              "outlinewidth": 0,
              "ticks": ""
             }
            },
            "type": "scatter3d"
           }
          ],
          "scattercarpet": [
           {
            "marker": {
             "colorbar": {
              "outlinewidth": 0,
              "ticks": ""
             }
            },
            "type": "scattercarpet"
           }
          ],
          "scattergeo": [
           {
            "marker": {
             "colorbar": {
              "outlinewidth": 0,
              "ticks": ""
             }
            },
            "type": "scattergeo"
           }
          ],
          "scattergl": [
           {
            "marker": {
             "line": {
              "color": "#283442"
             }
            },
            "type": "scattergl"
           }
          ],
          "scattermap": [
           {
            "marker": {
             "colorbar": {
              "outlinewidth": 0,
              "ticks": ""
             }
            },
            "type": "scattermap"
           }
          ],
          "scattermapbox": [
           {
            "marker": {
             "colorbar": {
              "outlinewidth": 0,
              "ticks": ""
             }
            },
            "type": "scattermapbox"
           }
          ],
          "scatterpolar": [
           {
            "marker": {
             "colorbar": {
              "outlinewidth": 0,
              "ticks": ""
             }
            },
            "type": "scatterpolar"
           }
          ],
          "scatterpolargl": [
           {
            "marker": {
             "colorbar": {
              "outlinewidth": 0,
              "ticks": ""
             }
            },
            "type": "scatterpolargl"
           }
          ],
          "scatterternary": [
           {
            "marker": {
             "colorbar": {
              "outlinewidth": 0,
              "ticks": ""
             }
            },
            "type": "scatterternary"
           }
          ],
          "surface": [
           {
            "colorbar": {
             "outlinewidth": 0,
             "ticks": ""
            },
            "colorscale": [
             [
              0,
              "#0d0887"
             ],
             [
              0.1111111111111111,
              "#46039f"
             ],
             [
              0.2222222222222222,
              "#7201a8"
             ],
             [
              0.3333333333333333,
              "#9c179e"
             ],
             [
              0.4444444444444444,
              "#bd3786"
             ],
             [
              0.5555555555555556,
              "#d8576b"
             ],
             [
              0.6666666666666666,
              "#ed7953"
             ],
             [
              0.7777777777777778,
              "#fb9f3a"
             ],
             [
              0.8888888888888888,
              "#fdca26"
             ],
             [
              1,
              "#f0f921"
             ]
            ],
            "type": "surface"
           }
          ],
          "table": [
           {
            "cells": {
             "fill": {
              "color": "#506784"
             },
             "line": {
              "color": "rgb(17,17,17)"
             }
            },
            "header": {
             "fill": {
              "color": "#2a3f5f"
             },
             "line": {
              "color": "rgb(17,17,17)"
             }
            },
            "type": "table"
           }
          ]
         },
         "layout": {
          "annotationdefaults": {
           "arrowcolor": "#f2f5fa",
           "arrowhead": 0,
           "arrowwidth": 1
          },
          "autotypenumbers": "strict",
          "coloraxis": {
           "colorbar": {
            "outlinewidth": 0,
            "ticks": ""
           }
          },
          "colorscale": {
           "diverging": [
            [
             0,
             "#8e0152"
            ],
            [
             0.1,
             "#c51b7d"
            ],
            [
             0.2,
             "#de77ae"
            ],
            [
             0.3,
             "#f1b6da"
            ],
            [
             0.4,
             "#fde0ef"
            ],
            [
             0.5,
             "#f7f7f7"
            ],
            [
             0.6,
             "#e6f5d0"
            ],
            [
             0.7,
             "#b8e186"
            ],
            [
             0.8,
             "#7fbc41"
            ],
            [
             0.9,
             "#4d9221"
            ],
            [
             1,
             "#276419"
            ]
           ],
           "sequential": [
            [
             0,
             "#0d0887"
            ],
            [
             0.1111111111111111,
             "#46039f"
            ],
            [
             0.2222222222222222,
             "#7201a8"
            ],
            [
             0.3333333333333333,
             "#9c179e"
            ],
            [
             0.4444444444444444,
             "#bd3786"
            ],
            [
             0.5555555555555556,
             "#d8576b"
            ],
            [
             0.6666666666666666,
             "#ed7953"
            ],
            [
             0.7777777777777778,
             "#fb9f3a"
            ],
            [
             0.8888888888888888,
             "#fdca26"
            ],
            [
             1,
             "#f0f921"
            ]
           ],
           "sequentialminus": [
            [
             0,
             "#0d0887"
            ],
            [
             0.1111111111111111,
             "#46039f"
            ],
            [
             0.2222222222222222,
             "#7201a8"
            ],
            [
             0.3333333333333333,
             "#9c179e"
            ],
            [
             0.4444444444444444,
             "#bd3786"
            ],
            [
             0.5555555555555556,
             "#d8576b"
            ],
            [
             0.6666666666666666,
             "#ed7953"
            ],
            [
             0.7777777777777778,
             "#fb9f3a"
            ],
            [
             0.8888888888888888,
             "#fdca26"
            ],
            [
             1,
             "#f0f921"
            ]
           ]
          },
          "colorway": [
           "#636efa",
           "#EF553B",
           "#00cc96",
           "#ab63fa",
           "#FFA15A",
           "#19d3f3",
           "#FF6692",
           "#B6E880",
           "#FF97FF",
           "#FECB52"
          ],
          "font": {
           "color": "#f2f5fa"
          },
          "geo": {
           "bgcolor": "rgb(17,17,17)",
           "lakecolor": "rgb(17,17,17)",
           "landcolor": "rgb(17,17,17)",
           "showlakes": true,
           "showland": true,
           "subunitcolor": "#506784"
          },
          "hoverlabel": {
           "align": "left"
          },
          "hovermode": "closest",
          "mapbox": {
           "style": "dark"
          },
          "paper_bgcolor": "rgb(17,17,17)",
          "plot_bgcolor": "rgb(17,17,17)",
          "polar": {
           "angularaxis": {
            "gridcolor": "#506784",
            "linecolor": "#506784",
            "ticks": ""
           },
           "bgcolor": "rgb(17,17,17)",
           "radialaxis": {
            "gridcolor": "#506784",
            "linecolor": "#506784",
            "ticks": ""
           }
          },
          "scene": {
           "xaxis": {
            "backgroundcolor": "rgb(17,17,17)",
            "gridcolor": "#506784",
            "gridwidth": 2,
            "linecolor": "#506784",
            "showbackground": true,
            "ticks": "",
            "zerolinecolor": "#C8D4E3"
           },
           "yaxis": {
            "backgroundcolor": "rgb(17,17,17)",
            "gridcolor": "#506784",
            "gridwidth": 2,
            "linecolor": "#506784",
            "showbackground": true,
            "ticks": "",
            "zerolinecolor": "#C8D4E3"
           },
           "zaxis": {
            "backgroundcolor": "rgb(17,17,17)",
            "gridcolor": "#506784",
            "gridwidth": 2,
            "linecolor": "#506784",
            "showbackground": true,
            "ticks": "",
            "zerolinecolor": "#C8D4E3"
           }
          },
          "shapedefaults": {
           "line": {
            "color": "#f2f5fa"
           }
          },
          "sliderdefaults": {
           "bgcolor": "#C8D4E3",
           "bordercolor": "rgb(17,17,17)",
           "borderwidth": 1,
           "tickwidth": 0
          },
          "ternary": {
           "aaxis": {
            "gridcolor": "#506784",
            "linecolor": "#506784",
            "ticks": ""
           },
           "baxis": {
            "gridcolor": "#506784",
            "linecolor": "#506784",
            "ticks": ""
           },
           "bgcolor": "rgb(17,17,17)",
           "caxis": {
            "gridcolor": "#506784",
            "linecolor": "#506784",
            "ticks": ""
           }
          },
          "title": {
           "x": 0.05
          },
          "updatemenudefaults": {
           "bgcolor": "#506784",
           "borderwidth": 0
          },
          "xaxis": {
           "automargin": true,
           "gridcolor": "#283442",
           "linecolor": "#506784",
           "ticks": "",
           "title": {
            "standoff": 15
           },
           "zerolinecolor": "#283442",
           "zerolinewidth": 2
          },
          "yaxis": {
           "automargin": true,
           "gridcolor": "#283442",
           "linecolor": "#506784",
           "ticks": "",
           "title": {
            "standoff": 15
           },
           "zerolinecolor": "#283442",
           "zerolinewidth": 2
          }
         }
        },
        "title": {
         "text": "HIX • Temperature & Precip (Low-Vis hours highlighted)"
        },
        "xaxis": {
         "title": {
          "text": ""
         }
        },
        "yaxis": {
         "title": {
          "text": "Temperature (°F)"
         }
        },
        "yaxis2": {
         "overlaying": "y",
         "side": "right",
         "title": {
          "text": "Precip Intensity"
         }
        }
       }
      }
     },
     "metadata": {},
     "output_type": "display_data"
    }
   ],
   "source": [
    "fig2 = go.Figure()\n",
    "\n",
    "# temperature line\n",
    "fig2.add_trace(go.Scatter(\n",
    "    x=w[\"datetime\"], y=w[\"temperature\"],\n",
    "    mode=\"lines\", name=\"Temperature\",\n",
    "    hovertemplate=\"Time: %{x}<br>Temp: %{y:.1f}°F<extra></extra>\"\n",
    "))\n",
    "\n",
    "# precip intensity on secondary y\n",
    "fig2.add_trace(go.Scatter(\n",
    "    x=w[\"datetime\"], y=w[\"precipIntensity\"],\n",
    "    mode=\"lines\", name=\"Precip Intensity\",\n",
    "    yaxis=\"y2\",\n",
    "    hovertemplate=\"Time: %{x}<br>Precip Intensity: %{y:.2f}<extra></extra>\"\n",
    "))\n",
    "\n",
    "# shaded low-visibility regions\n",
    "lv = w[w[\"is_low_vis\"]==1]\n",
    "fig2.add_trace(go.Scatter(\n",
    "    x=lv[\"datetime\"], y=[lv[\"precipIntensity\"].max()]*len(lv),\n",
    "    mode=\"markers\", name=\"Low Visibility (<5 mi)\",\n",
    "    marker=dict(size=6, opacity=0.3),\n",
    "    yaxis=\"y2\",\n",
    "    hovertemplate=\"Time: %{x}<br>Low visibility<extra></extra>\"\n",
    "))\n",
    "\n",
    "fig2.update_layout(\n",
    "    title=\"HIX • Temperature & Precip (Low-Vis hours highlighted)\",\n",
    "    xaxis_title=\"\",\n",
    "    yaxis=dict(title=\"Temperature (°F)\"),\n",
    "    yaxis2=dict(title=\"Precip Intensity\", overlaying=\"y\", side=\"right\"),\n",
    "    legend=dict(orientation=\"h\", yanchor=\"bottom\", y=1.02, xanchor=\"left\", x=0),\n",
    "    template = 'plotly_dark'\n",
    ")\n",
    "fig2.show()\n"
   ]
  },
  {
   "cell_type": "code",
   "execution_count": 23,
   "id": "c4b1d7d0",
   "metadata": {},
   "outputs": [
    {
     "data": {
      "application/vnd.plotly.v1+json": {
       "config": {
        "plotlyServerURL": "https://plot.ly"
       },
       "data": [
        {
         "bingroup": "x",
         "hovertemplate": "windSpeed=%{x}<br>count=%{y}<extra></extra>",
         "legendgroup": "",
         "marker": {
          "color": "#636efa",
          "pattern": {
           "shape": ""
          }
         },
         "name": "",
         "nbinsx": 30,
         "orientation": "v",
         "showlegend": false,
         "type": "histogram",
         "x": {
          "bdata": "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",
          "dtype": "f8"
         },
         "xaxis": "x",
         "yaxis": "y"
        },
        {
         "hovertemplate": "windSpeed=%{x}<extra></extra>",
         "legendgroup": "",
         "marker": {
          "color": "#636efa"
         },
         "name": "",
         "notched": true,
         "showlegend": false,
         "type": "box",
         "x": {
          "bdata": "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",
          "dtype": "f8"
         },
         "xaxis": "x2",
         "yaxis": "y2"
        }
       ],
       "layout": {
        "annotations": [
         {
          "showarrow": false,
          "text": "95th",
          "x": 14.8965,
          "xanchor": "left",
          "xref": "x",
          "y": 1,
          "yanchor": "top",
          "yref": "y domain"
         },
         {
          "showarrow": false,
          "text": "95th",
          "x": 14.8965,
          "xanchor": "left",
          "xref": "x2",
          "y": 1,
          "yanchor": "top",
          "yref": "y2 domain"
         }
        ],
        "barmode": "relative",
        "legend": {
         "tracegroupgap": 0
        },
        "shapes": [
         {
          "line": {
           "dash": "dash"
          },
          "type": "line",
          "x0": 14.8965,
          "x1": 14.8965,
          "xref": "x",
          "y0": 0,
          "y1": 1,
          "yref": "y domain"
         },
         {
          "line": {
           "dash": "dash"
          },
          "type": "line",
          "x0": 14.8965,
          "x1": 14.8965,
          "xref": "x2",
          "y0": 0,
          "y1": 1,
          "yref": "y2 domain"
         }
        ],
        "template": {
         "data": {
          "bar": [
           {
            "error_x": {
             "color": "#f2f5fa"
            },
            "error_y": {
             "color": "#f2f5fa"
            },
            "marker": {
             "line": {
              "color": "rgb(17,17,17)",
              "width": 0.5
             },
             "pattern": {
              "fillmode": "overlay",
              "size": 10,
              "solidity": 0.2
             }
            },
            "type": "bar"
           }
          ],
          "barpolar": [
           {
            "marker": {
             "line": {
              "color": "rgb(17,17,17)",
              "width": 0.5
             },
             "pattern": {
              "fillmode": "overlay",
              "size": 10,
              "solidity": 0.2
             }
            },
            "type": "barpolar"
           }
          ],
          "carpet": [
           {
            "aaxis": {
             "endlinecolor": "#A2B1C6",
             "gridcolor": "#506784",
             "linecolor": "#506784",
             "minorgridcolor": "#506784",
             "startlinecolor": "#A2B1C6"
            },
            "baxis": {
             "endlinecolor": "#A2B1C6",
             "gridcolor": "#506784",
             "linecolor": "#506784",
             "minorgridcolor": "#506784",
             "startlinecolor": "#A2B1C6"
            },
            "type": "carpet"
           }
          ],
          "choropleth": [
           {
            "colorbar": {
             "outlinewidth": 0,
             "ticks": ""
            },
            "type": "choropleth"
           }
          ],
          "contour": [
           {
            "colorbar": {
             "outlinewidth": 0,
             "ticks": ""
            },
            "colorscale": [
             [
              0,
              "#0d0887"
             ],
             [
              0.1111111111111111,
              "#46039f"
             ],
             [
              0.2222222222222222,
              "#7201a8"
             ],
             [
              0.3333333333333333,
              "#9c179e"
             ],
             [
              0.4444444444444444,
              "#bd3786"
             ],
             [
              0.5555555555555556,
              "#d8576b"
             ],
             [
              0.6666666666666666,
              "#ed7953"
             ],
             [
              0.7777777777777778,
              "#fb9f3a"
             ],
             [
              0.8888888888888888,
              "#fdca26"
             ],
             [
              1,
              "#f0f921"
             ]
            ],
            "type": "contour"
           }
          ],
          "contourcarpet": [
           {
            "colorbar": {
             "outlinewidth": 0,
             "ticks": ""
            },
            "type": "contourcarpet"
           }
          ],
          "heatmap": [
           {
            "colorbar": {
             "outlinewidth": 0,
             "ticks": ""
            },
            "colorscale": [
             [
              0,
              "#0d0887"
             ],
             [
              0.1111111111111111,
              "#46039f"
             ],
             [
              0.2222222222222222,
              "#7201a8"
             ],
             [
              0.3333333333333333,
              "#9c179e"
             ],
             [
              0.4444444444444444,
              "#bd3786"
             ],
             [
              0.5555555555555556,
              "#d8576b"
             ],
             [
              0.6666666666666666,
              "#ed7953"
             ],
             [
              0.7777777777777778,
              "#fb9f3a"
             ],
             [
              0.8888888888888888,
              "#fdca26"
             ],
             [
              1,
              "#f0f921"
             ]
            ],
            "type": "heatmap"
           }
          ],
          "histogram": [
           {
            "marker": {
             "pattern": {
              "fillmode": "overlay",
              "size": 10,
              "solidity": 0.2
             }
            },
            "type": "histogram"
           }
          ],
          "histogram2d": [
           {
            "colorbar": {
             "outlinewidth": 0,
             "ticks": ""
            },
            "colorscale": [
             [
              0,
              "#0d0887"
             ],
             [
              0.1111111111111111,
              "#46039f"
             ],
             [
              0.2222222222222222,
              "#7201a8"
             ],
             [
              0.3333333333333333,
              "#9c179e"
             ],
             [
              0.4444444444444444,
              "#bd3786"
             ],
             [
              0.5555555555555556,
              "#d8576b"
             ],
             [
              0.6666666666666666,
              "#ed7953"
             ],
             [
              0.7777777777777778,
              "#fb9f3a"
             ],
             [
              0.8888888888888888,
              "#fdca26"
             ],
             [
              1,
              "#f0f921"
             ]
            ],
            "type": "histogram2d"
           }
          ],
          "histogram2dcontour": [
           {
            "colorbar": {
             "outlinewidth": 0,
             "ticks": ""
            },
            "colorscale": [
             [
              0,
              "#0d0887"
             ],
             [
              0.1111111111111111,
              "#46039f"
             ],
             [
              0.2222222222222222,
              "#7201a8"
             ],
             [
              0.3333333333333333,
              "#9c179e"
             ],
             [
              0.4444444444444444,
              "#bd3786"
             ],
             [
              0.5555555555555556,
              "#d8576b"
             ],
             [
              0.6666666666666666,
              "#ed7953"
             ],
             [
              0.7777777777777778,
              "#fb9f3a"
             ],
             [
              0.8888888888888888,
              "#fdca26"
             ],
             [
              1,
              "#f0f921"
             ]
            ],
            "type": "histogram2dcontour"
           }
          ],
          "mesh3d": [
           {
            "colorbar": {
             "outlinewidth": 0,
             "ticks": ""
            },
            "type": "mesh3d"
           }
          ],
          "parcoords": [
           {
            "line": {
             "colorbar": {
              "outlinewidth": 0,
              "ticks": ""
             }
            },
            "type": "parcoords"
           }
          ],
          "pie": [
           {
            "automargin": true,
            "type": "pie"
           }
          ],
          "scatter": [
           {
            "marker": {
             "line": {
              "color": "#283442"
             }
            },
            "type": "scatter"
           }
          ],
          "scatter3d": [
           {
            "line": {
             "colorbar": {
              "outlinewidth": 0,
              "ticks": ""
             }
            },
            "marker": {
             "colorbar": {
              "outlinewidth": 0,
              "ticks": ""
             }
            },
            "type": "scatter3d"
           }
          ],
          "scattercarpet": [
           {
            "marker": {
             "colorbar": {
              "outlinewidth": 0,
              "ticks": ""
             }
            },
            "type": "scattercarpet"
           }
          ],
          "scattergeo": [
           {
            "marker": {
             "colorbar": {
              "outlinewidth": 0,
              "ticks": ""
             }
            },
            "type": "scattergeo"
           }
          ],
          "scattergl": [
           {
            "marker": {
             "line": {
              "color": "#283442"
             }
            },
            "type": "scattergl"
           }
          ],
          "scattermap": [
           {
            "marker": {
             "colorbar": {
              "outlinewidth": 0,
              "ticks": ""
             }
            },
            "type": "scattermap"
           }
          ],
          "scattermapbox": [
           {
            "marker": {
             "colorbar": {
              "outlinewidth": 0,
              "ticks": ""
             }
            },
            "type": "scattermapbox"
           }
          ],
          "scatterpolar": [
           {
            "marker": {
             "colorbar": {
              "outlinewidth": 0,
              "ticks": ""
             }
            },
            "type": "scatterpolar"
           }
          ],
          "scatterpolargl": [
           {
            "marker": {
             "colorbar": {
              "outlinewidth": 0,
              "ticks": ""
             }
            },
            "type": "scatterpolargl"
           }
          ],
          "scatterternary": [
           {
            "marker": {
             "colorbar": {
              "outlinewidth": 0,
              "ticks": ""
             }
            },
            "type": "scatterternary"
           }
          ],
          "surface": [
           {
            "colorbar": {
             "outlinewidth": 0,
             "ticks": ""
            },
            "colorscale": [
             [
              0,
              "#0d0887"
             ],
             [
              0.1111111111111111,
              "#46039f"
             ],
             [
              0.2222222222222222,
              "#7201a8"
             ],
             [
              0.3333333333333333,
              "#9c179e"
             ],
             [
              0.4444444444444444,
              "#bd3786"
             ],
             [
              0.5555555555555556,
              "#d8576b"
             ],
             [
              0.6666666666666666,
              "#ed7953"
             ],
             [
              0.7777777777777778,
              "#fb9f3a"
             ],
             [
              0.8888888888888888,
              "#fdca26"
             ],
             [
              1,
              "#f0f921"
             ]
            ],
            "type": "surface"
           }
          ],
          "table": [
           {
            "cells": {
             "fill": {
              "color": "#506784"
             },
             "line": {
              "color": "rgb(17,17,17)"
             }
            },
            "header": {
             "fill": {
              "color": "#2a3f5f"
             },
             "line": {
              "color": "rgb(17,17,17)"
             }
            },
            "type": "table"
           }
          ]
         },
         "layout": {
          "annotationdefaults": {
           "arrowcolor": "#f2f5fa",
           "arrowhead": 0,
           "arrowwidth": 1
          },
          "autotypenumbers": "strict",
          "coloraxis": {
           "colorbar": {
            "outlinewidth": 0,
            "ticks": ""
           }
          },
          "colorscale": {
           "diverging": [
            [
             0,
             "#8e0152"
            ],
            [
             0.1,
             "#c51b7d"
            ],
            [
             0.2,
             "#de77ae"
            ],
            [
             0.3,
             "#f1b6da"
            ],
            [
             0.4,
             "#fde0ef"
            ],
            [
             0.5,
             "#f7f7f7"
            ],
            [
             0.6,
             "#e6f5d0"
            ],
            [
             0.7,
             "#b8e186"
            ],
            [
             0.8,
             "#7fbc41"
            ],
            [
             0.9,
             "#4d9221"
            ],
            [
             1,
             "#276419"
            ]
           ],
           "sequential": [
            [
             0,
             "#0d0887"
            ],
            [
             0.1111111111111111,
             "#46039f"
            ],
            [
             0.2222222222222222,
             "#7201a8"
            ],
            [
             0.3333333333333333,
             "#9c179e"
            ],
            [
             0.4444444444444444,
             "#bd3786"
            ],
            [
             0.5555555555555556,
             "#d8576b"
            ],
            [
             0.6666666666666666,
             "#ed7953"
            ],
            [
             0.7777777777777778,
             "#fb9f3a"
            ],
            [
             0.8888888888888888,
             "#fdca26"
            ],
            [
             1,
             "#f0f921"
            ]
           ],
           "sequentialminus": [
            [
             0,
             "#0d0887"
            ],
            [
             0.1111111111111111,
             "#46039f"
            ],
            [
             0.2222222222222222,
             "#7201a8"
            ],
            [
             0.3333333333333333,
             "#9c179e"
            ],
            [
             0.4444444444444444,
             "#bd3786"
            ],
            [
             0.5555555555555556,
             "#d8576b"
            ],
            [
             0.6666666666666666,
             "#ed7953"
            ],
            [
             0.7777777777777778,
             "#fb9f3a"
            ],
            [
             0.8888888888888888,
             "#fdca26"
            ],
            [
             1,
             "#f0f921"
            ]
           ]
          },
          "colorway": [
           "#636efa",
           "#EF553B",
           "#00cc96",
           "#ab63fa",
           "#FFA15A",
           "#19d3f3",
           "#FF6692",
           "#B6E880",
           "#FF97FF",
           "#FECB52"
          ],
          "font": {
           "color": "#f2f5fa"
          },
          "geo": {
           "bgcolor": "rgb(17,17,17)",
           "lakecolor": "rgb(17,17,17)",
           "landcolor": "rgb(17,17,17)",
           "showlakes": true,
           "showland": true,
           "subunitcolor": "#506784"
          },
          "hoverlabel": {
           "align": "left"
          },
          "hovermode": "closest",
          "mapbox": {
           "style": "dark"
          },
          "paper_bgcolor": "rgb(17,17,17)",
          "plot_bgcolor": "rgb(17,17,17)",
          "polar": {
           "angularaxis": {
            "gridcolor": "#506784",
            "linecolor": "#506784",
            "ticks": ""
           },
           "bgcolor": "rgb(17,17,17)",
           "radialaxis": {
            "gridcolor": "#506784",
            "linecolor": "#506784",
            "ticks": ""
           }
          },
          "scene": {
           "xaxis": {
            "backgroundcolor": "rgb(17,17,17)",
            "gridcolor": "#506784",
            "gridwidth": 2,
            "linecolor": "#506784",
            "showbackground": true,
            "ticks": "",
            "zerolinecolor": "#C8D4E3"
           },
           "yaxis": {
            "backgroundcolor": "rgb(17,17,17)",
            "gridcolor": "#506784",
            "gridwidth": 2,
            "linecolor": "#506784",
            "showbackground": true,
            "ticks": "",
            "zerolinecolor": "#C8D4E3"
           },
           "zaxis": {
            "backgroundcolor": "rgb(17,17,17)",
            "gridcolor": "#506784",
            "gridwidth": 2,
            "linecolor": "#506784",
            "showbackground": true,
            "ticks": "",
            "zerolinecolor": "#C8D4E3"
           }
          },
          "shapedefaults": {
           "line": {
            "color": "#f2f5fa"
           }
          },
          "sliderdefaults": {
           "bgcolor": "#C8D4E3",
           "bordercolor": "rgb(17,17,17)",
           "borderwidth": 1,
           "tickwidth": 0
          },
          "ternary": {
           "aaxis": {
            "gridcolor": "#506784",
            "linecolor": "#506784",
            "ticks": ""
           },
           "baxis": {
            "gridcolor": "#506784",
            "linecolor": "#506784",
            "ticks": ""
           },
           "bgcolor": "rgb(17,17,17)",
           "caxis": {
            "gridcolor": "#506784",
            "linecolor": "#506784",
            "ticks": ""
           }
          },
          "title": {
           "x": 0.05
          },
          "updatemenudefaults": {
           "bgcolor": "#506784",
           "borderwidth": 0
          },
          "xaxis": {
           "automargin": true,
           "gridcolor": "#283442",
           "linecolor": "#506784",
           "ticks": "",
           "title": {
            "standoff": 15
           },
           "zerolinecolor": "#283442",
           "zerolinewidth": 2
          },
          "yaxis": {
           "automargin": true,
           "gridcolor": "#283442",
           "linecolor": "#506784",
           "ticks": "",
           "title": {
            "standoff": 15
           },
           "zerolinecolor": "#283442",
           "zerolinewidth": 2
          }
         }
        },
        "title": {
         "text": "HIX • Wind Speed Distribution (95th ≈ 14.9)"
        },
        "xaxis": {
         "anchor": "y",
         "domain": [
          0,
          1
         ],
         "title": {
          "text": "Wind Speed"
         }
        },
        "xaxis2": {
         "anchor": "y2",
         "domain": [
          0,
          1
         ],
         "matches": "x",
         "showgrid": true,
         "showticklabels": false
        },
        "yaxis": {
         "anchor": "x",
         "domain": [
          0,
          0.8316
         ],
         "title": {
          "text": "Hours"
         }
        },
        "yaxis2": {
         "anchor": "x2",
         "domain": [
          0.8416,
          1
         ],
         "matches": "y2",
         "showgrid": false,
         "showline": false,
         "showticklabels": false,
         "ticks": ""
        }
       }
      }
     },
     "metadata": {},
     "output_type": "display_data"
    }
   ],
   "source": [
    "p95 = np.nanpercentile(w[\"windSpeed\"], 95)\n",
    "\n",
    "fig3 = px.histogram(\n",
    "    w, x=\"windSpeed\", nbins=30,\n",
    "    title=f\"HIX • Wind Speed Distribution (95th ≈ {p95:.1f})\",\n",
    "    template = 'plotly_dark',\n",
    "    marginal=\"box\"\n",
    ")\n",
    "fig3.add_vline(x=p95, line_dash=\"dash\", annotation_text=\"95th\")\n",
    "fig3.update_layout(xaxis_title=\"Wind Speed\", yaxis_title=\"Hours\")\n",
    "fig3.show()\n"
   ]
  },
  {
   "cell_type": "markdown",
   "id": "9c197b00",
   "metadata": {},
   "source": [
    "This wind data distribution makes me reconsider the source I used for the previous setting of the threshold, which was set at 31 mph (55kmh). Seeing the shape of this data column, I think a good proxy is considering \"strong\" wind those that lie beyond the 3rd quartile"
   ]
  },
  {
   "cell_type": "code",
   "execution_count": 24,
   "id": "d77cab5e",
   "metadata": {},
   "outputs": [
    {
     "data": {
      "application/vnd.plotly.v1+json": {
       "config": {
        "plotlyServerURL": "https://plot.ly"
       },
       "data": [
        {
         "customdata": {
          "bdata": "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",
          "dtype": "f8",
          "shape": "768, 3"
         },
         "hovertemplate": "temperature=%{x}<br>visibility=%{y}<br>dewpoint_spread=%{customdata[0]:.1f}<br>windGust=%{customdata[1]:.1f}<br>hour=%{customdata[2]}<br>precipIntensity=%{marker.color}<extra></extra>",
         "legendgroup": "",
         "marker": {
          "color": {
           "bdata": "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",
           "dtype": "f8"
          },
          "coloraxis": "coloraxis",
          "symbol": "circle"
         },
         "mode": "markers",
         "name": "",
         "orientation": "v",
         "showlegend": false,
         "type": "scatter",
         "x": {
          "bdata": "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",
          "dtype": "f8"
         },
         "xaxis": "x",
         "y": {
          "bdata": "AAAAAAAAJEAAAAAAAAAkQAAAAAAAACRAAAAAAAAAJEAAAAAAAAAkQHsUrkfh+iJA8tJNYhDYIkAnMQisHNocQDeJQWDlUBdACKwcWmQ7HkCyne+nxksfQAwCK4cWWSBAI9v5fmq8IEBqvHSTGEQgQIXrUbgeBR5ApHA9CtdjIUAv3SQGgdUgQPp+arx00yBASgwCK4cWHUCoxks3icEWQAisHFpkuxNAF9nO91PjF0AxCKwcWmQXQH0/NV66SRJAL90kBoGVGUBqvHSTGIQeQESLbOf76SFA5/up8dJNIkBxPQrXo3AWQBKDwMqhRQ9ASgwCK4cW8z8AAAAAAAAGQP7UeOkmMSBAAAAAAAAAJEAAAAAAAAAkQOf7qfHSTSFAZDvfT41XIEA3iUFg5dAWQBfZzvdTYxpAmG4Sg8BKGEA3iUFg5dAgQH0/NV66CSFAyXa+nxovGUAX2c73U2MTQPhT46WbxBlAZmZmZmbmIUBxPQrXo7AiQNejcD0KVyJAdZMYBFYOIkAQWDm0yLYiQJhuEoPAiiJAzczMzMxMIUBYObTIdr4iQAAAAAAAACRAAAAAAAAAJEAAAAAAAAAkQAAAAAAAACRAAAAAAAAAJEAAAAAAAAAkQAAAAAAAACRAAAAAAAAAJEAAAAAAAAAkQAAAAAAAACRAAAAAAAAAJEAAAAAAAAAkQAAAAAAAACRAAAAAAAAAJEAAAAAAAAAkQAAAAAAAACRAAAAAAAAAJEAAAAAAAAAkQAAAAAAAACRAAAAAAAAAJEAAAAAAAAAkQAAAAAAAACRAAAAAAAAAJEAAAAAAAAAkQAAAAAAAACRAAAAAAAAAJEAAAAAAAAAkQAAAAAAAACRAAAAAAAAAJEAAAAAAAAAkQAAAAAAAACRAAAAAAAAAJEAAAAAAAAAkQAAAAAAAACRAAAAAAAAAJEAAAAAAAAAkQAAAAAAAACRAAAAAAAAAJEAAAAAAAAAkQAAAAAAAACRAAAAAAAAAJEAAAAAAAAAkQAAAAAAAACRAAAAAAAAAJEAAAAAAAAAkQAAAAAAAACRAAAAAAAAAJEAAAAAAAAAkQAAAAAAAACRAAAAAAAAAJEAAAAAAAAAkQAAAAAAAACRAAAAAAAAAJEAAAAAAAAAkQAAAAAAAACRAAAAAAAAAJEAAAAAAAAAkQAAAAAAAACRAAAAAAAAAJEAAAAAAAAAkQAAAAAAAACRAAAAAAAAAJEAAAAAAAAAkQAAAAAAAACRAAAAAAAAAJEAAAAAAAAAkQAAAAAAAACRAAAAAAAAAJEAAAAAAAAAkQAAAAAAAACRAAAAAAAAAJEAAAAAAAAAkQAAAAAAAACRAAAAAAAAAJEAAAAAAAAAkQAAAAAAAACRAAAAAAAAAJEAAAAAAAAAkQAAAAAAAACRAAAAAAAAAJEAAAAAAAAAkQAAAAAAAACRAAAAAAAAAJEAAAAAAAAAkQAAAAAAAACRAAAAAAAAAJEAAAAAAAAAkQAAAAAAAACRAAAAAAAAAJEAAAAAAAAAkQAAAAAAAACRAAAAAAAAAJEAAAAAAAAAkQAAAAAAAACRAAAAAAAAAJEAAAAAAAAAkQAAAAAAAACRAAAAAAAAAJEAAAAAAAAAkQAAAAAAAACRAAAAAAAAAJEAAAAAAAAAkQAAAAAAAACRAAAAAAAAAJEAAAAAAAAAkQAAAAAAAACRAAAAAAAAAJEAAAAAAAAAkQAAAAAAAACRAAAAAAAAAJEAAAAAAAAAkQAAAAAAAACRAAAAAAAAAJEAAAAAAAAAkQAAAAAAAACRAAAAAAAAAJEAAAAAAAAAkQAAAAAAAACRAAAAAAAAAJEAAAAAAAAAkQAAAAAAAACRAAAAAAAAAJEAAAAAAAAAkQAAAAAAAACRAAAAAAAAAJEAAAAAAAAAkQAAAAAAAACRAAAAAAAAAJEAAAAAAAAAkQAAAAAAAACRAAAAAAAAAJEAAAAAAAAAkQAAAAAAAACRAAAAAAAAAJEAAAAAAAAAkQAAAAAAAACRAAAAAAAAAJEAAAAAAAAAkQAAAAAAAACRAAAAAAAAAJEAAAAAAAAAkQAAAAAAAACRAAAAAAAAAJEAAAAAAAAAkQAAAAAAAACRAAAAAAAAAJEAAAAAAAAAkQNv5fmq8NCFASgwCK4eWIkDP91PjpVsiQPhT46WbRCJAMQisHFokI0AAAAAAAAAkQO58PzVeuiNAPzVeukmMI0DdJAaBlYMjQAAAAAAAACRAAAAAAAAAJEAAAAAAAAAkQKAaL90kxiNAGQRWDi0yI0Boke18P3UjQAAAAAAAACRAAAAAAAAAJEAAAAAAAAAkQAAAAAAAACRAF9nO91NjHUA3iUFg5VAaQJzEILByaA9AoBov3SQGF0D+1HjpJjEeQLbz/dR46R9AJQaBlUMLHkApXI/C9ageQOxRuB6FKyBAO99PjZcuIEAUrkfhehQgQDvfT42X7h5AI9v5fmq8G0BeukkMAqsjQAAAAAAAACRAAAAAAAAAJEAAAAAAAAAkQAAAAAAAACRAAAAAAAAAJEAAAAAAAAAkQAAAAAAAACRAAAAAAAAAJEAAAAAAAAAkQAAAAAAAACRAAAAAAAAAJEAAAAAAAAAkQAAAAAAAACRAAAAAAAAAJEAAAAAAAAAkQAAAAAAAACRAAAAAAAAAJECLbOf7qfEaQAAAAAAAACRAAAAAAAAAJEAAAAAAAAAkQAAAAAAAACRAAAAAAAAAJEAAAAAAAAAkQAAAAAAAACRAAAAAAAAAJEAAAAAAAAAkQAAAAAAAACRAAAAAAAAAJEAAAAAAAAAkQAAAAAAAACRAAAAAAAAAJEAAAAAAAAAkQAAAAAAAACRAAAAAAAAAJEAAAAAAAAAkQAAAAAAAACRAAAAAAAAAJEDn+6nx0k0iQESLbOf7qSFAAAAAAAAAJEAAAAAAAAAkQAAAAAAAACRAAAAAAAAAJEAAAAAAAAAkQAAAAAAAACRAAAAAAAAAJEAAAAAAAAAkQAAAAAAAACRAAAAAAAAAJEAAAAAAAAAkQAAAAAAAACRAAAAAAAAAJEAAAAAAAAAkQAAAAAAAACRAAAAAAAAAJEAAAAAAAAAkQAAAAAAAACRAAAAAAAAAJEAAAAAAAAAkQAAAAAAAACRAAAAAAAAAJEAAAAAAAAAkQAAAAAAAACRAAAAAAAAAJEAAAAAAAAAkQAAAAAAAACRAAAAAAAAAJEAAAAAAAAAkQAAAAAAAACRAAAAAAAAAJEAAAAAAAAAkQAAAAAAAACRAAAAAAAAAJEAAAAAAAAAkQAAAAAAAACRAAAAAAAAAJEAAAAAAAAAkQAAAAAAAACRAAAAAAAAAJEAAAAAAAAAkQAAAAAAAACRAAAAAAAAAJEAAAAAAAAAkQAAAAAAAACRAAAAAAAAAJEAAAAAAAAAkQAAAAAAAACRAAAAAAAAAJEAAAAAAAAAkQAAAAAAAACRAAAAAAAAAJEAAAAAAAAAkQAAAAAAAACRAAAAAAAAAJEAAAAAAAAAkQAAAAAAAACRAAAAAAAAAJEAAAAAAAAAkQAAAAAAAACRAAAAAAAAAJEAAAAAAAAAkQAAAAAAAACRAAAAAAAAAJEAAAAAAAAAkQAAAAAAAACRAAAAAAAAAJEAAAAAAAAAkQC/dJAaBFSJA8tJNYhDYIUCJQWDl0OIhQG8Sg8DKoR9AI9v5fmo8HkCF61G4HgUfQJ7vp8ZLNx9A2/l+arx0HkBU46WbxGAjQJzEILByqCNAAAAAAAAAJEAAAAAAAAAkQAAAAAAAACRAAAAAAAAAJEAAAAAAAAAkQAAAAAAAACRAAAAAAAAAJEAAAAAAAAAkQAAAAAAAACRAAAAAAAAAJEAAAAAAAAAkQAAAAAAAACRAAAAAAAAAJEAAAAAAAAAkQAAAAAAAACRAAAAAAAAAJEAAAAAAAAAkQAAAAAAAACRAAAAAAAAAJEAAAAAAAAAkQAAAAAAAACRAAAAAAAAAJEAAAAAAAAAkQAAAAAAAACRAAAAAAAAAJEAAAAAAAAAkQAAAAAAAACRAAAAAAAAAJEAAAAAAAAAkQAAAAAAAACRAAAAAAAAAJEAAAAAAAAAkQIcW2c73kyJANV66SQyCHkDwp8ZLN4kaQFTjpZvEIBZA9P3UeOmmHkCyne+nxosiQP7UeOkmsSNA/tR46SYxI0CamZmZmVkjQGZmZmZmpiFAhxbZzveTIECoxks3icEhQAAAAAAAACRAAAAAAAAAJEAAAAAAAAAkQAAAAAAAACRAAAAAAAAAJEAAAAAAAAAkQAAAAAAAACRAAAAAAAAAJEAAAAAAAAAkQAAAAAAAACRAAAAAAAAAJEAAAAAAAAAkQAAAAAAAACRAAAAAAAAAJEAAAAAAAAAkQAAAAAAAACRAAAAAAAAAJEAAAAAAAAAkQAAAAAAAACRAAAAAAAAAJEAAAAAAAAAkQAAAAAAAACRAAAAAAAAAJEC4HoXrUfgjQAAAAAAAACRAAAAAAAAAJEAAAAAAAAAkQAAAAAAAACRAAAAAAAAAJEAAAAAAAAAkQDvfT42X7iNAaJHtfD/1I0AAAAAAAAAkQAAAAAAAACRAAAAAAAAAJEAAAAAAAAAkQB1aZDvfzyBADi2yne/nI0AAAAAAAAAkQAAAAAAAACRAAAAAAAAAJEAAAAAAAAAkQAAAAAAAACRAAAAAAAAAJEAAAAAAAAAkQAAAAAAAACRAAAAAAAAAJEAAAAAAAAAkQAAAAAAAACRAAAAAAAAAJEAAAAAAAAAkQAAAAAAAACRAAAAAAAAAJEAAAAAAAAAkQAAAAAAAACRAAAAAAAAAJEAAAAAAAAAkQAAAAAAAACRAAAAAAAAAJEAAAAAAAAAkQAAAAAAAACRAAAAAAAAAJEAAAAAAAAAkQAAAAAAAACRAAAAAAAAAJEAAAAAAAAAkQAAAAAAAACRAAAAAAAAAJEAAAAAAAAAkQAAAAAAAACRAAAAAAAAAJEAAAAAAAAAkQAAAAAAAACRAAAAAAAAAJEAAAAAAAAAkQAAAAAAAACRAAAAAAAAAJEAAAAAAAAAkQAAAAAAAACRAAAAAAAAAJEAAAAAAAAAkQAAAAAAAACRAAAAAAAAAJEAAAAAAAAAkQLpJDAIrByNAqvHSTWLQIkD6fmq8dNMiQIcW2c73kyJAhetRuB5FIkDTTWIQWDkiQESLbOf7KSJA2c73U+OlIUAK16NwPQoiQGq8dJMYBCFAy6FFtvN9IUBvEoPAyuEhQMHKoUW2cyNAAAAAAAAAJEAAAAAAAAAkQAAAAAAAACRAAAAAAAAAJEAAAAAAAAAkQAAAAAAAACRAAAAAAAAAJEAAAAAAAAAkQAAAAAAAACRAAAAAAAAAJEAAAAAAAAAkQAAAAAAAACRAAAAAAAAAJEAAAAAAAAAkQAAAAAAAACRAAAAAAAAAJEAAAAAAAAAkQAAAAAAAACRAAAAAAAAAJEAAAAAAAAAkQAAAAAAAACRAAAAAAAAAJEAAAAAAAAAkQAAAAAAAACRAAAAAAAAAJEAAAAAAAAAkQAAAAAAAACRAAAAAAAAAJEAAAAAAAAAkQAAAAAAAACRAAAAAAAAAJEAAAAAAAAAkQAAAAAAAACRAAAAAAAAAJEAAAAAAAAAkQAAAAAAAACRAAAAAAAAAJEAAAAAAAAAkQAAAAAAAACRAAAAAAAAAJEAAAAAAAAAkQAAAAAAAACRAAAAAAAAAJEAAAAAAAAAkQAAAAAAAACRAAAAAAAAAJEAAAAAAAAAkQAAAAAAAACRAAAAAAAAAJEAAAAAAAAAkQAAAAAAAACRAAAAAAAAAJEAAAAAAAAAkQAAAAAAAACRAAAAAAAAAJEAAAAAAAAAkQAAAAAAAACRAAAAAAAAAJEAAAAAAAAAkQAAAAAAAACRAAAAAAAAAJEAAAAAAAAAkQAAAAAAAACRAAAAAAAAAJEAAAAAAAAAkQAAAAAAAACRAAAAAAAAAJEAAAAAAAAAkQAAAAAAAACRAAAAAAAAAJEAAAAAAAAAkQAAAAAAAACRAAAAAAAAAJEAAAAAAAAAkQAAAAAAAACRAAAAAAAAAJEAAAAAAAAAkQAAAAAAAACRAAAAAAAAAJEAAAAAAAAAkQAAAAAAAACRAAAAAAAAAJEAtsp3vp4YjQHsUrkfhOiNAfT81XrpJIkDP91PjpVsgQKrx0k1iEBZAmG4Sg8BKE0AUrkfhehQQQK5H4XoUrglAhxbZzvdTBUC28/3UeOkFQKjGSzeJQQZAokW28/3UFEDdJAaBlUMhQAAAAAAAACRAAAAAAAAAJEAAAAAAAAAkQAAAAAAAACRAAAAAAAAAJEAAAAAAAAAkQAAAAAAAACRAAAAAAAAAJEAAAAAAAAAkQAAAAAAAACRAAAAAAAAAJEAAAAAAAAAkQAAAAAAAACRAAAAAAAAAJEAAAAAAAAAkQAAAAAAAACRAAAAAAAAAJEAAAAAAAAAkQAAAAAAAACRAAAAAAAAAJEAAAAAAAAAkQAAAAAAAACRAAAAAAAAAJEAAAAAAAAAkQAAAAAAAACRAAAAAAAAAJEAAAAAAAAAkQAAAAAAAACRAAAAAAAAAJEAAAAAAAAAkQAAAAAAAACRAAAAAAAAAJEAAAAAAAAAkQAAAAAAAACRAAAAAAAAAJEAAAAAAAAAkQAAAAAAAACRAAAAAAAAAJEAAAAAAAAAkQAAAAAAAACRAAAAAAAAAJEAAAAAAAAAkQAAAAAAAACRAAAAAAAAAJEAAAAAAAAAkQAAAAAAAACRAAAAAAAAAJEAAAAAAAAAkQAAAAAAAACRAAAAAAAAAJEAAAAAAAAAkQAAAAAAAACRAAAAAAAAAJEAAAAAAAAAkQAAAAAAAACRAAAAAAAAAJEAAAAAAAAAkQAAAAAAAACRAAAAAAAAAJEAAAAAAAAAkQAAAAAAAACRAAAAAAAAAJEAAAAAAAAAkQAAAAAAAACRAAAAAAAAAJEAAAAAAAAAkQAAAAAAAACRAAAAAAAAAJEAAAAAAAAAkQAAAAAAAACRAAAAAAAAAJEAAAAAAAAAkQAAAAAAAACRAAAAAAAAAJEBcj8L1KJwjQAAAAAAAACRAAAAAAAAAJEAAAAAAAAAkQAAAAAAAACRAAAAAAAAAJEAAAAAAAAAkQAAAAAAAACRAAAAAAAAAJEAAAAAAAAAkQARWDi2y3SNAmpmZmZnZI0AAAAAAAAAkQAAAAAAAACRA/Knx0k0iI0BWDi2yne8jQLKd76fGyyNAcT0K16OwIkC4HoXrUTghQHe+nxov3R9AuB6F61E4IkDVeOkmMYgiQBBYObTI9iJAxSCwcmiRI0D2KFyPwjUjQD0K16NwPSNAVOOlm8TgIkAIrBxaZLsiQAAAAAAAACRAAAAAAAAAJEDByqFFtnMjQBSuR+F6VCBAqMZLN4nBHkC+nxov3SQcQIts5/up8RlA16NwPQrXGECR7Xw/NV4UQBfZzvdTYxZAaJHtfD+1G0CiRbbz/dQfQN9PjZdukhpAAiuHFtnOI0AAAAAAAAAkQAAAAAAAACRAI9v5fmr8I0AAAAAAAAAkQAAAAAAAACRAAAAAAAAAJEAAAAAAAAAkQAAAAAAAACRAAAAAAAAAJEAAAAAAAAAkQAAAAAAAACRA8tJNYhBYI0AAAAAAAAAkQP7UeOkmMSJAAAAAAADAIECTGARWDq0dQHsUrkfheiBAXI/C9SicIUDHSzeJQWAjQAAAAAAAACRAAAAAAAAAJEBU46WbxOAhQAAAAAAAACRAg8DKoUU2IkBeukkMAqscQClcj8L1qCBArBxaZDsfIkAAAAAAAAAkQAAAAAAAACRAAAAAAAAAJEAAAAAAAAAkQLpJDAIrxyNACKwcWmR7I0A9CtejcP0iQPYoXI/CdRZAN4lBYOVQHEDVeOkmMYgbQP7UeOkmsRpATDeJQWDlH0B7FK5H4Xr+P1K4HoXrESBAHVpkO99PD0AEVg4tsp31PwrXo3A9CvE/iUFg5dAi6z9CYOXQItv/PxKDwMqhRQxAfT81XroJI0AAAAAAAAAkQAAAAAAAACRAAAAAAAAAJEAAAAAAAAAkQAAAAAAAACRAAAAAAAAAJEAAAAAAAAAkQAAAAAAAACRAAAAAAAAAJEAAAAAAAAAkQAAAAAAAACRAAAAAAAAAJEAAAAAAAAAkQAAAAAAAACRAAAAAAAAAJEAAAAAAAAAkQAAAAAAAACRA",
          "dtype": "f8"
         },
         "yaxis": "y"
        }
       ],
       "layout": {
        "coloraxis": {
         "colorbar": {
          "title": {
           "text": "precipIntensity"
          }
         },
         "colorscale": [
          [
           0,
           "rgb(247,251,255)"
          ],
          [
           0.125,
           "rgb(222,235,247)"
          ],
          [
           0.25,
           "rgb(198,219,239)"
          ],
          [
           0.375,
           "rgb(158,202,225)"
          ],
          [
           0.5,
           "rgb(107,174,214)"
          ],
          [
           0.625,
           "rgb(66,146,198)"
          ],
          [
           0.75,
           "rgb(33,113,181)"
          ],
          [
           0.875,
           "rgb(8,81,156)"
          ],
          [
           1,
           "rgb(8,48,107)"
          ]
         ]
        },
        "legend": {
         "tracegroupgap": 0
        },
        "template": {
         "data": {
          "bar": [
           {
            "error_x": {
             "color": "#f2f5fa"
            },
            "error_y": {
             "color": "#f2f5fa"
            },
            "marker": {
             "line": {
              "color": "rgb(17,17,17)",
              "width": 0.5
             },
             "pattern": {
              "fillmode": "overlay",
              "size": 10,
              "solidity": 0.2
             }
            },
            "type": "bar"
           }
          ],
          "barpolar": [
           {
            "marker": {
             "line": {
              "color": "rgb(17,17,17)",
              "width": 0.5
             },
             "pattern": {
              "fillmode": "overlay",
              "size": 10,
              "solidity": 0.2
             }
            },
            "type": "barpolar"
           }
          ],
          "carpet": [
           {
            "aaxis": {
             "endlinecolor": "#A2B1C6",
             "gridcolor": "#506784",
             "linecolor": "#506784",
             "minorgridcolor": "#506784",
             "startlinecolor": "#A2B1C6"
            },
            "baxis": {
             "endlinecolor": "#A2B1C6",
             "gridcolor": "#506784",
             "linecolor": "#506784",
             "minorgridcolor": "#506784",
             "startlinecolor": "#A2B1C6"
            },
            "type": "carpet"
           }
          ],
          "choropleth": [
           {
            "colorbar": {
             "outlinewidth": 0,
             "ticks": ""
            },
            "type": "choropleth"
           }
          ],
          "contour": [
           {
            "colorbar": {
             "outlinewidth": 0,
             "ticks": ""
            },
            "colorscale": [
             [
              0,
              "#0d0887"
             ],
             [
              0.1111111111111111,
              "#46039f"
             ],
             [
              0.2222222222222222,
              "#7201a8"
             ],
             [
              0.3333333333333333,
              "#9c179e"
             ],
             [
              0.4444444444444444,
              "#bd3786"
             ],
             [
              0.5555555555555556,
              "#d8576b"
             ],
             [
              0.6666666666666666,
              "#ed7953"
             ],
             [
              0.7777777777777778,
              "#fb9f3a"
             ],
             [
              0.8888888888888888,
              "#fdca26"
             ],
             [
              1,
              "#f0f921"
             ]
            ],
            "type": "contour"
           }
          ],
          "contourcarpet": [
           {
            "colorbar": {
             "outlinewidth": 0,
             "ticks": ""
            },
            "type": "contourcarpet"
           }
          ],
          "heatmap": [
           {
            "colorbar": {
             "outlinewidth": 0,
             "ticks": ""
            },
            "colorscale": [
             [
              0,
              "#0d0887"
             ],
             [
              0.1111111111111111,
              "#46039f"
             ],
             [
              0.2222222222222222,
              "#7201a8"
             ],
             [
              0.3333333333333333,
              "#9c179e"
             ],
             [
              0.4444444444444444,
              "#bd3786"
             ],
             [
              0.5555555555555556,
              "#d8576b"
             ],
             [
              0.6666666666666666,
              "#ed7953"
             ],
             [
              0.7777777777777778,
              "#fb9f3a"
             ],
             [
              0.8888888888888888,
              "#fdca26"
             ],
             [
              1,
              "#f0f921"
             ]
            ],
            "type": "heatmap"
           }
          ],
          "histogram": [
           {
            "marker": {
             "pattern": {
              "fillmode": "overlay",
              "size": 10,
              "solidity": 0.2
             }
            },
            "type": "histogram"
           }
          ],
          "histogram2d": [
           {
            "colorbar": {
             "outlinewidth": 0,
             "ticks": ""
            },
            "colorscale": [
             [
              0,
              "#0d0887"
             ],
             [
              0.1111111111111111,
              "#46039f"
             ],
             [
              0.2222222222222222,
              "#7201a8"
             ],
             [
              0.3333333333333333,
              "#9c179e"
             ],
             [
              0.4444444444444444,
              "#bd3786"
             ],
             [
              0.5555555555555556,
              "#d8576b"
             ],
             [
              0.6666666666666666,
              "#ed7953"
             ],
             [
              0.7777777777777778,
              "#fb9f3a"
             ],
             [
              0.8888888888888888,
              "#fdca26"
             ],
             [
              1,
              "#f0f921"
             ]
            ],
            "type": "histogram2d"
           }
          ],
          "histogram2dcontour": [
           {
            "colorbar": {
             "outlinewidth": 0,
             "ticks": ""
            },
            "colorscale": [
             [
              0,
              "#0d0887"
             ],
             [
              0.1111111111111111,
              "#46039f"
             ],
             [
              0.2222222222222222,
              "#7201a8"
             ],
             [
              0.3333333333333333,
              "#9c179e"
             ],
             [
              0.4444444444444444,
              "#bd3786"
             ],
             [
              0.5555555555555556,
              "#d8576b"
             ],
             [
              0.6666666666666666,
              "#ed7953"
             ],
             [
              0.7777777777777778,
              "#fb9f3a"
             ],
             [
              0.8888888888888888,
              "#fdca26"
             ],
             [
              1,
              "#f0f921"
             ]
            ],
            "type": "histogram2dcontour"
           }
          ],
          "mesh3d": [
           {
            "colorbar": {
             "outlinewidth": 0,
             "ticks": ""
            },
            "type": "mesh3d"
           }
          ],
          "parcoords": [
           {
            "line": {
             "colorbar": {
              "outlinewidth": 0,
              "ticks": ""
             }
            },
            "type": "parcoords"
           }
          ],
          "pie": [
           {
            "automargin": true,
            "type": "pie"
           }
          ],
          "scatter": [
           {
            "marker": {
             "line": {
              "color": "#283442"
             }
            },
            "type": "scatter"
           }
          ],
          "scatter3d": [
           {
            "line": {
             "colorbar": {
              "outlinewidth": 0,
              "ticks": ""
             }
            },
            "marker": {
             "colorbar": {
              "outlinewidth": 0,
              "ticks": ""
             }
            },
            "type": "scatter3d"
           }
          ],
          "scattercarpet": [
           {
            "marker": {
             "colorbar": {
              "outlinewidth": 0,
              "ticks": ""
             }
            },
            "type": "scattercarpet"
           }
          ],
          "scattergeo": [
           {
            "marker": {
             "colorbar": {
              "outlinewidth": 0,
              "ticks": ""
             }
            },
            "type": "scattergeo"
           }
          ],
          "scattergl": [
           {
            "marker": {
             "line": {
              "color": "#283442"
             }
            },
            "type": "scattergl"
           }
          ],
          "scattermap": [
           {
            "marker": {
             "colorbar": {
              "outlinewidth": 0,
              "ticks": ""
             }
            },
            "type": "scattermap"
           }
          ],
          "scattermapbox": [
           {
            "marker": {
             "colorbar": {
              "outlinewidth": 0,
              "ticks": ""
             }
            },
            "type": "scattermapbox"
           }
          ],
          "scatterpolar": [
           {
            "marker": {
             "colorbar": {
              "outlinewidth": 0,
              "ticks": ""
             }
            },
            "type": "scatterpolar"
           }
          ],
          "scatterpolargl": [
           {
            "marker": {
             "colorbar": {
              "outlinewidth": 0,
              "ticks": ""
             }
            },
            "type": "scatterpolargl"
           }
          ],
          "scatterternary": [
           {
            "marker": {
             "colorbar": {
              "outlinewidth": 0,
              "ticks": ""
             }
            },
            "type": "scatterternary"
           }
          ],
          "surface": [
           {
            "colorbar": {
             "outlinewidth": 0,
             "ticks": ""
            },
            "colorscale": [
             [
              0,
              "#0d0887"
             ],
             [
              0.1111111111111111,
              "#46039f"
             ],
             [
              0.2222222222222222,
              "#7201a8"
             ],
             [
              0.3333333333333333,
              "#9c179e"
             ],
             [
              0.4444444444444444,
              "#bd3786"
             ],
             [
              0.5555555555555556,
              "#d8576b"
             ],
             [
              0.6666666666666666,
              "#ed7953"
             ],
             [
              0.7777777777777778,
              "#fb9f3a"
             ],
             [
              0.8888888888888888,
              "#fdca26"
             ],
             [
              1,
              "#f0f921"
             ]
            ],
            "type": "surface"
           }
          ],
          "table": [
           {
            "cells": {
             "fill": {
              "color": "#506784"
             },
             "line": {
              "color": "rgb(17,17,17)"
             }
            },
            "header": {
             "fill": {
              "color": "#2a3f5f"
             },
             "line": {
              "color": "rgb(17,17,17)"
             }
            },
            "type": "table"
           }
          ]
         },
         "layout": {
          "annotationdefaults": {
           "arrowcolor": "#f2f5fa",
           "arrowhead": 0,
           "arrowwidth": 1
          },
          "autotypenumbers": "strict",
          "coloraxis": {
           "colorbar": {
            "outlinewidth": 0,
            "ticks": ""
           }
          },
          "colorscale": {
           "diverging": [
            [
             0,
             "#8e0152"
            ],
            [
             0.1,
             "#c51b7d"
            ],
            [
             0.2,
             "#de77ae"
            ],
            [
             0.3,
             "#f1b6da"
            ],
            [
             0.4,
             "#fde0ef"
            ],
            [
             0.5,
             "#f7f7f7"
            ],
            [
             0.6,
             "#e6f5d0"
            ],
            [
             0.7,
             "#b8e186"
            ],
            [
             0.8,
             "#7fbc41"
            ],
            [
             0.9,
             "#4d9221"
            ],
            [
             1,
             "#276419"
            ]
           ],
           "sequential": [
            [
             0,
             "#0d0887"
            ],
            [
             0.1111111111111111,
             "#46039f"
            ],
            [
             0.2222222222222222,
             "#7201a8"
            ],
            [
             0.3333333333333333,
             "#9c179e"
            ],
            [
             0.4444444444444444,
             "#bd3786"
            ],
            [
             0.5555555555555556,
             "#d8576b"
            ],
            [
             0.6666666666666666,
             "#ed7953"
            ],
            [
             0.7777777777777778,
             "#fb9f3a"
            ],
            [
             0.8888888888888888,
             "#fdca26"
            ],
            [
             1,
             "#f0f921"
            ]
           ],
           "sequentialminus": [
            [
             0,
             "#0d0887"
            ],
            [
             0.1111111111111111,
             "#46039f"
            ],
            [
             0.2222222222222222,
             "#7201a8"
            ],
            [
             0.3333333333333333,
             "#9c179e"
            ],
            [
             0.4444444444444444,
             "#bd3786"
            ],
            [
             0.5555555555555556,
             "#d8576b"
            ],
            [
             0.6666666666666666,
             "#ed7953"
            ],
            [
             0.7777777777777778,
             "#fb9f3a"
            ],
            [
             0.8888888888888888,
             "#fdca26"
            ],
            [
             1,
             "#f0f921"
            ]
           ]
          },
          "colorway": [
           "#636efa",
           "#EF553B",
           "#00cc96",
           "#ab63fa",
           "#FFA15A",
           "#19d3f3",
           "#FF6692",
           "#B6E880",
           "#FF97FF",
           "#FECB52"
          ],
          "font": {
           "color": "#f2f5fa"
          },
          "geo": {
           "bgcolor": "rgb(17,17,17)",
           "lakecolor": "rgb(17,17,17)",
           "landcolor": "rgb(17,17,17)",
           "showlakes": true,
           "showland": true,
           "subunitcolor": "#506784"
          },
          "hoverlabel": {
           "align": "left"
          },
          "hovermode": "closest",
          "mapbox": {
           "style": "dark"
          },
          "paper_bgcolor": "rgb(17,17,17)",
          "plot_bgcolor": "rgb(17,17,17)",
          "polar": {
           "angularaxis": {
            "gridcolor": "#506784",
            "linecolor": "#506784",
            "ticks": ""
           },
           "bgcolor": "rgb(17,17,17)",
           "radialaxis": {
            "gridcolor": "#506784",
            "linecolor": "#506784",
            "ticks": ""
           }
          },
          "scene": {
           "xaxis": {
            "backgroundcolor": "rgb(17,17,17)",
            "gridcolor": "#506784",
            "gridwidth": 2,
            "linecolor": "#506784",
            "showbackground": true,
            "ticks": "",
            "zerolinecolor": "#C8D4E3"
           },
           "yaxis": {
            "backgroundcolor": "rgb(17,17,17)",
            "gridcolor": "#506784",
            "gridwidth": 2,
            "linecolor": "#506784",
            "showbackground": true,
            "ticks": "",
            "zerolinecolor": "#C8D4E3"
           },
           "zaxis": {
            "backgroundcolor": "rgb(17,17,17)",
            "gridcolor": "#506784",
            "gridwidth": 2,
            "linecolor": "#506784",
            "showbackground": true,
            "ticks": "",
            "zerolinecolor": "#C8D4E3"
           }
          },
          "shapedefaults": {
           "line": {
            "color": "#f2f5fa"
           }
          },
          "sliderdefaults": {
           "bgcolor": "#C8D4E3",
           "bordercolor": "rgb(17,17,17)",
           "borderwidth": 1,
           "tickwidth": 0
          },
          "ternary": {
           "aaxis": {
            "gridcolor": "#506784",
            "linecolor": "#506784",
            "ticks": ""
           },
           "baxis": {
            "gridcolor": "#506784",
            "linecolor": "#506784",
            "ticks": ""
           },
           "bgcolor": "rgb(17,17,17)",
           "caxis": {
            "gridcolor": "#506784",
            "linecolor": "#506784",
            "ticks": ""
           }
          },
          "title": {
           "x": 0.05
          },
          "updatemenudefaults": {
           "bgcolor": "#506784",
           "borderwidth": 0
          },
          "xaxis": {
           "automargin": true,
           "gridcolor": "#283442",
           "linecolor": "#506784",
           "ticks": "",
           "title": {
            "standoff": 15
           },
           "zerolinecolor": "#283442",
           "zerolinewidth": 2
          },
          "yaxis": {
           "automargin": true,
           "gridcolor": "#283442",
           "linecolor": "#506784",
           "ticks": "",
           "title": {
            "standoff": 15
           },
           "zerolinecolor": "#283442",
           "zerolinewidth": 2
          }
         }
        },
        "title": {
         "text": "HIX • Temperature vs. Visibility (color = Precip Intensity)"
        },
        "xaxis": {
         "anchor": "y",
         "domain": [
          0,
          1
         ],
         "title": {
          "text": "Temperature (°F)"
         }
        },
        "yaxis": {
         "anchor": "x",
         "domain": [
          0,
          1
         ],
         "title": {
          "text": "Visibility (mi)"
         }
        }
       }
      }
     },
     "metadata": {},
     "output_type": "display_data"
    }
   ],
   "source": [
    "fig4 = px.scatter(\n",
    "    w, x=\"temperature\", y=\"visibility\",\n",
    "    color=\"precipIntensity\", color_continuous_scale=\"Blues\",\n",
    "    title=\"HIX • Temperature vs. Visibility (color = Precip Intensity)\",\n",
    "    template = 'plotly_dark',\n",
    "    hover_data={\"dewpoint_spread\":\":.1f\",\"windGust\":\":.1f\",\"hour\":True}\n",
    ")\n",
    "fig4.update_layout(xaxis_title=\"Temperature (°F)\", yaxis_title=\"Visibility (mi)\")\n",
    "fig4.show()\n"
   ]
  },
  {
   "cell_type": "code",
   "execution_count": 25,
   "id": "9d622943",
   "metadata": {},
   "outputs": [
    {
     "data": {
      "application/vnd.plotly.v1+json": {
       "config": {
        "plotlyServerURL": "https://plot.ly"
       },
       "data": [
        {
         "mode": "lines",
         "name": "Dewpoint Spread",
         "type": "scatter",
         "x": [
          "2019-11-30T00:00:00.000000000",
          "2019-11-30T01:00:00.000000000",
          "2019-11-30T02:00:00.000000000",
          "2019-11-30T03:00:00.000000000",
          "2019-11-30T04:00:00.000000000",
          "2019-11-30T05:00:00.000000000",
          "2019-11-30T06:00:00.000000000",
          "2019-11-30T07:00:00.000000000",
          "2019-11-30T08:00:00.000000000",
          "2019-11-30T09:00:00.000000000",
          "2019-11-30T10:00:00.000000000",
          "2019-11-30T11:00:00.000000000",
          "2019-11-30T12:00:00.000000000",
          "2019-11-30T13:00:00.000000000",
          "2019-11-30T14:00:00.000000000",
          "2019-11-30T15:00:00.000000000",
          "2019-11-30T16:00:00.000000000",
          "2019-11-30T17:00:00.000000000",
          "2019-11-30T18:00:00.000000000",
          "2019-11-30T19:00:00.000000000",
          "2019-11-30T20:00:00.000000000",
          "2019-11-30T21:00:00.000000000",
          "2019-11-30T22:00:00.000000000",
          "2019-11-30T23:00:00.000000000",
          "2019-12-01T00:00:00.000000000",
          "2019-12-01T01:00:00.000000000",
          "2019-12-01T02:00:00.000000000",
          "2019-12-01T03:00:00.000000000",
          "2019-12-01T04:00:00.000000000",
          "2019-12-01T05:00:00.000000000",
          "2019-12-01T06:00:00.000000000",
          "2019-12-01T07:00:00.000000000",
          "2019-12-01T08:00:00.000000000",
          "2019-12-01T09:00:00.000000000",
          "2019-12-01T10:00:00.000000000",
          "2019-12-01T11:00:00.000000000",
          "2019-12-01T12:00:00.000000000",
          "2019-12-01T13:00:00.000000000",
          "2019-12-01T14:00:00.000000000",
          "2019-12-01T15:00:00.000000000",
          "2019-12-01T16:00:00.000000000",
          "2019-12-01T17:00:00.000000000",
          "2019-12-01T18:00:00.000000000",
          "2019-12-01T19:00:00.000000000",
          "2019-12-01T20:00:00.000000000",
          "2019-12-01T21:00:00.000000000",
          "2019-12-01T22:00:00.000000000",
          "2019-12-01T23:00:00.000000000",
          "2019-12-02T00:00:00.000000000",
          "2019-12-02T01:00:00.000000000",
          "2019-12-02T02:00:00.000000000",
          "2019-12-02T03:00:00.000000000",
          "2019-12-02T04:00:00.000000000",
          "2019-12-02T05:00:00.000000000",
          "2019-12-02T06:00:00.000000000",
          "2019-12-02T07:00:00.000000000",
          "2019-12-02T08:00:00.000000000",
          "2019-12-02T09:00:00.000000000",
          "2019-12-02T10:00:00.000000000",
          "2019-12-02T11:00:00.000000000",
          "2019-12-02T12:00:00.000000000",
          "2019-12-02T13:00:00.000000000",
          "2019-12-02T14:00:00.000000000",
          "2019-12-02T15:00:00.000000000",
          "2019-12-02T16:00:00.000000000",
          "2019-12-02T17:00:00.000000000",
          "2019-12-02T18:00:00.000000000",
          "2019-12-02T19:00:00.000000000",
          "2019-12-02T20:00:00.000000000",
          "2019-12-02T21:00:00.000000000",
          "2019-12-02T22:00:00.000000000",
          "2019-12-02T23:00:00.000000000",
          "2019-12-03T00:00:00.000000000",
          "2019-12-03T01:00:00.000000000",
          "2019-12-03T02:00:00.000000000",
          "2019-12-03T03:00:00.000000000",
          "2019-12-03T04:00:00.000000000",
          "2019-12-03T05:00:00.000000000",
          "2019-12-03T06:00:00.000000000",
          "2019-12-03T07:00:00.000000000",
          "2019-12-03T08:00:00.000000000",
          "2019-12-03T09:00:00.000000000",
          "2019-12-03T10:00:00.000000000",
          "2019-12-03T11:00:00.000000000",
          "2019-12-03T12:00:00.000000000",
          "2019-12-03T13:00:00.000000000",
          "2019-12-03T14:00:00.000000000",
          "2019-12-03T15:00:00.000000000",
          "2019-12-03T16:00:00.000000000",
          "2019-12-03T17:00:00.000000000",
          "2019-12-03T18:00:00.000000000",
          "2019-12-03T19:00:00.000000000",
          "2019-12-03T20:00:00.000000000",
          "2019-12-03T21:00:00.000000000",
          "2019-12-03T22:00:00.000000000",
          "2019-12-03T23:00:00.000000000",
          "2019-12-04T00:00:00.000000000",
          "2019-12-04T01:00:00.000000000",
          "2019-12-04T02:00:00.000000000",
          "2019-12-04T03:00:00.000000000",
          "2019-12-04T04:00:00.000000000",
          "2019-12-04T05:00:00.000000000",
          "2019-12-04T06:00:00.000000000",
          "2019-12-04T07:00:00.000000000",
          "2019-12-04T08:00:00.000000000",
          "2019-12-04T09:00:00.000000000",
          "2019-12-04T10:00:00.000000000",
          "2019-12-04T11:00:00.000000000",
          "2019-12-04T12:00:00.000000000",
          "2019-12-04T13:00:00.000000000",
          "2019-12-04T14:00:00.000000000",
          "2019-12-04T15:00:00.000000000",
          "2019-12-04T16:00:00.000000000",
          "2019-12-04T17:00:00.000000000",
          "2019-12-04T18:00:00.000000000",
          "2019-12-04T19:00:00.000000000",
          "2019-12-04T20:00:00.000000000",
          "2019-12-04T21:00:00.000000000",
          "2019-12-04T22:00:00.000000000",
          "2019-12-04T23:00:00.000000000",
          "2019-12-05T00:00:00.000000000",
          "2019-12-05T01:00:00.000000000",
          "2019-12-05T02:00:00.000000000",
          "2019-12-05T03:00:00.000000000",
          "2019-12-05T04:00:00.000000000",
          "2019-12-05T05:00:00.000000000",
          "2019-12-05T06:00:00.000000000",
          "2019-12-05T07:00:00.000000000",
          "2019-12-05T08:00:00.000000000",
          "2019-12-05T09:00:00.000000000",
          "2019-12-05T10:00:00.000000000",
          "2019-12-05T11:00:00.000000000",
          "2019-12-05T12:00:00.000000000",
          "2019-12-05T13:00:00.000000000",
          "2019-12-05T14:00:00.000000000",
          "2019-12-05T15:00:00.000000000",
          "2019-12-05T16:00:00.000000000",
          "2019-12-05T17:00:00.000000000",
          "2019-12-05T18:00:00.000000000",
          "2019-12-05T19:00:00.000000000",
          "2019-12-05T20:00:00.000000000",
          "2019-12-05T21:00:00.000000000",
          "2019-12-05T22:00:00.000000000",
          "2019-12-05T23:00:00.000000000",
          "2019-12-06T00:00:00.000000000",
          "2019-12-06T01:00:00.000000000",
          "2019-12-06T02:00:00.000000000",
          "2019-12-06T03:00:00.000000000",
          "2019-12-06T04:00:00.000000000",
          "2019-12-06T05:00:00.000000000",
          "2019-12-06T06:00:00.000000000",
          "2019-12-06T07:00:00.000000000",
          "2019-12-06T08:00:00.000000000",
          "2019-12-06T09:00:00.000000000",
          "2019-12-06T10:00:00.000000000",
          "2019-12-06T11:00:00.000000000",
          "2019-12-06T12:00:00.000000000",
          "2019-12-06T13:00:00.000000000",
          "2019-12-06T14:00:00.000000000",
          "2019-12-06T15:00:00.000000000",
          "2019-12-06T16:00:00.000000000",
          "2019-12-06T17:00:00.000000000",
          "2019-12-06T18:00:00.000000000",
          "2019-12-06T19:00:00.000000000",
          "2019-12-06T20:00:00.000000000",
          "2019-12-06T21:00:00.000000000",
          "2019-12-06T22:00:00.000000000",
          "2019-12-06T23:00:00.000000000",
          "2019-12-07T00:00:00.000000000",
          "2019-12-07T01:00:00.000000000",
          "2019-12-07T02:00:00.000000000",
          "2019-12-07T03:00:00.000000000",
          "2019-12-07T04:00:00.000000000",
          "2019-12-07T05:00:00.000000000",
          "2019-12-07T06:00:00.000000000",
          "2019-12-07T07:00:00.000000000",
          "2019-12-07T08:00:00.000000000",
          "2019-12-07T09:00:00.000000000",
          "2019-12-07T10:00:00.000000000",
          "2019-12-07T11:00:00.000000000",
          "2019-12-07T12:00:00.000000000",
          "2019-12-07T13:00:00.000000000",
          "2019-12-07T14:00:00.000000000",
          "2019-12-07T15:00:00.000000000",
          "2019-12-07T16:00:00.000000000",
          "2019-12-07T17:00:00.000000000",
          "2019-12-07T18:00:00.000000000",
          "2019-12-07T19:00:00.000000000",
          "2019-12-07T20:00:00.000000000",
          "2019-12-07T21:00:00.000000000",
          "2019-12-07T22:00:00.000000000",
          "2019-12-07T23:00:00.000000000",
          "2019-12-08T00:00:00.000000000",
          "2019-12-08T01:00:00.000000000",
          "2019-12-08T02:00:00.000000000",
          "2019-12-08T03:00:00.000000000",
          "2019-12-08T04:00:00.000000000",
          "2019-12-08T05:00:00.000000000",
          "2019-12-08T06:00:00.000000000",
          "2019-12-08T07:00:00.000000000",
          "2019-12-08T08:00:00.000000000",
          "2019-12-08T09:00:00.000000000",
          "2019-12-08T10:00:00.000000000",
          "2019-12-08T11:00:00.000000000",
          "2019-12-08T12:00:00.000000000",
          "2019-12-08T13:00:00.000000000",
          "2019-12-08T14:00:00.000000000",
          "2019-12-08T15:00:00.000000000",
          "2019-12-08T16:00:00.000000000",
          "2019-12-08T17:00:00.000000000",
          "2019-12-08T18:00:00.000000000",
          "2019-12-08T19:00:00.000000000",
          "2019-12-08T20:00:00.000000000",
          "2019-12-08T21:00:00.000000000",
          "2019-12-08T22:00:00.000000000",
          "2019-12-08T23:00:00.000000000",
          "2019-12-09T00:00:00.000000000",
          "2019-12-09T01:00:00.000000000",
          "2019-12-09T02:00:00.000000000",
          "2019-12-09T03:00:00.000000000",
          "2019-12-09T04:00:00.000000000",
          "2019-12-09T05:00:00.000000000",
          "2019-12-09T06:00:00.000000000",
          "2019-12-09T07:00:00.000000000",
          "2019-12-09T08:00:00.000000000",
          "2019-12-09T09:00:00.000000000",
          "2019-12-09T10:00:00.000000000",
          "2019-12-09T11:00:00.000000000",
          "2019-12-09T12:00:00.000000000",
          "2019-12-09T13:00:00.000000000",
          "2019-12-09T14:00:00.000000000",
          "2019-12-09T15:00:00.000000000",
          "2019-12-09T16:00:00.000000000",
          "2019-12-09T17:00:00.000000000",
          "2019-12-09T18:00:00.000000000",
          "2019-12-09T19:00:00.000000000",
          "2019-12-09T20:00:00.000000000",
          "2019-12-09T21:00:00.000000000",
          "2019-12-09T22:00:00.000000000",
          "2019-12-09T23:00:00.000000000",
          "2019-12-10T00:00:00.000000000",
          "2019-12-10T01:00:00.000000000",
          "2019-12-10T02:00:00.000000000",
          "2019-12-10T03:00:00.000000000",
          "2019-12-10T04:00:00.000000000",
          "2019-12-10T05:00:00.000000000",
          "2019-12-10T06:00:00.000000000",
          "2019-12-10T07:00:00.000000000",
          "2019-12-10T08:00:00.000000000",
          "2019-12-10T09:00:00.000000000",
          "2019-12-10T10:00:00.000000000",
          "2019-12-10T11:00:00.000000000",
          "2019-12-10T12:00:00.000000000",
          "2019-12-10T13:00:00.000000000",
          "2019-12-10T14:00:00.000000000",
          "2019-12-10T15:00:00.000000000",
          "2019-12-10T16:00:00.000000000",
          "2019-12-10T17:00:00.000000000",
          "2019-12-10T18:00:00.000000000",
          "2019-12-10T19:00:00.000000000",
          "2019-12-10T20:00:00.000000000",
          "2019-12-10T21:00:00.000000000",
          "2019-12-10T22:00:00.000000000",
          "2019-12-10T23:00:00.000000000",
          "2019-12-11T00:00:00.000000000",
          "2019-12-11T01:00:00.000000000",
          "2019-12-11T02:00:00.000000000",
          "2019-12-11T03:00:00.000000000",
          "2019-12-11T04:00:00.000000000",
          "2019-12-11T05:00:00.000000000",
          "2019-12-11T06:00:00.000000000",
          "2019-12-11T07:00:00.000000000",
          "2019-12-11T08:00:00.000000000",
          "2019-12-11T09:00:00.000000000",
          "2019-12-11T10:00:00.000000000",
          "2019-12-11T11:00:00.000000000",
          "2019-12-11T12:00:00.000000000",
          "2019-12-11T13:00:00.000000000",
          "2019-12-11T14:00:00.000000000",
          "2019-12-11T15:00:00.000000000",
          "2019-12-11T16:00:00.000000000",
          "2019-12-11T17:00:00.000000000",
          "2019-12-11T18:00:00.000000000",
          "2019-12-11T19:00:00.000000000",
          "2019-12-11T20:00:00.000000000",
          "2019-12-11T21:00:00.000000000",
          "2019-12-11T22:00:00.000000000",
          "2019-12-11T23:00:00.000000000",
          "2019-12-12T00:00:00.000000000",
          "2019-12-12T01:00:00.000000000",
          "2019-12-12T02:00:00.000000000",
          "2019-12-12T03:00:00.000000000",
          "2019-12-12T04:00:00.000000000",
          "2019-12-12T05:00:00.000000000",
          "2019-12-12T06:00:00.000000000",
          "2019-12-12T07:00:00.000000000",
          "2019-12-12T08:00:00.000000000",
          "2019-12-12T09:00:00.000000000",
          "2019-12-12T10:00:00.000000000",
          "2019-12-12T11:00:00.000000000",
          "2019-12-12T12:00:00.000000000",
          "2019-12-12T13:00:00.000000000",
          "2019-12-12T14:00:00.000000000",
          "2019-12-12T15:00:00.000000000",
          "2019-12-12T16:00:00.000000000",
          "2019-12-12T17:00:00.000000000",
          "2019-12-12T18:00:00.000000000",
          "2019-12-12T19:00:00.000000000",
          "2019-12-12T20:00:00.000000000",
          "2019-12-12T21:00:00.000000000",
          "2019-12-12T22:00:00.000000000",
          "2019-12-12T23:00:00.000000000",
          "2019-12-13T00:00:00.000000000",
          "2019-12-13T01:00:00.000000000",
          "2019-12-13T02:00:00.000000000",
          "2019-12-13T03:00:00.000000000",
          "2019-12-13T04:00:00.000000000",
          "2019-12-13T05:00:00.000000000",
          "2019-12-13T06:00:00.000000000",
          "2019-12-13T07:00:00.000000000",
          "2019-12-13T08:00:00.000000000",
          "2019-12-13T09:00:00.000000000",
          "2019-12-13T10:00:00.000000000",
          "2019-12-13T11:00:00.000000000",
          "2019-12-13T12:00:00.000000000",
          "2019-12-13T13:00:00.000000000",
          "2019-12-13T14:00:00.000000000",
          "2019-12-13T15:00:00.000000000",
          "2019-12-13T16:00:00.000000000",
          "2019-12-13T17:00:00.000000000",
          "2019-12-13T18:00:00.000000000",
          "2019-12-13T19:00:00.000000000",
          "2019-12-13T20:00:00.000000000",
          "2019-12-13T21:00:00.000000000",
          "2019-12-13T22:00:00.000000000",
          "2019-12-13T23:00:00.000000000",
          "2019-12-14T00:00:00.000000000",
          "2019-12-14T01:00:00.000000000",
          "2019-12-14T02:00:00.000000000",
          "2019-12-14T03:00:00.000000000",
          "2019-12-14T04:00:00.000000000",
          "2019-12-14T05:00:00.000000000",
          "2019-12-14T06:00:00.000000000",
          "2019-12-14T07:00:00.000000000",
          "2019-12-14T08:00:00.000000000",
          "2019-12-14T09:00:00.000000000",
          "2019-12-14T10:00:00.000000000",
          "2019-12-14T11:00:00.000000000",
          "2019-12-14T12:00:00.000000000",
          "2019-12-14T13:00:00.000000000",
          "2019-12-14T14:00:00.000000000",
          "2019-12-14T15:00:00.000000000",
          "2019-12-14T16:00:00.000000000",
          "2019-12-14T17:00:00.000000000",
          "2019-12-14T18:00:00.000000000",
          "2019-12-14T19:00:00.000000000",
          "2019-12-14T20:00:00.000000000",
          "2019-12-14T21:00:00.000000000",
          "2019-12-14T22:00:00.000000000",
          "2019-12-14T23:00:00.000000000",
          "2019-12-15T00:00:00.000000000",
          "2019-12-15T01:00:00.000000000",
          "2019-12-15T02:00:00.000000000",
          "2019-12-15T03:00:00.000000000",
          "2019-12-15T04:00:00.000000000",
          "2019-12-15T05:00:00.000000000",
          "2019-12-15T06:00:00.000000000",
          "2019-12-15T07:00:00.000000000",
          "2019-12-15T08:00:00.000000000",
          "2019-12-15T09:00:00.000000000",
          "2019-12-15T10:00:00.000000000",
          "2019-12-15T11:00:00.000000000",
          "2019-12-15T12:00:00.000000000",
          "2019-12-15T13:00:00.000000000",
          "2019-12-15T14:00:00.000000000",
          "2019-12-15T15:00:00.000000000",
          "2019-12-15T16:00:00.000000000",
          "2019-12-15T17:00:00.000000000",
          "2019-12-15T18:00:00.000000000",
          "2019-12-15T19:00:00.000000000",
          "2019-12-15T20:00:00.000000000",
          "2019-12-15T21:00:00.000000000",
          "2019-12-15T22:00:00.000000000",
          "2019-12-15T23:00:00.000000000",
          "2019-12-16T00:00:00.000000000",
          "2019-12-16T01:00:00.000000000",
          "2019-12-16T02:00:00.000000000",
          "2019-12-16T03:00:00.000000000",
          "2019-12-16T04:00:00.000000000",
          "2019-12-16T05:00:00.000000000",
          "2019-12-16T06:00:00.000000000",
          "2019-12-16T07:00:00.000000000",
          "2019-12-16T08:00:00.000000000",
          "2019-12-16T09:00:00.000000000",
          "2019-12-16T10:00:00.000000000",
          "2019-12-16T11:00:00.000000000",
          "2019-12-16T12:00:00.000000000",
          "2019-12-16T13:00:00.000000000",
          "2019-12-16T14:00:00.000000000",
          "2019-12-16T15:00:00.000000000",
          "2019-12-16T16:00:00.000000000",
          "2019-12-16T17:00:00.000000000",
          "2019-12-16T18:00:00.000000000",
          "2019-12-16T19:00:00.000000000",
          "2019-12-16T20:00:00.000000000",
          "2019-12-16T21:00:00.000000000",
          "2019-12-16T22:00:00.000000000",
          "2019-12-16T23:00:00.000000000",
          "2019-12-17T00:00:00.000000000",
          "2019-12-17T01:00:00.000000000",
          "2019-12-17T02:00:00.000000000",
          "2019-12-17T03:00:00.000000000",
          "2019-12-17T04:00:00.000000000",
          "2019-12-17T05:00:00.000000000",
          "2019-12-17T06:00:00.000000000",
          "2019-12-17T07:00:00.000000000",
          "2019-12-17T08:00:00.000000000",
          "2019-12-17T09:00:00.000000000",
          "2019-12-17T10:00:00.000000000",
          "2019-12-17T11:00:00.000000000",
          "2019-12-17T12:00:00.000000000",
          "2019-12-17T13:00:00.000000000",
          "2019-12-17T14:00:00.000000000",
          "2019-12-17T15:00:00.000000000",
          "2019-12-17T16:00:00.000000000",
          "2019-12-17T17:00:00.000000000",
          "2019-12-17T18:00:00.000000000",
          "2019-12-17T19:00:00.000000000",
          "2019-12-17T20:00:00.000000000",
          "2019-12-17T21:00:00.000000000",
          "2019-12-17T22:00:00.000000000",
          "2019-12-17T23:00:00.000000000",
          "2019-12-18T00:00:00.000000000",
          "2019-12-18T01:00:00.000000000",
          "2019-12-18T02:00:00.000000000",
          "2019-12-18T03:00:00.000000000",
          "2019-12-18T04:00:00.000000000",
          "2019-12-18T05:00:00.000000000",
          "2019-12-18T06:00:00.000000000",
          "2019-12-18T07:00:00.000000000",
          "2019-12-18T08:00:00.000000000",
          "2019-12-18T09:00:00.000000000",
          "2019-12-18T10:00:00.000000000",
          "2019-12-18T11:00:00.000000000",
          "2019-12-18T12:00:00.000000000",
          "2019-12-18T13:00:00.000000000",
          "2019-12-18T14:00:00.000000000",
          "2019-12-18T15:00:00.000000000",
          "2019-12-18T16:00:00.000000000",
          "2019-12-18T17:00:00.000000000",
          "2019-12-18T18:00:00.000000000",
          "2019-12-18T19:00:00.000000000",
          "2019-12-18T20:00:00.000000000",
          "2019-12-18T21:00:00.000000000",
          "2019-12-18T22:00:00.000000000",
          "2019-12-18T23:00:00.000000000",
          "2019-12-19T00:00:00.000000000",
          "2019-12-19T01:00:00.000000000",
          "2019-12-19T02:00:00.000000000",
          "2019-12-19T03:00:00.000000000",
          "2019-12-19T04:00:00.000000000",
          "2019-12-19T05:00:00.000000000",
          "2019-12-19T06:00:00.000000000",
          "2019-12-19T07:00:00.000000000",
          "2019-12-19T08:00:00.000000000",
          "2019-12-19T09:00:00.000000000",
          "2019-12-19T10:00:00.000000000",
          "2019-12-19T11:00:00.000000000",
          "2019-12-19T12:00:00.000000000",
          "2019-12-19T13:00:00.000000000",
          "2019-12-19T14:00:00.000000000",
          "2019-12-19T15:00:00.000000000",
          "2019-12-19T16:00:00.000000000",
          "2019-12-19T17:00:00.000000000",
          "2019-12-19T18:00:00.000000000",
          "2019-12-19T19:00:00.000000000",
          "2019-12-19T20:00:00.000000000",
          "2019-12-19T21:00:00.000000000",
          "2019-12-19T22:00:00.000000000",
          "2019-12-19T23:00:00.000000000",
          "2019-12-20T00:00:00.000000000",
          "2019-12-20T01:00:00.000000000",
          "2019-12-20T02:00:00.000000000",
          "2019-12-20T03:00:00.000000000",
          "2019-12-20T04:00:00.000000000",
          "2019-12-20T05:00:00.000000000",
          "2019-12-20T06:00:00.000000000",
          "2019-12-20T07:00:00.000000000",
          "2019-12-20T08:00:00.000000000",
          "2019-12-20T09:00:00.000000000",
          "2019-12-20T10:00:00.000000000",
          "2019-12-20T11:00:00.000000000",
          "2019-12-20T12:00:00.000000000",
          "2019-12-20T13:00:00.000000000",
          "2019-12-20T14:00:00.000000000",
          "2019-12-20T15:00:00.000000000",
          "2019-12-20T16:00:00.000000000",
          "2019-12-20T17:00:00.000000000",
          "2019-12-20T18:00:00.000000000",
          "2019-12-20T19:00:00.000000000",
          "2019-12-20T20:00:00.000000000",
          "2019-12-20T21:00:00.000000000",
          "2019-12-20T22:00:00.000000000",
          "2019-12-20T23:00:00.000000000",
          "2019-12-21T00:00:00.000000000",
          "2019-12-21T01:00:00.000000000",
          "2019-12-21T02:00:00.000000000",
          "2019-12-21T03:00:00.000000000",
          "2019-12-21T04:00:00.000000000",
          "2019-12-21T05:00:00.000000000",
          "2019-12-21T06:00:00.000000000",
          "2019-12-21T07:00:00.000000000",
          "2019-12-21T08:00:00.000000000",
          "2019-12-21T09:00:00.000000000",
          "2019-12-21T10:00:00.000000000",
          "2019-12-21T11:00:00.000000000",
          "2019-12-21T12:00:00.000000000",
          "2019-12-21T13:00:00.000000000",
          "2019-12-21T14:00:00.000000000",
          "2019-12-21T15:00:00.000000000",
          "2019-12-21T16:00:00.000000000",
          "2019-12-21T17:00:00.000000000",
          "2019-12-21T18:00:00.000000000",
          "2019-12-21T19:00:00.000000000",
          "2019-12-21T20:00:00.000000000",
          "2019-12-21T21:00:00.000000000",
          "2019-12-21T22:00:00.000000000",
          "2019-12-21T23:00:00.000000000",
          "2019-12-22T00:00:00.000000000",
          "2019-12-22T01:00:00.000000000",
          "2019-12-22T02:00:00.000000000",
          "2019-12-22T03:00:00.000000000",
          "2019-12-22T04:00:00.000000000",
          "2019-12-22T05:00:00.000000000",
          "2019-12-22T06:00:00.000000000",
          "2019-12-22T07:00:00.000000000",
          "2019-12-22T08:00:00.000000000",
          "2019-12-22T09:00:00.000000000",
          "2019-12-22T10:00:00.000000000",
          "2019-12-22T11:00:00.000000000",
          "2019-12-22T12:00:00.000000000",
          "2019-12-22T13:00:00.000000000",
          "2019-12-22T14:00:00.000000000",
          "2019-12-22T15:00:00.000000000",
          "2019-12-22T16:00:00.000000000",
          "2019-12-22T17:00:00.000000000",
          "2019-12-22T18:00:00.000000000",
          "2019-12-22T19:00:00.000000000",
          "2019-12-22T20:00:00.000000000",
          "2019-12-22T21:00:00.000000000",
          "2019-12-22T22:00:00.000000000",
          "2019-12-22T23:00:00.000000000",
          "2019-12-23T00:00:00.000000000",
          "2019-12-23T01:00:00.000000000",
          "2019-12-23T02:00:00.000000000",
          "2019-12-23T03:00:00.000000000",
          "2019-12-23T04:00:00.000000000",
          "2019-12-23T05:00:00.000000000",
          "2019-12-23T06:00:00.000000000",
          "2019-12-23T07:00:00.000000000",
          "2019-12-23T08:00:00.000000000",
          "2019-12-23T09:00:00.000000000",
          "2019-12-23T10:00:00.000000000",
          "2019-12-23T11:00:00.000000000",
          "2019-12-23T12:00:00.000000000",
          "2019-12-23T13:00:00.000000000",
          "2019-12-23T14:00:00.000000000",
          "2019-12-23T15:00:00.000000000",
          "2019-12-23T16:00:00.000000000",
          "2019-12-23T17:00:00.000000000",
          "2019-12-23T18:00:00.000000000",
          "2019-12-23T19:00:00.000000000",
          "2019-12-23T20:00:00.000000000",
          "2019-12-23T21:00:00.000000000",
          "2019-12-23T22:00:00.000000000",
          "2019-12-23T23:00:00.000000000",
          "2019-12-24T00:00:00.000000000",
          "2019-12-24T01:00:00.000000000",
          "2019-12-24T02:00:00.000000000",
          "2019-12-24T03:00:00.000000000",
          "2019-12-24T04:00:00.000000000",
          "2019-12-24T05:00:00.000000000",
          "2019-12-24T06:00:00.000000000",
          "2019-12-24T07:00:00.000000000",
          "2019-12-24T08:00:00.000000000",
          "2019-12-24T09:00:00.000000000",
          "2019-12-24T10:00:00.000000000",
          "2019-12-24T11:00:00.000000000",
          "2019-12-24T12:00:00.000000000",
          "2019-12-24T13:00:00.000000000",
          "2019-12-24T14:00:00.000000000",
          "2019-12-24T15:00:00.000000000",
          "2019-12-24T16:00:00.000000000",
          "2019-12-24T17:00:00.000000000",
          "2019-12-24T18:00:00.000000000",
          "2019-12-24T19:00:00.000000000",
          "2019-12-24T20:00:00.000000000",
          "2019-12-24T21:00:00.000000000",
          "2019-12-24T22:00:00.000000000",
          "2019-12-24T23:00:00.000000000",
          "2019-12-25T00:00:00.000000000",
          "2019-12-25T01:00:00.000000000",
          "2019-12-25T02:00:00.000000000",
          "2019-12-25T03:00:00.000000000",
          "2019-12-25T04:00:00.000000000",
          "2019-12-25T05:00:00.000000000",
          "2019-12-25T06:00:00.000000000",
          "2019-12-25T07:00:00.000000000",
          "2019-12-25T08:00:00.000000000",
          "2019-12-25T09:00:00.000000000",
          "2019-12-25T10:00:00.000000000",
          "2019-12-25T11:00:00.000000000",
          "2019-12-25T12:00:00.000000000",
          "2019-12-25T13:00:00.000000000",
          "2019-12-25T14:00:00.000000000",
          "2019-12-25T15:00:00.000000000",
          "2019-12-25T16:00:00.000000000",
          "2019-12-25T17:00:00.000000000",
          "2019-12-25T18:00:00.000000000",
          "2019-12-25T19:00:00.000000000",
          "2019-12-25T20:00:00.000000000",
          "2019-12-25T21:00:00.000000000",
          "2019-12-25T22:00:00.000000000",
          "2019-12-25T23:00:00.000000000",
          "2019-12-26T00:00:00.000000000",
          "2019-12-26T01:00:00.000000000",
          "2019-12-26T02:00:00.000000000",
          "2019-12-26T03:00:00.000000000",
          "2019-12-26T04:00:00.000000000",
          "2019-12-26T05:00:00.000000000",
          "2019-12-26T06:00:00.000000000",
          "2019-12-26T07:00:00.000000000",
          "2019-12-26T08:00:00.000000000",
          "2019-12-26T09:00:00.000000000",
          "2019-12-26T10:00:00.000000000",
          "2019-12-26T11:00:00.000000000",
          "2019-12-26T12:00:00.000000000",
          "2019-12-26T13:00:00.000000000",
          "2019-12-26T14:00:00.000000000",
          "2019-12-26T15:00:00.000000000",
          "2019-12-26T16:00:00.000000000",
          "2019-12-26T17:00:00.000000000",
          "2019-12-26T18:00:00.000000000",
          "2019-12-26T19:00:00.000000000",
          "2019-12-26T20:00:00.000000000",
          "2019-12-26T21:00:00.000000000",
          "2019-12-26T22:00:00.000000000",
          "2019-12-26T23:00:00.000000000",
          "2019-12-27T00:00:00.000000000",
          "2019-12-27T01:00:00.000000000",
          "2019-12-27T02:00:00.000000000",
          "2019-12-27T03:00:00.000000000",
          "2019-12-27T04:00:00.000000000",
          "2019-12-27T05:00:00.000000000",
          "2019-12-27T06:00:00.000000000",
          "2019-12-27T07:00:00.000000000",
          "2019-12-27T08:00:00.000000000",
          "2019-12-27T09:00:00.000000000",
          "2019-12-27T10:00:00.000000000",
          "2019-12-27T11:00:00.000000000",
          "2019-12-27T12:00:00.000000000",
          "2019-12-27T13:00:00.000000000",
          "2019-12-27T14:00:00.000000000",
          "2019-12-27T15:00:00.000000000",
          "2019-12-27T16:00:00.000000000",
          "2019-12-27T17:00:00.000000000",
          "2019-12-27T18:00:00.000000000",
          "2019-12-27T19:00:00.000000000",
          "2019-12-27T20:00:00.000000000",
          "2019-12-27T21:00:00.000000000",
          "2019-12-27T22:00:00.000000000",
          "2019-12-27T23:00:00.000000000",
          "2019-12-28T00:00:00.000000000",
          "2019-12-28T01:00:00.000000000",
          "2019-12-28T02:00:00.000000000",
          "2019-12-28T03:00:00.000000000",
          "2019-12-28T04:00:00.000000000",
          "2019-12-28T05:00:00.000000000",
          "2019-12-28T06:00:00.000000000",
          "2019-12-28T07:00:00.000000000",
          "2019-12-28T08:00:00.000000000",
          "2019-12-28T09:00:00.000000000",
          "2019-12-28T10:00:00.000000000",
          "2019-12-28T11:00:00.000000000",
          "2019-12-28T12:00:00.000000000",
          "2019-12-28T13:00:00.000000000",
          "2019-12-28T14:00:00.000000000",
          "2019-12-28T15:00:00.000000000",
          "2019-12-28T16:00:00.000000000",
          "2019-12-28T17:00:00.000000000",
          "2019-12-28T18:00:00.000000000",
          "2019-12-28T19:00:00.000000000",
          "2019-12-28T20:00:00.000000000",
          "2019-12-28T21:00:00.000000000",
          "2019-12-28T22:00:00.000000000",
          "2019-12-28T23:00:00.000000000",
          "2019-12-29T00:00:00.000000000",
          "2019-12-29T01:00:00.000000000",
          "2019-12-29T02:00:00.000000000",
          "2019-12-29T03:00:00.000000000",
          "2019-12-29T04:00:00.000000000",
          "2019-12-29T05:00:00.000000000",
          "2019-12-29T06:00:00.000000000",
          "2019-12-29T07:00:00.000000000",
          "2019-12-29T08:00:00.000000000",
          "2019-12-29T09:00:00.000000000",
          "2019-12-29T10:00:00.000000000",
          "2019-12-29T11:00:00.000000000",
          "2019-12-29T12:00:00.000000000",
          "2019-12-29T13:00:00.000000000",
          "2019-12-29T14:00:00.000000000",
          "2019-12-29T15:00:00.000000000",
          "2019-12-29T16:00:00.000000000",
          "2019-12-29T17:00:00.000000000",
          "2019-12-29T18:00:00.000000000",
          "2019-12-29T19:00:00.000000000",
          "2019-12-29T20:00:00.000000000",
          "2019-12-29T21:00:00.000000000",
          "2019-12-29T22:00:00.000000000",
          "2019-12-29T23:00:00.000000000",
          "2019-12-30T00:00:00.000000000",
          "2019-12-30T01:00:00.000000000",
          "2019-12-30T02:00:00.000000000",
          "2019-12-30T03:00:00.000000000",
          "2019-12-30T04:00:00.000000000",
          "2019-12-30T05:00:00.000000000",
          "2019-12-30T06:00:00.000000000",
          "2019-12-30T07:00:00.000000000",
          "2019-12-30T08:00:00.000000000",
          "2019-12-30T09:00:00.000000000",
          "2019-12-30T10:00:00.000000000",
          "2019-12-30T11:00:00.000000000",
          "2019-12-30T12:00:00.000000000",
          "2019-12-30T13:00:00.000000000",
          "2019-12-30T14:00:00.000000000",
          "2019-12-30T15:00:00.000000000",
          "2019-12-30T16:00:00.000000000",
          "2019-12-30T17:00:00.000000000",
          "2019-12-30T18:00:00.000000000",
          "2019-12-30T19:00:00.000000000",
          "2019-12-30T20:00:00.000000000",
          "2019-12-30T21:00:00.000000000",
          "2019-12-30T22:00:00.000000000",
          "2019-12-30T23:00:00.000000000",
          "2019-12-31T00:00:00.000000000",
          "2019-12-31T01:00:00.000000000",
          "2019-12-31T02:00:00.000000000",
          "2019-12-31T03:00:00.000000000",
          "2019-12-31T04:00:00.000000000",
          "2019-12-31T05:00:00.000000000",
          "2019-12-31T06:00:00.000000000",
          "2019-12-31T07:00:00.000000000",
          "2019-12-31T08:00:00.000000000",
          "2019-12-31T09:00:00.000000000",
          "2019-12-31T10:00:00.000000000",
          "2019-12-31T11:00:00.000000000",
          "2019-12-31T12:00:00.000000000",
          "2019-12-31T13:00:00.000000000",
          "2019-12-31T14:00:00.000000000",
          "2019-12-31T15:00:00.000000000",
          "2019-12-31T16:00:00.000000000",
          "2019-12-31T17:00:00.000000000",
          "2019-12-31T18:00:00.000000000",
          "2019-12-31T19:00:00.000000000",
          "2019-12-31T20:00:00.000000000",
          "2019-12-31T21:00:00.000000000",
          "2019-12-31T22:00:00.000000000",
          "2019-12-31T23:00:00.000000000"
         ],
         "y": {
          "bdata": "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",
          "dtype": "f8"
         }
        }
       ],
       "layout": {
        "annotations": [
         {
          "showarrow": false,
          "text": "Low spread (~icing risk)",
          "x": 1,
          "xanchor": "right",
          "xref": "x domain",
          "y": 2,
          "yanchor": "bottom",
          "yref": "y"
         }
        ],
        "shapes": [
         {
          "line": {
           "dash": "dot"
          },
          "type": "line",
          "x0": 0,
          "x1": 1,
          "xref": "x domain",
          "y0": 2,
          "y1": 2,
          "yref": "y"
         }
        ],
        "template": {
         "data": {
          "bar": [
           {
            "error_x": {
             "color": "#f2f5fa"
            },
            "error_y": {
             "color": "#f2f5fa"
            },
            "marker": {
             "line": {
              "color": "rgb(17,17,17)",
              "width": 0.5
             },
             "pattern": {
              "fillmode": "overlay",
              "size": 10,
              "solidity": 0.2
             }
            },
            "type": "bar"
           }
          ],
          "barpolar": [
           {
            "marker": {
             "line": {
              "color": "rgb(17,17,17)",
              "width": 0.5
             },
             "pattern": {
              "fillmode": "overlay",
              "size": 10,
              "solidity": 0.2
             }
            },
            "type": "barpolar"
           }
          ],
          "carpet": [
           {
            "aaxis": {
             "endlinecolor": "#A2B1C6",
             "gridcolor": "#506784",
             "linecolor": "#506784",
             "minorgridcolor": "#506784",
             "startlinecolor": "#A2B1C6"
            },
            "baxis": {
             "endlinecolor": "#A2B1C6",
             "gridcolor": "#506784",
             "linecolor": "#506784",
             "minorgridcolor": "#506784",
             "startlinecolor": "#A2B1C6"
            },
            "type": "carpet"
           }
          ],
          "choropleth": [
           {
            "colorbar": {
             "outlinewidth": 0,
             "ticks": ""
            },
            "type": "choropleth"
           }
          ],
          "contour": [
           {
            "colorbar": {
             "outlinewidth": 0,
             "ticks": ""
            },
            "colorscale": [
             [
              0,
              "#0d0887"
             ],
             [
              0.1111111111111111,
              "#46039f"
             ],
             [
              0.2222222222222222,
              "#7201a8"
             ],
             [
              0.3333333333333333,
              "#9c179e"
             ],
             [
              0.4444444444444444,
              "#bd3786"
             ],
             [
              0.5555555555555556,
              "#d8576b"
             ],
             [
              0.6666666666666666,
              "#ed7953"
             ],
             [
              0.7777777777777778,
              "#fb9f3a"
             ],
             [
              0.8888888888888888,
              "#fdca26"
             ],
             [
              1,
              "#f0f921"
             ]
            ],
            "type": "contour"
           }
          ],
          "contourcarpet": [
           {
            "colorbar": {
             "outlinewidth": 0,
             "ticks": ""
            },
            "type": "contourcarpet"
           }
          ],
          "heatmap": [
           {
            "colorbar": {
             "outlinewidth": 0,
             "ticks": ""
            },
            "colorscale": [
             [
              0,
              "#0d0887"
             ],
             [
              0.1111111111111111,
              "#46039f"
             ],
             [
              0.2222222222222222,
              "#7201a8"
             ],
             [
              0.3333333333333333,
              "#9c179e"
             ],
             [
              0.4444444444444444,
              "#bd3786"
             ],
             [
              0.5555555555555556,
              "#d8576b"
             ],
             [
              0.6666666666666666,
              "#ed7953"
             ],
             [
              0.7777777777777778,
              "#fb9f3a"
             ],
             [
              0.8888888888888888,
              "#fdca26"
             ],
             [
              1,
              "#f0f921"
             ]
            ],
            "type": "heatmap"
           }
          ],
          "histogram": [
           {
            "marker": {
             "pattern": {
              "fillmode": "overlay",
              "size": 10,
              "solidity": 0.2
             }
            },
            "type": "histogram"
           }
          ],
          "histogram2d": [
           {
            "colorbar": {
             "outlinewidth": 0,
             "ticks": ""
            },
            "colorscale": [
             [
              0,
              "#0d0887"
             ],
             [
              0.1111111111111111,
              "#46039f"
             ],
             [
              0.2222222222222222,
              "#7201a8"
             ],
             [
              0.3333333333333333,
              "#9c179e"
             ],
             [
              0.4444444444444444,
              "#bd3786"
             ],
             [
              0.5555555555555556,
              "#d8576b"
             ],
             [
              0.6666666666666666,
              "#ed7953"
             ],
             [
              0.7777777777777778,
              "#fb9f3a"
             ],
             [
              0.8888888888888888,
              "#fdca26"
             ],
             [
              1,
              "#f0f921"
             ]
            ],
            "type": "histogram2d"
           }
          ],
          "histogram2dcontour": [
           {
            "colorbar": {
             "outlinewidth": 0,
             "ticks": ""
            },
            "colorscale": [
             [
              0,
              "#0d0887"
             ],
             [
              0.1111111111111111,
              "#46039f"
             ],
             [
              0.2222222222222222,
              "#7201a8"
             ],
             [
              0.3333333333333333,
              "#9c179e"
             ],
             [
              0.4444444444444444,
              "#bd3786"
             ],
             [
              0.5555555555555556,
              "#d8576b"
             ],
             [
              0.6666666666666666,
              "#ed7953"
             ],
             [
              0.7777777777777778,
              "#fb9f3a"
             ],
             [
              0.8888888888888888,
              "#fdca26"
             ],
             [
              1,
              "#f0f921"
             ]
            ],
            "type": "histogram2dcontour"
           }
          ],
          "mesh3d": [
           {
            "colorbar": {
             "outlinewidth": 0,
             "ticks": ""
            },
            "type": "mesh3d"
           }
          ],
          "parcoords": [
           {
            "line": {
             "colorbar": {
              "outlinewidth": 0,
              "ticks": ""
             }
            },
            "type": "parcoords"
           }
          ],
          "pie": [
           {
            "automargin": true,
            "type": "pie"
           }
          ],
          "scatter": [
           {
            "marker": {
             "line": {
              "color": "#283442"
             }
            },
            "type": "scatter"
           }
          ],
          "scatter3d": [
           {
            "line": {
             "colorbar": {
              "outlinewidth": 0,
              "ticks": ""
             }
            },
            "marker": {
             "colorbar": {
              "outlinewidth": 0,
              "ticks": ""
             }
            },
            "type": "scatter3d"
           }
          ],
          "scattercarpet": [
           {
            "marker": {
             "colorbar": {
              "outlinewidth": 0,
              "ticks": ""
             }
            },
            "type": "scattercarpet"
           }
          ],
          "scattergeo": [
           {
            "marker": {
             "colorbar": {
              "outlinewidth": 0,
              "ticks": ""
             }
            },
            "type": "scattergeo"
           }
          ],
          "scattergl": [
           {
            "marker": {
             "line": {
              "color": "#283442"
             }
            },
            "type": "scattergl"
           }
          ],
          "scattermap": [
           {
            "marker": {
             "colorbar": {
              "outlinewidth": 0,
              "ticks": ""
             }
            },
            "type": "scattermap"
           }
          ],
          "scattermapbox": [
           {
            "marker": {
             "colorbar": {
              "outlinewidth": 0,
              "ticks": ""
             }
            },
            "type": "scattermapbox"
           }
          ],
          "scatterpolar": [
           {
            "marker": {
             "colorbar": {
              "outlinewidth": 0,
              "ticks": ""
             }
            },
            "type": "scatterpolar"
           }
          ],
          "scatterpolargl": [
           {
            "marker": {
             "colorbar": {
              "outlinewidth": 0,
              "ticks": ""
             }
            },
            "type": "scatterpolargl"
           }
          ],
          "scatterternary": [
           {
            "marker": {
             "colorbar": {
              "outlinewidth": 0,
              "ticks": ""
             }
            },
            "type": "scatterternary"
           }
          ],
          "surface": [
           {
            "colorbar": {
             "outlinewidth": 0,
             "ticks": ""
            },
            "colorscale": [
             [
              0,
              "#0d0887"
             ],
             [
              0.1111111111111111,
              "#46039f"
             ],
             [
              0.2222222222222222,
              "#7201a8"
             ],
             [
              0.3333333333333333,
              "#9c179e"
             ],
             [
              0.4444444444444444,
              "#bd3786"
             ],
             [
              0.5555555555555556,
              "#d8576b"
             ],
             [
              0.6666666666666666,
              "#ed7953"
             ],
             [
              0.7777777777777778,
              "#fb9f3a"
             ],
             [
              0.8888888888888888,
              "#fdca26"
             ],
             [
              1,
              "#f0f921"
             ]
            ],
            "type": "surface"
           }
          ],
          "table": [
           {
            "cells": {
             "fill": {
              "color": "#506784"
             },
             "line": {
              "color": "rgb(17,17,17)"
             }
            },
            "header": {
             "fill": {
              "color": "#2a3f5f"
             },
             "line": {
              "color": "rgb(17,17,17)"
             }
            },
            "type": "table"
           }
          ]
         },
         "layout": {
          "annotationdefaults": {
           "arrowcolor": "#f2f5fa",
           "arrowhead": 0,
           "arrowwidth": 1
          },
          "autotypenumbers": "strict",
          "coloraxis": {
           "colorbar": {
            "outlinewidth": 0,
            "ticks": ""
           }
          },
          "colorscale": {
           "diverging": [
            [
             0,
             "#8e0152"
            ],
            [
             0.1,
             "#c51b7d"
            ],
            [
             0.2,
             "#de77ae"
            ],
            [
             0.3,
             "#f1b6da"
            ],
            [
             0.4,
             "#fde0ef"
            ],
            [
             0.5,
             "#f7f7f7"
            ],
            [
             0.6,
             "#e6f5d0"
            ],
            [
             0.7,
             "#b8e186"
            ],
            [
             0.8,
             "#7fbc41"
            ],
            [
             0.9,
             "#4d9221"
            ],
            [
             1,
             "#276419"
            ]
           ],
           "sequential": [
            [
             0,
             "#0d0887"
            ],
            [
             0.1111111111111111,
             "#46039f"
            ],
            [
             0.2222222222222222,
             "#7201a8"
            ],
            [
             0.3333333333333333,
             "#9c179e"
            ],
            [
             0.4444444444444444,
             "#bd3786"
            ],
            [
             0.5555555555555556,
             "#d8576b"
            ],
            [
             0.6666666666666666,
             "#ed7953"
            ],
            [
             0.7777777777777778,
             "#fb9f3a"
            ],
            [
             0.8888888888888888,
             "#fdca26"
            ],
            [
             1,
             "#f0f921"
            ]
           ],
           "sequentialminus": [
            [
             0,
             "#0d0887"
            ],
            [
             0.1111111111111111,
             "#46039f"
            ],
            [
             0.2222222222222222,
             "#7201a8"
            ],
            [
             0.3333333333333333,
             "#9c179e"
            ],
            [
             0.4444444444444444,
             "#bd3786"
            ],
            [
             0.5555555555555556,
             "#d8576b"
            ],
            [
             0.6666666666666666,
             "#ed7953"
            ],
            [
             0.7777777777777778,
             "#fb9f3a"
            ],
            [
             0.8888888888888888,
             "#fdca26"
            ],
            [
             1,
             "#f0f921"
            ]
           ]
          },
          "colorway": [
           "#636efa",
           "#EF553B",
           "#00cc96",
           "#ab63fa",
           "#FFA15A",
           "#19d3f3",
           "#FF6692",
           "#B6E880",
           "#FF97FF",
           "#FECB52"
          ],
          "font": {
           "color": "#f2f5fa"
          },
          "geo": {
           "bgcolor": "rgb(17,17,17)",
           "lakecolor": "rgb(17,17,17)",
           "landcolor": "rgb(17,17,17)",
           "showlakes": true,
           "showland": true,
           "subunitcolor": "#506784"
          },
          "hoverlabel": {
           "align": "left"
          },
          "hovermode": "closest",
          "mapbox": {
           "style": "dark"
          },
          "paper_bgcolor": "rgb(17,17,17)",
          "plot_bgcolor": "rgb(17,17,17)",
          "polar": {
           "angularaxis": {
            "gridcolor": "#506784",
            "linecolor": "#506784",
            "ticks": ""
           },
           "bgcolor": "rgb(17,17,17)",
           "radialaxis": {
            "gridcolor": "#506784",
            "linecolor": "#506784",
            "ticks": ""
           }
          },
          "scene": {
           "xaxis": {
            "backgroundcolor": "rgb(17,17,17)",
            "gridcolor": "#506784",
            "gridwidth": 2,
            "linecolor": "#506784",
            "showbackground": true,
            "ticks": "",
            "zerolinecolor": "#C8D4E3"
           },
           "yaxis": {
            "backgroundcolor": "rgb(17,17,17)",
            "gridcolor": "#506784",
            "gridwidth": 2,
            "linecolor": "#506784",
            "showbackground": true,
            "ticks": "",
            "zerolinecolor": "#C8D4E3"
           },
           "zaxis": {
            "backgroundcolor": "rgb(17,17,17)",
            "gridcolor": "#506784",
            "gridwidth": 2,
            "linecolor": "#506784",
            "showbackground": true,
            "ticks": "",
            "zerolinecolor": "#C8D4E3"
           }
          },
          "shapedefaults": {
           "line": {
            "color": "#f2f5fa"
           }
          },
          "sliderdefaults": {
           "bgcolor": "#C8D4E3",
           "bordercolor": "rgb(17,17,17)",
           "borderwidth": 1,
           "tickwidth": 0
          },
          "ternary": {
           "aaxis": {
            "gridcolor": "#506784",
            "linecolor": "#506784",
            "ticks": ""
           },
           "baxis": {
            "gridcolor": "#506784",
            "linecolor": "#506784",
            "ticks": ""
           },
           "bgcolor": "rgb(17,17,17)",
           "caxis": {
            "gridcolor": "#506784",
            "linecolor": "#506784",
            "ticks": ""
           }
          },
          "title": {
           "x": 0.05
          },
          "updatemenudefaults": {
           "bgcolor": "#506784",
           "borderwidth": 0
          },
          "xaxis": {
           "automargin": true,
           "gridcolor": "#283442",
           "linecolor": "#506784",
           "ticks": "",
           "title": {
            "standoff": 15
           },
           "zerolinecolor": "#283442",
           "zerolinewidth": 2
          },
          "yaxis": {
           "automargin": true,
           "gridcolor": "#283442",
           "linecolor": "#506784",
           "ticks": "",
           "title": {
            "standoff": 15
           },
           "zerolinecolor": "#283442",
           "zerolinewidth": 2
          }
         }
        },
        "title": {
         "text": "HIX • Dewpoint Spread over Time"
        },
        "xaxis": {
         "title": {
          "text": ""
         }
        },
        "yaxis": {
         "title": {
          "text": "°F"
         }
        }
       }
      }
     },
     "metadata": {},
     "output_type": "display_data"
    }
   ],
   "source": [
    "fig6 = go.Figure()\n",
    "fig6.add_trace(go.Scatter(x=w[\"datetime\"], y=w[\"dewpoint_spread\"],\n",
    "                          mode=\"lines\", name=\"Dewpoint Spread\"))\n",
    "fig6.add_hline(y=2, line_dash=\"dot\", annotation_text=\"Low spread (~icing risk)\")\n",
    "fig6.update_layout(title=\"HIX • Dewpoint Spread over Time\", template = 'plotly_dark',\n",
    "                   xaxis_title=\"\", yaxis_title=\"°F\")\n",
    "fig6.show()\n"
   ]
  }
 ],
 "metadata": {
  "kernelspec": {
   "display_name": "Python 3",
   "language": "python",
   "name": "python3"
  },
  "language_info": {
   "codemirror_mode": {
    "name": "ipython",
    "version": 3
   },
   "file_extension": ".py",
   "mimetype": "text/x-python",
   "name": "python",
   "nbconvert_exporter": "python",
   "pygments_lexer": "ipython3",
   "version": "3.11.6"
  }
 },
 "nbformat": 4,
 "nbformat_minor": 5
}
